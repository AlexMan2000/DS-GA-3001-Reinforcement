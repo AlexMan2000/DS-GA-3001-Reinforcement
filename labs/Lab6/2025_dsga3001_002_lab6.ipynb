{
 "cells": [
  {
   "cell_type": "markdown",
   "metadata": {},
   "source": [
    "### CDS NYU\n",
    "### DS-GA 3001 | Reinforcement Learning\n",
    "### Lab 06\n",
    "### March 06, 2025\n",
    "\n",
    "\n",
    "# Implement RL algorithms with Keras-RL or Stable-Baseline\n",
    "\n",
    "<br>\n",
    "\n",
    "---"
   ]
  },
  {
   "cell_type": "markdown",
   "metadata": {},
   "source": [
    "## Section Leader\n",
    "\n",
    "\n",
    "Akshitha Kumbam – ak11071@nyu.edu\n",
    "\n",
    "Kushagra Khatwani – kk5395@nyu.edu\n"
   ]
  },
  {
   "cell_type": "markdown",
   "metadata": {},
   "source": [
    "## Goal of Today's Lab \n",
    "\n",
    "In this Lab, we will implement RL algorithms by building on existing RL algorithm libraries, so we don't have to implement RL agents from scratch as we did in the past few weeks. By doing so, we get less control on the details of the implementation, but it is much faster to implement (**we will cover 4 case studies today:** `CartPole`, `SpaceInvaders`, `CarRacing`, and `StockTrading`), and components available in public libraries tend to be high quality and efficient. \n",
    "\n",
    "Let us start with the DQN algorithm. We can use external open-source Python packages which implement each of the key DQN methods (e,g., experience replay method, action-selection method, etc). These methods are developed, maintained, and optimized for robustness to different scenarios, and for overall performance.\n",
    "\n",
    "Using these packages instead of implementing each DQN component from scratch is generally faster, leads to a more reliable/efficient program, yet still gives you a lot of control on the details of the implementation and hyperparameters.\n",
    "\n",
    "We will focus on DQN in the first part of the lab, but these packages also offer methods for most commonly used RL algorithms such as A3C, PPO, etc, so we will start looking at these too.\n",
    "\n",
    "## Resources\n",
    "\n",
    "* https://gymnasium.farama.org/\n"
   ]
  },
  {
   "cell_type": "markdown",
   "metadata": {},
   "source": [
    "# 1. Implement DQN with Keras-RL Methods\n",
    "\n",
    "Keras-RL is an older reinforcement learning library that does not support the latest versions of TensorFlow and Gym. To ensure compatibility, we need to downgrade both TensorFlow and Gym to specific versions that work with Keras-RL.\n",
    "\n",
    "### Install Required Dependencies\n",
    "\n",
    "To install the required versions, run the following commands:\n",
    "\n",
    "```bash\n",
    "pip install tensorflow==2.15\n",
    "pip install gym==0.15.4\n",
    "pip install pyglet==1.5.11\n",
    "```\n",
    "\n",
    "**Note:** We use `gym` instead of `gymnasium` because Keras-RL was originally built for `gym` and does not support `gymnasium`. Using these specific versions ensures that we can successfully implement and train a Deep Q-Network (DQN) using Keras-RL."
   ]
  },
  {
   "cell_type": "code",
   "execution_count": 3,
   "id": "ad96165b",
   "metadata": {},
   "outputs": [
    {
     "name": "stdout",
     "output_type": "stream",
     "text": [
      "Collecting tensorflow==2.15\n",
      "  Using cached tensorflow-2.15.0-cp39-cp39-win_amd64.whl.metadata (3.6 kB)\n",
      "Collecting tensorflow-intel==2.15.0 (from tensorflow==2.15)\n",
      "  Using cached tensorflow_intel-2.15.0-cp39-cp39-win_amd64.whl.metadata (5.1 kB)\n",
      "Requirement already satisfied: absl-py>=1.0.0 in f:\\study_notes_backup\\data_science\\ds-ga-3001-reinforcement\\.venv\\lib\\site-packages (from tensorflow-intel==2.15.0->tensorflow==2.15) (2.1.0)\n",
      "Requirement already satisfied: astunparse>=1.6.0 in f:\\study_notes_backup\\data_science\\ds-ga-3001-reinforcement\\.venv\\lib\\site-packages (from tensorflow-intel==2.15.0->tensorflow==2.15) (1.6.3)\n",
      "Requirement already satisfied: flatbuffers>=23.5.26 in f:\\study_notes_backup\\data_science\\ds-ga-3001-reinforcement\\.venv\\lib\\site-packages (from tensorflow-intel==2.15.0->tensorflow==2.15) (25.2.10)\n",
      "Requirement already satisfied: gast!=0.5.0,!=0.5.1,!=0.5.2,>=0.2.1 in f:\\study_notes_backup\\data_science\\ds-ga-3001-reinforcement\\.venv\\lib\\site-packages (from tensorflow-intel==2.15.0->tensorflow==2.15) (0.4.0)\n",
      "Requirement already satisfied: google-pasta>=0.1.1 in f:\\study_notes_backup\\data_science\\ds-ga-3001-reinforcement\\.venv\\lib\\site-packages (from tensorflow-intel==2.15.0->tensorflow==2.15) (0.2.0)\n",
      "Requirement already satisfied: h5py>=2.9.0 in f:\\study_notes_backup\\data_science\\ds-ga-3001-reinforcement\\.venv\\lib\\site-packages (from tensorflow-intel==2.15.0->tensorflow==2.15) (3.13.0)\n",
      "Requirement already satisfied: libclang>=13.0.0 in f:\\study_notes_backup\\data_science\\ds-ga-3001-reinforcement\\.venv\\lib\\site-packages (from tensorflow-intel==2.15.0->tensorflow==2.15) (18.1.1)\n",
      "Requirement already satisfied: ml-dtypes~=0.2.0 in f:\\study_notes_backup\\data_science\\ds-ga-3001-reinforcement\\.venv\\lib\\site-packages (from tensorflow-intel==2.15.0->tensorflow==2.15) (0.2.0)\n",
      "Requirement already satisfied: numpy<2.0.0,>=1.23.5 in f:\\study_notes_backup\\data_science\\ds-ga-3001-reinforcement\\.venv\\lib\\site-packages (from tensorflow-intel==2.15.0->tensorflow==2.15) (1.23.5)\n",
      "Requirement already satisfied: opt-einsum>=2.3.2 in f:\\study_notes_backup\\data_science\\ds-ga-3001-reinforcement\\.venv\\lib\\site-packages (from tensorflow-intel==2.15.0->tensorflow==2.15) (3.4.0)\n",
      "Requirement already satisfied: packaging in f:\\study_notes_backup\\data_science\\ds-ga-3001-reinforcement\\.venv\\lib\\site-packages (from tensorflow-intel==2.15.0->tensorflow==2.15) (24.2)\n",
      "Requirement already satisfied: protobuf!=4.21.0,!=4.21.1,!=4.21.2,!=4.21.3,!=4.21.4,!=4.21.5,<5.0.0dev,>=3.20.3 in f:\\study_notes_backup\\data_science\\ds-ga-3001-reinforcement\\.venv\\lib\\site-packages (from tensorflow-intel==2.15.0->tensorflow==2.15) (4.25.6)\n",
      "Requirement already satisfied: setuptools in f:\\study_notes_backup\\data_science\\ds-ga-3001-reinforcement\\.venv\\lib\\site-packages (from tensorflow-intel==2.15.0->tensorflow==2.15) (75.8.0)\n",
      "Requirement already satisfied: six>=1.12.0 in f:\\study_notes_backup\\data_science\\ds-ga-3001-reinforcement\\.venv\\lib\\site-packages (from tensorflow-intel==2.15.0->tensorflow==2.15) (1.17.0)\n",
      "Requirement already satisfied: termcolor>=1.1.0 in f:\\study_notes_backup\\data_science\\ds-ga-3001-reinforcement\\.venv\\lib\\site-packages (from tensorflow-intel==2.15.0->tensorflow==2.15) (2.5.0)\n",
      "Requirement already satisfied: typing-extensions>=3.6.6 in f:\\study_notes_backup\\data_science\\ds-ga-3001-reinforcement\\.venv\\lib\\site-packages (from tensorflow-intel==2.15.0->tensorflow==2.15) (4.12.2)\n",
      "Requirement already satisfied: wrapt<1.15,>=1.11.0 in f:\\study_notes_backup\\data_science\\ds-ga-3001-reinforcement\\.venv\\lib\\site-packages (from tensorflow-intel==2.15.0->tensorflow==2.15) (1.14.1)\n",
      "Collecting tensorflow-io-gcs-filesystem>=0.23.1 (from tensorflow-intel==2.15.0->tensorflow==2.15)\n",
      "  Downloading tensorflow_io_gcs_filesystem-0.31.0-cp39-cp39-win_amd64.whl.metadata (14 kB)\n",
      "Requirement already satisfied: grpcio<2.0,>=1.24.3 in f:\\study_notes_backup\\data_science\\ds-ga-3001-reinforcement\\.venv\\lib\\site-packages (from tensorflow-intel==2.15.0->tensorflow==2.15) (1.70.0)\n",
      "Requirement already satisfied: tensorboard<2.16,>=2.15 in f:\\study_notes_backup\\data_science\\ds-ga-3001-reinforcement\\.venv\\lib\\site-packages (from tensorflow-intel==2.15.0->tensorflow==2.15) (2.15.2)\n",
      "Collecting tensorflow-estimator<2.16,>=2.15.0 (from tensorflow-intel==2.15.0->tensorflow==2.15)\n",
      "  Using cached tensorflow_estimator-2.15.0-py2.py3-none-any.whl.metadata (1.3 kB)\n",
      "Requirement already satisfied: keras<2.16,>=2.15.0 in f:\\study_notes_backup\\data_science\\ds-ga-3001-reinforcement\\.venv\\lib\\site-packages (from tensorflow-intel==2.15.0->tensorflow==2.15) (2.15.0)\n",
      "Requirement already satisfied: wheel<1.0,>=0.23.0 in f:\\study_notes_backup\\data_science\\ds-ga-3001-reinforcement\\.venv\\lib\\site-packages (from astunparse>=1.6.0->tensorflow-intel==2.15.0->tensorflow==2.15) (0.45.1)\n",
      "Requirement already satisfied: google-auth<3,>=1.6.3 in f:\\study_notes_backup\\data_science\\ds-ga-3001-reinforcement\\.venv\\lib\\site-packages (from tensorboard<2.16,>=2.15->tensorflow-intel==2.15.0->tensorflow==2.15) (2.38.0)\n",
      "Requirement already satisfied: google-auth-oauthlib<2,>=0.5 in f:\\study_notes_backup\\data_science\\ds-ga-3001-reinforcement\\.venv\\lib\\site-packages (from tensorboard<2.16,>=2.15->tensorflow-intel==2.15.0->tensorflow==2.15) (1.2.1)\n",
      "Requirement already satisfied: markdown>=2.6.8 in f:\\study_notes_backup\\data_science\\ds-ga-3001-reinforcement\\.venv\\lib\\site-packages (from tensorboard<2.16,>=2.15->tensorflow-intel==2.15.0->tensorflow==2.15) (3.7)\n",
      "Requirement already satisfied: requests<3,>=2.21.0 in f:\\study_notes_backup\\data_science\\ds-ga-3001-reinforcement\\.venv\\lib\\site-packages (from tensorboard<2.16,>=2.15->tensorflow-intel==2.15.0->tensorflow==2.15) (2.32.3)\n",
      "Requirement already satisfied: tensorboard-data-server<0.8.0,>=0.7.0 in f:\\study_notes_backup\\data_science\\ds-ga-3001-reinforcement\\.venv\\lib\\site-packages (from tensorboard<2.16,>=2.15->tensorflow-intel==2.15.0->tensorflow==2.15) (0.7.2)\n",
      "Requirement already satisfied: werkzeug>=1.0.1 in f:\\study_notes_backup\\data_science\\ds-ga-3001-reinforcement\\.venv\\lib\\site-packages (from tensorboard<2.16,>=2.15->tensorflow-intel==2.15.0->tensorflow==2.15) (3.1.3)\n",
      "Requirement already satisfied: cachetools<6.0,>=2.0.0 in f:\\study_notes_backup\\data_science\\ds-ga-3001-reinforcement\\.venv\\lib\\site-packages (from google-auth<3,>=1.6.3->tensorboard<2.16,>=2.15->tensorflow-intel==2.15.0->tensorflow==2.15) (5.5.2)\n",
      "Requirement already satisfied: pyasn1-modules>=0.2.1 in f:\\study_notes_backup\\data_science\\ds-ga-3001-reinforcement\\.venv\\lib\\site-packages (from google-auth<3,>=1.6.3->tensorboard<2.16,>=2.15->tensorflow-intel==2.15.0->tensorflow==2.15) (0.4.1)\n",
      "Requirement already satisfied: rsa<5,>=3.1.4 in f:\\study_notes_backup\\data_science\\ds-ga-3001-reinforcement\\.venv\\lib\\site-packages (from google-auth<3,>=1.6.3->tensorboard<2.16,>=2.15->tensorflow-intel==2.15.0->tensorflow==2.15) (4.9)\n",
      "Requirement already satisfied: requests-oauthlib>=0.7.0 in f:\\study_notes_backup\\data_science\\ds-ga-3001-reinforcement\\.venv\\lib\\site-packages (from google-auth-oauthlib<2,>=0.5->tensorboard<2.16,>=2.15->tensorflow-intel==2.15.0->tensorflow==2.15) (2.0.0)\n",
      "Requirement already satisfied: importlib-metadata>=4.4 in f:\\study_notes_backup\\data_science\\ds-ga-3001-reinforcement\\.venv\\lib\\site-packages (from markdown>=2.6.8->tensorboard<2.16,>=2.15->tensorflow-intel==2.15.0->tensorflow==2.15) (8.6.1)\n",
      "Requirement already satisfied: charset-normalizer<4,>=2 in f:\\study_notes_backup\\data_science\\ds-ga-3001-reinforcement\\.venv\\lib\\site-packages (from requests<3,>=2.21.0->tensorboard<2.16,>=2.15->tensorflow-intel==2.15.0->tensorflow==2.15) (3.4.1)\n",
      "Requirement already satisfied: idna<4,>=2.5 in f:\\study_notes_backup\\data_science\\ds-ga-3001-reinforcement\\.venv\\lib\\site-packages (from requests<3,>=2.21.0->tensorboard<2.16,>=2.15->tensorflow-intel==2.15.0->tensorflow==2.15) (3.10)\n",
      "Requirement already satisfied: urllib3<3,>=1.21.1 in f:\\study_notes_backup\\data_science\\ds-ga-3001-reinforcement\\.venv\\lib\\site-packages (from requests<3,>=2.21.0->tensorboard<2.16,>=2.15->tensorflow-intel==2.15.0->tensorflow==2.15) (2.3.0)\n",
      "Requirement already satisfied: certifi>=2017.4.17 in f:\\study_notes_backup\\data_science\\ds-ga-3001-reinforcement\\.venv\\lib\\site-packages (from requests<3,>=2.21.0->tensorboard<2.16,>=2.15->tensorflow-intel==2.15.0->tensorflow==2.15) (2025.1.31)\n",
      "Requirement already satisfied: MarkupSafe>=2.1.1 in f:\\study_notes_backup\\data_science\\ds-ga-3001-reinforcement\\.venv\\lib\\site-packages (from werkzeug>=1.0.1->tensorboard<2.16,>=2.15->tensorflow-intel==2.15.0->tensorflow==2.15) (3.0.2)\n",
      "Requirement already satisfied: zipp>=3.20 in f:\\study_notes_backup\\data_science\\ds-ga-3001-reinforcement\\.venv\\lib\\site-packages (from importlib-metadata>=4.4->markdown>=2.6.8->tensorboard<2.16,>=2.15->tensorflow-intel==2.15.0->tensorflow==2.15) (3.21.0)\n",
      "Requirement already satisfied: pyasn1<0.7.0,>=0.4.6 in f:\\study_notes_backup\\data_science\\ds-ga-3001-reinforcement\\.venv\\lib\\site-packages (from pyasn1-modules>=0.2.1->google-auth<3,>=1.6.3->tensorboard<2.16,>=2.15->tensorflow-intel==2.15.0->tensorflow==2.15) (0.6.1)\n",
      "Requirement already satisfied: oauthlib>=3.0.0 in f:\\study_notes_backup\\data_science\\ds-ga-3001-reinforcement\\.venv\\lib\\site-packages (from requests-oauthlib>=0.7.0->google-auth-oauthlib<2,>=0.5->tensorboard<2.16,>=2.15->tensorflow-intel==2.15.0->tensorflow==2.15) (3.2.2)\n",
      "Using cached tensorflow-2.15.0-cp39-cp39-win_amd64.whl (2.1 kB)\n",
      "Using cached tensorflow_intel-2.15.0-cp39-cp39-win_amd64.whl (300.8 MB)\n",
      "Using cached tensorflow_estimator-2.15.0-py2.py3-none-any.whl (441 kB)\n",
      "Downloading tensorflow_io_gcs_filesystem-0.31.0-cp39-cp39-win_amd64.whl (1.5 MB)\n",
      "   ---------------------------------------- 0.0/1.5 MB ? eta -:--:--\n",
      "   ---------------------------------------- 1.5/1.5 MB 15.7 MB/s eta 0:00:00\n",
      "Installing collected packages: tensorflow-io-gcs-filesystem, tensorflow-estimator, tensorflow-intel, tensorflow\n",
      "Successfully installed tensorflow-2.15.0 tensorflow-estimator-2.15.0 tensorflow-intel-2.15.0 tensorflow-io-gcs-filesystem-0.31.0\n"
     ]
    },
    {
     "name": "stderr",
     "output_type": "stream",
     "text": [
      "\n",
      "[notice] A new release of pip is available: 25.0 -> 25.0.1\n",
      "[notice] To update, run: python.exe -m pip install --upgrade pip\n"
     ]
    },
    {
     "name": "stdout",
     "output_type": "stream",
     "text": [
      "Requirement already satisfied: gym==0.15.4 in f:\\study_notes_backup\\data_science\\ds-ga-3001-reinforcement\\.venv\\lib\\site-packages (0.15.4)\n",
      "Requirement already satisfied: scipy in f:\\study_notes_backup\\data_science\\ds-ga-3001-reinforcement\\.venv\\lib\\site-packages (from gym==0.15.4) (1.13.1)\n",
      "Requirement already satisfied: numpy>=1.10.4 in f:\\study_notes_backup\\data_science\\ds-ga-3001-reinforcement\\.venv\\lib\\site-packages (from gym==0.15.4) (1.23.5)\n",
      "Requirement already satisfied: six in f:\\study_notes_backup\\data_science\\ds-ga-3001-reinforcement\\.venv\\lib\\site-packages (from gym==0.15.4) (1.17.0)\n",
      "Collecting pyglet<=1.3.2,>=1.2.0 (from gym==0.15.4)\n",
      "  Using cached pyglet-1.3.2-py2.py3-none-any.whl.metadata (1.4 kB)\n",
      "Requirement already satisfied: cloudpickle~=1.2.0 in f:\\study_notes_backup\\data_science\\ds-ga-3001-reinforcement\\.venv\\lib\\site-packages (from gym==0.15.4) (1.2.2)\n",
      "Requirement already satisfied: opencv-python in f:\\study_notes_backup\\data_science\\ds-ga-3001-reinforcement\\.venv\\lib\\site-packages (from gym==0.15.4) (4.11.0.86)\n",
      "Requirement already satisfied: future in f:\\study_notes_backup\\data_science\\ds-ga-3001-reinforcement\\.venv\\lib\\site-packages (from pyglet<=1.3.2,>=1.2.0->gym==0.15.4) (1.0.0)\n",
      "Using cached pyglet-1.3.2-py2.py3-none-any.whl (1.0 MB)\n",
      "Installing collected packages: pyglet\n",
      "  Attempting uninstall: pyglet\n",
      "    Found existing installation: pyglet 1.5.11\n",
      "    Uninstalling pyglet-1.5.11:\n",
      "      Successfully uninstalled pyglet-1.5.11\n",
      "Successfully installed pyglet-1.3.2\n"
     ]
    },
    {
     "name": "stderr",
     "output_type": "stream",
     "text": [
      "\n",
      "[notice] A new release of pip is available: 25.0 -> 25.0.1\n",
      "[notice] To update, run: python.exe -m pip install --upgrade pip\n"
     ]
    },
    {
     "name": "stdout",
     "output_type": "stream",
     "text": [
      "Collecting pyglet==1.5.11\n",
      "  Using cached pyglet-1.5.11-py3-none-any.whl.metadata (7.6 kB)\n",
      "Using cached pyglet-1.5.11-py3-none-any.whl (1.1 MB)\n",
      "Installing collected packages: pyglet\n",
      "  Attempting uninstall: pyglet\n",
      "    Found existing installation: pyglet 1.3.2\n",
      "    Uninstalling pyglet-1.3.2:\n",
      "      Successfully uninstalled pyglet-1.3.2\n",
      "Successfully installed pyglet-1.5.11\n"
     ]
    },
    {
     "name": "stderr",
     "output_type": "stream",
     "text": [
      "ERROR: pip's dependency resolver does not currently take into account all the packages that are installed. This behaviour is the source of the following dependency conflicts.\n",
      "gym 0.15.4 requires pyglet<=1.3.2,>=1.2.0, but you have pyglet 1.5.11 which is incompatible.\n",
      "\n",
      "[notice] A new release of pip is available: 25.0 -> 25.0.1\n",
      "[notice] To update, run: python.exe -m pip install --upgrade pip\n"
     ]
    }
   ],
   "source": [
    "!pip install tensorflow==2.15\n",
    "!pip install gym==0.15.4\n",
    "!pip install pyglet==1.5.11"
   ]
  },
  {
   "cell_type": "code",
   "execution_count": 5,
   "id": "87d862be",
   "metadata": {},
   "outputs": [
    {
     "name": "stdout",
     "output_type": "stream",
     "text": [
      "Collecting keras==2.10.0\n",
      "  Using cached keras-2.10.0-py2.py3-none-any.whl.metadata (1.3 kB)\n",
      "Using cached keras-2.10.0-py2.py3-none-any.whl (1.7 MB)\n",
      "Installing collected packages: keras\n",
      "  Attempting uninstall: keras\n",
      "    Found existing installation: keras 2.15.0\n",
      "    Uninstalling keras-2.15.0:\n",
      "      Successfully uninstalled keras-2.15.0\n",
      "Successfully installed keras-2.10.0\n"
     ]
    },
    {
     "name": "stderr",
     "output_type": "stream",
     "text": [
      "ERROR: pip's dependency resolver does not currently take into account all the packages that are installed. This behaviour is the source of the following dependency conflicts.\n",
      "tensorflow-intel 2.15.0 requires keras<2.16,>=2.15.0, but you have keras 2.10.0 which is incompatible.\n",
      "\n",
      "[notice] A new release of pip is available: 25.0 -> 25.0.1\n",
      "[notice] To update, run: python.exe -m pip install --upgrade pip\n"
     ]
    },
    {
     "name": "stdout",
     "output_type": "stream",
     "text": [
      "Collecting keras-rl2\n",
      "  Downloading keras_rl2-1.0.5-py3-none-any.whl.metadata (304 bytes)\n",
      "Requirement already satisfied: tensorflow in f:\\study_notes_backup\\data_science\\ds-ga-3001-reinforcement\\.venv\\lib\\site-packages (from keras-rl2) (2.15.0)\n",
      "Requirement already satisfied: tensorflow-intel==2.15.0 in f:\\study_notes_backup\\data_science\\ds-ga-3001-reinforcement\\.venv\\lib\\site-packages (from tensorflow->keras-rl2) (2.15.0)\n",
      "Requirement already satisfied: absl-py>=1.0.0 in f:\\study_notes_backup\\data_science\\ds-ga-3001-reinforcement\\.venv\\lib\\site-packages (from tensorflow-intel==2.15.0->tensorflow->keras-rl2) (2.1.0)\n",
      "Requirement already satisfied: astunparse>=1.6.0 in f:\\study_notes_backup\\data_science\\ds-ga-3001-reinforcement\\.venv\\lib\\site-packages (from tensorflow-intel==2.15.0->tensorflow->keras-rl2) (1.6.3)\n",
      "Requirement already satisfied: flatbuffers>=23.5.26 in f:\\study_notes_backup\\data_science\\ds-ga-3001-reinforcement\\.venv\\lib\\site-packages (from tensorflow-intel==2.15.0->tensorflow->keras-rl2) (25.2.10)\n",
      "Requirement already satisfied: gast!=0.5.0,!=0.5.1,!=0.5.2,>=0.2.1 in f:\\study_notes_backup\\data_science\\ds-ga-3001-reinforcement\\.venv\\lib\\site-packages (from tensorflow-intel==2.15.0->tensorflow->keras-rl2) (0.4.0)\n",
      "Requirement already satisfied: google-pasta>=0.1.1 in f:\\study_notes_backup\\data_science\\ds-ga-3001-reinforcement\\.venv\\lib\\site-packages (from tensorflow-intel==2.15.0->tensorflow->keras-rl2) (0.2.0)\n",
      "Requirement already satisfied: h5py>=2.9.0 in f:\\study_notes_backup\\data_science\\ds-ga-3001-reinforcement\\.venv\\lib\\site-packages (from tensorflow-intel==2.15.0->tensorflow->keras-rl2) (3.13.0)\n",
      "Requirement already satisfied: libclang>=13.0.0 in f:\\study_notes_backup\\data_science\\ds-ga-3001-reinforcement\\.venv\\lib\\site-packages (from tensorflow-intel==2.15.0->tensorflow->keras-rl2) (18.1.1)\n",
      "Requirement already satisfied: ml-dtypes~=0.2.0 in f:\\study_notes_backup\\data_science\\ds-ga-3001-reinforcement\\.venv\\lib\\site-packages (from tensorflow-intel==2.15.0->tensorflow->keras-rl2) (0.2.0)\n",
      "Requirement already satisfied: numpy<2.0.0,>=1.23.5 in f:\\study_notes_backup\\data_science\\ds-ga-3001-reinforcement\\.venv\\lib\\site-packages (from tensorflow-intel==2.15.0->tensorflow->keras-rl2) (1.23.5)\n",
      "Requirement already satisfied: opt-einsum>=2.3.2 in f:\\study_notes_backup\\data_science\\ds-ga-3001-reinforcement\\.venv\\lib\\site-packages (from tensorflow-intel==2.15.0->tensorflow->keras-rl2) (3.4.0)\n",
      "Requirement already satisfied: packaging in f:\\study_notes_backup\\data_science\\ds-ga-3001-reinforcement\\.venv\\lib\\site-packages (from tensorflow-intel==2.15.0->tensorflow->keras-rl2) (24.2)\n",
      "Requirement already satisfied: protobuf!=4.21.0,!=4.21.1,!=4.21.2,!=4.21.3,!=4.21.4,!=4.21.5,<5.0.0dev,>=3.20.3 in f:\\study_notes_backup\\data_science\\ds-ga-3001-reinforcement\\.venv\\lib\\site-packages (from tensorflow-intel==2.15.0->tensorflow->keras-rl2) (4.25.6)\n",
      "Requirement already satisfied: setuptools in f:\\study_notes_backup\\data_science\\ds-ga-3001-reinforcement\\.venv\\lib\\site-packages (from tensorflow-intel==2.15.0->tensorflow->keras-rl2) (75.8.0)\n",
      "Requirement already satisfied: six>=1.12.0 in f:\\study_notes_backup\\data_science\\ds-ga-3001-reinforcement\\.venv\\lib\\site-packages (from tensorflow-intel==2.15.0->tensorflow->keras-rl2) (1.17.0)\n",
      "Requirement already satisfied: termcolor>=1.1.0 in f:\\study_notes_backup\\data_science\\ds-ga-3001-reinforcement\\.venv\\lib\\site-packages (from tensorflow-intel==2.15.0->tensorflow->keras-rl2) (2.5.0)\n",
      "Requirement already satisfied: typing-extensions>=3.6.6 in f:\\study_notes_backup\\data_science\\ds-ga-3001-reinforcement\\.venv\\lib\\site-packages (from tensorflow-intel==2.15.0->tensorflow->keras-rl2) (4.12.2)\n",
      "Requirement already satisfied: wrapt<1.15,>=1.11.0 in f:\\study_notes_backup\\data_science\\ds-ga-3001-reinforcement\\.venv\\lib\\site-packages (from tensorflow-intel==2.15.0->tensorflow->keras-rl2) (1.14.1)\n",
      "Requirement already satisfied: tensorflow-io-gcs-filesystem>=0.23.1 in f:\\study_notes_backup\\data_science\\ds-ga-3001-reinforcement\\.venv\\lib\\site-packages (from tensorflow-intel==2.15.0->tensorflow->keras-rl2) (0.31.0)\n",
      "Requirement already satisfied: grpcio<2.0,>=1.24.3 in f:\\study_notes_backup\\data_science\\ds-ga-3001-reinforcement\\.venv\\lib\\site-packages (from tensorflow-intel==2.15.0->tensorflow->keras-rl2) (1.70.0)\n",
      "Requirement already satisfied: tensorboard<2.16,>=2.15 in f:\\study_notes_backup\\data_science\\ds-ga-3001-reinforcement\\.venv\\lib\\site-packages (from tensorflow-intel==2.15.0->tensorflow->keras-rl2) (2.15.2)\n",
      "Requirement already satisfied: tensorflow-estimator<2.16,>=2.15.0 in f:\\study_notes_backup\\data_science\\ds-ga-3001-reinforcement\\.venv\\lib\\site-packages (from tensorflow-intel==2.15.0->tensorflow->keras-rl2) (2.15.0)\n",
      "Collecting keras<2.16,>=2.15.0 (from tensorflow-intel==2.15.0->tensorflow->keras-rl2)\n",
      "  Using cached keras-2.15.0-py3-none-any.whl.metadata (2.4 kB)\n",
      "Requirement already satisfied: wheel<1.0,>=0.23.0 in f:\\study_notes_backup\\data_science\\ds-ga-3001-reinforcement\\.venv\\lib\\site-packages (from astunparse>=1.6.0->tensorflow-intel==2.15.0->tensorflow->keras-rl2) (0.45.1)\n",
      "Requirement already satisfied: google-auth<3,>=1.6.3 in f:\\study_notes_backup\\data_science\\ds-ga-3001-reinforcement\\.venv\\lib\\site-packages (from tensorboard<2.16,>=2.15->tensorflow-intel==2.15.0->tensorflow->keras-rl2) (2.38.0)\n",
      "Requirement already satisfied: google-auth-oauthlib<2,>=0.5 in f:\\study_notes_backup\\data_science\\ds-ga-3001-reinforcement\\.venv\\lib\\site-packages (from tensorboard<2.16,>=2.15->tensorflow-intel==2.15.0->tensorflow->keras-rl2) (1.2.1)\n",
      "Requirement already satisfied: markdown>=2.6.8 in f:\\study_notes_backup\\data_science\\ds-ga-3001-reinforcement\\.venv\\lib\\site-packages (from tensorboard<2.16,>=2.15->tensorflow-intel==2.15.0->tensorflow->keras-rl2) (3.7)\n",
      "Requirement already satisfied: requests<3,>=2.21.0 in f:\\study_notes_backup\\data_science\\ds-ga-3001-reinforcement\\.venv\\lib\\site-packages (from tensorboard<2.16,>=2.15->tensorflow-intel==2.15.0->tensorflow->keras-rl2) (2.32.3)\n",
      "Requirement already satisfied: tensorboard-data-server<0.8.0,>=0.7.0 in f:\\study_notes_backup\\data_science\\ds-ga-3001-reinforcement\\.venv\\lib\\site-packages (from tensorboard<2.16,>=2.15->tensorflow-intel==2.15.0->tensorflow->keras-rl2) (0.7.2)\n",
      "Requirement already satisfied: werkzeug>=1.0.1 in f:\\study_notes_backup\\data_science\\ds-ga-3001-reinforcement\\.venv\\lib\\site-packages (from tensorboard<2.16,>=2.15->tensorflow-intel==2.15.0->tensorflow->keras-rl2) (3.1.3)\n",
      "Requirement already satisfied: cachetools<6.0,>=2.0.0 in f:\\study_notes_backup\\data_science\\ds-ga-3001-reinforcement\\.venv\\lib\\site-packages (from google-auth<3,>=1.6.3->tensorboard<2.16,>=2.15->tensorflow-intel==2.15.0->tensorflow->keras-rl2) (5.5.2)\n",
      "Requirement already satisfied: pyasn1-modules>=0.2.1 in f:\\study_notes_backup\\data_science\\ds-ga-3001-reinforcement\\.venv\\lib\\site-packages (from google-auth<3,>=1.6.3->tensorboard<2.16,>=2.15->tensorflow-intel==2.15.0->tensorflow->keras-rl2) (0.4.1)\n",
      "Requirement already satisfied: rsa<5,>=3.1.4 in f:\\study_notes_backup\\data_science\\ds-ga-3001-reinforcement\\.venv\\lib\\site-packages (from google-auth<3,>=1.6.3->tensorboard<2.16,>=2.15->tensorflow-intel==2.15.0->tensorflow->keras-rl2) (4.9)\n",
      "Requirement already satisfied: requests-oauthlib>=0.7.0 in f:\\study_notes_backup\\data_science\\ds-ga-3001-reinforcement\\.venv\\lib\\site-packages (from google-auth-oauthlib<2,>=0.5->tensorboard<2.16,>=2.15->tensorflow-intel==2.15.0->tensorflow->keras-rl2) (2.0.0)\n",
      "Requirement already satisfied: importlib-metadata>=4.4 in f:\\study_notes_backup\\data_science\\ds-ga-3001-reinforcement\\.venv\\lib\\site-packages (from markdown>=2.6.8->tensorboard<2.16,>=2.15->tensorflow-intel==2.15.0->tensorflow->keras-rl2) (8.6.1)\n",
      "Requirement already satisfied: charset-normalizer<4,>=2 in f:\\study_notes_backup\\data_science\\ds-ga-3001-reinforcement\\.venv\\lib\\site-packages (from requests<3,>=2.21.0->tensorboard<2.16,>=2.15->tensorflow-intel==2.15.0->tensorflow->keras-rl2) (3.4.1)\n",
      "Requirement already satisfied: idna<4,>=2.5 in f:\\study_notes_backup\\data_science\\ds-ga-3001-reinforcement\\.venv\\lib\\site-packages (from requests<3,>=2.21.0->tensorboard<2.16,>=2.15->tensorflow-intel==2.15.0->tensorflow->keras-rl2) (3.10)\n",
      "Requirement already satisfied: urllib3<3,>=1.21.1 in f:\\study_notes_backup\\data_science\\ds-ga-3001-reinforcement\\.venv\\lib\\site-packages (from requests<3,>=2.21.0->tensorboard<2.16,>=2.15->tensorflow-intel==2.15.0->tensorflow->keras-rl2) (2.3.0)\n",
      "Requirement already satisfied: certifi>=2017.4.17 in f:\\study_notes_backup\\data_science\\ds-ga-3001-reinforcement\\.venv\\lib\\site-packages (from requests<3,>=2.21.0->tensorboard<2.16,>=2.15->tensorflow-intel==2.15.0->tensorflow->keras-rl2) (2025.1.31)\n",
      "Requirement already satisfied: MarkupSafe>=2.1.1 in f:\\study_notes_backup\\data_science\\ds-ga-3001-reinforcement\\.venv\\lib\\site-packages (from werkzeug>=1.0.1->tensorboard<2.16,>=2.15->tensorflow-intel==2.15.0->tensorflow->keras-rl2) (3.0.2)\n",
      "Requirement already satisfied: zipp>=3.20 in f:\\study_notes_backup\\data_science\\ds-ga-3001-reinforcement\\.venv\\lib\\site-packages (from importlib-metadata>=4.4->markdown>=2.6.8->tensorboard<2.16,>=2.15->tensorflow-intel==2.15.0->tensorflow->keras-rl2) (3.21.0)\n",
      "Requirement already satisfied: pyasn1<0.7.0,>=0.4.6 in f:\\study_notes_backup\\data_science\\ds-ga-3001-reinforcement\\.venv\\lib\\site-packages (from pyasn1-modules>=0.2.1->google-auth<3,>=1.6.3->tensorboard<2.16,>=2.15->tensorflow-intel==2.15.0->tensorflow->keras-rl2) (0.6.1)\n",
      "Requirement already satisfied: oauthlib>=3.0.0 in f:\\study_notes_backup\\data_science\\ds-ga-3001-reinforcement\\.venv\\lib\\site-packages (from requests-oauthlib>=0.7.0->google-auth-oauthlib<2,>=0.5->tensorboard<2.16,>=2.15->tensorflow-intel==2.15.0->tensorflow->keras-rl2) (3.2.2)\n",
      "Downloading keras_rl2-1.0.5-py3-none-any.whl (52 kB)\n",
      "Using cached keras-2.15.0-py3-none-any.whl (1.7 MB)\n",
      "Installing collected packages: keras, keras-rl2\n",
      "  Attempting uninstall: keras\n",
      "    Found existing installation: keras 2.10.0\n",
      "    Uninstalling keras-2.10.0:\n",
      "      Successfully uninstalled keras-2.10.0\n",
      "Successfully installed keras-2.15.0 keras-rl2-1.0.5\n"
     ]
    },
    {
     "name": "stderr",
     "output_type": "stream",
     "text": [
      "\n",
      "[notice] A new release of pip is available: 25.0 -> 25.0.1\n",
      "[notice] To update, run: python.exe -m pip install --upgrade pip\n"
     ]
    }
   ],
   "source": [
    "!pip install keras==2.10.0\n",
    "!pip install keras-rl2"
   ]
  },
  {
   "cell_type": "markdown",
   "metadata": {},
   "source": [
    "\n",
    "# 1.1 Solve *Cart Pole*  with DQN from Keras-rl\n",
    "\n",
    "Most of this case study will be the same as in previous lab, but we build some of the key components of the DQN agent using components available in the Keral-RL library\n"
   ]
  },
  {
   "cell_type": "markdown",
   "metadata": {},
   "source": [
    "## Imports"
   ]
  },
  {
   "cell_type": "code",
   "execution_count": 2,
   "id": "b499091e",
   "metadata": {},
   "outputs": [
    {
     "name": "stdout",
     "output_type": "stream",
     "text": [
      "Collecting pyglet\n",
      "  Downloading pyglet-2.1.3-py3-none-any.whl.metadata (7.7 kB)\n",
      "Downloading pyglet-2.1.3-py3-none-any.whl (962 kB)\n",
      "   ---------------------------------------- 0.0/962.1 kB ? eta -:--:--\n",
      "   --------------------------------------- 962.1/962.1 kB 14.9 MB/s eta 0:00:00\n",
      "Installing collected packages: pyglet\n",
      "Successfully installed pyglet-2.1.3\n"
     ]
    },
    {
     "name": "stderr",
     "output_type": "stream",
     "text": [
      "\n",
      "[notice] A new release of pip is available: 25.0 -> 25.0.1\n",
      "[notice] To update, run: python.exe -m pip install --upgrade pip\n"
     ]
    }
   ],
   "source": [
    "!pip install pyglet"
   ]
  },
  {
   "cell_type": "code",
   "execution_count": 1,
   "metadata": {},
   "outputs": [
    {
     "name": "stdout",
     "output_type": "stream",
     "text": [
      "WARNING:tensorflow:From f:\\Study_Notes_Backup\\Data_Science\\DS-GA-3001-Reinforcement\\.venv\\lib\\site-packages\\keras\\src\\losses.py:2976: The name tf.losses.sparse_softmax_cross_entropy is deprecated. Please use tf.compat.v1.losses.sparse_softmax_cross_entropy instead.\n",
      "\n",
      "WARNING:tensorflow:From f:\\Study_Notes_Backup\\Data_Science\\DS-GA-3001-Reinforcement\\.venv\\lib\\site-packages\\rl\\agents\\ddpg.py:9: The name tf.disable_eager_execution is deprecated. Please use tf.compat.v1.disable_eager_execution instead.\n",
      "\n"
     ]
    }
   ],
   "source": [
    "import time \n",
    "import gym\n",
    "from pyglet.window import key \n",
    "from tensorflow.keras.models import Sequential  \n",
    "from tensorflow.keras.layers import Dense  \n",
    "from tensorflow.keras.layers import Activation \n",
    "from tensorflow.keras.layers import Flatten  \n",
    "from tensorflow.keras.optimizers.legacy import Adam  # Adam optimizer\n",
    "\n",
    "\n",
    "# Import DQN methods from the keras-rl2 library (keras-rl is tagged \"rl\" in Python)\n",
    "# Quick fix if python cannot import name '__version__' from 'tensorflow.keras'\n",
    "import tensorflow as tf\n",
    "from keras import __version__\n",
    "tf.keras.__version__ = __version__\n",
    "\n",
    "from rl.agents.dqn import DQNAgent "
   ]
  },
  {
   "cell_type": "code",
   "execution_count": 2,
   "id": "ccde3b37",
   "metadata": {},
   "outputs": [
    {
     "name": "stdout",
     "output_type": "stream",
     "text": [
      "2.15.0\n"
     ]
    }
   ],
   "source": [
    "print(__version__)"
   ]
  },
  {
   "cell_type": "markdown",
   "metadata": {},
   "source": [
    "## Set up the `CartPole` Gym environment"
   ]
  },
  {
   "cell_type": "code",
   "execution_count": 3,
   "metadata": {},
   "outputs": [
    {
     "name": "stdout",
     "output_type": "stream",
     "text": [
      "There are 2 possible actions and 4 observations\n"
     ]
    }
   ],
   "source": [
    "# https://stackoverflow.com/questions/56904270/difference-between-openai-gym-environments-cartpole-v0-and-cartpole-v1\n",
    "env_name = ENV_NAME = 'CartPole-v1'\n",
    "env = gym.make(env_name)  \n",
    "\n",
    "# Same as last week:\n",
    "num_actions = env.action_space.n\n",
    "num_observations = env.observation_space.shape[0]\n",
    "print(f\"There are {num_actions} possible actions and {num_observations} observations\")\n"
   ]
  },
  {
   "cell_type": "markdown",
   "metadata": {},
   "source": [
    "## Execute random actions just to get familiar with the environment"
   ]
  },
  {
   "cell_type": "code",
   "execution_count": 4,
   "metadata": {
    "collapsed": true
   },
   "outputs": [],
   "source": [
    "# Load the CartPole Gym environment with graphical rendering to vizualize the environment\n",
    "env_test = gym.make(\"CartPole-v1\")  # [Jeremy] was v1 last week  \n",
    "# Set to initial state\n",
    "env_test.reset()\n",
    "  \n",
    "\n",
    "# Loop over 200 steps\n",
    "for _ in range(200):\n",
    "    env_test.render()                                                 # Render on the screen\n",
    "    action = env_test.action_space.sample()                           # Choose a random action\n",
    "    new_state, reward, done, info = env_test.step(action)  # Carry out the action\n",
    "    time.sleep(0.03)\n",
    "    if done:\n",
    "         env_test.reset()\n",
    "            \n",
    "env_test.close()\n"
   ]
  },
  {
   "cell_type": "markdown",
   "metadata": {},
   "source": [
    "## Implement an Artificial Neural Network\n",
    "To build our network, we first need to find out how many actions and observation our environment has.\n",
    "We can either get those information from the source code (https://github.com/openai/gym/blob/master/gym/envs/classic_control/cartpole.py) or via the following commands:"
   ]
  },
  {
   "cell_type": "markdown",
   "metadata": {},
   "source": [
    "Similar to in the previous lab, we build a simple ANN with 2 hidden layers and 16 and 32 neurons each followed by relu activation. The output layer has 2 nodes, one for each action"
   ]
  },
  {
   "cell_type": "code",
   "execution_count": 5,
   "metadata": {},
   "outputs": [
    {
     "name": "stdout",
     "output_type": "stream",
     "text": [
      "WARNING:tensorflow:From f:\\Study_Notes_Backup\\Data_Science\\DS-GA-3001-Reinforcement\\.venv\\lib\\site-packages\\keras\\src\\utils\\version_utils.py:76: The name tf.executing_eagerly_outside_functions is deprecated. Please use tf.compat.v1.executing_eagerly_outside_functions instead.\n",
      "\n",
      "Model: \"sequential\"\n",
      "_________________________________________________________________\n",
      " Layer (type)                Output Shape              Param #   \n",
      "=================================================================\n",
      " flatten (Flatten)           (None, 4)                 0         \n",
      "                                                                 \n",
      " dense (Dense)               (None, 16)                80        \n",
      "                                                                 \n",
      " activation (Activation)     (None, 16)                0         \n",
      "                                                                 \n",
      " dense_1 (Dense)             (None, 32)                544       \n",
      "                                                                 \n",
      " activation_1 (Activation)   (None, 32)                0         \n",
      "                                                                 \n",
      " dense_2 (Dense)             (None, 2)                 66        \n",
      "                                                                 \n",
      " activation_2 (Activation)   (None, 2)                 0         \n",
      "                                                                 \n",
      "=================================================================\n",
      "Total params: 690 (2.70 KB)\n",
      "Trainable params: 690 (2.70 KB)\n",
      "Non-trainable params: 0 (0.00 Byte)\n",
      "_________________________________________________________________\n",
      "None\n"
     ]
    }
   ],
   "source": [
    "model = Sequential()\n",
    "# https://keras.io/api/layers/reshaping_layers/flatten/\n",
    "model.add(Flatten(input_shape=(1,) + env.observation_space.shape))\n",
    "\n",
    "model.add(Dense(16))\n",
    "model.add(Activation('relu'))\n",
    "\n",
    "model.add(Dense(32))\n",
    "model.add(Activation('relu'))\n",
    "\n",
    "model.add(Dense(num_actions))\n",
    "model.add(Activation('linear'))\n",
    "\n",
    "print(model.summary())"
   ]
  },
  {
   "cell_type": "markdown",
   "metadata": {},
   "source": [
    "## Implement the DQN framework with Keras-RL"
   ]
  },
  {
   "cell_type": "markdown",
   "metadata": {},
   "source": [
    "The DQN agent `DQNagent` from Keras-RL takes the following parameters:\n",
    "\n",
    "1. `model` = The ANN\n",
    "\n",
    "\n",
    "2. `nb_actions` = The number of actions (2 in this case)\n",
    "\n",
    "\n",
    "3. `memory` = The action replay memory. Ny far the most common choice is `SequentialMemory()` \n",
    "\n",
    "\n",
    "4. `nb_steps_warmup` = Number of iterations used to fill the memory prior starting to update the ANN parameters\n",
    "\n",
    "\n",
    "5. `target_model_update` = How often (in number of steps) to update the target model\n",
    "\n",
    "\n",
    "6. `policy` = You can choose between `LinearAnnealedPolicy()`, `SoftmaxPolicy()`, `EpsGreedyQPolicy()`, `GreedyQPolicy()`, `GreedyQPolicy()`, `MaxBoltzmannQPolicy()` and `BoltzmannGumbelQPolicy()`. We will use the `LinearAnnealedPolicy` policy, but feel free to try them out and inspect which works best here\n",
    "\n",
    "\n",
    "There are some more parameters you can pass to the DQN Agent, feel free to explore them on your own."
   ]
  },
  {
   "cell_type": "markdown",
   "metadata": {},
   "source": [
    "let's initialize a circular buffer with a limit of 20000 and window length of 1 (window length describes the number of steps stored to define a state)\n"
   ]
  },
  {
   "cell_type": "code",
   "execution_count": 6,
   "metadata": {},
   "outputs": [],
   "source": [
    "from rl.memory import SequentialMemory  # Sequential Memory for storing observations (optimized circular buffer)\n",
    "\n",
    "memory = SequentialMemory(limit=20000, window_length=1)\n"
   ]
  },
  {
   "cell_type": "markdown",
   "metadata": {},
   "source": [
    "Then we define the Action Selection Policy: <br />\n",
    "We use *LinearAnnealedPolicy* in order to perform the epsilon greedy strategy with decaying epsilon. <br />\n",
    "*LinearAnnealedPolicy* accepts an action selection policy, its maximal and minimal values and a step number in order to create a dynamical policy. <br/>\n",
    "The smallest value epsilon can reach during training is 0.1.<br />\n",
    "For testing/evaluation of the trained agent, let's set epsilon to 0.05\n"
   ]
  },
  {
   "cell_type": "code",
   "execution_count": 7,
   "metadata": {},
   "outputs": [],
   "source": [
    "# LinearAnnealedPolicy allows to decay the epsilon for the epsilon greedy strategy\n",
    "from rl.policy import LinearAnnealedPolicy, EpsGreedyQPolicy\n",
    "\n",
    "policy = LinearAnnealedPolicy(EpsGreedyQPolicy(), \n",
    "                              attr='eps',\n",
    "                              value_max=1.,\n",
    "                              value_min=.1,\n",
    "                              value_test=.05,\n",
    "                              nb_steps=20000) \n"
   ]
  },
  {
   "cell_type": "markdown",
   "metadata": {},
   "source": [
    "Now we create the DQN Agent based on the defined model (**model**), the possible actions (**num_actions**) (left and right in this case), the circular buffer (**memory**), the warmup phase (**10**), how often the target model gets updated (**100**) and the policy (**policy**)\n"
   ]
  },
  {
   "cell_type": "code",
   "execution_count": 8,
   "metadata": {},
   "outputs": [],
   "source": [
    "dqn = DQNAgent(model = model, nb_actions = num_actions, memory = memory, nb_steps_warmup = 10,\n",
    "               target_model_update = 100, policy = policy)\n",
    "\n"
   ]
  },
  {
   "cell_type": "markdown",
   "metadata": {},
   "source": [
    "We can now compile the DQN with the Adam optimizer and a learning rate of 0.001.<br />\n",
    "We log the Mean Absolute Error"
   ]
  },
  {
   "cell_type": "code",
   "execution_count": 9,
   "metadata": {},
   "outputs": [
    {
     "name": "stdout",
     "output_type": "stream",
     "text": [
      "WARNING:tensorflow:From f:\\Study_Notes_Backup\\Data_Science\\DS-GA-3001-Reinforcement\\.venv\\lib\\site-packages\\keras\\src\\optimizers\\__init__.py:309: The name tf.train.Optimizer is deprecated. Please use tf.compat.v1.train.Optimizer instead.\n",
      "\n"
     ]
    }
   ],
   "source": [
    "# Use learning_rate instead of lr if you get warning\n",
    "dqn.compile(Adam(learning_rate=1e-3), metrics=['mae']) "
   ]
  },
  {
   "cell_type": "markdown",
   "metadata": {},
   "source": [
    "Let's run the training for 20000 steps. You can change visualize=True if you want to watch your model learning.\n",
    "Keep in mind that this increases the running time.\n"
   ]
  },
  {
   "cell_type": "markdown",
   "metadata": {},
   "source": [
    "## Train the DQN agent"
   ]
  },
  {
   "cell_type": "code",
   "execution_count": 10,
   "metadata": {
    "scrolled": true
   },
   "outputs": [
    {
     "name": "stdout",
     "output_type": "stream",
     "text": [
      "Training for 20000 steps ...\n",
      "WARNING:tensorflow:From f:\\Study_Notes_Backup\\Data_Science\\DS-GA-3001-Reinforcement\\.venv\\lib\\site-packages\\keras\\src\\engine\\training_v1.py:2595: The name tf.data.Iterator is deprecated. Please use tf.compat.v1.data.Iterator instead.\n",
      "\n",
      "WARNING:tensorflow:From f:\\Study_Notes_Backup\\Data_Science\\DS-GA-3001-Reinforcement\\.venv\\lib\\site-packages\\keras\\src\\engine\\training_utils_v1.py:50: The name tf.ragged.RaggedTensorValue is deprecated. Please use tf.compat.v1.ragged.RaggedTensorValue instead.\n",
      "\n"
     ]
    },
    {
     "name": "stderr",
     "output_type": "stream",
     "text": [
      "f:\\Study_Notes_Backup\\Data_Science\\DS-GA-3001-Reinforcement\\.venv\\lib\\site-packages\\keras\\src\\engine\\training_v1.py:2359: UserWarning: `Model.state_updates` will be removed in a future version. This property should not be used in TensorFlow 2.0, as `updates` are applied automatically.\n",
      "  updates=self.state_updates,\n",
      "f:\\Study_Notes_Backup\\Data_Science\\DS-GA-3001-Reinforcement\\.venv\\lib\\site-packages\\rl\\memory.py:37: UserWarning: Not enough entries to sample without replacement. Consider increasing your warm-up phase to avoid oversampling!\n",
      "  warnings.warn('Not enough entries to sample without replacement. Consider increasing your warm-up phase to avoid oversampling!')\n"
     ]
    },
    {
     "name": "stdout",
     "output_type": "stream",
     "text": [
      "    21/20000: episode: 1, duration: 0.318s, episode steps:  21, steps per second:  66, episode reward: 21.000, mean reward:  1.000 [ 1.000,  1.000], mean action: 0.476 [0.000, 1.000],  loss: 0.617167, mae: 0.616144, mean_q: 0.170667, mean_eps: 0.999302\n",
      "    39/20000: episode: 2, duration: 0.056s, episode steps:  18, steps per second: 319, episode reward: 18.000, mean reward:  1.000 [ 1.000,  1.000], mean action: 0.333 [0.000, 1.000],  loss: 0.462709, mae: 0.574850, mean_q: 0.248904, mean_eps: 0.998673\n",
      "    75/20000: episode: 3, duration: 0.106s, episode steps:  36, steps per second: 339, episode reward: 36.000, mean reward:  1.000 [ 1.000,  1.000], mean action: 0.556 [0.000, 1.000],  loss: 0.225440, mae: 0.568757, mean_q: 0.542542, mean_eps: 0.997458\n",
      "    88/20000: episode: 4, duration: 0.041s, episode steps:  13, steps per second: 321, episode reward: 13.000, mean reward:  1.000 [ 1.000,  1.000], mean action: 0.769 [0.000, 1.000],  loss: 0.059013, mae: 0.596585, mean_q: 0.943146, mean_eps: 0.996355\n"
     ]
    },
    {
     "name": "stderr",
     "output_type": "stream",
     "text": [
      "f:\\Study_Notes_Backup\\Data_Science\\DS-GA-3001-Reinforcement\\.venv\\lib\\site-packages\\rl\\memory.py:37: UserWarning: Not enough entries to sample without replacement. Consider increasing your warm-up phase to avoid oversampling!\n",
      "  warnings.warn('Not enough entries to sample without replacement. Consider increasing your warm-up phase to avoid oversampling!')\n"
     ]
    },
    {
     "name": "stdout",
     "output_type": "stream",
     "text": [
      "   116/20000: episode: 5, duration: 0.091s, episode steps:  28, steps per second: 309, episode reward: 28.000, mean reward:  1.000 [ 1.000,  1.000], mean action: 0.571 [0.000, 1.000],  loss: 0.268794, mae: 0.889782, mean_q: 1.224093, mean_eps: 0.995432\n",
      "   135/20000: episode: 6, duration: 0.054s, episode steps:  19, steps per second: 355, episode reward: 19.000, mean reward:  1.000 [ 1.000,  1.000], mean action: 0.632 [0.000, 1.000],  loss: 0.152110, mae: 1.174691, mean_q: 2.032136, mean_eps: 0.994375\n",
      "   178/20000: episode: 7, duration: 0.117s, episode steps:  43, steps per second: 367, episode reward: 43.000, mean reward:  1.000 [ 1.000,  1.000], mean action: 0.558 [0.000, 1.000],  loss: 0.144724, mae: 1.185773, mean_q: 2.157195, mean_eps: 0.992980\n",
      "   196/20000: episode: 8, duration: 0.052s, episode steps:  18, steps per second: 344, episode reward: 18.000, mean reward:  1.000 [ 1.000,  1.000], mean action: 0.389 [0.000, 1.000],  loss: 0.087339, mae: 1.161379, mean_q: 2.226037, mean_eps: 0.991608\n",
      "   210/20000: episode: 9, duration: 0.046s, episode steps:  14, steps per second: 306, episode reward: 14.000, mean reward:  1.000 [ 1.000,  1.000], mean action: 0.429 [0.000, 1.000],  loss: 0.419422, mae: 1.488616, mean_q: 2.309088, mean_eps: 0.990887\n",
      "   230/20000: episode: 10, duration: 0.057s, episode steps:  20, steps per second: 349, episode reward: 20.000, mean reward:  1.000 [ 1.000,  1.000], mean action: 0.450 [0.000, 1.000],  loss: 0.237179, mae: 1.707831, mean_q: 3.150863, mean_eps: 0.990123\n",
      "   251/20000: episode: 11, duration: 0.062s, episode steps:  21, steps per second: 341, episode reward: 21.000, mean reward:  1.000 [ 1.000,  1.000], mean action: 0.429 [0.000, 1.000],  loss: 0.196093, mae: 1.712017, mean_q: 3.335021, mean_eps: 0.989200\n",
      "   272/20000: episode: 12, duration: 0.060s, episode steps:  21, steps per second: 348, episode reward: 21.000, mean reward:  1.000 [ 1.000,  1.000], mean action: 0.571 [0.000, 1.000],  loss: 0.192869, mae: 1.687121, mean_q: 3.206973, mean_eps: 0.988255\n",
      "   287/20000: episode: 13, duration: 0.049s, episode steps:  15, steps per second: 305, episode reward: 15.000, mean reward:  1.000 [ 1.000,  1.000], mean action: 0.600 [0.000, 1.000],  loss: 0.167326, mae: 1.686430, mean_q: 3.249448, mean_eps: 0.987445\n",
      "   302/20000: episode: 14, duration: 0.046s, episode steps:  15, steps per second: 327, episode reward: 15.000, mean reward:  1.000 [ 1.000,  1.000], mean action: 0.600 [0.000, 1.000],  loss: 0.206516, mae: 1.720211, mean_q: 3.285050, mean_eps: 0.986770\n",
      "   322/20000: episode: 15, duration: 0.059s, episode steps:  20, steps per second: 341, episode reward: 20.000, mean reward:  1.000 [ 1.000,  1.000], mean action: 0.600 [0.000, 1.000],  loss: 0.434150, mae: 2.238524, mean_q: 4.053104, mean_eps: 0.985983\n",
      "   332/20000: episode: 16, duration: 0.031s, episode steps:  10, steps per second: 327, episode reward: 10.000, mean reward:  1.000 [ 1.000,  1.000], mean action: 0.200 [0.000, 1.000],  loss: 0.225378, mae: 2.277382, mean_q: 4.505757, mean_eps: 0.985308\n",
      "   347/20000: episode: 17, duration: 0.046s, episode steps:  15, steps per second: 325, episode reward: 15.000, mean reward:  1.000 [ 1.000,  1.000], mean action: 0.333 [0.000, 1.000],  loss: 0.399678, mae: 2.265720, mean_q: 4.242293, mean_eps: 0.984745\n",
      "   356/20000: episode: 18, duration: 0.032s, episode steps:   9, steps per second: 285, episode reward:  9.000, mean reward:  1.000 [ 1.000,  1.000], mean action: 0.778 [0.000, 1.000],  loss: 0.344716, mae: 2.232882, mean_q: 4.130900, mean_eps: 0.984205\n",
      "   370/20000: episode: 19, duration: 0.043s, episode steps:  14, steps per second: 325, episode reward: 14.000, mean reward:  1.000 [ 1.000,  1.000], mean action: 0.786 [0.000, 1.000],  loss: 0.279228, mae: 2.246918, mean_q: 4.287658, mean_eps: 0.983688\n",
      "   380/20000: episode: 20, duration: 0.032s, episode steps:  10, steps per second: 316, episode reward: 10.000, mean reward:  1.000 [ 1.000,  1.000], mean action: 0.200 [0.000, 1.000],  loss: 0.431022, mae: 2.292513, mean_q: 4.319519, mean_eps: 0.983148\n",
      "   399/20000: episode: 21, duration: 0.057s, episode steps:  19, steps per second: 334, episode reward: 19.000, mean reward:  1.000 [ 1.000,  1.000], mean action: 0.316 [0.000, 1.000],  loss: 0.325916, mae: 2.250583, mean_q: 4.254652, mean_eps: 0.982495\n",
      "   409/20000: episode: 22, duration: 0.032s, episode steps:  10, steps per second: 308, episode reward: 10.000, mean reward:  1.000 [ 1.000,  1.000], mean action: 0.800 [0.000, 1.000],  loss: 0.626155, mae: 2.613456, mean_q: 4.481564, mean_eps: 0.981843\n",
      "   442/20000: episode: 23, duration: 0.110s, episode steps:  33, steps per second: 301, episode reward: 33.000, mean reward:  1.000 [ 1.000,  1.000], mean action: 0.515 [0.000, 1.000],  loss: 0.488194, mae: 2.772928, mean_q: 5.238738, mean_eps: 0.980875\n",
      "   452/20000: episode: 24, duration: 0.031s, episode steps:  10, steps per second: 322, episode reward: 10.000, mean reward:  1.000 [ 1.000,  1.000], mean action: 0.100 [0.000, 1.000],  loss: 0.550544, mae: 2.750746, mean_q: 5.071055, mean_eps: 0.979907\n",
      "   484/20000: episode: 25, duration: 0.093s, episode steps:  32, steps per second: 344, episode reward: 32.000, mean reward:  1.000 [ 1.000,  1.000], mean action: 0.531 [0.000, 1.000],  loss: 0.464357, mae: 2.746787, mean_q: 5.123160, mean_eps: 0.978962\n",
      "   514/20000: episode: 26, duration: 0.093s, episode steps:  30, steps per second: 322, episode reward: 30.000, mean reward:  1.000 [ 1.000,  1.000], mean action: 0.500 [0.000, 1.000],  loss: 0.572681, mae: 2.937954, mean_q: 5.373373, mean_eps: 0.977567\n",
      "   547/20000: episode: 27, duration: 0.102s, episode steps:  33, steps per second: 325, episode reward: 33.000, mean reward:  1.000 [ 1.000,  1.000], mean action: 0.576 [0.000, 1.000],  loss: 0.676414, mae: 3.223386, mean_q: 5.973431, mean_eps: 0.976150\n",
      "   572/20000: episode: 28, duration: 0.076s, episode steps:  25, steps per second: 331, episode reward: 25.000, mean reward:  1.000 [ 1.000,  1.000], mean action: 0.400 [0.000, 1.000],  loss: 0.524150, mae: 3.187248, mean_q: 6.029895, mean_eps: 0.974845\n",
      "   601/20000: episode: 29, duration: 0.091s, episode steps:  29, steps per second: 318, episode reward: 29.000, mean reward:  1.000 [ 1.000,  1.000], mean action: 0.517 [0.000, 1.000],  loss: 0.391957, mae: 3.182134, mean_q: 6.099052, mean_eps: 0.973630\n",
      "   613/20000: episode: 30, duration: 0.035s, episode steps:  12, steps per second: 343, episode reward: 12.000, mean reward:  1.000 [ 1.000,  1.000], mean action: 0.667 [0.000, 1.000],  loss: 1.049608, mae: 3.583811, mean_q: 6.262495, mean_eps: 0.972707\n",
      "   642/20000: episode: 31, duration: 0.090s, episode steps:  29, steps per second: 323, episode reward: 29.000, mean reward:  1.000 [ 1.000,  1.000], mean action: 0.586 [0.000, 1.000],  loss: 0.667064, mae: 3.605052, mean_q: 6.798965, mean_eps: 0.971785\n",
      "   652/20000: episode: 32, duration: 0.033s, episode steps:  10, steps per second: 302, episode reward: 10.000, mean reward:  1.000 [ 1.000,  1.000], mean action: 0.200 [0.000, 1.000],  loss: 0.788350, mae: 3.599715, mean_q: 6.710143, mean_eps: 0.970908\n",
      "   668/20000: episode: 33, duration: 0.054s, episode steps:  16, steps per second: 296, episode reward: 16.000, mean reward:  1.000 [ 1.000,  1.000], mean action: 0.312 [0.000, 1.000],  loss: 0.526255, mae: 3.562983, mean_q: 6.741415, mean_eps: 0.970322\n",
      "   684/20000: episode: 34, duration: 0.053s, episode steps:  16, steps per second: 302, episode reward: 16.000, mean reward:  1.000 [ 1.000,  1.000], mean action: 0.375 [0.000, 1.000],  loss: 0.449748, mae: 3.596297, mean_q: 6.819681, mean_eps: 0.969602\n",
      "   711/20000: episode: 35, duration: 0.084s, episode steps:  27, steps per second: 321, episode reward: 27.000, mean reward:  1.000 [ 1.000,  1.000], mean action: 0.407 [0.000, 1.000],  loss: 0.639494, mae: 3.669017, mean_q: 6.797265, mean_eps: 0.968635\n",
      "   731/20000: episode: 36, duration: 0.056s, episode steps:  20, steps per second: 354, episode reward: 20.000, mean reward:  1.000 [ 1.000,  1.000], mean action: 0.500 [0.000, 1.000],  loss: 0.471606, mae: 3.939331, mean_q: 7.539169, mean_eps: 0.967577\n",
      "   745/20000: episode: 37, duration: 0.043s, episode steps:  14, steps per second: 326, episode reward: 14.000, mean reward:  1.000 [ 1.000,  1.000], mean action: 0.357 [0.000, 1.000],  loss: 0.779853, mae: 3.841509, mean_q: 7.196672, mean_eps: 0.966812\n",
      "   790/20000: episode: 38, duration: 0.134s, episode steps:  45, steps per second: 336, episode reward: 45.000, mean reward:  1.000 [ 1.000,  1.000], mean action: 0.489 [0.000, 1.000],  loss: 0.674416, mae: 3.863382, mean_q: 7.280714, mean_eps: 0.965485\n",
      "   800/20000: episode: 39, duration: 0.032s, episode steps:  10, steps per second: 310, episode reward: 10.000, mean reward:  1.000 [ 1.000,  1.000], mean action: 0.200 [0.000, 1.000],  loss: 0.343661, mae: 3.941495, mean_q: 7.667291, mean_eps: 0.964248\n",
      "   815/20000: episode: 40, duration: 0.046s, episode steps:  15, steps per second: 326, episode reward: 15.000, mean reward:  1.000 [ 1.000,  1.000], mean action: 0.400 [0.000, 1.000],  loss: 0.755967, mae: 4.299451, mean_q: 7.998239, mean_eps: 0.963685\n",
      "   838/20000: episode: 41, duration: 0.068s, episode steps:  23, steps per second: 336, episode reward: 23.000, mean reward:  1.000 [ 1.000,  1.000], mean action: 0.435 [0.000, 1.000],  loss: 0.626555, mae: 4.374903, mean_q: 8.415998, mean_eps: 0.962830\n",
      "   870/20000: episode: 42, duration: 0.090s, episode steps:  32, steps per second: 354, episode reward: 32.000, mean reward:  1.000 [ 1.000,  1.000], mean action: 0.625 [0.000, 1.000],  loss: 0.863035, mae: 4.331936, mean_q: 8.198977, mean_eps: 0.961593\n",
      "   921/20000: episode: 43, duration: 0.148s, episode steps:  51, steps per second: 345, episode reward: 51.000, mean reward:  1.000 [ 1.000,  1.000], mean action: 0.529 [0.000, 1.000],  loss: 0.645825, mae: 4.493301, mean_q: 8.565479, mean_eps: 0.959725\n",
      "   951/20000: episode: 44, duration: 0.085s, episode steps:  30, steps per second: 352, episode reward: 30.000, mean reward:  1.000 [ 1.000,  1.000], mean action: 0.467 [0.000, 1.000],  loss: 0.855697, mae: 4.722604, mean_q: 9.080431, mean_eps: 0.957902\n",
      "   965/20000: episode: 45, duration: 0.042s, episode steps:  14, steps per second: 330, episode reward: 14.000, mean reward:  1.000 [ 1.000,  1.000], mean action: 0.786 [0.000, 1.000],  loss: 1.032011, mae: 4.654127, mean_q: 8.759858, mean_eps: 0.956912\n",
      "   989/20000: episode: 46, duration: 0.069s, episode steps:  24, steps per second: 346, episode reward: 24.000, mean reward:  1.000 [ 1.000,  1.000], mean action: 0.500 [0.000, 1.000],  loss: 0.833652, mae: 4.731387, mean_q: 9.067149, mean_eps: 0.956058\n",
      "  1001/20000: episode: 47, duration: 0.039s, episode steps:  12, steps per second: 308, episode reward: 12.000, mean reward:  1.000 [ 1.000,  1.000], mean action: 0.750 [0.000, 1.000],  loss: 0.635228, mae: 4.747030, mean_q: 9.121359, mean_eps: 0.955248\n",
      "  1013/20000: episode: 48, duration: 0.037s, episode steps:  12, steps per second: 327, episode reward: 12.000, mean reward:  1.000 [ 1.000,  1.000], mean action: 0.667 [0.000, 1.000],  loss: 1.333973, mae: 5.020406, mean_q: 9.379288, mean_eps: 0.954707\n",
      "  1032/20000: episode: 49, duration: 0.057s, episode steps:  19, steps per second: 335, episode reward: 19.000, mean reward:  1.000 [ 1.000,  1.000], mean action: 0.316 [0.000, 1.000],  loss: 1.289258, mae: 5.079872, mean_q: 9.632817, mean_eps: 0.954010\n",
      "  1045/20000: episode: 50, duration: 0.040s, episode steps:  13, steps per second: 326, episode reward: 13.000, mean reward:  1.000 [ 1.000,  1.000], mean action: 0.385 [0.000, 1.000],  loss: 1.210649, mae: 5.095137, mean_q: 9.738449, mean_eps: 0.953290\n",
      "  1059/20000: episode: 51, duration: 0.041s, episode steps:  14, steps per second: 344, episode reward: 14.000, mean reward:  1.000 [ 1.000,  1.000], mean action: 0.643 [0.000, 1.000],  loss: 0.968274, mae: 5.070753, mean_q: 9.679215, mean_eps: 0.952682\n",
      "  1098/20000: episode: 52, duration: 0.112s, episode steps:  39, steps per second: 347, episode reward: 39.000, mean reward:  1.000 [ 1.000,  1.000], mean action: 0.436 [0.000, 1.000],  loss: 0.757084, mae: 5.074607, mean_q: 9.794234, mean_eps: 0.951490\n",
      "  1109/20000: episode: 53, duration: 0.034s, episode steps:  11, steps per second: 326, episode reward: 11.000, mean reward:  1.000 [ 1.000,  1.000], mean action: 0.182 [0.000, 1.000],  loss: 1.265061, mae: 5.186593, mean_q: 9.658326, mean_eps: 0.950365\n",
      "  1128/20000: episode: 54, duration: 0.056s, episode steps:  19, steps per second: 342, episode reward: 19.000, mean reward:  1.000 [ 1.000,  1.000], mean action: 0.579 [0.000, 1.000],  loss: 1.307796, mae: 5.518379, mean_q: 10.563604, mean_eps: 0.949690\n",
      "  1142/20000: episode: 55, duration: 0.040s, episode steps:  14, steps per second: 347, episode reward: 14.000, mean reward:  1.000 [ 1.000,  1.000], mean action: 0.357 [0.000, 1.000],  loss: 1.293768, mae: 5.387304, mean_q: 10.300766, mean_eps: 0.948948\n",
      "  1176/20000: episode: 56, duration: 0.098s, episode steps:  34, steps per second: 347, episode reward: 34.000, mean reward:  1.000 [ 1.000,  1.000], mean action: 0.382 [0.000, 1.000],  loss: 0.827351, mae: 5.412806, mean_q: 10.537276, mean_eps: 0.947867\n",
      "  1191/20000: episode: 57, duration: 0.044s, episode steps:  15, steps per second: 340, episode reward: 15.000, mean reward:  1.000 [ 1.000,  1.000], mean action: 0.667 [0.000, 1.000],  loss: 1.082325, mae: 5.387244, mean_q: 10.355612, mean_eps: 0.946765\n",
      "  1213/20000: episode: 58, duration: 0.067s, episode steps:  22, steps per second: 329, episode reward: 22.000, mean reward:  1.000 [ 1.000,  1.000], mean action: 0.455 [0.000, 1.000],  loss: 0.810333, mae: 5.537122, mean_q: 10.685880, mean_eps: 0.945933\n",
      "  1231/20000: episode: 59, duration: 0.058s, episode steps:  18, steps per second: 311, episode reward: 18.000, mean reward:  1.000 [ 1.000,  1.000], mean action: 0.667 [0.000, 1.000],  loss: 1.149147, mae: 5.826102, mean_q: 11.280929, mean_eps: 0.945032\n",
      "  1247/20000: episode: 60, duration: 0.047s, episode steps:  16, steps per second: 343, episode reward: 16.000, mean reward:  1.000 [ 1.000,  1.000], mean action: 0.500 [0.000, 1.000],  loss: 1.176022, mae: 5.696286, mean_q: 11.068487, mean_eps: 0.944268\n",
      "  1273/20000: episode: 61, duration: 0.076s, episode steps:  26, steps per second: 343, episode reward: 26.000, mean reward:  1.000 [ 1.000,  1.000], mean action: 0.538 [0.000, 1.000],  loss: 1.096883, mae: 5.741853, mean_q: 11.126716, mean_eps: 0.943322\n",
      "  1291/20000: episode: 62, duration: 0.052s, episode steps:  18, steps per second: 345, episode reward: 18.000, mean reward:  1.000 [ 1.000,  1.000], mean action: 0.333 [0.000, 1.000],  loss: 1.133373, mae: 5.728336, mean_q: 11.077208, mean_eps: 0.942332\n",
      "  1304/20000: episode: 63, duration: 0.041s, episode steps:  13, steps per second: 315, episode reward: 13.000, mean reward:  1.000 [ 1.000,  1.000], mean action: 0.615 [0.000, 1.000],  loss: 0.997685, mae: 5.713998, mean_q: 11.012880, mean_eps: 0.941635\n",
      "  1323/20000: episode: 64, duration: 0.060s, episode steps:  19, steps per second: 316, episode reward: 19.000, mean reward:  1.000 [ 1.000,  1.000], mean action: 0.579 [0.000, 1.000],  loss: 1.120547, mae: 6.199679, mean_q: 12.100113, mean_eps: 0.940915\n",
      "  1351/20000: episode: 65, duration: 0.078s, episode steps:  28, steps per second: 357, episode reward: 28.000, mean reward:  1.000 [ 1.000,  1.000], mean action: 0.500 [0.000, 1.000],  loss: 1.181876, mae: 6.144276, mean_q: 11.988983, mean_eps: 0.939858\n",
      "  1367/20000: episode: 66, duration: 0.048s, episode steps:  16, steps per second: 334, episode reward: 16.000, mean reward:  1.000 [ 1.000,  1.000], mean action: 0.625 [0.000, 1.000],  loss: 1.467646, mae: 6.176332, mean_q: 11.998064, mean_eps: 0.938867\n",
      "  1378/20000: episode: 67, duration: 0.032s, episode steps:  11, steps per second: 343, episode reward: 11.000, mean reward:  1.000 [ 1.000,  1.000], mean action: 0.818 [0.000, 1.000],  loss: 1.223261, mae: 6.079238, mean_q: 11.801289, mean_eps: 0.938260\n",
      "  1392/20000: episode: 68, duration: 0.041s, episode steps:  14, steps per second: 341, episode reward: 14.000, mean reward:  1.000 [ 1.000,  1.000], mean action: 0.286 [0.000, 1.000],  loss: 1.111423, mae: 6.208560, mean_q: 12.134238, mean_eps: 0.937698\n",
      "  1430/20000: episode: 69, duration: 0.108s, episode steps:  38, steps per second: 352, episode reward: 38.000, mean reward:  1.000 [ 1.000,  1.000], mean action: 0.474 [0.000, 1.000],  loss: 1.230470, mae: 6.537339, mean_q: 12.767521, mean_eps: 0.936528\n",
      "  1444/20000: episode: 70, duration: 0.045s, episode steps:  14, steps per second: 313, episode reward: 14.000, mean reward:  1.000 [ 1.000,  1.000], mean action: 0.643 [0.000, 1.000],  loss: 1.307682, mae: 6.613872, mean_q: 12.902876, mean_eps: 0.935358\n",
      "  1457/20000: episode: 71, duration: 0.040s, episode steps:  13, steps per second: 323, episode reward: 13.000, mean reward:  1.000 [ 1.000,  1.000], mean action: 0.769 [0.000, 1.000],  loss: 1.219339, mae: 6.751721, mean_q: 13.169421, mean_eps: 0.934750\n",
      "  1479/20000: episode: 72, duration: 0.062s, episode steps:  22, steps per second: 353, episode reward: 22.000, mean reward:  1.000 [ 1.000,  1.000], mean action: 0.500 [0.000, 1.000],  loss: 1.184212, mae: 6.683970, mean_q: 13.009932, mean_eps: 0.933962\n",
      "  1506/20000: episode: 73, duration: 0.087s, episode steps:  27, steps per second: 311, episode reward: 27.000, mean reward:  1.000 [ 1.000,  1.000], mean action: 0.519 [0.000, 1.000],  loss: 1.123636, mae: 6.780149, mean_q: 13.162950, mean_eps: 0.932860\n",
      "  1560/20000: episode: 74, duration: 0.150s, episode steps:  54, steps per second: 361, episode reward: 54.000, mean reward:  1.000 [ 1.000,  1.000], mean action: 0.611 [0.000, 1.000],  loss: 1.763877, mae: 7.200957, mean_q: 13.970756, mean_eps: 0.931038\n",
      "  1573/20000: episode: 75, duration: 0.038s, episode steps:  13, steps per second: 345, episode reward: 13.000, mean reward:  1.000 [ 1.000,  1.000], mean action: 0.385 [0.000, 1.000],  loss: 1.970395, mae: 7.082624, mean_q: 13.709128, mean_eps: 0.929530\n",
      "  1609/20000: episode: 76, duration: 0.104s, episode steps:  36, steps per second: 346, episode reward: 36.000, mean reward:  1.000 [ 1.000,  1.000], mean action: 0.444 [0.000, 1.000],  loss: 1.933230, mae: 7.294012, mean_q: 13.990524, mean_eps: 0.928427\n",
      "  1625/20000: episode: 77, duration: 0.048s, episode steps:  16, steps per second: 335, episode reward: 16.000, mean reward:  1.000 [ 1.000,  1.000], mean action: 0.375 [0.000, 1.000],  loss: 0.929731, mae: 7.683335, mean_q: 15.163733, mean_eps: 0.927258\n",
      "  1650/20000: episode: 78, duration: 0.074s, episode steps:  25, steps per second: 340, episode reward: 25.000, mean reward:  1.000 [ 1.000,  1.000], mean action: 0.400 [0.000, 1.000],  loss: 2.014250, mae: 7.614161, mean_q: 14.802285, mean_eps: 0.926335\n",
      "  1669/20000: episode: 79, duration: 0.056s, episode steps:  19, steps per second: 339, episode reward: 19.000, mean reward:  1.000 [ 1.000,  1.000], mean action: 0.474 [0.000, 1.000],  loss: 1.392956, mae: 7.594824, mean_q: 14.916175, mean_eps: 0.925345\n",
      "  1690/20000: episode: 80, duration: 0.062s, episode steps:  21, steps per second: 338, episode reward: 21.000, mean reward:  1.000 [ 1.000,  1.000], mean action: 0.524 [0.000, 1.000],  loss: 1.854285, mae: 7.592173, mean_q: 14.852668, mean_eps: 0.924445\n",
      "  1710/20000: episode: 81, duration: 0.061s, episode steps:  20, steps per second: 326, episode reward: 20.000, mean reward:  1.000 [ 1.000,  1.000], mean action: 0.550 [0.000, 1.000],  loss: 2.130979, mae: 7.703664, mean_q: 14.837636, mean_eps: 0.923523\n",
      "  1718/20000: episode: 82, duration: 0.026s, episode steps:   8, steps per second: 313, episode reward:  8.000, mean reward:  1.000 [ 1.000,  1.000], mean action: 1.000 [1.000, 1.000],  loss: 1.447336, mae: 8.031345, mean_q: 15.799931, mean_eps: 0.922893\n",
      "  1740/20000: episode: 83, duration: 0.065s, episode steps:  22, steps per second: 339, episode reward: 22.000, mean reward:  1.000 [ 1.000,  1.000], mean action: 0.364 [0.000, 1.000],  loss: 1.377624, mae: 7.966672, mean_q: 15.664949, mean_eps: 0.922218\n",
      "  1751/20000: episode: 84, duration: 0.035s, episode steps:  11, steps per second: 315, episode reward: 11.000, mean reward:  1.000 [ 1.000,  1.000], mean action: 0.818 [0.000, 1.000],  loss: 1.553008, mae: 7.853438, mean_q: 15.535553, mean_eps: 0.921475\n",
      "  1776/20000: episode: 85, duration: 0.082s, episode steps:  25, steps per second: 304, episode reward: 25.000, mean reward:  1.000 [ 1.000,  1.000], mean action: 0.560 [0.000, 1.000],  loss: 2.236077, mae: 7.941645, mean_q: 15.535202, mean_eps: 0.920665\n",
      "  1809/20000: episode: 86, duration: 0.093s, episode steps:  33, steps per second: 354, episode reward: 33.000, mean reward:  1.000 [ 1.000,  1.000], mean action: 0.485 [0.000, 1.000],  loss: 2.187589, mae: 8.012082, mean_q: 15.539447, mean_eps: 0.919360\n",
      "  1833/20000: episode: 87, duration: 0.069s, episode steps:  24, steps per second: 347, episode reward: 24.000, mean reward:  1.000 [ 1.000,  1.000], mean action: 0.375 [0.000, 1.000],  loss: 1.500037, mae: 8.347374, mean_q: 16.485483, mean_eps: 0.918077\n",
      "  1918/20000: episode: 88, duration: 0.238s, episode steps:  85, steps per second: 357, episode reward: 85.000, mean reward:  1.000 [ 1.000,  1.000], mean action: 0.482 [0.000, 1.000],  loss: 2.273470, mae: 8.356195, mean_q: 16.257606, mean_eps: 0.915625\n",
      "  1935/20000: episode: 89, duration: 0.048s, episode steps:  17, steps per second: 355, episode reward: 17.000, mean reward:  1.000 [ 1.000,  1.000], mean action: 0.588 [0.000, 1.000],  loss: 1.956581, mae: 8.744656, mean_q: 17.156002, mean_eps: 0.913330\n",
      "  1975/20000: episode: 90, duration: 0.114s, episode steps:  40, steps per second: 352, episode reward: 40.000, mean reward:  1.000 [ 1.000,  1.000], mean action: 0.475 [0.000, 1.000],  loss: 2.540007, mae: 8.639255, mean_q: 16.890385, mean_eps: 0.912048\n",
      "  2055/20000: episode: 91, duration: 0.227s, episode steps:  80, steps per second: 353, episode reward: 80.000, mean reward:  1.000 [ 1.000,  1.000], mean action: 0.487 [0.000, 1.000],  loss: 2.247508, mae: 8.894482, mean_q: 17.500335, mean_eps: 0.909347\n",
      "  2113/20000: episode: 92, duration: 0.161s, episode steps:  58, steps per second: 361, episode reward: 58.000, mean reward:  1.000 [ 1.000,  1.000], mean action: 0.517 [0.000, 1.000],  loss: 2.384277, mae: 9.089187, mean_q: 17.866468, mean_eps: 0.906243\n",
      "  2124/20000: episode: 93, duration: 0.033s, episode steps:  11, steps per second: 336, episode reward: 11.000, mean reward:  1.000 [ 1.000,  1.000], mean action: 0.636 [0.000, 1.000],  loss: 1.335418, mae: 9.160487, mean_q: 18.211392, mean_eps: 0.904690\n",
      "  2152/20000: episode: 94, duration: 0.081s, episode steps:  28, steps per second: 348, episode reward: 28.000, mean reward:  1.000 [ 1.000,  1.000], mean action: 0.464 [0.000, 1.000],  loss: 2.540045, mae: 9.349444, mean_q: 18.362353, mean_eps: 0.903812\n",
      "  2165/20000: episode: 95, duration: 0.043s, episode steps:  13, steps per second: 304, episode reward: 13.000, mean reward:  1.000 [ 1.000,  1.000], mean action: 0.385 [0.000, 1.000],  loss: 2.263126, mae: 9.399213, mean_q: 18.571029, mean_eps: 0.902890\n",
      "  2183/20000: episode: 96, duration: 0.057s, episode steps:  18, steps per second: 317, episode reward: 18.000, mean reward:  1.000 [ 1.000,  1.000], mean action: 0.556 [0.000, 1.000],  loss: 2.060558, mae: 9.265224, mean_q: 18.208219, mean_eps: 0.902192\n",
      "  2203/20000: episode: 97, duration: 0.061s, episode steps:  20, steps per second: 326, episode reward: 20.000, mean reward:  1.000 [ 1.000,  1.000], mean action: 0.600 [0.000, 1.000],  loss: 2.118562, mae: 9.299198, mean_q: 18.381314, mean_eps: 0.901338\n",
      "  2219/20000: episode: 98, duration: 0.047s, episode steps:  16, steps per second: 340, episode reward: 16.000, mean reward:  1.000 [ 1.000,  1.000], mean action: 0.438 [0.000, 1.000],  loss: 2.126010, mae: 9.676043, mean_q: 19.096264, mean_eps: 0.900527\n",
      "  2254/20000: episode: 99, duration: 0.103s, episode steps:  35, steps per second: 339, episode reward: 35.000, mean reward:  1.000 [ 1.000,  1.000], mean action: 0.514 [0.000, 1.000],  loss: 1.974284, mae: 9.577867, mean_q: 19.069073, mean_eps: 0.899380\n",
      "  2295/20000: episode: 100, duration: 0.124s, episode steps:  41, steps per second: 331, episode reward: 41.000, mean reward:  1.000 [ 1.000,  1.000], mean action: 0.537 [0.000, 1.000],  loss: 1.780173, mae: 9.735838, mean_q: 19.381289, mean_eps: 0.897670\n",
      "  2315/20000: episode: 101, duration: 0.058s, episode steps:  20, steps per second: 345, episode reward: 20.000, mean reward:  1.000 [ 1.000,  1.000], mean action: 0.500 [0.000, 1.000],  loss: 2.246562, mae: 9.820401, mean_q: 19.385697, mean_eps: 0.896297\n",
      "  2364/20000: episode: 102, duration: 0.149s, episode steps:  49, steps per second: 329, episode reward: 49.000, mean reward:  1.000 [ 1.000,  1.000], mean action: 0.490 [0.000, 1.000],  loss: 2.350334, mae: 9.970480, mean_q: 19.795415, mean_eps: 0.894745\n",
      "  2394/20000: episode: 103, duration: 0.089s, episode steps:  30, steps per second: 336, episode reward: 30.000, mean reward:  1.000 [ 1.000,  1.000], mean action: 0.467 [0.000, 1.000],  loss: 2.322018, mae: 9.990713, mean_q: 19.826901, mean_eps: 0.892968\n",
      "  2434/20000: episode: 104, duration: 0.156s, episode steps:  40, steps per second: 256, episode reward: 40.000, mean reward:  1.000 [ 1.000,  1.000], mean action: 0.575 [0.000, 1.000],  loss: 1.917948, mae: 10.381690, mean_q: 20.644295, mean_eps: 0.891392\n",
      "  2470/20000: episode: 105, duration: 0.110s, episode steps:  36, steps per second: 327, episode reward: 36.000, mean reward:  1.000 [ 1.000,  1.000], mean action: 0.444 [0.000, 1.000],  loss: 2.871890, mae: 10.376432, mean_q: 20.541384, mean_eps: 0.889683\n",
      "  2514/20000: episode: 106, duration: 0.126s, episode steps:  44, steps per second: 349, episode reward: 44.000, mean reward:  1.000 [ 1.000,  1.000], mean action: 0.523 [0.000, 1.000],  loss: 2.591809, mae: 10.520865, mean_q: 20.871444, mean_eps: 0.887883\n",
      "  2549/20000: episode: 107, duration: 0.098s, episode steps:  35, steps per second: 356, episode reward: 35.000, mean reward:  1.000 [ 1.000,  1.000], mean action: 0.457 [0.000, 1.000],  loss: 1.653006, mae: 10.666476, mean_q: 21.495724, mean_eps: 0.886105\n",
      "  2587/20000: episode: 108, duration: 0.104s, episode steps:  38, steps per second: 365, episode reward: 38.000, mean reward:  1.000 [ 1.000,  1.000], mean action: 0.632 [0.000, 1.000],  loss: 1.828165, mae: 10.635687, mean_q: 21.390990, mean_eps: 0.884463\n",
      "  2606/20000: episode: 109, duration: 0.057s, episode steps:  19, steps per second: 334, episode reward: 19.000, mean reward:  1.000 [ 1.000,  1.000], mean action: 0.526 [0.000, 1.000],  loss: 1.998444, mae: 10.839313, mean_q: 21.671131, mean_eps: 0.883180\n",
      "  2618/20000: episode: 110, duration: 0.036s, episode steps:  12, steps per second: 329, episode reward: 12.000, mean reward:  1.000 [ 1.000,  1.000], mean action: 0.583 [0.000, 1.000],  loss: 2.388527, mae: 11.374453, mean_q: 22.646395, mean_eps: 0.882482\n",
      "  2648/20000: episode: 111, duration: 0.084s, episode steps:  30, steps per second: 357, episode reward: 30.000, mean reward:  1.000 [ 1.000,  1.000], mean action: 0.500 [0.000, 1.000],  loss: 1.878645, mae: 11.137761, mean_q: 22.292461, mean_eps: 0.881537\n",
      "  2712/20000: episode: 112, duration: 0.185s, episode steps:  64, steps per second: 345, episode reward: 64.000, mean reward:  1.000 [ 1.000,  1.000], mean action: 0.500 [0.000, 1.000],  loss: 2.664504, mae: 11.024491, mean_q: 21.929731, mean_eps: 0.879422\n",
      "  2735/20000: episode: 113, duration: 0.070s, episode steps:  23, steps per second: 330, episode reward: 23.000, mean reward:  1.000 [ 1.000,  1.000], mean action: 0.565 [0.000, 1.000],  loss: 2.221651, mae: 11.457480, mean_q: 22.894596, mean_eps: 0.877465\n",
      "  2814/20000: episode: 114, duration: 0.241s, episode steps:  79, steps per second: 327, episode reward: 79.000, mean reward:  1.000 [ 1.000,  1.000], mean action: 0.506 [0.000, 1.000],  loss: 2.495021, mae: 11.516634, mean_q: 22.960701, mean_eps: 0.875170\n",
      "  2834/20000: episode: 115, duration: 0.062s, episode steps:  20, steps per second: 322, episode reward: 20.000, mean reward:  1.000 [ 1.000,  1.000], mean action: 0.500 [0.000, 1.000],  loss: 2.556435, mae: 11.804873, mean_q: 23.549912, mean_eps: 0.872942\n",
      "  2862/20000: episode: 116, duration: 0.085s, episode steps:  28, steps per second: 328, episode reward: 28.000, mean reward:  1.000 [ 1.000,  1.000], mean action: 0.429 [0.000, 1.000],  loss: 3.271907, mae: 11.810956, mean_q: 23.631120, mean_eps: 0.871863\n",
      "  2880/20000: episode: 117, duration: 0.054s, episode steps:  18, steps per second: 334, episode reward: 18.000, mean reward:  1.000 [ 1.000,  1.000], mean action: 0.444 [0.000, 1.000],  loss: 2.121575, mae: 12.023315, mean_q: 24.229135, mean_eps: 0.870827\n",
      "  2936/20000: episode: 118, duration: 0.171s, episode steps:  56, steps per second: 327, episode reward: 56.000, mean reward:  1.000 [ 1.000,  1.000], mean action: 0.482 [0.000, 1.000],  loss: 3.026694, mae: 12.006189, mean_q: 24.047790, mean_eps: 0.869162\n",
      "  2966/20000: episode: 119, duration: 0.091s, episode steps:  30, steps per second: 331, episode reward: 30.000, mean reward:  1.000 [ 1.000,  1.000], mean action: 0.467 [0.000, 1.000],  loss: 2.844545, mae: 12.237928, mean_q: 24.563714, mean_eps: 0.867228\n",
      "  2985/20000: episode: 120, duration: 0.056s, episode steps:  19, steps per second: 337, episode reward: 19.000, mean reward:  1.000 [ 1.000,  1.000], mean action: 0.368 [0.000, 1.000],  loss: 2.330470, mae: 12.265880, mean_q: 24.699344, mean_eps: 0.866125\n",
      "  3005/20000: episode: 121, duration: 0.064s, episode steps:  20, steps per second: 311, episode reward: 20.000, mean reward:  1.000 [ 1.000,  1.000], mean action: 0.700 [0.000, 1.000],  loss: 1.274800, mae: 12.244520, mean_q: 24.816987, mean_eps: 0.865247\n",
      "  3069/20000: episode: 122, duration: 0.185s, episode steps:  64, steps per second: 346, episode reward: 64.000, mean reward:  1.000 [ 1.000,  1.000], mean action: 0.484 [0.000, 1.000],  loss: 2.834362, mae: 12.669630, mean_q: 25.479957, mean_eps: 0.863357\n",
      "  3103/20000: episode: 123, duration: 0.101s, episode steps:  34, steps per second: 336, episode reward: 34.000, mean reward:  1.000 [ 1.000,  1.000], mean action: 0.441 [0.000, 1.000],  loss: 2.674751, mae: 12.606442, mean_q: 25.335203, mean_eps: 0.861153\n",
      "  3152/20000: episode: 124, duration: 0.155s, episode steps:  49, steps per second: 316, episode reward: 49.000, mean reward:  1.000 [ 1.000,  1.000], mean action: 0.490 [0.000, 1.000],  loss: 2.480511, mae: 13.079219, mean_q: 26.285440, mean_eps: 0.859285\n",
      "  3186/20000: episode: 125, duration: 0.109s, episode steps:  34, steps per second: 312, episode reward: 34.000, mean reward:  1.000 [ 1.000,  1.000], mean action: 0.353 [0.000, 1.000],  loss: 2.098090, mae: 13.067716, mean_q: 26.381055, mean_eps: 0.857417\n",
      "  3240/20000: episode: 126, duration: 0.168s, episode steps:  54, steps per second: 321, episode reward: 54.000, mean reward:  1.000 [ 1.000,  1.000], mean action: 0.463 [0.000, 1.000],  loss: 2.484981, mae: 13.349540, mean_q: 26.960816, mean_eps: 0.855437\n",
      "  3290/20000: episode: 127, duration: 0.161s, episode steps:  50, steps per second: 310, episode reward: 50.000, mean reward:  1.000 [ 1.000,  1.000], mean action: 0.440 [0.000, 1.000],  loss: 2.664792, mae: 13.599917, mean_q: 27.398695, mean_eps: 0.853098\n",
      "  3305/20000: episode: 128, duration: 0.052s, episode steps:  15, steps per second: 291, episode reward: 15.000, mean reward:  1.000 [ 1.000,  1.000], mean action: 0.600 [0.000, 1.000],  loss: 2.366442, mae: 13.679439, mean_q: 27.483871, mean_eps: 0.851635\n",
      "  3321/20000: episode: 129, duration: 0.057s, episode steps:  16, steps per second: 283, episode reward: 16.000, mean reward:  1.000 [ 1.000,  1.000], mean action: 0.312 [0.000, 1.000],  loss: 4.037730, mae: 13.805025, mean_q: 27.624466, mean_eps: 0.850937\n",
      "  3349/20000: episode: 130, duration: 0.095s, episode steps:  28, steps per second: 295, episode reward: 28.000, mean reward:  1.000 [ 1.000,  1.000], mean action: 0.536 [0.000, 1.000],  loss: 1.959759, mae: 14.012755, mean_q: 28.293070, mean_eps: 0.849948\n",
      "  3377/20000: episode: 131, duration: 0.093s, episode steps:  28, steps per second: 300, episode reward: 28.000, mean reward:  1.000 [ 1.000,  1.000], mean action: 0.393 [0.000, 1.000],  loss: 3.202541, mae: 13.652878, mean_q: 27.695960, mean_eps: 0.848687\n",
      "  3386/20000: episode: 132, duration: 0.032s, episode steps:   9, steps per second: 282, episode reward:  9.000, mean reward:  1.000 [ 1.000,  1.000], mean action: 0.778 [0.000, 1.000],  loss: 1.743831, mae: 13.612073, mean_q: 27.651830, mean_eps: 0.847855\n",
      "  3446/20000: episode: 133, duration: 0.192s, episode steps:  60, steps per second: 313, episode reward: 60.000, mean reward:  1.000 [ 1.000,  1.000], mean action: 0.433 [0.000, 1.000],  loss: 2.335932, mae: 14.259662, mean_q: 28.937461, mean_eps: 0.846302\n",
      "  3469/20000: episode: 134, duration: 0.079s, episode steps:  23, steps per second: 291, episode reward: 23.000, mean reward:  1.000 [ 1.000,  1.000], mean action: 0.391 [0.000, 1.000],  loss: 2.538564, mae: 14.319230, mean_q: 29.062417, mean_eps: 0.844435\n",
      "  3488/20000: episode: 135, duration: 0.063s, episode steps:  19, steps per second: 301, episode reward: 19.000, mean reward:  1.000 [ 1.000,  1.000], mean action: 0.579 [0.000, 1.000],  loss: 2.499193, mae: 14.281590, mean_q: 29.142135, mean_eps: 0.843490\n",
      "  3518/20000: episode: 136, duration: 0.102s, episode steps:  30, steps per second: 295, episode reward: 30.000, mean reward:  1.000 [ 1.000,  1.000], mean action: 0.500 [0.000, 1.000],  loss: 3.005713, mae: 14.585963, mean_q: 29.535615, mean_eps: 0.842387\n",
      "  3668/20000: episode: 137, duration: 0.471s, episode steps: 150, steps per second: 318, episode reward: 150.000, mean reward:  1.000 [ 1.000,  1.000], mean action: 0.500 [0.000, 1.000],  loss: 2.709137, mae: 14.853655, mean_q: 30.086441, mean_eps: 0.838338\n",
      "  3683/20000: episode: 138, duration: 0.048s, episode steps:  15, steps per second: 310, episode reward: 15.000, mean reward:  1.000 [ 1.000,  1.000], mean action: 0.333 [0.000, 1.000],  loss: 3.014667, mae: 15.148919, mean_q: 30.722148, mean_eps: 0.834625\n",
      "  3713/20000: episode: 139, duration: 0.096s, episode steps:  30, steps per second: 313, episode reward: 30.000, mean reward:  1.000 [ 1.000,  1.000], mean action: 0.500 [0.000, 1.000],  loss: 3.702877, mae: 15.273930, mean_q: 30.791428, mean_eps: 0.833612\n",
      "  3762/20000: episode: 140, duration: 0.140s, episode steps:  49, steps per second: 349, episode reward: 49.000, mean reward:  1.000 [ 1.000,  1.000], mean action: 0.510 [0.000, 1.000],  loss: 1.983218, mae: 15.487158, mean_q: 31.540415, mean_eps: 0.831835\n",
      "  3805/20000: episode: 141, duration: 0.123s, episode steps:  43, steps per second: 350, episode reward: 43.000, mean reward:  1.000 [ 1.000,  1.000], mean action: 0.488 [0.000, 1.000],  loss: 2.467843, mae: 15.331957, mean_q: 31.358279, mean_eps: 0.829765\n",
      "  3885/20000: episode: 142, duration: 0.237s, episode steps:  80, steps per second: 338, episode reward: 80.000, mean reward:  1.000 [ 1.000,  1.000], mean action: 0.512 [0.000, 1.000],  loss: 2.407659, mae: 15.873778, mean_q: 32.360714, mean_eps: 0.826998\n",
      "  3902/20000: episode: 143, duration: 0.050s, episode steps:  17, steps per second: 339, episode reward: 17.000, mean reward:  1.000 [ 1.000,  1.000], mean action: 0.353 [0.000, 1.000],  loss: 2.299841, mae: 16.052901, mean_q: 32.628651, mean_eps: 0.824815\n",
      "  3923/20000: episode: 144, duration: 0.061s, episode steps:  21, steps per second: 344, episode reward: 21.000, mean reward:  1.000 [ 1.000,  1.000], mean action: 0.524 [0.000, 1.000],  loss: 3.341225, mae: 16.071648, mean_q: 32.548007, mean_eps: 0.823960\n",
      "  4014/20000: episode: 145, duration: 0.263s, episode steps:  91, steps per second: 345, episode reward: 91.000, mean reward:  1.000 [ 1.000,  1.000], mean action: 0.516 [0.000, 1.000],  loss: 2.765795, mae: 16.273385, mean_q: 33.188450, mean_eps: 0.821440\n",
      "  4039/20000: episode: 146, duration: 0.072s, episode steps:  25, steps per second: 350, episode reward: 25.000, mean reward:  1.000 [ 1.000,  1.000], mean action: 0.480 [0.000, 1.000],  loss: 2.247592, mae: 16.676679, mean_q: 34.117778, mean_eps: 0.818830\n",
      "  4055/20000: episode: 147, duration: 0.047s, episode steps:  16, steps per second: 341, episode reward: 16.000, mean reward:  1.000 [ 1.000,  1.000], mean action: 0.438 [0.000, 1.000],  loss: 2.753502, mae: 16.626261, mean_q: 33.920668, mean_eps: 0.817908\n",
      "  4078/20000: episode: 148, duration: 0.066s, episode steps:  23, steps per second: 348, episode reward: 23.000, mean reward:  1.000 [ 1.000,  1.000], mean action: 0.565 [0.000, 1.000],  loss: 2.745676, mae: 16.665781, mean_q: 34.038093, mean_eps: 0.817030\n",
      "  4092/20000: episode: 149, duration: 0.041s, episode steps:  14, steps per second: 341, episode reward: 14.000, mean reward:  1.000 [ 1.000,  1.000], mean action: 0.571 [0.000, 1.000],  loss: 3.818867, mae: 16.640812, mean_q: 33.878806, mean_eps: 0.816198\n",
      "  4106/20000: episode: 150, duration: 0.042s, episode steps:  14, steps per second: 332, episode reward: 14.000, mean reward:  1.000 [ 1.000,  1.000], mean action: 0.357 [0.000, 1.000],  loss: 1.811518, mae: 17.043134, mean_q: 34.750229, mean_eps: 0.815568\n",
      "  4143/20000: episode: 151, duration: 0.103s, episode steps:  37, steps per second: 360, episode reward: 37.000, mean reward:  1.000 [ 1.000,  1.000], mean action: 0.514 [0.000, 1.000],  loss: 3.143799, mae: 17.445901, mean_q: 35.538063, mean_eps: 0.814420\n",
      "  4202/20000: episode: 152, duration: 0.165s, episode steps:  59, steps per second: 358, episode reward: 59.000, mean reward:  1.000 [ 1.000,  1.000], mean action: 0.542 [0.000, 1.000],  loss: 3.279377, mae: 17.375209, mean_q: 35.439707, mean_eps: 0.812260\n",
      "  4217/20000: episode: 153, duration: 0.044s, episode steps:  15, steps per second: 340, episode reward: 15.000, mean reward:  1.000 [ 1.000,  1.000], mean action: 0.333 [0.000, 1.000],  loss: 3.147196, mae: 17.722635, mean_q: 36.037746, mean_eps: 0.810595\n",
      "  4303/20000: episode: 154, duration: 0.244s, episode steps:  86, steps per second: 353, episode reward: 86.000, mean reward:  1.000 [ 1.000,  1.000], mean action: 0.488 [0.000, 1.000],  loss: 2.862813, mae: 17.788538, mean_q: 36.327484, mean_eps: 0.808322\n",
      "  4333/20000: episode: 155, duration: 0.083s, episode steps:  30, steps per second: 360, episode reward: 30.000, mean reward:  1.000 [ 1.000,  1.000], mean action: 0.533 [0.000, 1.000],  loss: 4.261045, mae: 18.373650, mean_q: 37.250371, mean_eps: 0.805713\n",
      "  4358/20000: episode: 156, duration: 0.071s, episode steps:  25, steps per second: 351, episode reward: 25.000, mean reward:  1.000 [ 1.000,  1.000], mean action: 0.720 [0.000, 1.000],  loss: 3.213848, mae: 18.293604, mean_q: 37.305691, mean_eps: 0.804475\n",
      "  4439/20000: episode: 157, duration: 0.232s, episode steps:  81, steps per second: 349, episode reward: 81.000, mean reward:  1.000 [ 1.000,  1.000], mean action: 0.469 [0.000, 1.000],  loss: 3.086994, mae: 18.362519, mean_q: 37.525767, mean_eps: 0.802090\n",
      "  4462/20000: episode: 158, duration: 0.067s, episode steps:  23, steps per second: 343, episode reward: 23.000, mean reward:  1.000 [ 1.000,  1.000], mean action: 0.609 [0.000, 1.000],  loss: 2.995073, mae: 18.275060, mean_q: 37.375638, mean_eps: 0.799750\n",
      "  4494/20000: episode: 159, duration: 0.092s, episode steps:  32, steps per second: 348, episode reward: 32.000, mean reward:  1.000 [ 1.000,  1.000], mean action: 0.469 [0.000, 1.000],  loss: 2.878690, mae: 18.411177, mean_q: 37.655447, mean_eps: 0.798512\n",
      "  4551/20000: episode: 160, duration: 0.161s, episode steps:  57, steps per second: 354, episode reward: 57.000, mean reward:  1.000 [ 1.000,  1.000], mean action: 0.439 [0.000, 1.000],  loss: 3.632012, mae: 19.238851, mean_q: 39.301833, mean_eps: 0.796510\n",
      "  4584/20000: episode: 161, duration: 0.093s, episode steps:  33, steps per second: 354, episode reward: 33.000, mean reward:  1.000 [ 1.000,  1.000], mean action: 0.576 [0.000, 1.000],  loss: 3.576884, mae: 19.168035, mean_q: 39.411328, mean_eps: 0.794485\n",
      "  4612/20000: episode: 162, duration: 0.079s, episode steps:  28, steps per second: 354, episode reward: 28.000, mean reward:  1.000 [ 1.000,  1.000], mean action: 0.464 [0.000, 1.000],  loss: 2.829681, mae: 19.388642, mean_q: 39.800682, mean_eps: 0.793112\n",
      "  4661/20000: episode: 163, duration: 0.140s, episode steps:  49, steps per second: 349, episode reward: 49.000, mean reward:  1.000 [ 1.000,  1.000], mean action: 0.551 [0.000, 1.000],  loss: 3.138218, mae: 19.796065, mean_q: 40.705137, mean_eps: 0.791380\n",
      "  4712/20000: episode: 164, duration: 0.148s, episode steps:  51, steps per second: 345, episode reward: 51.000, mean reward:  1.000 [ 1.000,  1.000], mean action: 0.471 [0.000, 1.000],  loss: 3.026675, mae: 19.732008, mean_q: 40.535411, mean_eps: 0.789130\n",
      "  4725/20000: episode: 165, duration: 0.039s, episode steps:  13, steps per second: 330, episode reward: 13.000, mean reward:  1.000 [ 1.000,  1.000], mean action: 0.615 [0.000, 1.000],  loss: 1.842251, mae: 20.262391, mean_q: 41.660907, mean_eps: 0.787690\n",
      "  4750/20000: episode: 166, duration: 0.072s, episode steps:  25, steps per second: 345, episode reward: 25.000, mean reward:  1.000 [ 1.000,  1.000], mean action: 0.520 [0.000, 1.000],  loss: 3.934586, mae: 20.382734, mean_q: 41.817750, mean_eps: 0.786835\n",
      "  4765/20000: episode: 167, duration: 0.044s, episode steps:  15, steps per second: 343, episode reward: 15.000, mean reward:  1.000 [ 1.000,  1.000], mean action: 0.600 [0.000, 1.000],  loss: 2.152965, mae: 20.496192, mean_q: 42.176207, mean_eps: 0.785935\n",
      "  4795/20000: episode: 168, duration: 0.083s, episode steps:  30, steps per second: 359, episode reward: 30.000, mean reward:  1.000 [ 1.000,  1.000], mean action: 0.533 [0.000, 1.000],  loss: 4.249199, mae: 20.568516, mean_q: 41.953483, mean_eps: 0.784922\n",
      "  4927/20000: episode: 169, duration: 0.377s, episode steps: 132, steps per second: 350, episode reward: 132.000, mean reward:  1.000 [ 1.000,  1.000], mean action: 0.508 [0.000, 1.000],  loss: 3.926246, mae: 20.632362, mean_q: 42.321295, mean_eps: 0.781277\n",
      "  4969/20000: episode: 170, duration: 0.132s, episode steps:  42, steps per second: 318, episode reward: 42.000, mean reward:  1.000 [ 1.000,  1.000], mean action: 0.548 [0.000, 1.000],  loss: 4.133013, mae: 21.426128, mean_q: 44.015518, mean_eps: 0.777363\n",
      "  5012/20000: episode: 171, duration: 0.121s, episode steps:  43, steps per second: 354, episode reward: 43.000, mean reward:  1.000 [ 1.000,  1.000], mean action: 0.488 [0.000, 1.000],  loss: 4.202761, mae: 21.304354, mean_q: 43.785178, mean_eps: 0.775450\n",
      "  5026/20000: episode: 172, duration: 0.041s, episode steps:  14, steps per second: 339, episode reward: 14.000, mean reward:  1.000 [ 1.000,  1.000], mean action: 0.643 [0.000, 1.000],  loss: 5.843449, mae: 22.249696, mean_q: 45.420974, mean_eps: 0.774168\n",
      "  5071/20000: episode: 173, duration: 0.129s, episode steps:  45, steps per second: 349, episode reward: 45.000, mean reward:  1.000 [ 1.000,  1.000], mean action: 0.622 [0.000, 1.000],  loss: 4.295055, mae: 22.172310, mean_q: 45.409084, mean_eps: 0.772840\n",
      "  5097/20000: episode: 174, duration: 0.078s, episode steps:  26, steps per second: 331, episode reward: 26.000, mean reward:  1.000 [ 1.000,  1.000], mean action: 0.462 [0.000, 1.000],  loss: 4.397592, mae: 21.722274, mean_q: 44.513590, mean_eps: 0.771242\n",
      "  5177/20000: episode: 175, duration: 0.242s, episode steps:  80, steps per second: 331, episode reward: 80.000, mean reward:  1.000 [ 1.000,  1.000], mean action: 0.512 [0.000, 1.000],  loss: 4.534120, mae: 22.397935, mean_q: 45.902448, mean_eps: 0.768857\n",
      "  5205/20000: episode: 176, duration: 0.091s, episode steps:  28, steps per second: 309, episode reward: 28.000, mean reward:  1.000 [ 1.000,  1.000], mean action: 0.643 [0.000, 1.000],  loss: 6.497720, mae: 22.385172, mean_q: 45.803096, mean_eps: 0.766428\n",
      "  5228/20000: episode: 177, duration: 0.069s, episode steps:  23, steps per second: 331, episode reward: 23.000, mean reward:  1.000 [ 1.000,  1.000], mean action: 0.478 [0.000, 1.000],  loss: 4.907084, mae: 22.742386, mean_q: 46.442943, mean_eps: 0.765280\n",
      "  5243/20000: episode: 178, duration: 0.050s, episode steps:  15, steps per second: 302, episode reward: 15.000, mean reward:  1.000 [ 1.000,  1.000], mean action: 0.333 [0.000, 1.000],  loss: 6.633529, mae: 23.194547, mean_q: 47.514494, mean_eps: 0.764425\n",
      "  5256/20000: episode: 179, duration: 0.043s, episode steps:  13, steps per second: 306, episode reward: 13.000, mean reward:  1.000 [ 1.000,  1.000], mean action: 0.538 [0.000, 1.000],  loss: 5.266872, mae: 22.144939, mean_q: 45.386610, mean_eps: 0.763795\n",
      "  5273/20000: episode: 180, duration: 0.055s, episode steps:  17, steps per second: 308, episode reward: 17.000, mean reward:  1.000 [ 1.000,  1.000], mean action: 0.471 [0.000, 1.000],  loss: 3.869276, mae: 23.031542, mean_q: 47.384528, mean_eps: 0.763120\n",
      "  5306/20000: episode: 181, duration: 0.113s, episode steps:  33, steps per second: 291, episode reward: 33.000, mean reward:  1.000 [ 1.000,  1.000], mean action: 0.485 [0.000, 1.000],  loss: 2.857825, mae: 22.731593, mean_q: 46.833850, mean_eps: 0.761995\n",
      "  5403/20000: episode: 182, duration: 0.284s, episode steps:  97, steps per second: 342, episode reward: 97.000, mean reward:  1.000 [ 1.000,  1.000], mean action: 0.526 [0.000, 1.000],  loss: 4.835066, mae: 23.488134, mean_q: 48.113340, mean_eps: 0.759070\n",
      "  5415/20000: episode: 183, duration: 0.037s, episode steps:  12, steps per second: 326, episode reward: 12.000, mean reward:  1.000 [ 1.000,  1.000], mean action: 0.333 [0.000, 1.000],  loss: 6.328635, mae: 24.555360, mean_q: 49.830021, mean_eps: 0.756617\n",
      "  5498/20000: episode: 184, duration: 0.234s, episode steps:  83, steps per second: 355, episode reward: 83.000, mean reward:  1.000 [ 1.000,  1.000], mean action: 0.482 [0.000, 1.000],  loss: 6.374820, mae: 24.341684, mean_q: 49.701822, mean_eps: 0.754480\n",
      "  5551/20000: episode: 185, duration: 0.150s, episode steps:  53, steps per second: 354, episode reward: 53.000, mean reward:  1.000 [ 1.000,  1.000], mean action: 0.528 [0.000, 1.000],  loss: 5.405536, mae: 24.485371, mean_q: 50.190108, mean_eps: 0.751420\n",
      "  5593/20000: episode: 186, duration: 0.120s, episode steps:  42, steps per second: 350, episode reward: 42.000, mean reward:  1.000 [ 1.000,  1.000], mean action: 0.405 [0.000, 1.000],  loss: 4.724933, mae: 24.595274, mean_q: 50.762167, mean_eps: 0.749282\n",
      "  5627/20000: episode: 187, duration: 0.097s, episode steps:  34, steps per second: 352, episode reward: 34.000, mean reward:  1.000 [ 1.000,  1.000], mean action: 0.500 [0.000, 1.000],  loss: 6.757603, mae: 24.973151, mean_q: 51.296773, mean_eps: 0.747572\n",
      "  5643/20000: episode: 188, duration: 0.046s, episode steps:  16, steps per second: 345, episode reward: 16.000, mean reward:  1.000 [ 1.000,  1.000], mean action: 0.375 [0.000, 1.000],  loss: 12.043569, mae: 25.220294, mean_q: 51.397661, mean_eps: 0.746447\n",
      "  5723/20000: episode: 189, duration: 0.252s, episode steps:  80, steps per second: 317, episode reward: 80.000, mean reward:  1.000 [ 1.000,  1.000], mean action: 0.487 [0.000, 1.000],  loss: 5.528866, mae: 25.536232, mean_q: 52.509828, mean_eps: 0.744287\n",
      "  5768/20000: episode: 190, duration: 0.152s, episode steps:  45, steps per second: 296, episode reward: 45.000, mean reward:  1.000 [ 1.000,  1.000], mean action: 0.556 [0.000, 1.000],  loss: 5.870995, mae: 25.555902, mean_q: 52.657109, mean_eps: 0.741475\n",
      "  5806/20000: episode: 191, duration: 0.177s, episode steps:  38, steps per second: 215, episode reward: 38.000, mean reward:  1.000 [ 1.000,  1.000], mean action: 0.474 [0.000, 1.000],  loss: 7.166818, mae: 25.475282, mean_q: 52.482922, mean_eps: 0.739608\n",
      "  5855/20000: episode: 192, duration: 0.161s, episode steps:  49, steps per second: 304, episode reward: 49.000, mean reward:  1.000 [ 1.000,  1.000], mean action: 0.531 [0.000, 1.000],  loss: 5.123453, mae: 26.231357, mean_q: 54.215113, mean_eps: 0.737650\n",
      "  5889/20000: episode: 193, duration: 0.116s, episode steps:  34, steps per second: 293, episode reward: 34.000, mean reward:  1.000 [ 1.000,  1.000], mean action: 0.412 [0.000, 1.000],  loss: 8.405928, mae: 26.169727, mean_q: 53.862662, mean_eps: 0.735783\n",
      "  5916/20000: episode: 194, duration: 0.093s, episode steps:  27, steps per second: 289, episode reward: 27.000, mean reward:  1.000 [ 1.000,  1.000], mean action: 0.556 [0.000, 1.000],  loss: 6.535360, mae: 26.582445, mean_q: 54.549127, mean_eps: 0.734410\n",
      "  5931/20000: episode: 195, duration: 0.049s, episode steps:  15, steps per second: 307, episode reward: 15.000, mean reward:  1.000 [ 1.000,  1.000], mean action: 0.533 [0.000, 1.000],  loss: 6.205710, mae: 26.915357, mean_q: 55.201865, mean_eps: 0.733465\n",
      "  5988/20000: episode: 196, duration: 0.173s, episode steps:  57, steps per second: 330, episode reward: 57.000, mean reward:  1.000 [ 1.000,  1.000], mean action: 0.526 [0.000, 1.000],  loss: 5.723152, mae: 26.951314, mean_q: 55.571758, mean_eps: 0.731845\n",
      "  6013/20000: episode: 197, duration: 0.080s, episode steps:  25, steps per second: 313, episode reward: 25.000, mean reward:  1.000 [ 1.000,  1.000], mean action: 0.480 [0.000, 1.000],  loss: 6.782030, mae: 26.984963, mean_q: 55.742572, mean_eps: 0.730000\n",
      "  6036/20000: episode: 198, duration: 0.071s, episode steps:  23, steps per second: 323, episode reward: 23.000, mean reward:  1.000 [ 1.000,  1.000], mean action: 0.565 [0.000, 1.000],  loss: 5.183718, mae: 27.817772, mean_q: 57.356920, mean_eps: 0.728920\n",
      "  6086/20000: episode: 199, duration: 0.150s, episode steps:  50, steps per second: 334, episode reward: 50.000, mean reward:  1.000 [ 1.000,  1.000], mean action: 0.580 [0.000, 1.000],  loss: 8.208109, mae: 27.154312, mean_q: 55.798351, mean_eps: 0.727277\n",
      "  6146/20000: episode: 200, duration: 0.171s, episode steps:  60, steps per second: 351, episode reward: 60.000, mean reward:  1.000 [ 1.000,  1.000], mean action: 0.550 [0.000, 1.000],  loss: 7.174112, mae: 27.583054, mean_q: 56.760966, mean_eps: 0.724803\n",
      "  6181/20000: episode: 201, duration: 0.102s, episode steps:  35, steps per second: 343, episode reward: 35.000, mean reward:  1.000 [ 1.000,  1.000], mean action: 0.514 [0.000, 1.000],  loss: 5.798839, mae: 28.208649, mean_q: 58.237106, mean_eps: 0.722665\n",
      "  6200/20000: episode: 202, duration: 0.055s, episode steps:  19, steps per second: 343, episode reward: 19.000, mean reward:  1.000 [ 1.000,  1.000], mean action: 0.526 [0.000, 1.000],  loss: 5.755867, mae: 28.075756, mean_q: 58.103172, mean_eps: 0.721450\n",
      "  6304/20000: episode: 203, duration: 0.293s, episode steps: 104, steps per second: 355, episode reward: 104.000, mean reward:  1.000 [ 1.000,  1.000], mean action: 0.500 [0.000, 1.000],  loss: 9.251724, mae: 28.850440, mean_q: 59.141909, mean_eps: 0.718683\n",
      "  6331/20000: episode: 204, duration: 0.084s, episode steps:  27, steps per second: 322, episode reward: 27.000, mean reward:  1.000 [ 1.000,  1.000], mean action: 0.481 [0.000, 1.000],  loss: 9.806120, mae: 29.424878, mean_q: 60.331815, mean_eps: 0.715735\n",
      "  6373/20000: episode: 205, duration: 0.132s, episode steps:  42, steps per second: 317, episode reward: 42.000, mean reward:  1.000 [ 1.000,  1.000], mean action: 0.476 [0.000, 1.000],  loss: 6.923961, mae: 29.714433, mean_q: 60.905048, mean_eps: 0.714182\n",
      "  6399/20000: episode: 206, duration: 0.079s, episode steps:  26, steps per second: 329, episode reward: 26.000, mean reward:  1.000 [ 1.000,  1.000], mean action: 0.423 [0.000, 1.000],  loss: 5.361715, mae: 30.183306, mean_q: 62.035004, mean_eps: 0.712653\n",
      "  6432/20000: episode: 207, duration: 0.101s, episode steps:  33, steps per second: 327, episode reward: 33.000, mean reward:  1.000 [ 1.000,  1.000], mean action: 0.485 [0.000, 1.000],  loss: 6.851914, mae: 30.145865, mean_q: 62.190988, mean_eps: 0.711325\n",
      "  6536/20000: episode: 208, duration: 0.308s, episode steps: 104, steps per second: 337, episode reward: 104.000, mean reward:  1.000 [ 1.000,  1.000], mean action: 0.519 [0.000, 1.000],  loss: 7.579864, mae: 30.490664, mean_q: 62.667133, mean_eps: 0.708242\n",
      "  6581/20000: episode: 209, duration: 0.126s, episode steps:  45, steps per second: 356, episode reward: 45.000, mean reward:  1.000 [ 1.000,  1.000], mean action: 0.467 [0.000, 1.000],  loss: 10.848022, mae: 31.560369, mean_q: 64.687215, mean_eps: 0.704890\n",
      "  6756/20000: episode: 210, duration: 0.483s, episode steps: 175, steps per second: 362, episode reward: 175.000, mean reward:  1.000 [ 1.000,  1.000], mean action: 0.537 [0.000, 1.000],  loss: 10.012093, mae: 31.888158, mean_q: 65.310859, mean_eps: 0.699940\n",
      "  6773/20000: episode: 211, duration: 0.052s, episode steps:  17, steps per second: 330, episode reward: 17.000, mean reward:  1.000 [ 1.000,  1.000], mean action: 0.471 [0.000, 1.000],  loss: 10.716058, mae: 32.543473, mean_q: 66.524991, mean_eps: 0.695620\n",
      "  6831/20000: episode: 212, duration: 0.163s, episode steps:  58, steps per second: 356, episode reward: 58.000, mean reward:  1.000 [ 1.000,  1.000], mean action: 0.517 [0.000, 1.000],  loss: 10.323598, mae: 32.728106, mean_q: 67.055964, mean_eps: 0.693932\n",
      "  6896/20000: episode: 213, duration: 0.185s, episode steps:  65, steps per second: 352, episode reward: 65.000, mean reward:  1.000 [ 1.000,  1.000], mean action: 0.523 [0.000, 1.000],  loss: 10.592086, mae: 33.088027, mean_q: 67.804060, mean_eps: 0.691165\n",
      "  7045/20000: episode: 214, duration: 0.420s, episode steps: 149, steps per second: 355, episode reward: 149.000, mean reward:  1.000 [ 1.000,  1.000], mean action: 0.477 [0.000, 1.000],  loss: 10.107909, mae: 33.793282, mean_q: 69.397028, mean_eps: 0.686350\n",
      "  7093/20000: episode: 215, duration: 0.139s, episode steps:  48, steps per second: 344, episode reward: 48.000, mean reward:  1.000 [ 1.000,  1.000], mean action: 0.521 [0.000, 1.000],  loss: 12.339833, mae: 34.048367, mean_q: 70.018665, mean_eps: 0.681917\n",
      "  7124/20000: episode: 216, duration: 0.091s, episode steps:  31, steps per second: 341, episode reward: 31.000, mean reward:  1.000 [ 1.000,  1.000], mean action: 0.484 [0.000, 1.000],  loss: 12.101782, mae: 34.922033, mean_q: 71.269693, mean_eps: 0.680140\n",
      "  7152/20000: episode: 217, duration: 0.080s, episode steps:  28, steps per second: 349, episode reward: 28.000, mean reward:  1.000 [ 1.000,  1.000], mean action: 0.607 [0.000, 1.000],  loss: 9.786167, mae: 35.158449, mean_q: 71.861365, mean_eps: 0.678812\n",
      "  7204/20000: episode: 218, duration: 0.150s, episode steps:  52, steps per second: 346, episode reward: 52.000, mean reward:  1.000 [ 1.000,  1.000], mean action: 0.462 [0.000, 1.000],  loss: 9.483929, mae: 35.235130, mean_q: 72.301818, mean_eps: 0.677013\n",
      "  7241/20000: episode: 219, duration: 0.106s, episode steps:  37, steps per second: 351, episode reward: 37.000, mean reward:  1.000 [ 1.000,  1.000], mean action: 0.459 [0.000, 1.000],  loss: 10.840860, mae: 36.369276, mean_q: 74.478696, mean_eps: 0.675010\n",
      "  7386/20000: episode: 220, duration: 0.419s, episode steps: 145, steps per second: 346, episode reward: 145.000, mean reward:  1.000 [ 1.000,  1.000], mean action: 0.510 [0.000, 1.000],  loss: 14.026058, mae: 36.377846, mean_q: 74.454855, mean_eps: 0.670915\n",
      "  7411/20000: episode: 221, duration: 0.072s, episode steps:  25, steps per second: 347, episode reward: 25.000, mean reward:  1.000 [ 1.000,  1.000], mean action: 0.520 [0.000, 1.000],  loss: 13.199009, mae: 36.832058, mean_q: 75.413010, mean_eps: 0.667090\n",
      "  7495/20000: episode: 222, duration: 0.239s, episode steps:  84, steps per second: 351, episode reward: 84.000, mean reward:  1.000 [ 1.000,  1.000], mean action: 0.476 [0.000, 1.000],  loss: 13.666165, mae: 37.531556, mean_q: 77.132093, mean_eps: 0.664638\n",
      "  7530/20000: episode: 223, duration: 0.100s, episode steps:  35, steps per second: 351, episode reward: 35.000, mean reward:  1.000 [ 1.000,  1.000], mean action: 0.571 [0.000, 1.000],  loss: 17.100717, mae: 38.909556, mean_q: 79.310211, mean_eps: 0.661960\n",
      "  7539/20000: episode: 224, duration: 0.029s, episode steps:   9, steps per second: 314, episode reward:  9.000, mean reward:  1.000 [ 1.000,  1.000], mean action: 0.778 [0.000, 1.000],  loss: 7.797734, mae: 38.983228, mean_q: 80.229585, mean_eps: 0.660970\n",
      "  7574/20000: episode: 225, duration: 0.102s, episode steps:  35, steps per second: 344, episode reward: 35.000, mean reward:  1.000 [ 1.000,  1.000], mean action: 0.543 [0.000, 1.000],  loss: 12.390080, mae: 39.159843, mean_q: 80.411302, mean_eps: 0.659980\n",
      "  7700/20000: episode: 226, duration: 0.354s, episode steps: 126, steps per second: 356, episode reward: 126.000, mean reward:  1.000 [ 1.000,  1.000], mean action: 0.516 [0.000, 1.000],  loss: 13.265143, mae: 39.445283, mean_q: 80.909946, mean_eps: 0.656357\n",
      "  7799/20000: episode: 227, duration: 0.274s, episode steps:  99, steps per second: 361, episode reward: 99.000, mean reward:  1.000 [ 1.000,  1.000], mean action: 0.515 [0.000, 1.000],  loss: 13.619643, mae: 40.080167, mean_q: 82.438372, mean_eps: 0.651295\n",
      "  7950/20000: episode: 228, duration: 0.422s, episode steps: 151, steps per second: 358, episode reward: 151.000, mean reward:  1.000 [ 1.000,  1.000], mean action: 0.503 [0.000, 1.000],  loss: 19.104061, mae: 41.486131, mean_q: 84.963188, mean_eps: 0.645670\n",
      "  7972/20000: episode: 229, duration: 0.063s, episode steps:  22, steps per second: 348, episode reward: 22.000, mean reward:  1.000 [ 1.000,  1.000], mean action: 0.591 [0.000, 1.000],  loss: 10.692739, mae: 42.859073, mean_q: 88.010142, mean_eps: 0.641777\n",
      "  8022/20000: episode: 230, duration: 0.141s, episode steps:  50, steps per second: 355, episode reward: 50.000, mean reward:  1.000 [ 1.000,  1.000], mean action: 0.480 [0.000, 1.000],  loss: 16.505143, mae: 42.830643, mean_q: 87.927042, mean_eps: 0.640157\n",
      "  8055/20000: episode: 231, duration: 0.093s, episode steps:  33, steps per second: 354, episode reward: 33.000, mean reward:  1.000 [ 1.000,  1.000], mean action: 0.576 [0.000, 1.000],  loss: 20.150762, mae: 43.515378, mean_q: 88.846739, mean_eps: 0.638290\n",
      "  8088/20000: episode: 232, duration: 0.095s, episode steps:  33, steps per second: 346, episode reward: 33.000, mean reward:  1.000 [ 1.000,  1.000], mean action: 0.515 [0.000, 1.000],  loss: 24.937534, mae: 42.189331, mean_q: 86.453492, mean_eps: 0.636805\n",
      "  8178/20000: episode: 233, duration: 0.256s, episode steps:  90, steps per second: 351, episode reward: 90.000, mean reward:  1.000 [ 1.000,  1.000], mean action: 0.511 [0.000, 1.000],  loss: 22.520608, mae: 44.119155, mean_q: 90.079086, mean_eps: 0.634038\n",
      "  8207/20000: episode: 234, duration: 0.085s, episode steps:  29, steps per second: 342, episode reward: 29.000, mean reward:  1.000 [ 1.000,  1.000], mean action: 0.517 [0.000, 1.000],  loss: 23.949159, mae: 44.169975, mean_q: 89.791298, mean_eps: 0.631360\n",
      "  8249/20000: episode: 235, duration: 0.127s, episode steps:  42, steps per second: 331, episode reward: 42.000, mean reward:  1.000 [ 1.000,  1.000], mean action: 0.476 [0.000, 1.000],  loss: 21.640787, mae: 43.895581, mean_q: 89.904845, mean_eps: 0.629763\n",
      "  8270/20000: episode: 236, duration: 0.063s, episode steps:  21, steps per second: 335, episode reward: 21.000, mean reward:  1.000 [ 1.000,  1.000], mean action: 0.524 [0.000, 1.000],  loss: 27.059490, mae: 44.253795, mean_q: 90.229911, mean_eps: 0.628345\n",
      "  8302/20000: episode: 237, duration: 0.090s, episode steps:  32, steps per second: 354, episode reward: 32.000, mean reward:  1.000 [ 1.000,  1.000], mean action: 0.500 [0.000, 1.000],  loss: 30.829047, mae: 45.025145, mean_q: 91.728049, mean_eps: 0.627153\n",
      "  8437/20000: episode: 238, duration: 0.377s, episode steps: 135, steps per second: 358, episode reward: 135.000, mean reward:  1.000 [ 1.000,  1.000], mean action: 0.533 [0.000, 1.000],  loss: 16.692552, mae: 44.926909, mean_q: 91.982534, mean_eps: 0.623395\n",
      "  8626/20000: episode: 239, duration: 0.532s, episode steps: 189, steps per second: 355, episode reward: 189.000, mean reward:  1.000 [ 1.000,  1.000], mean action: 0.513 [0.000, 1.000],  loss: 22.247539, mae: 46.075014, mean_q: 94.488970, mean_eps: 0.616105\n",
      "  8767/20000: episode: 240, duration: 0.413s, episode steps: 141, steps per second: 341, episode reward: 141.000, mean reward:  1.000 [ 1.000,  1.000], mean action: 0.489 [0.000, 1.000],  loss: 21.668544, mae: 47.149522, mean_q: 96.488815, mean_eps: 0.608680\n",
      "  8807/20000: episode: 241, duration: 0.118s, episode steps:  40, steps per second: 338, episode reward: 40.000, mean reward:  1.000 [ 1.000,  1.000], mean action: 0.500 [0.000, 1.000],  loss: 25.886849, mae: 48.118037, mean_q: 98.030381, mean_eps: 0.604607\n",
      "  8900/20000: episode: 242, duration: 0.262s, episode steps:  93, steps per second: 354, episode reward: 93.000, mean reward:  1.000 [ 1.000,  1.000], mean action: 0.441 [0.000, 1.000],  loss: 21.718486, mae: 48.458006, mean_q: 99.086832, mean_eps: 0.601615\n",
      "  9075/20000: episode: 243, duration: 0.497s, episode steps: 175, steps per second: 352, episode reward: 175.000, mean reward:  1.000 [ 1.000,  1.000], mean action: 0.514 [0.000, 1.000],  loss: 21.980451, mae: 49.662867, mean_q: 101.469178, mean_eps: 0.595585\n",
      "  9219/20000: episode: 244, duration: 0.405s, episode steps: 144, steps per second: 356, episode reward: 144.000, mean reward:  1.000 [ 1.000,  1.000], mean action: 0.514 [0.000, 1.000],  loss: 23.553390, mae: 50.102131, mean_q: 102.546273, mean_eps: 0.588407\n",
      "  9293/20000: episode: 245, duration: 0.247s, episode steps:  74, steps per second: 299, episode reward: 74.000, mean reward:  1.000 [ 1.000,  1.000], mean action: 0.541 [0.000, 1.000],  loss: 17.331910, mae: 50.464595, mean_q: 103.658170, mean_eps: 0.583502\n",
      "  9511/20000: episode: 246, duration: 0.719s, episode steps: 218, steps per second: 303, episode reward: 218.000, mean reward:  1.000 [ 1.000,  1.000], mean action: 0.523 [0.000, 1.000],  loss: 21.321029, mae: 51.855378, mean_q: 106.245609, mean_eps: 0.576933\n",
      "  9594/20000: episode: 247, duration: 0.231s, episode steps:  83, steps per second: 359, episode reward: 83.000, mean reward:  1.000 [ 1.000,  1.000], mean action: 0.494 [0.000, 1.000],  loss: 26.146453, mae: 52.588064, mean_q: 107.741499, mean_eps: 0.570160\n",
      "  9677/20000: episode: 248, duration: 0.236s, episode steps:  83, steps per second: 352, episode reward: 83.000, mean reward:  1.000 [ 1.000,  1.000], mean action: 0.470 [0.000, 1.000],  loss: 30.114002, mae: 53.290457, mean_q: 108.741575, mean_eps: 0.566425\n",
      "  9712/20000: episode: 249, duration: 0.102s, episode steps:  35, steps per second: 344, episode reward: 35.000, mean reward:  1.000 [ 1.000,  1.000], mean action: 0.429 [0.000, 1.000],  loss: 27.318679, mae: 53.072481, mean_q: 108.351311, mean_eps: 0.563770\n",
      "  9945/20000: episode: 250, duration: 0.652s, episode steps: 233, steps per second: 357, episode reward: 233.000, mean reward:  1.000 [ 1.000,  1.000], mean action: 0.515 [0.000, 1.000],  loss: 24.682232, mae: 53.772561, mean_q: 110.088001, mean_eps: 0.557740\n",
      " 10118/20000: episode: 251, duration: 0.481s, episode steps: 173, steps per second: 360, episode reward: 173.000, mean reward:  1.000 [ 1.000,  1.000], mean action: 0.497 [0.000, 1.000],  loss: 29.922176, mae: 54.642365, mean_q: 111.698091, mean_eps: 0.548605\n",
      " 10208/20000: episode: 252, duration: 0.249s, episode steps:  90, steps per second: 362, episode reward: 90.000, mean reward:  1.000 [ 1.000,  1.000], mean action: 0.489 [0.000, 1.000],  loss: 20.846784, mae: 54.949369, mean_q: 112.176140, mean_eps: 0.542687\n",
      " 10428/20000: episode: 253, duration: 0.600s, episode steps: 220, steps per second: 366, episode reward: 220.000, mean reward:  1.000 [ 1.000,  1.000], mean action: 0.523 [0.000, 1.000],  loss: 23.618840, mae: 55.715607, mean_q: 114.169787, mean_eps: 0.535713\n",
      " 10588/20000: episode: 254, duration: 0.568s, episode steps: 160, steps per second: 282, episode reward: 160.000, mean reward:  1.000 [ 1.000,  1.000], mean action: 0.506 [0.000, 1.000],  loss: 26.029784, mae: 57.146889, mean_q: 117.306950, mean_eps: 0.527162\n",
      " 10886/20000: episode: 255, duration: 0.826s, episode steps: 298, steps per second: 361, episode reward: 298.000, mean reward:  1.000 [ 1.000,  1.000], mean action: 0.500 [0.000, 1.000],  loss: 24.746349, mae: 58.725723, mean_q: 120.275842, mean_eps: 0.516857\n",
      " 11017/20000: episode: 256, duration: 0.390s, episode steps: 131, steps per second: 336, episode reward: 131.000, mean reward:  1.000 [ 1.000,  1.000], mean action: 0.489 [0.000, 1.000],  loss: 23.931878, mae: 59.772495, mean_q: 122.534955, mean_eps: 0.507205\n",
      " 11113/20000: episode: 257, duration: 0.268s, episode steps:  96, steps per second: 359, episode reward: 96.000, mean reward:  1.000 [ 1.000,  1.000], mean action: 0.479 [0.000, 1.000],  loss: 32.440497, mae: 60.652144, mean_q: 124.355708, mean_eps: 0.502097\n",
      " 11168/20000: episode: 258, duration: 0.153s, episode steps:  55, steps per second: 360, episode reward: 55.000, mean reward:  1.000 [ 1.000,  1.000], mean action: 0.473 [0.000, 1.000],  loss: 29.709252, mae: 61.509158, mean_q: 126.086907, mean_eps: 0.498700\n",
      " 11217/20000: episode: 259, duration: 0.139s, episode steps:  49, steps per second: 353, episode reward: 49.000, mean reward:  1.000 [ 1.000,  1.000], mean action: 0.469 [0.000, 1.000],  loss: 18.083303, mae: 61.860847, mean_q: 127.431761, mean_eps: 0.496360\n",
      " 11240/20000: episode: 260, duration: 0.065s, episode steps:  23, steps per second: 356, episode reward: 23.000, mean reward:  1.000 [ 1.000,  1.000], mean action: 0.435 [0.000, 1.000],  loss: 27.330639, mae: 62.126295, mean_q: 127.670763, mean_eps: 0.494740\n",
      " 11423/20000: episode: 261, duration: 0.506s, episode steps: 183, steps per second: 362, episode reward: 183.000, mean reward:  1.000 [ 1.000,  1.000], mean action: 0.481 [0.000, 1.000],  loss: 26.235429, mae: 62.590543, mean_q: 128.319704, mean_eps: 0.490105\n",
      " 11640/20000: episode: 262, duration: 0.596s, episode steps: 217, steps per second: 364, episode reward: 217.000, mean reward:  1.000 [ 1.000,  1.000], mean action: 0.498 [0.000, 1.000],  loss: 36.860439, mae: 63.624498, mean_q: 129.805651, mean_eps: 0.481105\n",
      " 11666/20000: episode: 263, duration: 0.074s, episode steps:  26, steps per second: 351, episode reward: 26.000, mean reward:  1.000 [ 1.000,  1.000], mean action: 0.462 [0.000, 1.000],  loss: 28.849085, mae: 64.557281, mean_q: 132.411897, mean_eps: 0.475637\n",
      " 11912/20000: episode: 264, duration: 0.682s, episode steps: 246, steps per second: 361, episode reward: 246.000, mean reward:  1.000 [ 1.000,  1.000], mean action: 0.500 [0.000, 1.000],  loss: 30.929865, mae: 65.455913, mean_q: 133.827314, mean_eps: 0.469518\n",
      " 12093/20000: episode: 265, duration: 0.498s, episode steps: 181, steps per second: 364, episode reward: 181.000, mean reward:  1.000 [ 1.000,  1.000], mean action: 0.481 [0.000, 1.000],  loss: 32.751065, mae: 66.408154, mean_q: 136.019482, mean_eps: 0.459910\n",
      " 12264/20000: episode: 266, duration: 0.474s, episode steps: 171, steps per second: 361, episode reward: 171.000, mean reward:  1.000 [ 1.000,  1.000], mean action: 0.497 [0.000, 1.000],  loss: 43.143198, mae: 67.624005, mean_q: 138.040748, mean_eps: 0.451990\n",
      " 12431/20000: episode: 267, duration: 0.458s, episode steps: 167, steps per second: 364, episode reward: 167.000, mean reward:  1.000 [ 1.000,  1.000], mean action: 0.497 [0.000, 1.000],  loss: 31.468286, mae: 68.102279, mean_q: 139.176632, mean_eps: 0.444385\n",
      " 12467/20000: episode: 268, duration: 0.103s, episode steps:  36, steps per second: 350, episode reward: 36.000, mean reward:  1.000 [ 1.000,  1.000], mean action: 0.500 [0.000, 1.000],  loss: 27.854910, mae: 68.853831, mean_q: 140.661290, mean_eps: 0.439817\n",
      " 12845/20000: episode: 269, duration: 1.040s, episode steps: 378, steps per second: 363, episode reward: 378.000, mean reward:  1.000 [ 1.000,  1.000], mean action: 0.487 [0.000, 1.000],  loss: 29.599582, mae: 69.413728, mean_q: 141.946938, mean_eps: 0.430502\n",
      " 12962/20000: episode: 270, duration: 0.327s, episode steps: 117, steps per second: 358, episode reward: 117.000, mean reward:  1.000 [ 1.000,  1.000], mean action: 0.496 [0.000, 1.000],  loss: 46.585880, mae: 71.026320, mean_q: 144.623418, mean_eps: 0.419365\n",
      " 13020/20000: episode: 271, duration: 0.161s, episode steps:  58, steps per second: 360, episode reward: 58.000, mean reward:  1.000 [ 1.000,  1.000], mean action: 0.500 [0.000, 1.000],  loss: 29.097329, mae: 71.242777, mean_q: 145.302255, mean_eps: 0.415427\n",
      " 13228/20000: episode: 272, duration: 0.569s, episode steps: 208, steps per second: 366, episode reward: 208.000, mean reward:  1.000 [ 1.000,  1.000], mean action: 0.500 [0.000, 1.000],  loss: 33.768126, mae: 72.048116, mean_q: 147.211574, mean_eps: 0.409442\n",
      " 13257/20000: episode: 273, duration: 0.080s, episode steps:  29, steps per second: 361, episode reward: 29.000, mean reward:  1.000 [ 1.000,  1.000], mean action: 0.448 [0.000, 1.000],  loss: 25.514391, mae: 72.449204, mean_q: 148.753159, mean_eps: 0.404110\n",
      " 13433/20000: episode: 274, duration: 0.477s, episode steps: 176, steps per second: 369, episode reward: 176.000, mean reward:  1.000 [ 1.000,  1.000], mean action: 0.500 [0.000, 1.000],  loss: 36.893950, mae: 72.184275, mean_q: 147.253841, mean_eps: 0.399497\n",
      " 13759/20000: episode: 275, duration: 0.902s, episode steps: 326, steps per second: 361, episode reward: 326.000, mean reward:  1.000 [ 1.000,  1.000], mean action: 0.509 [0.000, 1.000],  loss: 33.146720, mae: 72.795942, mean_q: 148.672522, mean_eps: 0.388202\n",
      " 14259/20000: episode: 276, duration: 1.373s, episode steps: 500, steps per second: 364, episode reward: 500.000, mean reward:  1.000 [ 1.000,  1.000], mean action: 0.504 [0.000, 1.000],  loss: 39.155512, mae: 74.508069, mean_q: 151.770884, mean_eps: 0.369617\n",
      " 14552/20000: episode: 277, duration: 0.797s, episode steps: 293, steps per second: 368, episode reward: 293.000, mean reward:  1.000 [ 1.000,  1.000], mean action: 0.485 [0.000, 1.000],  loss: 38.930655, mae: 75.939822, mean_q: 154.907247, mean_eps: 0.351775\n",
      " 14875/20000: episode: 278, duration: 0.891s, episode steps: 323, steps per second: 362, episode reward: 323.000, mean reward:  1.000 [ 1.000,  1.000], mean action: 0.486 [0.000, 1.000],  loss: 34.817854, mae: 76.937386, mean_q: 156.849167, mean_eps: 0.337915\n",
      " 15175/20000: episode: 279, duration: 0.828s, episode steps: 300, steps per second: 362, episode reward: 300.000, mean reward:  1.000 [ 1.000,  1.000], mean action: 0.483 [0.000, 1.000],  loss: 36.517375, mae: 78.110229, mean_q: 158.877050, mean_eps: 0.323897\n",
      " 15510/20000: episode: 280, duration: 0.931s, episode steps: 335, steps per second: 360, episode reward: 335.000, mean reward:  1.000 [ 1.000,  1.000], mean action: 0.510 [0.000, 1.000],  loss: 38.991846, mae: 78.716556, mean_q: 160.275143, mean_eps: 0.309610\n",
      " 15730/20000: episode: 281, duration: 0.615s, episode steps: 220, steps per second: 358, episode reward: 220.000, mean reward:  1.000 [ 1.000,  1.000], mean action: 0.495 [0.000, 1.000],  loss: 32.756403, mae: 78.995422, mean_q: 161.001559, mean_eps: 0.297122\n",
      " 15981/20000: episode: 282, duration: 0.690s, episode steps: 251, steps per second: 364, episode reward: 251.000, mean reward:  1.000 [ 1.000,  1.000], mean action: 0.474 [0.000, 1.000],  loss: 43.971410, mae: 79.160665, mean_q: 161.219752, mean_eps: 0.286525\n",
      " 16209/20000: episode: 283, duration: 0.626s, episode steps: 228, steps per second: 364, episode reward: 228.000, mean reward:  1.000 [ 1.000,  1.000], mean action: 0.478 [0.000, 1.000],  loss: 55.388144, mae: 79.568624, mean_q: 161.737428, mean_eps: 0.275747\n",
      " 16434/20000: episode: 284, duration: 0.616s, episode steps: 225, steps per second: 365, episode reward: 225.000, mean reward:  1.000 [ 1.000,  1.000], mean action: 0.480 [0.000, 1.000],  loss: 39.786038, mae: 80.692875, mean_q: 164.367920, mean_eps: 0.265555\n",
      " 16693/20000: episode: 285, duration: 0.718s, episode steps: 259, steps per second: 361, episode reward: 259.000, mean reward:  1.000 [ 1.000,  1.000], mean action: 0.483 [0.000, 1.000],  loss: 42.192390, mae: 80.575851, mean_q: 164.101769, mean_eps: 0.254665\n",
      " 16913/20000: episode: 286, duration: 0.607s, episode steps: 220, steps per second: 362, episode reward: 220.000, mean reward:  1.000 [ 1.000,  1.000], mean action: 0.491 [0.000, 1.000],  loss: 45.185992, mae: 80.627870, mean_q: 164.132806, mean_eps: 0.243887\n",
      " 17140/20000: episode: 287, duration: 0.630s, episode steps: 227, steps per second: 360, episode reward: 227.000, mean reward:  1.000 [ 1.000,  1.000], mean action: 0.520 [0.000, 1.000],  loss: 42.376206, mae: 80.531587, mean_q: 163.866567, mean_eps: 0.233830\n",
      " 17593/20000: episode: 288, duration: 1.252s, episode steps: 453, steps per second: 362, episode reward: 453.000, mean reward:  1.000 [ 1.000,  1.000], mean action: 0.510 [0.000, 1.000],  loss: 42.048424, mae: 80.887570, mean_q: 164.474946, mean_eps: 0.218530\n",
      " 17913/20000: episode: 289, duration: 0.882s, episode steps: 320, steps per second: 363, episode reward: 320.000, mean reward:  1.000 [ 1.000,  1.000], mean action: 0.487 [0.000, 1.000],  loss: 29.455574, mae: 81.528385, mean_q: 165.777745, mean_eps: 0.201137\n",
      " 18297/20000: episode: 290, duration: 1.076s, episode steps: 384, steps per second: 357, episode reward: 384.000, mean reward:  1.000 [ 1.000,  1.000], mean action: 0.510 [0.000, 1.000],  loss: 38.111079, mae: 82.320952, mean_q: 167.039527, mean_eps: 0.185297\n",
      " 18602/20000: episode: 291, duration: 0.914s, episode steps: 305, steps per second: 334, episode reward: 305.000, mean reward:  1.000 [ 1.000,  1.000], mean action: 0.511 [0.000, 1.000],  loss: 46.735849, mae: 81.958177, mean_q: 166.045121, mean_eps: 0.169795\n",
      " 18853/20000: episode: 292, duration: 0.702s, episode steps: 251, steps per second: 358, episode reward: 251.000, mean reward:  1.000 [ 1.000,  1.000], mean action: 0.482 [0.000, 1.000],  loss: 41.607964, mae: 81.118787, mean_q: 164.217743, mean_eps: 0.157285\n",
      " 19199/20000: episode: 293, duration: 0.980s, episode steps: 346, steps per second: 353, episode reward: 346.000, mean reward:  1.000 [ 1.000,  1.000], mean action: 0.512 [0.000, 1.000],  loss: 34.439270, mae: 81.803762, mean_q: 165.857249, mean_eps: 0.143852\n",
      " 19515/20000: episode: 294, duration: 0.884s, episode steps: 316, steps per second: 358, episode reward: 316.000, mean reward:  1.000 [ 1.000,  1.000], mean action: 0.516 [0.000, 1.000],  loss: 35.920337, mae: 82.180561, mean_q: 166.623451, mean_eps: 0.128957\n",
      " 19773/20000: episode: 295, duration: 0.738s, episode steps: 258, steps per second: 349, episode reward: 258.000, mean reward:  1.000 [ 1.000,  1.000], mean action: 0.516 [0.000, 1.000],  loss: 41.276239, mae: 82.127647, mean_q: 165.908919, mean_eps: 0.116042\n",
      "done, took 57.905 seconds\n"
     ]
    },
    {
     "data": {
      "text/plain": [
       "<keras.src.callbacks.History at 0x1d288d31580>"
      ]
     },
     "execution_count": 10,
     "metadata": {},
     "output_type": "execute_result"
    }
   ],
   "source": [
    "dqn.fit(env, nb_steps=20000, visualize=False, verbose=2)"
   ]
  },
  {
   "cell_type": "markdown",
   "metadata": {},
   "source": [
    "After just 1-2 minutes of training (for reference, it takes < 1min on a Macbook Air with M2), we achieve some great results already. It was taking at least 15 minutes of training to reach a similar level of performance with the custom DQN implemented from scratch in the previous lab.\n",
    "\n",
    "The reason for this is that keras-rl has implemented many optimization strategies (e.g., the optimized replay buffer) which lead to a significantly faster convergence than the DQN we implemented by hand."
   ]
  },
  {
   "cell_type": "code",
   "execution_count": 11,
   "metadata": {},
   "outputs": [],
   "source": [
    "# After training is done, we can save the final weights.\n",
    "dqn.save_weights(f'dqn_{env_name}_weights.h5f', overwrite=True)"
   ]
  },
  {
   "cell_type": "markdown",
   "metadata": {},
   "source": [
    "## Exploit learned Q values in test simulations\n",
    "\n",
    "The Keras-RL agents also offer methods to perform tests in Gym, with some parameters e.g. to decide whether to render the simulation graphically."
   ]
  },
  {
   "cell_type": "code",
   "execution_count": 12,
   "metadata": {
    "collapsed": true
   },
   "outputs": [
    {
     "name": "stdout",
     "output_type": "stream",
     "text": [
      "Testing for 5 episodes ...\n",
      "Episode 1: reward: 500.000, steps: 500\n",
      "Episode 2: reward: 365.000, steps: 365\n",
      "Episode 3: reward: 399.000, steps: 399\n",
      "Episode 4: reward: 333.000, steps: 333\n",
      "Episode 5: reward: 344.000, steps: 344\n"
     ]
    }
   ],
   "source": [
    "# Finally, evaluate our algorithm for 5 episodes.\n",
    "dqn.test(env, nb_episodes=5, visualize=True)\n",
    "env.close()"
   ]
  },
  {
   "cell_type": "markdown",
   "metadata": {},
   "source": [
    "All in all, we accomplished a better agent (trained more efficiently) with much less code than in the previous lab, thanks to Keras-RL!"
   ]
  },
  {
   "cell_type": "markdown",
   "metadata": {},
   "source": [
    "---------\n",
    "\n",
    "# 1.2 Solve *Space Invaders*  with Convolutional DQN from Keras-rl\n",
    "Also, install :\n",
    "```bash\n",
    "pip install \"gym[atari,accept-rom-license]\"\n",
    "```"
   ]
  },
  {
   "cell_type": "markdown",
   "metadata": {},
   "source": [
    "## Imports"
   ]
  },
  {
   "cell_type": "code",
   "execution_count": 18,
   "metadata": {},
   "outputs": [],
   "source": [
    "import numpy as np\n",
    "from tensorflow.keras.models import Sequential\n",
    "from tensorflow.keras.layers import Dense, Flatten, Conv2D\n",
    "from tensorflow.keras.optimizers.legacy import Adam\n",
    "\n",
    "# Quick fix if python cannot import name '__version__' from 'tensorflow.keras'\n",
    "import tensorflow as tf\n",
    "from keras import __version__\n",
    "tf.keras.__version__ = __version__\n",
    "\n",
    "from rl.agents import DQNAgent\n",
    "from rl.memory import SequentialMemory\n",
    "from rl.policy import LinearAnnealedPolicy, EpsGreedyQPolicy\n",
    "\n",
    "import gym\n",
    "\n",
    "env = gym.make('SpaceInvaders-v0')\n"
   ]
  },
  {
   "cell_type": "markdown",
   "metadata": {},
   "source": [
    "## Execute random actions just to get familiar with the environment"
   ]
  },
  {
   "cell_type": "code",
   "execution_count": null,
   "metadata": {},
   "outputs": [],
   "source": [
    "env = gym.make('SpaceInvaders-v0')\n",
    "\n",
    "episodes = 5\n",
    "\n",
    "for episode in range(1, episodes):\n",
    "    state = env.reset()\n",
    "    done = False\n",
    "    score = 0\n",
    "    \n",
    "    while not done:\n",
    "        env.render()\n",
    "        state, reward, done, info = env.step(env.action_space.sample())\n",
    "        print(state.shape)\n",
    "        score += reward\n",
    "    print('Episode: {}\\nScore: {}'.format(episode, score))\n",
    "    \n",
    "env.close()"
   ]
  },
  {
   "cell_type": "markdown",
   "metadata": {},
   "source": [
    "## Implement a Convolutional Neural Network"
   ]
  },
  {
   "cell_type": "code",
   "execution_count": 20,
   "metadata": {},
   "outputs": [],
   "source": [
    "def build_model(height, width, channels, actions):\n",
    "    model = Sequential()\n",
    "    model.add(Conv2D(32, (8,8), strides=(4,4), activation='relu', input_shape=(3, height, width, channels)))\n",
    "    model.add(Conv2D(64, (4,4), strides=(2,2), activation='relu'))\n",
    "    model.add(Conv2D(64, (4,4), strides=(2,2), activation='relu'))\n",
    "    model.add(Flatten())\n",
    "    model.add(Dense(512, activation='relu'))\n",
    "    model.add(Dense(256, activation='relu'))\n",
    "    model.add(Dense(64, activation='relu'))\n",
    "    model.add(Dense(actions, activation='linear'))\n",
    "    return model"
   ]
  },
  {
   "cell_type": "code",
   "execution_count": null,
   "metadata": {},
   "outputs": [],
   "source": [
    "height, width, channels = env.observation_space.shape\n",
    "actions = env.action_space.n\n",
    "print(height, width, channels)"
   ]
  },
  {
   "cell_type": "code",
   "execution_count": null,
   "metadata": {},
   "outputs": [],
   "source": [
    "#del model # [Jeremy] why do we need this? TBD"
   ]
  },
  {
   "cell_type": "code",
   "execution_count": 22,
   "metadata": {},
   "outputs": [],
   "source": [
    "model = build_model(height, width, channels, actions)"
   ]
  },
  {
   "cell_type": "markdown",
   "metadata": {},
   "source": [
    "## Implement the DQN framework "
   ]
  },
  {
   "cell_type": "code",
   "execution_count": 23,
   "metadata": {},
   "outputs": [],
   "source": [
    "def build_agent(model, actions):\n",
    "    policy = LinearAnnealedPolicy(EpsGreedyQPolicy(), attr='eps', value_max=1., value_min=.1, value_test=.2, nb_steps=10000)\n",
    "    memory = SequentialMemory(limit=2000, window_length=3)\n",
    "    dqn = DQNAgent(model=model, memory=memory, policy=policy,\n",
    "                  enable_dueling_network=False, dueling_type='avg',\n",
    "                  nb_actions=actions, nb_steps_warmup=1000)\n",
    "    return dqn"
   ]
  },
  {
   "cell_type": "code",
   "execution_count": 24,
   "metadata": {},
   "outputs": [],
   "source": [
    "dqn = build_agent(model, actions)"
   ]
  },
  {
   "cell_type": "code",
   "execution_count": null,
   "metadata": {},
   "outputs": [],
   "source": [
    "dqn.compile(Adam(learning_rate=0.001))"
   ]
  },
  {
   "cell_type": "code",
   "execution_count": null,
   "metadata": {},
   "outputs": [],
   "source": [
    "dqn.fit(env, nb_steps = 1000, visualize = False, verbose = 1) # Train for 1000 steps in class, try 40000 at home :)"
   ]
  },
  {
   "cell_type": "code",
   "execution_count": null,
   "metadata": {
    "collapsed": true
   },
   "outputs": [],
   "source": [
    "#dqn.save_weights('SpaceInvaderTrainedModel/dqn.h5f')"
   ]
  },
  {
   "cell_type": "markdown",
   "metadata": {},
   "source": [
    "## Exploit learned Q values in test simulations"
   ]
  },
  {
   "cell_type": "code",
   "execution_count": null,
   "metadata": {
    "collapsed": true
   },
   "outputs": [],
   "source": [
    "#dqn.load_weights('SpaceInvaderTrainedModel/dqn.h5f')"
   ]
  },
  {
   "cell_type": "code",
   "execution_count": null,
   "metadata": {
    "collapsed": true
   },
   "outputs": [],
   "source": [
    "env = gym.make('SpaceInvaders-v0') \n",
    "\n",
    "scores = dqn.test(env, nb_episodes = 10, visualize = True)  # Would need play with versioning to use the vizualize parameter (currently fixed with line above)\n",
    "print(np.mean(scores.history['episode_reward']))"
   ]
  },
  {
   "cell_type": "markdown",
   "metadata": {},
   "source": [
    "# 2. Implement DQN with Stable-baselines algorithms\n",
    "\n",
    "Instead of implementing DQN from scratch (previous lab), or its individual components from external packages as seen in the section above, yet other packages exist which offer a \"complete\" implementation of the most popular RL algorithms (DQN, A3C, PPO, DDPG, etc).\n",
    "\n",
    "Many such packages exist. The most popular ones include OpenAI `Stable-baselines`, DeepMind `Acme`, AWS `SageMaker RL`, Meta `AI ReAgent`, Ray `RLlib`, Intel `AI Coach`. \n",
    "\n",
    "Today we will focus exclusively on `Stable-baselines` because it was initially designed by OpenAI in tandem with `Gym` environments. In the final labs of the semester will introduce several other frameworks.\n",
    "\n",
    "\n",
    "These implementations of RL algorithms have been optimized for ease-of-use, robustness to different scenarios, and overall performance. Their drawback is you get less control on details of the implementation and hyperparameters, compared to using packages such as `Keras-RL` which only implement key *components* of RL algorithms.\n",
    "\n",
    "Please install the following :\n",
    "```bash\n",
    "pip install stable-baselines3\n",
    "```"
   ]
  },
  {
   "cell_type": "markdown",
   "metadata": {},
   "source": [
    "# 2.1 Play 'Car Racing' with Convolutional PPO from Stable-baselines"
   ]
  },
  {
   "cell_type": "markdown",
   "metadata": {},
   "source": [
    "## Imports"
   ]
  },
  {
   "cell_type": "code",
   "execution_count": 5,
   "metadata": {},
   "outputs": [],
   "source": [
    "import gymnasium as gym\n",
    "\n",
    "#Quick fix for M1 architecture (M2/M3 might also need this).\n",
    "# import os\n",
    "# os.environ['KMP_DUPLICATE_LIB_OK']='True'\n",
    "\n",
    "from stable_baselines3 import PPO \n",
    "from stable_baselines3.common.evaluation import evaluate_policy"
   ]
  },
  {
   "cell_type": "markdown",
   "metadata": {},
   "source": [
    "## Set up the `CarRacing` Gym environment"
   ]
  },
  {
   "cell_type": "code",
   "execution_count": 6,
   "metadata": {},
   "outputs": [],
   "source": [
    "env = gym.make('CarRacing-v3')\n",
    "env.observation_space.sample().shape\n",
    "env.action_space.sample()\n",
    "#env.reset()\n",
    "#env.render()\n",
    "env.close()"
   ]
  },
  {
   "cell_type": "code",
   "execution_count": 14,
   "id": "c615a748",
   "metadata": {},
   "outputs": [
    {
     "name": "stderr",
     "output_type": "stream",
     "text": [
      "\n",
      "[notice] A new release of pip is available: 25.0 -> 25.0.1\n",
      "[notice] To update, run: python.exe -m pip install --upgrade pip\n"
     ]
    }
   ],
   "source": [
    "!pip install shimmy>=2.0"
   ]
  },
  {
   "cell_type": "markdown",
   "metadata": {},
   "source": [
    "## Execute random actions just to get familiar with the environment"
   ]
  },
  {
   "cell_type": "code",
   "execution_count": null,
   "metadata": {
    "collapsed": true
   },
   "outputs": [],
   "source": [
    "env_test = gym.make('CarRacing-v3', render_mode = 'human')\n",
    "episodes = 5\n",
    "for episode in range(episodes):\n",
    "    state, info = env_test.reset()\n",
    "    done = False\n",
    "    score = 0\n",
    "    \n",
    "    while not done:\n",
    "        env_test.render()\n",
    "        action = env_test.action_space.sample()\n",
    "        n_state, reward, done, trunc, info = env_test.step(action)\n",
    "        score+=reward\n",
    "    print(\"Episode: {} Score: {}\".format(episode, score))\n",
    "    \n",
    "env.close()"
   ]
  },
  {
   "cell_type": "code",
   "execution_count": 50,
   "id": "b279691d",
   "metadata": {},
   "outputs": [],
   "source": [
    "# from stable_baselines3.common.env_util import make_vec_env\n",
    "# env = make_vec_env(lambda: gym.make('CarRacing-v3'), n_envs=1)"
   ]
  },
  {
   "cell_type": "markdown",
   "metadata": {},
   "source": [
    "## Train the `PPO` algorithm from `stable-baselines`"
   ]
  },
  {
   "cell_type": "code",
   "execution_count": null,
   "metadata": {},
   "outputs": [],
   "source": [
    "model = FILL"
   ]
  },
  {
   "cell_type": "code",
   "execution_count": null,
   "metadata": {},
   "outputs": [],
   "source": [
    "# Train the model\n",
    "# TODO\n"
   ]
  },
  {
   "cell_type": "markdown",
   "metadata": {},
   "source": [
    "## Exploit the trained agent in test simulations"
   ]
  },
  {
   "cell_type": "code",
   "execution_count": null,
   "metadata": {
    "scrolled": true
   },
   "outputs": [],
   "source": [
    "# Evaluate the policy\n",
    "# TODO"
   ]
  },
  {
   "cell_type": "code",
   "execution_count": 6,
   "metadata": {},
   "outputs": [],
   "source": [
    "env.close()"
   ]
  },
  {
   "cell_type": "markdown",
   "metadata": {},
   "source": [
    "# 2.2 Trade a S&P 500 stock index with DQN from Stable-baselines\n",
    "Please install the following:\n",
    "```bash\n",
    "pip install gym_anytrading\n",
    "pip install yfinance  \n",
    "pip install pandas_datareader\n",
    "pip install TA\n",
    "```\n"
   ]
  },
  {
   "cell_type": "code",
   "execution_count": 28,
   "metadata": {},
   "outputs": [],
   "source": [
    "import gymnasium as gym\n",
    "\n",
    "#Quick fix for M1 architecture (M2/M3 might also need this).\n",
    "# import os\n",
    "# os.environ['KMP_DUPLICATE_LIB_OK']='True'\n",
    "\n",
    "from stable_baselines3.common.vec_env import DummyVecEnv \n",
    "from stable_baselines3 import A2C \n",
    "\n",
    "import numpy as np\n",
    "import pandas as pd\n",
    "import matplotlib.pyplot as plt\n",
    "\n",
    "# For this case study please install the following libraries: gym_anytrading, yfinance, pandas_datareader, TA\n",
    "import gym_anytrading\n",
    "from gym_anytrading.envs import StocksEnv\n",
    "import yfinance as yf\n",
    "from pandas_datareader import data as pdr\n",
    "# yf.pdr_override() # bug fix, for details see https://stackoverflow.com/questions/74862453/why-am-i-getting-a-typeerror-string-indices-must-be-integer-message-when-tryi\n",
    "from ta import add_all_ta_features # Method from TA (Technical Analysis) library to engineer financial indicators\n"
   ]
  },
  {
   "cell_type": "markdown",
   "metadata": {},
   "source": [
    "## Set up the S&P 500 stock index trading environment"
   ]
  },
  {
   "cell_type": "markdown",
   "metadata": {},
   "source": [
    "Read some daily time series stock data"
   ]
  },
  {
   "cell_type": "code",
   "execution_count": null,
   "metadata": {
    "scrolled": true
   },
   "outputs": [],
   "source": [
    "df = yf.download('SPY', start='2021-01-01', end='2023-01-01', multi_level_index=False)\n",
    "df.head()"
   ]
  },
  {
   "cell_type": "code",
   "execution_count": null,
   "id": "0a0e640a",
   "metadata": {},
   "outputs": [],
   "source": [
    "df = df.reset_index()\n",
    "df['Date'] = pd.to_datetime(df['Date'])\n",
    "df.set_index(\"Date\", inplace = True)\n",
    "df = df.reset_index()\n",
    "df = df[['Date', 'Open', 'High', 'Low', 'Close', 'Volume']]\n",
    "df.head()"
   ]
  },
  {
   "cell_type": "markdown",
   "metadata": {},
   "source": [
    "Set up the Gym trading environment"
   ]
  },
  {
   "cell_type": "code",
   "execution_count": 31,
   "metadata": {},
   "outputs": [],
   "source": [
    "env = gym.make('stocks-v0', df=df, frame_bound=(5, 400), window_size=5)"
   ]
  },
  {
   "cell_type": "code",
   "execution_count": null,
   "metadata": {},
   "outputs": [],
   "source": [
    "env.action_space"
   ]
  },
  {
   "cell_type": "markdown",
   "id": "b96fd666",
   "metadata": {},
   "source": [
    "## Execute random actions just to get familiar with the environment"
   ]
  },
  {
   "cell_type": "code",
   "execution_count": null,
   "metadata": {},
   "outputs": [],
   "source": [
    "import time\n",
    "state, info = env.reset()\n",
    "\n",
    "# Run the environment with random actions (Buy or Sell)\n",
    "while True:  # Example: run for 100 steps\n",
    "    action = env.action_space.sample()  # Sample random action (0 or 1)\n",
    "    next_state, reward, done, trunc, info = env.step(action)  # Take the action\n",
    "    \n",
    "    # Print the action and reward\n",
    "    print(f\"Action: {action}, Reward: {reward}, Done: {done}\")\n",
    "    \n",
    "    if done or trunc:\n",
    "        print(\"Episode finished. Info:\", info)\n",
    "        break\n",
    "\n",
    "plt.figure(figsize=(15, 6))\n",
    "plt.cla()\n",
    "env.unwrapped.render_all()  # Render the environment\n",
    "plt.show()\n",
    "\n",
    "# Close the environment\n",
    "env.close()\n",
    "\n",
    "plt.show()\n"
   ]
  },
  {
   "cell_type": "markdown",
   "metadata": {},
   "source": [
    "The green dots represent buying while the red dots represent selling stocks."
   ]
  },
  {
   "cell_type": "markdown",
   "metadata": {},
   "source": [
    "## Train an `A2C` algorithm from `stable-baselines`"
   ]
  },
  {
   "cell_type": "code",
   "execution_count": null,
   "metadata": {
    "collapsed": true
   },
   "outputs": [],
   "source": [
    "env = gym.make('stocks-v0', df=df, frame_bound=(5, 400), window_size=5)\n",
    "model = A2C('MlpPolicy', env, verbose=1)\n",
    "model.learn(total_timesteps=10000)"
   ]
  },
  {
   "cell_type": "markdown",
   "metadata": {},
   "source": [
    "## Exploit the trained agent in test simulations"
   ]
  },
  {
   "cell_type": "code",
   "execution_count": null,
   "metadata": {},
   "outputs": [],
   "source": [
    "env = gym.make('stocks-v0', df=df, frame_bound=(400, 502), window_size=5)\n",
    "obs, info = env.reset()\n",
    "while True:\n",
    "    # obs = obs[np.newaxis, ...]\n",
    "    action, states = model.predict(obs)\n",
    "    obs, rewards, done,trunc,  info = env.step(action)\n",
    "    \n",
    "    if done or trunc:\n",
    "        print(info)\n",
    "        break"
   ]
  },
  {
   "cell_type": "code",
   "execution_count": null,
   "metadata": {
    "scrolled": false
   },
   "outputs": [],
   "source": [
    "plt.figure(figsize=(15, 6))\n",
    "plt.cla()\n",
    "env.unwrapped.render_all()\n",
    "plt.show()"
   ]
  },
  {
   "cell_type": "markdown",
   "metadata": {},
   "source": [
    "Again, the green dots represent buying while the red dots represent selling stocks. If the agent is capable of making intelligent trading decisions, it will tend to buy (green dots) when the price is relatively low, and to sell (red dots) when the price is relatively high. \n",
    "\n",
    "As you can see, the agent needs fine tuning to perform well. So to close the lab, let us fine tune the agent by engineering features (\"financial indicators\") and adding these additional indicators to the definition of the RL state, so the agent has additional information every day to make trading decisions."
   ]
  },
  {
   "cell_type": "markdown",
   "metadata": {},
   "source": [
    "## Engineer features (financial indicators) for the agent to make smarter decisions"
   ]
  },
  {
   "cell_type": "code",
   "execution_count": null,
   "metadata": {
    "collapsed": true
   },
   "outputs": [],
   "source": [
    "data = yf.download('SPY', start='2021-01-01', end='2023-01-01', multi_level_index=False)\n",
    "# Engineer financial indicators using the method imported above from the \"TA\" library\n",
    "df2 = add_all_ta_features(data, open='Open', high='High', low='Low', close='Close', volume='Volume', fillna=True)"
   ]
  },
  {
   "cell_type": "code",
   "execution_count": 41,
   "metadata": {},
   "outputs": [],
   "source": [
    "pd.set_option('display.max_columns', None)"
   ]
  },
  {
   "cell_type": "code",
   "execution_count": null,
   "metadata": {
    "collapsed": true
   },
   "outputs": [],
   "source": [
    "df2.head()"
   ]
  },
  {
   "cell_type": "code",
   "execution_count": 43,
   "metadata": {},
   "outputs": [],
   "source": [
    "def my_processed_data(env):\n",
    "    start = env.frame_bound[0] - env.window_size\n",
    "    end = env.frame_bound[1]\n",
    "    prices = env.df.loc[:, 'Low'].to_numpy()[start:end]\n",
    "    signal_features = env.df.loc[:, ['Close', 'Volume', 'momentum_rsi', 'volume_obv', 'trend_macd_diff']].to_numpy()[start:end]\n",
    "    return prices, signal_features\n",
    "\n",
    "class MyCustomEnv(StocksEnv):\n",
    "    _process_data = my_processed_data\n",
    "    "
   ]
  },
  {
   "cell_type": "code",
   "execution_count": 44,
   "metadata": {},
   "outputs": [],
   "source": [
    "env2 = MyCustomEnv(df=df2, window_size= 5, frame_bound=(5, 400))"
   ]
  },
  {
   "cell_type": "markdown",
   "metadata": {},
   "source": [
    "## Re-train the `A2C` algorithm from `stable-baselines` with the new engineered features"
   ]
  },
  {
   "cell_type": "code",
   "execution_count": null,
   "metadata": {
    "collapsed": true
   },
   "outputs": [],
   "source": [
    "model = A2C('MlpPolicy', env2, verbose=1)\n",
    "model.learn(total_timesteps=10000)"
   ]
  },
  {
   "cell_type": "markdown",
   "metadata": {},
   "source": [
    "## Exploit the trained agent in test simulations"
   ]
  },
  {
   "cell_type": "code",
   "execution_count": null,
   "metadata": {},
   "outputs": [],
   "source": [
    "env = MyCustomEnv(df=df2, window_size=5, frame_bound=(400, 502))\n",
    "obs, info = env.reset()\n",
    "\n",
    "while True:\n",
    "    # obs = obs[np.newaxis, ...]\n",
    "    action, states = model.predict(obs)\n",
    "    obs, rewards, done, trunc, info = env.step(action)\n",
    "    \n",
    "    if done or trunc:\n",
    "        print(info)\n",
    "        break"
   ]
  },
  {
   "cell_type": "code",
   "execution_count": null,
   "metadata": {
    "collapsed": true
   },
   "outputs": [],
   "source": [
    "plt.figure(figsize=(15, 6))\n",
    "plt.cla()\n",
    "env.render_all()\n",
    "plt.show()"
   ]
  },
  {
   "cell_type": "markdown",
   "metadata": {},
   "source": [
    "Hopefully you now see more green dots (buy stocks) when the price is relatively low, and more red dots (sell stocks) when the price is relatively high!"
   ]
  },
  {
   "cell_type": "markdown",
   "metadata": {},
   "source": [
    "**Exercise 1**: What other fine tuning can you try to improve the agent's trading performance?"
   ]
  },
  {
   "cell_type": "markdown",
   "metadata": {},
   "source": [
    "**Exercise 2**: Implement the `CartPole` and `SpaceInvaders` agents using the DQN algorithms from `stable-baselines`.  "
   ]
  },
  {
   "cell_type": "markdown",
   "metadata": {},
   "source": [
    "**Exercise 3**: Implement the `PPO` algorithm from `stable-baselines` to learn to play at the `FlappyBird` (lab 5) and `SpaceInvaders` games."
   ]
  },
  {
   "cell_type": "markdown",
   "metadata": {},
   "source": [
    "## Thank you everyone!"
   ]
  }
 ],
 "metadata": {
  "kernelspec": {
   "display_name": ".venv",
   "language": "python",
   "name": "python3"
  },
  "language_info": {
   "codemirror_mode": {
    "name": "ipython",
    "version": 3
   },
   "file_extension": ".py",
   "mimetype": "text/x-python",
   "name": "python",
   "nbconvert_exporter": "python",
   "pygments_lexer": "ipython3",
   "version": "3.9.0"
  }
 },
 "nbformat": 4,
 "nbformat_minor": 5
}
