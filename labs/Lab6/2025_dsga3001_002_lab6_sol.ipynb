{
 "cells": [
  {
   "cell_type": "markdown",
   "metadata": {},
   "source": [
    "### CDS NYU\n",
    "### DS-GA 3001 | Reinforcement Learning\n",
    "### Lab 06\n",
    "### March 06, 2025\n",
    "\n",
    "\n",
    "# Implement RL algorithms with Keras-RL or Stable-Baseline\n",
    "\n",
    "<br>\n",
    "\n",
    "---"
   ]
  },
  {
   "cell_type": "markdown",
   "metadata": {},
   "source": [
    "## Section Leader\n",
    "\n",
    "\n",
    "Akshitha Kumbam – ak11071@nyu.edu\n",
    "\n",
    "Kushagra Khatwani – kk5395@nyu.edu\n"
   ]
  },
  {
   "cell_type": "markdown",
   "metadata": {},
   "source": [
    "## Goal of Today's Lab \n",
    "\n",
    "In this Lab, we will implement RL algorithms by building on existing RL algorithm libraries, so we don't have to implement RL agents from scratch as we did in the past few weeks. By doing so, we get less control on the details of the implementation, but it is much faster to implement (**we will cover 4 case studies today:** `CartPole`, `SpaceInvaders`, `CarRacing`, and `StockTrading`), and components available in public libraries tend to be high quality and efficient. \n",
    "\n",
    "Let us start with the DQN algorithm. We can use external open-source Python packages which implement each of the key DQN methods (e,g., experience replay method, action-selection method, etc). These methods are developed, maintained, and optimized for robustness to different scenarios, and for overall performance.\n",
    "\n",
    "Using these packages instead of implementing each DQN component from scratch is generally faster, leads to a more reliable/efficient program, yet still gives you a lot of control on the details of the implementation and hyperparameters.\n",
    "\n",
    "We will focus on DQN in the first part of the lab, but these packages also offer methods for most commonly used RL algorithms such as A3C, PPO, etc, so we will start looking at these too.\n",
    "\n",
    "## Resources\n",
    "\n",
    "* https://gymnasium.farama.org/\n"
   ]
  },
  {
   "cell_type": "markdown",
   "metadata": {},
   "source": [
    "# 1. Implement DQN with Keras-RL methods\n",
    "\n",
    "---------"
   ]
  },
  {
   "cell_type": "markdown",
   "metadata": {},
   "source": [
    "\n",
    "# 1.1 Solve *Cart Pole*  with DQN from Keras-rl\n",
    "\n",
    "Most of this case study will be the same as in previous lab, but we build some of the key components of the DQN agent using components available in the Keral-RL library"
   ]
  },
  {
   "cell_type": "markdown",
   "metadata": {},
   "source": [
    "## Imports"
   ]
  },
  {
   "cell_type": "code",
   "execution_count": 1,
   "metadata": {},
   "outputs": [
    {
     "name": "stderr",
     "output_type": "stream",
     "text": [
      "2025-03-10 14:47:02.378681: I tensorflow/core/platform/cpu_feature_guard.cc:182] This TensorFlow binary is optimized to use available CPU instructions in performance-critical operations.\n",
      "To enable the following instructions: AVX2 FMA, in other operations, rebuild TensorFlow with the appropriate compiler flags.\n"
     ]
    }
   ],
   "source": [
    "import time \n",
    "import gym\n",
    "from pyglet.window import key \n",
    "from tensorflow.keras.models import Sequential  \n",
    "from tensorflow.keras.layers import Dense  \n",
    "from tensorflow.keras.layers import Activation \n",
    "from tensorflow.keras.layers import Flatten  \n",
    "from tensorflow.keras.optimizers.legacy import Adam  # Adam optimizer\n",
    "\n",
    "# Import DQN methods from the keras-rl2 library (keras-rl is tagged \"rl\" in Python)\n",
    "# Quick fix if python cannot import name '__version__' from 'tensorflow.keras'\n",
    "import tensorflow as tf\n",
    "from keras import __version__\n",
    "tf.keras.__version__ = __version__\n",
    "\n",
    "from rl.agents.dqn import DQNAgent "
   ]
  },
  {
   "cell_type": "markdown",
   "metadata": {},
   "source": [
    "## Set up the `CartPole` Gym environment"
   ]
  },
  {
   "cell_type": "code",
   "execution_count": 2,
   "metadata": {},
   "outputs": [
    {
     "name": "stdout",
     "output_type": "stream",
     "text": [
      "There are 2 possible actions and 4 observations\n"
     ]
    }
   ],
   "source": [
    "# https://stackoverflow.com/questions/56904270/difference-between-openai-gym-environments-cartpole-v0-and-cartpole-v1\n",
    "env_name = ENV_NAME = 'CartPole-v1'\n",
    "env = gym.make(env_name)  \n",
    "\n",
    "# Same as last week:\n",
    "num_actions = env.action_space.n\n",
    "num_observations = env.observation_space.shape[0]\n",
    "print(f\"There are {num_actions} possible actions and {num_observations} observations\")\n"
   ]
  },
  {
   "cell_type": "markdown",
   "metadata": {},
   "source": [
    "## Execute random actions just to get familiar with the environment"
   ]
  },
  {
   "cell_type": "code",
   "execution_count": 32,
   "metadata": {
    "collapsed": true
   },
   "outputs": [],
   "source": [
    "# Load the CartPole Gym environment with graphical rendering to vizualize the environment\n",
    "env_test = gym.make(\"CartPole-v1\", render_mode = \"human\")  # [Jeremy] was v1 last week  \n",
    "# Set to initial state\n",
    "env_test.reset()\n",
    "  \n",
    "\n",
    "# Loop over 200 steps\n",
    "for _ in range(200):\n",
    "    env_test.render()                                                 # Render on the screen\n",
    "    action = env_test.action_space.sample()                           # Choose a random action\n",
    "    new_state, reward, done, trunc, info = env_test.step(action)  # Carry out the action\n",
    "    time.sleep(0.03)\n",
    "    if done:\n",
    "         env_test.reset()\n",
    "            \n",
    "env_test.close()\n"
   ]
  },
  {
   "cell_type": "markdown",
   "metadata": {},
   "source": [
    "## Implement an Artificial Neural Network\n",
    "To build our network, we first need to find out how many actions and observation our environment has.\n",
    "We can either get those information from the source code (https://github.com/openai/gym/blob/master/gym/envs/classic_control/cartpole.py) or via the following commands:"
   ]
  },
  {
   "cell_type": "markdown",
   "metadata": {},
   "source": [
    "Similar to in the previous lab, we build a simple ANN with 2 hidden layers and 16 and 32 neurons each followed by relu activation. The output layer has 2 nodes, one for each action"
   ]
  },
  {
   "cell_type": "code",
   "execution_count": 3,
   "metadata": {},
   "outputs": [
    {
     "name": "stdout",
     "output_type": "stream",
     "text": [
      "Model: \"sequential\"\n",
      "_________________________________________________________________\n",
      " Layer (type)                Output Shape              Param #   \n",
      "=================================================================\n",
      " flatten (Flatten)           (None, 4)                 0         \n",
      "                                                                 \n",
      " dense (Dense)               (None, 16)                80        \n",
      "                                                                 \n",
      " activation (Activation)     (None, 16)                0         \n",
      "                                                                 \n",
      " dense_1 (Dense)             (None, 32)                544       \n",
      "                                                                 \n",
      " activation_1 (Activation)   (None, 32)                0         \n",
      "                                                                 \n",
      " dense_2 (Dense)             (None, 2)                 66        \n",
      "                                                                 \n",
      " activation_2 (Activation)   (None, 2)                 0         \n",
      "                                                                 \n",
      "=================================================================\n",
      "Total params: 690 (2.70 KB)\n",
      "Trainable params: 690 (2.70 KB)\n",
      "Non-trainable params: 0 (0.00 Byte)\n",
      "_________________________________________________________________\n",
      "None\n"
     ]
    }
   ],
   "source": [
    "model = Sequential()\n",
    "# https://keras.io/api/layers/reshaping_layers/flatten/\n",
    "model.add(Flatten(input_shape=(1,) + env.observation_space.shape))\n",
    "\n",
    "model.add(Dense(16))\n",
    "model.add(Activation('relu'))\n",
    "\n",
    "model.add(Dense(32))\n",
    "model.add(Activation('relu'))\n",
    "\n",
    "model.add(Dense(num_actions))\n",
    "model.add(Activation('linear'))\n",
    "\n",
    "print(model.summary())"
   ]
  },
  {
   "cell_type": "markdown",
   "metadata": {},
   "source": [
    "## Implement the DQN framework with Keras-RL"
   ]
  },
  {
   "cell_type": "markdown",
   "metadata": {},
   "source": [
    "The DQN agent `DQNagent` from Keras-RL takes the following parameters:\n",
    "\n",
    "1. `model` = The ANN\n",
    "\n",
    "\n",
    "2. `nb_actions` = The number of actions (2 in this case)\n",
    "\n",
    "\n",
    "3. `memory` = The action replay memory. Ny far the most common choice is `SequentialMemory()` \n",
    "\n",
    "\n",
    "4. `nb_steps_warmup` = Number of iterations used to fill the memory prior starting to update the ANN parameters\n",
    "\n",
    "\n",
    "5. `target_model_update` = How often (in number of steps) to update the target model\n",
    "\n",
    "\n",
    "6. `policy` = You can choose between `LinearAnnealedPolicy()`, `SoftmaxPolicy()`, `EpsGreedyQPolicy()`, `GreedyQPolicy()`, `GreedyQPolicy()`, `MaxBoltzmannQPolicy()` and `BoltzmannGumbelQPolicy()`. We will use the `LinearAnnealedPolicy` policy, but feel free to try them out and inspect which works best here\n",
    "\n",
    "\n",
    "There are some more parameters you can pass to the DQN Agent, feel free to explore them on your own."
   ]
  },
  {
   "cell_type": "markdown",
   "metadata": {},
   "source": [
    "let's initialize a circular buffer with a limit of 20000 and window length of 1 (window length describes the number of steps stored to define a state)\n"
   ]
  },
  {
   "cell_type": "code",
   "execution_count": 4,
   "metadata": {},
   "outputs": [],
   "source": [
    "from rl.memory import SequentialMemory  # Sequential Memory for storing observations (optimized circular buffer)\n",
    "\n",
    "memory = SequentialMemory(limit=20000, window_length=1)\n"
   ]
  },
  {
   "cell_type": "markdown",
   "metadata": {},
   "source": [
    "Then we define the Action Selection Policy: <br />\n",
    "We use *LinearAnnealedPolicy* in order to perform the epsilon greedy strategy with decaying epsilon. <br />\n",
    "*LinearAnnealedPolicy* accepts an action selection policy, its maximal and minimal values and a step number in order to create a dynamical policy. <br/>\n",
    "The smallest value epsilon can reach during training is 0.1.<br />\n",
    "For testing/evaluation of the trained agent, let's set epsilon to 0.05\n"
   ]
  },
  {
   "cell_type": "code",
   "execution_count": 5,
   "metadata": {},
   "outputs": [],
   "source": [
    "# LinearAnnealedPolicy allows to decay the epsilon for the epsilon greedy strategy\n",
    "from rl.policy import LinearAnnealedPolicy, EpsGreedyQPolicy\n",
    "\n",
    "policy = LinearAnnealedPolicy(EpsGreedyQPolicy(), \n",
    "                              attr='eps',\n",
    "                              value_max=1.,\n",
    "                              value_min=.1,\n",
    "                              value_test=.05,\n",
    "                              nb_steps=20000) \n"
   ]
  },
  {
   "cell_type": "markdown",
   "metadata": {},
   "source": [
    "Now we create the DQN Agent based on the defined model (**model**), the possible actions (**num_actions**) (left and right in this case), the circular buffer (**memory**), the warmup phase (**10**), how often the target model gets updated (**100**) and the policy (**policy**)\n"
   ]
  },
  {
   "cell_type": "code",
   "execution_count": 6,
   "metadata": {},
   "outputs": [],
   "source": [
    "dqn = DQNAgent(model = model, nb_actions = num_actions, memory = memory, nb_steps_warmup = 10,\n",
    "               target_model_update = 100, policy = policy)\n",
    "\n"
   ]
  },
  {
   "cell_type": "markdown",
   "metadata": {},
   "source": [
    "We can now compile the DQN with the Adam optimizer and a learning rate of 0.001.<br />\n",
    "We log the Mean Absolute Error"
   ]
  },
  {
   "cell_type": "code",
   "execution_count": 8,
   "metadata": {},
   "outputs": [
    {
     "name": "stderr",
     "output_type": "stream",
     "text": [
      "2025-03-10 14:47:44.836624: I tensorflow/compiler/mlir/mlir_graph_optimization_pass.cc:388] MLIR V1 optimization pass is not enabled\n",
      "2025-03-10 14:47:44.856992: W tensorflow/c/c_api.cc:305] Operation '{name:'dense_2_1/bias/Assign' id:145 op device:{requested: '', assigned: ''} def:{{{node dense_2_1/bias/Assign}} = AssignVariableOp[_has_manual_control_dependencies=true, dtype=DT_FLOAT, validate_shape=false](dense_2_1/bias, dense_2_1/bias/Initializer/zeros)}}' was changed by setting attribute after it was run by a session. This mutation will have no effect, and will trigger an error in the future. Either don't modify nodes after running them or create a new session.\n"
     ]
    }
   ],
   "source": [
    "# Use learning_rate instead of lr if you get warning\n",
    "dqn.compile(Adam(learning_rate=1e-3), metrics=['mae']) "
   ]
  },
  {
   "cell_type": "markdown",
   "metadata": {},
   "source": [
    "Let's run the training for 20000 steps. You can change visualize=True if you want to watch your model learning.\n",
    "Keep in mind that this increases the running time.\n"
   ]
  },
  {
   "cell_type": "markdown",
   "metadata": {},
   "source": [
    "## Train the DQN agent"
   ]
  },
  {
   "cell_type": "code",
   "execution_count": 9,
   "metadata": {
    "scrolled": true
   },
   "outputs": [
    {
     "name": "stdout",
     "output_type": "stream",
     "text": [
      "Training for 20000 steps ...\n"
     ]
    },
    {
     "name": "stderr",
     "output_type": "stream",
     "text": [
      "/opt/anaconda3/envs/py39_keras_rl/lib/python3.9/site-packages/keras/src/engine/training_v1.py:2359: UserWarning: `Model.state_updates` will be removed in a future version. This property should not be used in TensorFlow 2.0, as `updates` are applied automatically.\n",
      "  updates=self.state_updates,\n",
      "2025-03-10 14:47:46.074277: W tensorflow/c/c_api.cc:305] Operation '{name:'activation_2/activation_2/Identity' id:76 op device:{requested: '', assigned: ''} def:{{{node activation_2/activation_2/Identity}} = Identity[T=DT_FLOAT, _has_manual_control_dependencies=true](dense_2/BiasAdd)}}' was changed by setting attribute after it was run by a session. This mutation will have no effect, and will trigger an error in the future. Either don't modify nodes after running them or create a new session.\n",
      "2025-03-10 14:47:46.093240: W tensorflow/c/c_api.cc:305] Operation '{name:'count_3/Assign' id:268 op device:{requested: '', assigned: ''} def:{{{node count_3/Assign}} = AssignVariableOp[_has_manual_control_dependencies=true, dtype=DT_FLOAT, validate_shape=false](count_3, count_3/Initializer/zeros)}}' was changed by setting attribute after it was run by a session. This mutation will have no effect, and will trigger an error in the future. Either don't modify nodes after running them or create a new session.\n",
      "/opt/anaconda3/envs/py39_keras_rl/lib/python3.9/site-packages/rl/memory.py:37: UserWarning: Not enough entries to sample without replacement. Consider increasing your warm-up phase to avoid oversampling!\n",
      "  warnings.warn('Not enough entries to sample without replacement. Consider increasing your warm-up phase to avoid oversampling!')\n",
      "2025-03-10 14:47:46.139486: W tensorflow/c/c_api.cc:305] Operation '{name:'activation_2_1/activation_2/Identity' id:151 op device:{requested: '', assigned: ''} def:{{{node activation_2_1/activation_2/Identity}} = Identity[T=DT_FLOAT, _has_manual_control_dependencies=true](dense_2_1/BiasAdd)}}' was changed by setting attribute after it was run by a session. This mutation will have no effect, and will trigger an error in the future. Either don't modify nodes after running them or create a new session.\n",
      "2025-03-10 14:47:46.274015: W tensorflow/c/c_api.cc:305] Operation '{name:'loss_3/AddN' id:364 op device:{requested: '', assigned: ''} def:{{{node loss_3/AddN}} = AddN[N=2, T=DT_FLOAT, _has_manual_control_dependencies=true](loss_3/mul, loss_3/mul_1)}}' was changed by setting attribute after it was run by a session. This mutation will have no effect, and will trigger an error in the future. Either don't modify nodes after running them or create a new session.\n",
      "2025-03-10 14:47:46.300049: W tensorflow/c/c_api.cc:305] Operation '{name:'training/Adam/dense/bias/m/Assign' id:515 op device:{requested: '', assigned: ''} def:{{{node training/Adam/dense/bias/m/Assign}} = AssignVariableOp[_has_manual_control_dependencies=true, dtype=DT_FLOAT, validate_shape=false](training/Adam/dense/bias/m, training/Adam/dense/bias/m/Initializer/zeros)}}' was changed by setting attribute after it was run by a session. This mutation will have no effect, and will trigger an error in the future. Either don't modify nodes after running them or create a new session.\n"
     ]
    },
    {
     "name": "stdout",
     "output_type": "stream",
     "text": [
      "    26/20000: episode: 1, duration: 0.464s, episode steps:  26, steps per second:  56, episode reward: 26.000, mean reward:  1.000 [ 1.000,  1.000], mean action: 0.538 [0.000, 1.000],  loss: 0.512875, mae: 0.529912, mean_q: 0.053044, mean_eps: 0.999190\n",
      "    55/20000: episode: 2, duration: 0.123s, episode steps:  29, steps per second: 235, episode reward: 29.000, mean reward:  1.000 [ 1.000,  1.000], mean action: 0.414 [0.000, 1.000],  loss: 0.341856, mae: 0.512733, mean_q: 0.231258, mean_eps: 0.998200\n",
      "    64/20000: episode: 3, duration: 0.038s, episode steps:   9, steps per second: 237, episode reward:  9.000, mean reward:  1.000 [ 1.000,  1.000], mean action: 0.111 [0.000, 1.000],  loss: 0.177482, mae: 0.506869, mean_q: 0.479997, mean_eps: 0.997345\n"
     ]
    },
    {
     "name": "stderr",
     "output_type": "stream",
     "text": [
      "/opt/anaconda3/envs/py39_keras_rl/lib/python3.9/site-packages/rl/memory.py:37: UserWarning: Not enough entries to sample without replacement. Consider increasing your warm-up phase to avoid oversampling!\n",
      "  warnings.warn('Not enough entries to sample without replacement. Consider increasing your warm-up phase to avoid oversampling!')\n"
     ]
    },
    {
     "name": "stdout",
     "output_type": "stream",
     "text": [
      "    97/20000: episode: 4, duration: 0.187s, episode steps:  33, steps per second: 177, episode reward: 33.000, mean reward:  1.000 [ 1.000,  1.000], mean action: 0.485 [0.000, 1.000],  loss: 0.061310, mae: 0.548144, mean_q: 0.831336, mean_eps: 0.996400\n",
      "   106/20000: episode: 5, duration: 0.042s, episode steps:   9, steps per second: 216, episode reward:  9.000, mean reward:  1.000 [ 1.000,  1.000], mean action: 0.778 [0.000, 1.000],  loss: 0.289286, mae: 0.845300, mean_q: 1.081209, mean_eps: 0.995455\n",
      "   133/20000: episode: 6, duration: 0.109s, episode steps:  27, steps per second: 247, episode reward: 27.000, mean reward:  1.000 [ 1.000,  1.000], mean action: 0.556 [0.000, 1.000],  loss: 0.187972, mae: 1.133041, mean_q: 1.791945, mean_eps: 0.994645\n",
      "   158/20000: episode: 7, duration: 0.107s, episode steps:  25, steps per second: 233, episode reward: 25.000, mean reward:  1.000 [ 1.000,  1.000], mean action: 0.400 [0.000, 1.000],  loss: 0.103561, mae: 1.143291, mean_q: 2.128286, mean_eps: 0.993475\n",
      "   169/20000: episode: 8, duration: 0.048s, episode steps:  11, steps per second: 231, episode reward: 11.000, mean reward:  1.000 [ 1.000,  1.000], mean action: 0.273 [0.000, 1.000],  loss: 0.071252, mae: 1.108717, mean_q: 2.094528, mean_eps: 0.992665\n",
      "   190/20000: episode: 9, duration: 0.087s, episode steps:  21, steps per second: 240, episode reward: 21.000, mean reward:  1.000 [ 1.000,  1.000], mean action: 0.667 [0.000, 1.000],  loss: 0.074393, mae: 1.116477, mean_q: 2.103909, mean_eps: 0.991945\n",
      "   220/20000: episode: 10, duration: 0.130s, episode steps:  30, steps per second: 230, episode reward: 30.000, mean reward:  1.000 [ 1.000,  1.000], mean action: 0.533 [0.000, 1.000],  loss: 0.246397, mae: 1.413166, mean_q: 2.386350, mean_eps: 0.990797\n",
      "   245/20000: episode: 11, duration: 0.102s, episode steps:  25, steps per second: 245, episode reward: 25.000, mean reward:  1.000 [ 1.000,  1.000], mean action: 0.440 [0.000, 1.000],  loss: 0.182237, mae: 1.681071, mean_q: 3.264938, mean_eps: 0.989560\n",
      "   261/20000: episode: 12, duration: 0.067s, episode steps:  16, steps per second: 238, episode reward: 16.000, mean reward:  1.000 [ 1.000,  1.000], mean action: 0.688 [0.000, 1.000],  loss: 0.109377, mae: 1.620748, mean_q: 3.157921, mean_eps: 0.988638\n",
      "   276/20000: episode: 13, duration: 0.067s, episode steps:  15, steps per second: 225, episode reward: 15.000, mean reward:  1.000 [ 1.000,  1.000], mean action: 0.400 [0.000, 1.000],  loss: 0.132064, mae: 1.642353, mean_q: 3.241364, mean_eps: 0.987940\n",
      "   289/20000: episode: 14, duration: 0.058s, episode steps:  13, steps per second: 226, episode reward: 13.000, mean reward:  1.000 [ 1.000,  1.000], mean action: 0.692 [0.000, 1.000],  loss: 0.213540, mae: 1.652809, mean_q: 3.199556, mean_eps: 0.987310\n",
      "   310/20000: episode: 15, duration: 0.087s, episode steps:  21, steps per second: 243, episode reward: 21.000, mean reward:  1.000 [ 1.000,  1.000], mean action: 0.524 [0.000, 1.000],  loss: 0.354891, mae: 1.857668, mean_q: 3.253436, mean_eps: 0.986545\n",
      "   321/20000: episode: 16, duration: 0.052s, episode steps:  11, steps per second: 211, episode reward: 11.000, mean reward:  1.000 [ 1.000,  1.000], mean action: 0.818 [0.000, 1.000],  loss: 0.265207, mae: 2.141890, mean_q: 4.064528, mean_eps: 0.985825\n",
      "   332/20000: episode: 17, duration: 0.058s, episode steps:  11, steps per second: 191, episode reward: 11.000, mean reward:  1.000 [ 1.000,  1.000], mean action: 0.364 [0.000, 1.000],  loss: 0.357864, mae: 2.218350, mean_q: 4.283023, mean_eps: 0.985330\n",
      "   356/20000: episode: 18, duration: 0.116s, episode steps:  24, steps per second: 207, episode reward: 24.000, mean reward:  1.000 [ 1.000,  1.000], mean action: 0.458 [0.000, 1.000],  loss: 0.229026, mae: 2.112591, mean_q: 3.999904, mean_eps: 0.984542\n",
      "   370/20000: episode: 19, duration: 0.059s, episode steps:  14, steps per second: 236, episode reward: 14.000, mean reward:  1.000 [ 1.000,  1.000], mean action: 0.643 [0.000, 1.000],  loss: 0.226723, mae: 2.141384, mean_q: 4.159865, mean_eps: 0.983688\n",
      "   383/20000: episode: 20, duration: 0.059s, episode steps:  13, steps per second: 222, episode reward: 13.000, mean reward:  1.000 [ 1.000,  1.000], mean action: 0.692 [0.000, 1.000],  loss: 0.219820, mae: 2.115581, mean_q: 4.132280, mean_eps: 0.983080\n",
      "   397/20000: episode: 21, duration: 0.062s, episode steps:  14, steps per second: 227, episode reward: 14.000, mean reward:  1.000 [ 1.000,  1.000], mean action: 0.286 [0.000, 1.000],  loss: 0.279854, mae: 2.144410, mean_q: 4.118546, mean_eps: 0.982472\n",
      "   421/20000: episode: 22, duration: 0.105s, episode steps:  24, steps per second: 229, episode reward: 24.000, mean reward:  1.000 [ 1.000,  1.000], mean action: 0.375 [0.000, 1.000],  loss: 0.506398, mae: 2.529859, mean_q: 4.531591, mean_eps: 0.981618\n",
      "   439/20000: episode: 23, duration: 0.079s, episode steps:  18, steps per second: 227, episode reward: 18.000, mean reward:  1.000 [ 1.000,  1.000], mean action: 0.667 [0.000, 1.000],  loss: 0.479996, mae: 2.634695, mean_q: 5.005112, mean_eps: 0.980672\n",
      "   452/20000: episode: 24, duration: 0.057s, episode steps:  13, steps per second: 228, episode reward: 13.000, mean reward:  1.000 [ 1.000,  1.000], mean action: 0.692 [0.000, 1.000],  loss: 0.486861, mae: 2.631586, mean_q: 4.816508, mean_eps: 0.979975\n",
      "   503/20000: episode: 25, duration: 0.215s, episode steps:  51, steps per second: 237, episode reward: 51.000, mean reward:  1.000 [ 1.000,  1.000], mean action: 0.549 [0.000, 1.000],  loss: 0.378967, mae: 2.628376, mean_q: 5.003326, mean_eps: 0.978535\n",
      "   534/20000: episode: 26, duration: 0.126s, episode steps:  31, steps per second: 247, episode reward: 31.000, mean reward:  1.000 [ 1.000,  1.000], mean action: 0.516 [0.000, 1.000],  loss: 0.557514, mae: 3.094421, mean_q: 5.859075, mean_eps: 0.976690\n",
      "   563/20000: episode: 27, duration: 0.125s, episode steps:  29, steps per second: 233, episode reward: 29.000, mean reward:  1.000 [ 1.000,  1.000], mean action: 0.552 [0.000, 1.000],  loss: 0.422571, mae: 3.075152, mean_q: 5.931388, mean_eps: 0.975340\n",
      "   586/20000: episode: 28, duration: 0.097s, episode steps:  23, steps per second: 238, episode reward: 23.000, mean reward:  1.000 [ 1.000,  1.000], mean action: 0.348 [0.000, 1.000],  loss: 0.423755, mae: 3.090628, mean_q: 5.916018, mean_eps: 0.974170\n",
      "   605/20000: episode: 29, duration: 0.078s, episode steps:  19, steps per second: 243, episode reward: 19.000, mean reward:  1.000 [ 1.000,  1.000], mean action: 0.632 [0.000, 1.000],  loss: 0.520877, mae: 3.148369, mean_q: 5.940361, mean_eps: 0.973225\n",
      "   668/20000: episode: 30, duration: 0.258s, episode steps:  63, steps per second: 245, episode reward: 63.000, mean reward:  1.000 [ 1.000,  1.000], mean action: 0.587 [0.000, 1.000],  loss: 0.515739, mae: 3.545912, mean_q: 6.745013, mean_eps: 0.971380\n",
      "   688/20000: episode: 31, duration: 0.081s, episode steps:  20, steps per second: 246, episode reward: 20.000, mean reward:  1.000 [ 1.000,  1.000], mean action: 0.350 [0.000, 1.000],  loss: 0.377442, mae: 3.554086, mean_q: 6.897294, mean_eps: 0.969512\n",
      "   703/20000: episode: 32, duration: 0.063s, episode steps:  15, steps per second: 237, episode reward: 15.000, mean reward:  1.000 [ 1.000,  1.000], mean action: 0.400 [0.000, 1.000],  loss: 0.439892, mae: 3.579152, mean_q: 6.830940, mean_eps: 0.968725\n",
      "   727/20000: episode: 33, duration: 0.101s, episode steps:  24, steps per second: 239, episode reward: 24.000, mean reward:  1.000 [ 1.000,  1.000], mean action: 0.375 [0.000, 1.000],  loss: 0.496632, mae: 3.995719, mean_q: 7.791463, mean_eps: 0.967847\n",
      "   743/20000: episode: 34, duration: 0.070s, episode steps:  16, steps per second: 229, episode reward: 16.000, mean reward:  1.000 [ 1.000,  1.000], mean action: 0.312 [0.000, 1.000],  loss: 0.603856, mae: 3.956515, mean_q: 7.632201, mean_eps: 0.966948\n",
      "   752/20000: episode: 35, duration: 0.042s, episode steps:   9, steps per second: 214, episode reward:  9.000, mean reward:  1.000 [ 1.000,  1.000], mean action: 0.889 [0.000, 1.000],  loss: 0.537049, mae: 3.961878, mean_q: 7.616577, mean_eps: 0.966385\n",
      "   785/20000: episode: 36, duration: 0.142s, episode steps:  33, steps per second: 233, episode reward: 33.000, mean reward:  1.000 [ 1.000,  1.000], mean action: 0.515 [0.000, 1.000],  loss: 0.526103, mae: 3.963419, mean_q: 7.706012, mean_eps: 0.965440\n",
      "   802/20000: episode: 37, duration: 0.075s, episode steps:  17, steps per second: 226, episode reward: 17.000, mean reward:  1.000 [ 1.000,  1.000], mean action: 0.529 [0.000, 1.000],  loss: 0.475331, mae: 4.016691, mean_q: 7.819617, mean_eps: 0.964315\n",
      "   816/20000: episode: 38, duration: 0.060s, episode steps:  14, steps per second: 232, episode reward: 14.000, mean reward:  1.000 [ 1.000,  1.000], mean action: 0.500 [0.000, 1.000],  loss: 0.537314, mae: 4.408108, mean_q: 8.504309, mean_eps: 0.963617\n",
      "   834/20000: episode: 39, duration: 0.078s, episode steps:  18, steps per second: 230, episode reward: 18.000, mean reward:  1.000 [ 1.000,  1.000], mean action: 0.611 [0.000, 1.000],  loss: 0.851238, mae: 4.451677, mean_q: 8.566997, mean_eps: 0.962897\n",
      "   859/20000: episode: 40, duration: 0.104s, episode steps:  25, steps per second: 240, episode reward: 25.000, mean reward:  1.000 [ 1.000,  1.000], mean action: 0.480 [0.000, 1.000],  loss: 0.642294, mae: 4.411920, mean_q: 8.534616, mean_eps: 0.961930\n",
      "   875/20000: episode: 41, duration: 0.070s, episode steps:  16, steps per second: 228, episode reward: 16.000, mean reward:  1.000 [ 1.000,  1.000], mean action: 0.688 [0.000, 1.000],  loss: 0.667106, mae: 4.422194, mean_q: 8.535855, mean_eps: 0.961008\n",
      "   923/20000: episode: 42, duration: 0.200s, episode steps:  48, steps per second: 240, episode reward: 48.000, mean reward:  1.000 [ 1.000,  1.000], mean action: 0.458 [0.000, 1.000],  loss: 0.652096, mae: 4.640744, mean_q: 9.058182, mean_eps: 0.959567\n",
      "   937/20000: episode: 43, duration: 0.059s, episode steps:  14, steps per second: 238, episode reward: 14.000, mean reward:  1.000 [ 1.000,  1.000], mean action: 0.571 [0.000, 1.000],  loss: 1.027673, mae: 4.806091, mean_q: 9.242943, mean_eps: 0.958172\n",
      "   961/20000: episode: 44, duration: 0.098s, episode steps:  24, steps per second: 244, episode reward: 24.000, mean reward:  1.000 [ 1.000,  1.000], mean action: 0.375 [0.000, 1.000],  loss: 0.975861, mae: 4.854515, mean_q: 9.407253, mean_eps: 0.957317\n",
      "   979/20000: episode: 45, duration: 0.077s, episode steps:  18, steps per second: 232, episode reward: 18.000, mean reward:  1.000 [ 1.000,  1.000], mean action: 0.722 [0.000, 1.000],  loss: 0.743761, mae: 4.900978, mean_q: 9.566911, mean_eps: 0.956372\n",
      "  1009/20000: episode: 46, duration: 0.120s, episode steps:  30, steps per second: 250, episode reward: 30.000, mean reward:  1.000 [ 1.000,  1.000], mean action: 0.433 [0.000, 1.000],  loss: 1.099420, mae: 4.956775, mean_q: 9.474369, mean_eps: 0.955293\n",
      "  1038/20000: episode: 47, duration: 0.119s, episode steps:  29, steps per second: 245, episode reward: 29.000, mean reward:  1.000 [ 1.000,  1.000], mean action: 0.552 [0.000, 1.000],  loss: 0.973033, mae: 5.239864, mean_q: 10.238534, mean_eps: 0.953965\n",
      "  1063/20000: episode: 48, duration: 0.102s, episode steps:  25, steps per second: 245, episode reward: 25.000, mean reward:  1.000 [ 1.000,  1.000], mean action: 0.440 [0.000, 1.000],  loss: 0.973421, mae: 5.257998, mean_q: 10.200685, mean_eps: 0.952750\n",
      "  1084/20000: episode: 49, duration: 0.086s, episode steps:  21, steps per second: 243, episode reward: 21.000, mean reward:  1.000 [ 1.000,  1.000], mean action: 0.429 [0.000, 1.000],  loss: 0.731995, mae: 5.268355, mean_q: 10.314728, mean_eps: 0.951715\n",
      "  1099/20000: episode: 50, duration: 0.067s, episode steps:  15, steps per second: 225, episode reward: 15.000, mean reward:  1.000 [ 1.000,  1.000], mean action: 0.333 [0.000, 1.000],  loss: 0.627144, mae: 5.256232, mean_q: 10.316584, mean_eps: 0.950905\n",
      "  1117/20000: episode: 51, duration: 0.075s, episode steps:  18, steps per second: 240, episode reward: 18.000, mean reward:  1.000 [ 1.000,  1.000], mean action: 0.667 [0.000, 1.000],  loss: 1.011752, mae: 5.619778, mean_q: 10.926405, mean_eps: 0.950162\n",
      "  1132/20000: episode: 52, duration: 0.062s, episode steps:  15, steps per second: 241, episode reward: 15.000, mean reward:  1.000 [ 1.000,  1.000], mean action: 0.467 [0.000, 1.000],  loss: 0.973695, mae: 5.681339, mean_q: 11.089235, mean_eps: 0.949420\n",
      "  1157/20000: episode: 53, duration: 0.106s, episode steps:  25, steps per second: 235, episode reward: 25.000, mean reward:  1.000 [ 1.000,  1.000], mean action: 0.520 [0.000, 1.000],  loss: 1.190022, mae: 5.722283, mean_q: 11.133260, mean_eps: 0.948520\n",
      "  1168/20000: episode: 54, duration: 0.046s, episode steps:  11, steps per second: 237, episode reward: 11.000, mean reward:  1.000 [ 1.000,  1.000], mean action: 0.273 [0.000, 1.000],  loss: 0.532325, mae: 5.679532, mean_q: 11.313765, mean_eps: 0.947710\n",
      "  1198/20000: episode: 55, duration: 0.122s, episode steps:  30, steps per second: 247, episode reward: 30.000, mean reward:  1.000 [ 1.000,  1.000], mean action: 0.533 [0.000, 1.000],  loss: 0.879617, mae: 5.712490, mean_q: 11.241893, mean_eps: 0.946787\n",
      "  1231/20000: episode: 56, duration: 0.141s, episode steps:  33, steps per second: 234, episode reward: 33.000, mean reward:  1.000 [ 1.000,  1.000], mean action: 0.545 [0.000, 1.000],  loss: 1.100124, mae: 6.049487, mean_q: 11.841752, mean_eps: 0.945370\n",
      "  1244/20000: episode: 57, duration: 0.057s, episode steps:  13, steps per second: 227, episode reward: 13.000, mean reward:  1.000 [ 1.000,  1.000], mean action: 0.231 [0.000, 1.000],  loss: 0.899409, mae: 6.081552, mean_q: 12.025728, mean_eps: 0.944335\n",
      "  1254/20000: episode: 58, duration: 0.043s, episode steps:  10, steps per second: 233, episode reward: 10.000, mean reward:  1.000 [ 1.000,  1.000], mean action: 0.100 [0.000, 1.000],  loss: 1.222905, mae: 6.050512, mean_q: 11.916428, mean_eps: 0.943817\n",
      "  1276/20000: episode: 59, duration: 0.088s, episode steps:  22, steps per second: 249, episode reward: 22.000, mean reward:  1.000 [ 1.000,  1.000], mean action: 0.455 [0.000, 1.000],  loss: 0.968248, mae: 6.145046, mean_q: 12.083206, mean_eps: 0.943097\n",
      "  1295/20000: episode: 60, duration: 0.082s, episode steps:  19, steps per second: 231, episode reward: 19.000, mean reward:  1.000 [ 1.000,  1.000], mean action: 0.368 [0.000, 1.000],  loss: 0.903799, mae: 6.155261, mean_q: 12.192586, mean_eps: 0.942175\n",
      "  1311/20000: episode: 61, duration: 0.067s, episode steps:  16, steps per second: 237, episode reward: 16.000, mean reward:  1.000 [ 1.000,  1.000], mean action: 0.188 [0.000, 1.000],  loss: 1.675320, mae: 6.225887, mean_q: 11.949127, mean_eps: 0.941388\n",
      "  1331/20000: episode: 62, duration: 0.081s, episode steps:  20, steps per second: 247, episode reward: 20.000, mean reward:  1.000 [ 1.000,  1.000], mean action: 0.650 [0.000, 1.000],  loss: 1.030178, mae: 6.427917, mean_q: 12.680508, mean_eps: 0.940577\n",
      "  1372/20000: episode: 63, duration: 0.165s, episode steps:  41, steps per second: 248, episode reward: 41.000, mean reward:  1.000 [ 1.000,  1.000], mean action: 0.390 [0.000, 1.000],  loss: 0.999260, mae: 6.452914, mean_q: 12.758677, mean_eps: 0.939205\n",
      "  1397/20000: episode: 64, duration: 0.099s, episode steps:  25, steps per second: 252, episode reward: 25.000, mean reward:  1.000 [ 1.000,  1.000], mean action: 0.520 [0.000, 1.000],  loss: 0.727785, mae: 6.450994, mean_q: 12.788827, mean_eps: 0.937720\n",
      "  1446/20000: episode: 65, duration: 0.197s, episode steps:  49, steps per second: 248, episode reward: 49.000, mean reward:  1.000 [ 1.000,  1.000], mean action: 0.510 [0.000, 1.000],  loss: 1.161248, mae: 6.817523, mean_q: 13.458791, mean_eps: 0.936055\n",
      "  1467/20000: episode: 66, duration: 0.084s, episode steps:  21, steps per second: 251, episode reward: 21.000, mean reward:  1.000 [ 1.000,  1.000], mean action: 0.429 [0.000, 1.000],  loss: 0.658718, mae: 6.891188, mean_q: 13.815032, mean_eps: 0.934480\n",
      "  1486/20000: episode: 67, duration: 0.078s, episode steps:  19, steps per second: 243, episode reward: 19.000, mean reward:  1.000 [ 1.000,  1.000], mean action: 0.316 [0.000, 1.000],  loss: 0.826385, mae: 6.780970, mean_q: 13.598173, mean_eps: 0.933580\n",
      "  1505/20000: episode: 68, duration: 0.083s, episode steps:  19, steps per second: 229, episode reward: 19.000, mean reward:  1.000 [ 1.000,  1.000], mean action: 0.421 [0.000, 1.000],  loss: 1.600637, mae: 6.883292, mean_q: 13.492236, mean_eps: 0.932725\n",
      "  1548/20000: episode: 69, duration: 0.174s, episode steps:  43, steps per second: 247, episode reward: 43.000, mean reward:  1.000 [ 1.000,  1.000], mean action: 0.512 [0.000, 1.000],  loss: 1.291086, mae: 7.070658, mean_q: 14.015768, mean_eps: 0.931330\n",
      "  1582/20000: episode: 70, duration: 0.138s, episode steps:  34, steps per second: 246, episode reward: 34.000, mean reward:  1.000 [ 1.000,  1.000], mean action: 0.441 [0.000, 1.000],  loss: 0.856426, mae: 7.131359, mean_q: 14.319465, mean_eps: 0.929597\n",
      "  1605/20000: episode: 71, duration: 0.095s, episode steps:  23, steps per second: 242, episode reward: 23.000, mean reward:  1.000 [ 1.000,  1.000], mean action: 0.391 [0.000, 1.000],  loss: 1.120111, mae: 7.164795, mean_q: 14.176843, mean_eps: 0.928315\n",
      "  1631/20000: episode: 72, duration: 0.111s, episode steps:  26, steps per second: 234, episode reward: 26.000, mean reward:  1.000 [ 1.000,  1.000], mean action: 0.346 [0.000, 1.000],  loss: 0.910075, mae: 7.576891, mean_q: 15.185171, mean_eps: 0.927212\n",
      "  1654/20000: episode: 73, duration: 0.095s, episode steps:  23, steps per second: 242, episode reward: 23.000, mean reward:  1.000 [ 1.000,  1.000], mean action: 0.522 [0.000, 1.000],  loss: 1.368003, mae: 7.578770, mean_q: 15.173371, mean_eps: 0.926110\n",
      "  1690/20000: episode: 74, duration: 0.151s, episode steps:  36, steps per second: 238, episode reward: 36.000, mean reward:  1.000 [ 1.000,  1.000], mean action: 0.556 [0.000, 1.000],  loss: 0.990392, mae: 7.579503, mean_q: 15.218803, mean_eps: 0.924782\n",
      "  1703/20000: episode: 75, duration: 0.057s, episode steps:  13, steps per second: 227, episode reward: 13.000, mean reward:  1.000 [ 1.000,  1.000], mean action: 0.692 [0.000, 1.000],  loss: 1.237118, mae: 7.606847, mean_q: 15.154749, mean_eps: 0.923680\n",
      "  1722/20000: episode: 76, duration: 0.077s, episode steps:  19, steps per second: 247, episode reward: 19.000, mean reward:  1.000 [ 1.000,  1.000], mean action: 0.474 [0.000, 1.000],  loss: 1.644326, mae: 7.970621, mean_q: 15.900097, mean_eps: 0.922960\n",
      "  1734/20000: episode: 77, duration: 0.055s, episode steps:  12, steps per second: 218, episode reward: 12.000, mean reward:  1.000 [ 1.000,  1.000], mean action: 0.417 [0.000, 1.000],  loss: 1.381880, mae: 7.890751, mean_q: 15.766025, mean_eps: 0.922262\n",
      "  1763/20000: episode: 78, duration: 0.161s, episode steps:  29, steps per second: 180, episode reward: 29.000, mean reward:  1.000 [ 1.000,  1.000], mean action: 0.655 [0.000, 1.000],  loss: 1.761934, mae: 7.975740, mean_q: 15.797138, mean_eps: 0.921340\n",
      "  1775/20000: episode: 79, duration: 0.051s, episode steps:  12, steps per second: 233, episode reward: 12.000, mean reward:  1.000 [ 1.000,  1.000], mean action: 0.667 [0.000, 1.000],  loss: 1.288468, mae: 7.923180, mean_q: 15.706832, mean_eps: 0.920418\n",
      "  1803/20000: episode: 80, duration: 0.116s, episode steps:  28, steps per second: 242, episode reward: 28.000, mean reward:  1.000 [ 1.000,  1.000], mean action: 0.429 [0.000, 1.000],  loss: 1.608010, mae: 7.982599, mean_q: 15.803328, mean_eps: 0.919518\n",
      "  1829/20000: episode: 81, duration: 0.143s, episode steps:  26, steps per second: 181, episode reward: 26.000, mean reward:  1.000 [ 1.000,  1.000], mean action: 0.385 [0.000, 1.000],  loss: 1.565061, mae: 8.482072, mean_q: 16.888708, mean_eps: 0.918302\n",
      "  1857/20000: episode: 82, duration: 0.153s, episode steps:  28, steps per second: 183, episode reward: 28.000, mean reward:  1.000 [ 1.000,  1.000], mean action: 0.500 [0.000, 1.000],  loss: 1.756057, mae: 8.423039, mean_q: 16.671363, mean_eps: 0.917088\n",
      "  1866/20000: episode: 83, duration: 0.040s, episode steps:   9, steps per second: 223, episode reward:  9.000, mean reward:  1.000 [ 1.000,  1.000], mean action: 0.778 [0.000, 1.000],  loss: 2.021226, mae: 8.302735, mean_q: 16.406561, mean_eps: 0.916255\n",
      "  1883/20000: episode: 84, duration: 0.073s, episode steps:  17, steps per second: 232, episode reward: 17.000, mean reward:  1.000 [ 1.000,  1.000], mean action: 0.353 [0.000, 1.000],  loss: 1.670604, mae: 8.463895, mean_q: 16.735320, mean_eps: 0.915670\n",
      "  1897/20000: episode: 85, duration: 0.062s, episode steps:  14, steps per second: 226, episode reward: 14.000, mean reward:  1.000 [ 1.000,  1.000], mean action: 0.643 [0.000, 1.000],  loss: 1.450199, mae: 8.297689, mean_q: 16.628942, mean_eps: 0.914973\n",
      "  1946/20000: episode: 86, duration: 0.275s, episode steps:  49, steps per second: 178, episode reward: 49.000, mean reward:  1.000 [ 1.000,  1.000], mean action: 0.592 [0.000, 1.000],  loss: 1.517685, mae: 8.679401, mean_q: 17.306548, mean_eps: 0.913555\n",
      "  1996/20000: episode: 87, duration: 0.301s, episode steps:  50, steps per second: 166, episode reward: 50.000, mean reward:  1.000 [ 1.000,  1.000], mean action: 0.480 [0.000, 1.000],  loss: 1.176453, mae: 8.718874, mean_q: 17.560384, mean_eps: 0.911327\n",
      "  2004/20000: episode: 88, duration: 0.037s, episode steps:   8, steps per second: 216, episode reward:  8.000, mean reward:  1.000 [ 1.000,  1.000], mean action: 0.875 [0.000, 1.000],  loss: 0.874234, mae: 8.929744, mean_q: 17.828024, mean_eps: 0.910022\n",
      "  2064/20000: episode: 89, duration: 0.251s, episode steps:  60, steps per second: 239, episode reward: 60.000, mean reward:  1.000 [ 1.000,  1.000], mean action: 0.500 [0.000, 1.000],  loss: 1.657959, mae: 9.164883, mean_q: 18.364725, mean_eps: 0.908492\n",
      "  2115/20000: episode: 90, duration: 0.208s, episode steps:  51, steps per second: 245, episode reward: 51.000, mean reward:  1.000 [ 1.000,  1.000], mean action: 0.529 [0.000, 1.000],  loss: 1.613399, mae: 9.318015, mean_q: 18.550286, mean_eps: 0.905995\n",
      "  2170/20000: episode: 91, duration: 0.232s, episode steps:  55, steps per second: 237, episode reward: 55.000, mean reward:  1.000 [ 1.000,  1.000], mean action: 0.473 [0.000, 1.000],  loss: 1.506162, mae: 9.646154, mean_q: 19.353973, mean_eps: 0.903610\n",
      "  2180/20000: episode: 92, duration: 0.047s, episode steps:  10, steps per second: 214, episode reward: 10.000, mean reward:  1.000 [ 1.000,  1.000], mean action: 0.700 [0.000, 1.000],  loss: 0.935031, mae: 9.652484, mean_q: 19.378446, mean_eps: 0.902147\n",
      "  2190/20000: episode: 93, duration: 0.045s, episode steps:  10, steps per second: 223, episode reward: 10.000, mean reward:  1.000 [ 1.000,  1.000], mean action: 0.300 [0.000, 1.000],  loss: 1.599154, mae: 9.838565, mean_q: 19.691607, mean_eps: 0.901698\n",
      "  2209/20000: episode: 94, duration: 0.080s, episode steps:  19, steps per second: 238, episode reward: 19.000, mean reward:  1.000 [ 1.000,  1.000], mean action: 0.316 [0.000, 1.000],  loss: 1.412023, mae: 9.690006, mean_q: 19.471274, mean_eps: 0.901045\n",
      "  2230/20000: episode: 95, duration: 0.091s, episode steps:  21, steps per second: 232, episode reward: 21.000, mean reward:  1.000 [ 1.000,  1.000], mean action: 0.476 [0.000, 1.000],  loss: 1.782683, mae: 9.991055, mean_q: 19.986174, mean_eps: 0.900145\n",
      "  2243/20000: episode: 96, duration: 0.054s, episode steps:  13, steps per second: 239, episode reward: 13.000, mean reward:  1.000 [ 1.000,  1.000], mean action: 0.308 [0.000, 1.000],  loss: 1.055380, mae: 9.989443, mean_q: 20.255208, mean_eps: 0.899380\n",
      "  2340/20000: episode: 97, duration: 0.383s, episode steps:  97, steps per second: 253, episode reward: 97.000, mean reward:  1.000 [ 1.000,  1.000], mean action: 0.485 [0.000, 1.000],  loss: 1.469540, mae: 10.189863, mean_q: 20.612511, mean_eps: 0.896905\n",
      "  2382/20000: episode: 98, duration: 0.165s, episode steps:  42, steps per second: 255, episode reward: 42.000, mean reward:  1.000 [ 1.000,  1.000], mean action: 0.619 [0.000, 1.000],  loss: 1.645150, mae: 10.443488, mean_q: 21.146548, mean_eps: 0.893778\n",
      "  2460/20000: episode: 99, duration: 0.313s, episode steps:  78, steps per second: 249, episode reward: 78.000, mean reward:  1.000 [ 1.000,  1.000], mean action: 0.538 [0.000, 1.000],  loss: 1.431183, mae: 10.697027, mean_q: 21.587475, mean_eps: 0.891078\n",
      "  2528/20000: episode: 100, duration: 0.275s, episode steps:  68, steps per second: 247, episode reward: 68.000, mean reward:  1.000 [ 1.000,  1.000], mean action: 0.456 [0.000, 1.000],  loss: 1.364835, mae: 11.001217, mean_q: 22.352459, mean_eps: 0.887793\n",
      "  2556/20000: episode: 101, duration: 0.111s, episode steps:  28, steps per second: 253, episode reward: 28.000, mean reward:  1.000 [ 1.000,  1.000], mean action: 0.571 [0.000, 1.000],  loss: 1.432187, mae: 11.372145, mean_q: 23.087387, mean_eps: 0.885632\n",
      "  2571/20000: episode: 102, duration: 0.063s, episode steps:  15, steps per second: 239, episode reward: 15.000, mean reward:  1.000 [ 1.000,  1.000], mean action: 0.200 [0.000, 1.000],  loss: 2.775581, mae: 11.419896, mean_q: 22.992872, mean_eps: 0.884665\n",
      "  2587/20000: episode: 103, duration: 0.071s, episode steps:  16, steps per second: 226, episode reward: 16.000, mean reward:  1.000 [ 1.000,  1.000], mean action: 0.625 [0.000, 1.000],  loss: 2.448015, mae: 11.441715, mean_q: 22.994047, mean_eps: 0.883968\n",
      "  2602/20000: episode: 104, duration: 0.062s, episode steps:  15, steps per second: 243, episode reward: 15.000, mean reward:  1.000 [ 1.000,  1.000], mean action: 0.400 [0.000, 1.000],  loss: 1.220899, mae: 11.467828, mean_q: 23.251243, mean_eps: 0.883270\n",
      "  2635/20000: episode: 105, duration: 0.133s, episode steps:  33, steps per second: 248, episode reward: 33.000, mean reward:  1.000 [ 1.000,  1.000], mean action: 0.485 [0.000, 1.000],  loss: 1.835129, mae: 11.851231, mean_q: 23.900093, mean_eps: 0.882190\n",
      "  2664/20000: episode: 106, duration: 0.121s, episode steps:  29, steps per second: 240, episode reward: 29.000, mean reward:  1.000 [ 1.000,  1.000], mean action: 0.448 [0.000, 1.000],  loss: 1.763294, mae: 11.814160, mean_q: 24.001630, mean_eps: 0.880795\n",
      "  2684/20000: episode: 107, duration: 0.082s, episode steps:  20, steps per second: 245, episode reward: 20.000, mean reward:  1.000 [ 1.000,  1.000], mean action: 0.650 [0.000, 1.000],  loss: 1.657108, mae: 11.791657, mean_q: 24.066562, mean_eps: 0.879692\n",
      "  2718/20000: episode: 108, duration: 0.138s, episode steps:  34, steps per second: 245, episode reward: 34.000, mean reward:  1.000 [ 1.000,  1.000], mean action: 0.559 [0.000, 1.000],  loss: 1.662898, mae: 12.034090, mean_q: 24.412642, mean_eps: 0.878478\n",
      "  2733/20000: episode: 109, duration: 0.064s, episode steps:  15, steps per second: 233, episode reward: 15.000, mean reward:  1.000 [ 1.000,  1.000], mean action: 0.467 [0.000, 1.000],  loss: 2.719856, mae: 12.066781, mean_q: 24.558362, mean_eps: 0.877375\n",
      "  2756/20000: episode: 110, duration: 0.092s, episode steps:  23, steps per second: 250, episode reward: 23.000, mean reward:  1.000 [ 1.000,  1.000], mean action: 0.652 [0.000, 1.000],  loss: 1.588224, mae: 12.232647, mean_q: 24.954001, mean_eps: 0.876520\n",
      "  2774/20000: episode: 111, duration: 0.077s, episode steps:  18, steps per second: 234, episode reward: 18.000, mean reward:  1.000 [ 1.000,  1.000], mean action: 0.556 [0.000, 1.000],  loss: 2.187237, mae: 12.411999, mean_q: 25.179310, mean_eps: 0.875598\n",
      "  2796/20000: episode: 112, duration: 0.092s, episode steps:  22, steps per second: 238, episode reward: 22.000, mean reward:  1.000 [ 1.000,  1.000], mean action: 0.682 [0.000, 1.000],  loss: 2.608154, mae: 12.201227, mean_q: 24.646446, mean_eps: 0.874697\n",
      "  2864/20000: episode: 113, duration: 0.273s, episode steps:  68, steps per second: 249, episode reward: 68.000, mean reward:  1.000 [ 1.000,  1.000], mean action: 0.559 [0.000, 1.000],  loss: 2.066675, mae: 12.709339, mean_q: 25.733508, mean_eps: 0.872672\n",
      "  2885/20000: episode: 114, duration: 0.085s, episode steps:  21, steps per second: 247, episode reward: 21.000, mean reward:  1.000 [ 1.000,  1.000], mean action: 0.571 [0.000, 1.000],  loss: 1.854878, mae: 12.686066, mean_q: 25.845033, mean_eps: 0.870670\n",
      "  2923/20000: episode: 115, duration: 0.159s, episode steps:  38, steps per second: 238, episode reward: 38.000, mean reward:  1.000 [ 1.000,  1.000], mean action: 0.474 [0.000, 1.000],  loss: 2.323215, mae: 12.984932, mean_q: 26.342803, mean_eps: 0.869343\n",
      "  2938/20000: episode: 116, duration: 0.064s, episode steps:  15, steps per second: 235, episode reward: 15.000, mean reward:  1.000 [ 1.000,  1.000], mean action: 0.400 [0.000, 1.000],  loss: 3.845699, mae: 13.147867, mean_q: 26.649049, mean_eps: 0.868150\n",
      "  2985/20000: episode: 117, duration: 0.193s, episode steps:  47, steps per second: 243, episode reward: 47.000, mean reward:  1.000 [ 1.000,  1.000], mean action: 0.447 [0.000, 1.000],  loss: 1.960634, mae: 13.280386, mean_q: 27.027230, mean_eps: 0.866755\n",
      "  3002/20000: episode: 118, duration: 0.073s, episode steps:  17, steps per second: 233, episode reward: 17.000, mean reward:  1.000 [ 1.000,  1.000], mean action: 0.471 [0.000, 1.000],  loss: 2.471414, mae: 13.288334, mean_q: 26.909060, mean_eps: 0.865315\n",
      "  3049/20000: episode: 119, duration: 0.195s, episode steps:  47, steps per second: 240, episode reward: 47.000, mean reward:  1.000 [ 1.000,  1.000], mean action: 0.489 [0.000, 1.000],  loss: 2.872805, mae: 13.741737, mean_q: 27.825995, mean_eps: 0.863875\n",
      "  3093/20000: episode: 120, duration: 0.176s, episode steps:  44, steps per second: 251, episode reward: 44.000, mean reward:  1.000 [ 1.000,  1.000], mean action: 0.523 [0.000, 1.000],  loss: 2.386470, mae: 13.577729, mean_q: 27.687690, mean_eps: 0.861828\n",
      "  3124/20000: episode: 121, duration: 0.130s, episode steps:  31, steps per second: 239, episode reward: 31.000, mean reward:  1.000 [ 1.000,  1.000], mean action: 0.581 [0.000, 1.000],  loss: 2.197947, mae: 14.294924, mean_q: 29.004801, mean_eps: 0.860140\n",
      "  3143/20000: episode: 122, duration: 0.082s, episode steps:  19, steps per second: 233, episode reward: 19.000, mean reward:  1.000 [ 1.000,  1.000], mean action: 0.368 [0.000, 1.000],  loss: 2.653792, mae: 14.468495, mean_q: 29.366605, mean_eps: 0.859015\n",
      "  3163/20000: episode: 123, duration: 0.084s, episode steps:  20, steps per second: 238, episode reward: 20.000, mean reward:  1.000 [ 1.000,  1.000], mean action: 0.550 [0.000, 1.000],  loss: 2.380784, mae: 14.247706, mean_q: 29.124795, mean_eps: 0.858137\n",
      "  3176/20000: episode: 124, duration: 0.059s, episode steps:  13, steps per second: 220, episode reward: 13.000, mean reward:  1.000 [ 1.000,  1.000], mean action: 0.385 [0.000, 1.000],  loss: 2.631020, mae: 14.398774, mean_q: 29.374460, mean_eps: 0.857395\n",
      "  3190/20000: episode: 125, duration: 0.060s, episode steps:  14, steps per second: 235, episode reward: 14.000, mean reward:  1.000 [ 1.000,  1.000], mean action: 0.786 [0.000, 1.000],  loss: 2.276194, mae: 14.093664, mean_q: 28.833354, mean_eps: 0.856788\n",
      "  3208/20000: episode: 126, duration: 0.075s, episode steps:  18, steps per second: 241, episode reward: 18.000, mean reward:  1.000 [ 1.000,  1.000], mean action: 0.444 [0.000, 1.000],  loss: 2.008945, mae: 14.238804, mean_q: 29.075588, mean_eps: 0.856067\n",
      "  3238/20000: episode: 127, duration: 0.130s, episode steps:  30, steps per second: 231, episode reward: 30.000, mean reward:  1.000 [ 1.000,  1.000], mean action: 0.567 [0.000, 1.000],  loss: 2.441230, mae: 14.829098, mean_q: 30.135850, mean_eps: 0.854987\n",
      "  3314/20000: episode: 128, duration: 0.303s, episode steps:  76, steps per second: 251, episode reward: 76.000, mean reward:  1.000 [ 1.000,  1.000], mean action: 0.487 [0.000, 1.000],  loss: 2.603565, mae: 14.794764, mean_q: 30.308494, mean_eps: 0.852603\n",
      "  3330/20000: episode: 129, duration: 0.067s, episode steps:  16, steps per second: 240, episode reward: 16.000, mean reward:  1.000 [ 1.000,  1.000], mean action: 0.562 [0.000, 1.000],  loss: 3.227035, mae: 15.277117, mean_q: 31.067663, mean_eps: 0.850532\n",
      "  3344/20000: episode: 130, duration: 0.063s, episode steps:  14, steps per second: 224, episode reward: 14.000, mean reward:  1.000 [ 1.000,  1.000], mean action: 0.571 [0.000, 1.000],  loss: 3.276839, mae: 15.312476, mean_q: 31.173806, mean_eps: 0.849858\n",
      "  3359/20000: episode: 131, duration: 0.060s, episode steps:  15, steps per second: 249, episode reward: 15.000, mean reward:  1.000 [ 1.000,  1.000], mean action: 0.667 [0.000, 1.000],  loss: 2.699413, mae: 15.028895, mean_q: 30.640989, mean_eps: 0.849205\n",
      "  3378/20000: episode: 132, duration: 0.083s, episode steps:  19, steps per second: 230, episode reward: 19.000, mean reward:  1.000 [ 1.000,  1.000], mean action: 0.579 [0.000, 1.000],  loss: 3.639191, mae: 15.338363, mean_q: 31.092933, mean_eps: 0.848440\n",
      "  3395/20000: episode: 133, duration: 0.072s, episode steps:  17, steps per second: 235, episode reward: 17.000, mean reward:  1.000 [ 1.000,  1.000], mean action: 0.353 [0.000, 1.000],  loss: 2.306880, mae: 15.089949, mean_q: 30.897349, mean_eps: 0.847630\n",
      "  3429/20000: episode: 134, duration: 0.139s, episode steps:  34, steps per second: 244, episode reward: 34.000, mean reward:  1.000 [ 1.000,  1.000], mean action: 0.382 [0.000, 1.000],  loss: 3.146200, mae: 15.507634, mean_q: 31.517433, mean_eps: 0.846482\n",
      "  3450/20000: episode: 135, duration: 0.092s, episode steps:  21, steps per second: 228, episode reward: 21.000, mean reward:  1.000 [ 1.000,  1.000], mean action: 0.333 [0.000, 1.000],  loss: 2.451648, mae: 15.825676, mean_q: 32.211254, mean_eps: 0.845245\n",
      "  3469/20000: episode: 136, duration: 0.076s, episode steps:  19, steps per second: 251, episode reward: 19.000, mean reward:  1.000 [ 1.000,  1.000], mean action: 0.684 [0.000, 1.000],  loss: 2.365216, mae: 15.665601, mean_q: 32.016459, mean_eps: 0.844345\n",
      "  3489/20000: episode: 137, duration: 0.088s, episode steps:  20, steps per second: 228, episode reward: 20.000, mean reward:  1.000 [ 1.000,  1.000], mean action: 0.550 [0.000, 1.000],  loss: 3.096641, mae: 15.567408, mean_q: 31.722877, mean_eps: 0.843467\n",
      "  3500/20000: episode: 138, duration: 0.050s, episode steps:  11, steps per second: 220, episode reward: 11.000, mean reward:  1.000 [ 1.000,  1.000], mean action: 0.727 [0.000, 1.000],  loss: 2.740004, mae: 15.927404, mean_q: 32.468439, mean_eps: 0.842770\n",
      "  3515/20000: episode: 139, duration: 0.062s, episode steps:  15, steps per second: 243, episode reward: 15.000, mean reward:  1.000 [ 1.000,  1.000], mean action: 0.733 [0.000, 1.000],  loss: 2.585980, mae: 15.983402, mean_q: 32.446187, mean_eps: 0.842185\n",
      "  3529/20000: episode: 140, duration: 0.057s, episode steps:  14, steps per second: 245, episode reward: 14.000, mean reward:  1.000 [ 1.000,  1.000], mean action: 0.714 [0.000, 1.000],  loss: 3.502014, mae: 16.296335, mean_q: 33.157445, mean_eps: 0.841532\n",
      "  3575/20000: episode: 141, duration: 0.187s, episode steps:  46, steps per second: 246, episode reward: 46.000, mean reward:  1.000 [ 1.000,  1.000], mean action: 0.522 [0.000, 1.000],  loss: 2.722730, mae: 15.985426, mean_q: 32.696363, mean_eps: 0.840183\n",
      "  3665/20000: episode: 142, duration: 0.362s, episode steps:  90, steps per second: 249, episode reward: 90.000, mean reward:  1.000 [ 1.000,  1.000], mean action: 0.489 [0.000, 1.000],  loss: 3.103309, mae: 16.604659, mean_q: 33.890908, mean_eps: 0.837122\n",
      "  3690/20000: episode: 143, duration: 0.101s, episode steps:  25, steps per second: 246, episode reward: 25.000, mean reward:  1.000 [ 1.000,  1.000], mean action: 0.440 [0.000, 1.000],  loss: 2.227614, mae: 16.622842, mean_q: 34.144526, mean_eps: 0.834535\n",
      "  3723/20000: episode: 144, duration: 0.146s, episode steps:  33, steps per second: 226, episode reward: 33.000, mean reward:  1.000 [ 1.000,  1.000], mean action: 0.394 [0.000, 1.000],  loss: 3.074268, mae: 17.233118, mean_q: 35.193592, mean_eps: 0.833230\n",
      "  3759/20000: episode: 145, duration: 0.144s, episode steps:  36, steps per second: 251, episode reward: 36.000, mean reward:  1.000 [ 1.000,  1.000], mean action: 0.528 [0.000, 1.000],  loss: 2.914689, mae: 17.194346, mean_q: 35.253775, mean_eps: 0.831678\n",
      "  3817/20000: episode: 146, duration: 0.236s, episode steps:  58, steps per second: 246, episode reward: 58.000, mean reward:  1.000 [ 1.000,  1.000], mean action: 0.466 [0.000, 1.000],  loss: 2.723377, mae: 17.401209, mean_q: 35.710425, mean_eps: 0.829562\n",
      "  3875/20000: episode: 147, duration: 0.232s, episode steps:  58, steps per second: 250, episode reward: 58.000, mean reward:  1.000 [ 1.000,  1.000], mean action: 0.431 [0.000, 1.000],  loss: 2.797433, mae: 17.619743, mean_q: 36.130687, mean_eps: 0.826953\n",
      "  3891/20000: episode: 148, duration: 0.068s, episode steps:  16, steps per second: 235, episode reward: 16.000, mean reward:  1.000 [ 1.000,  1.000], mean action: 0.250 [0.000, 1.000],  loss: 3.073991, mae: 18.050672, mean_q: 36.806952, mean_eps: 0.825287\n",
      "  3977/20000: episode: 149, duration: 0.347s, episode steps:  86, steps per second: 248, episode reward: 86.000, mean reward:  1.000 [ 1.000,  1.000], mean action: 0.500 [0.000, 1.000],  loss: 3.153988, mae: 18.191639, mean_q: 37.281565, mean_eps: 0.822992\n",
      "  3989/20000: episode: 150, duration: 0.053s, episode steps:  12, steps per second: 225, episode reward: 12.000, mean reward:  1.000 [ 1.000,  1.000], mean action: 0.250 [0.000, 1.000],  loss: 3.846894, mae: 18.554146, mean_q: 38.199737, mean_eps: 0.820787\n",
      "  4029/20000: episode: 151, duration: 0.168s, episode steps:  40, steps per second: 239, episode reward: 40.000, mean reward:  1.000 [ 1.000,  1.000], mean action: 0.475 [0.000, 1.000],  loss: 3.661970, mae: 18.586441, mean_q: 38.042968, mean_eps: 0.819617\n",
      "  4128/20000: episode: 152, duration: 0.403s, episode steps:  99, steps per second: 246, episode reward: 99.000, mean reward:  1.000 [ 1.000,  1.000], mean action: 0.495 [0.000, 1.000],  loss: 3.281287, mae: 19.001417, mean_q: 38.944152, mean_eps: 0.816490\n",
      "  4152/20000: episode: 153, duration: 0.098s, episode steps:  24, steps per second: 245, episode reward: 24.000, mean reward:  1.000 [ 1.000,  1.000], mean action: 0.583 [0.000, 1.000],  loss: 5.516464, mae: 19.565827, mean_q: 39.892200, mean_eps: 0.813722\n",
      "  4167/20000: episode: 154, duration: 0.063s, episode steps:  15, steps per second: 238, episode reward: 15.000, mean reward:  1.000 [ 1.000,  1.000], mean action: 0.667 [0.000, 1.000],  loss: 4.080401, mae: 20.024853, mean_q: 40.689799, mean_eps: 0.812845\n",
      "  4178/20000: episode: 155, duration: 0.047s, episode steps:  11, steps per second: 232, episode reward: 11.000, mean reward:  1.000 [ 1.000,  1.000], mean action: 0.455 [0.000, 1.000],  loss: 5.014611, mae: 19.214409, mean_q: 39.588307, mean_eps: 0.812260\n",
      "  4200/20000: episode: 156, duration: 0.093s, episode steps:  22, steps per second: 237, episode reward: 22.000, mean reward:  1.000 [ 1.000,  1.000], mean action: 0.545 [0.000, 1.000],  loss: 2.129032, mae: 19.622986, mean_q: 40.055858, mean_eps: 0.811518\n",
      "  4227/20000: episode: 157, duration: 0.112s, episode steps:  27, steps per second: 241, episode reward: 27.000, mean reward:  1.000 [ 1.000,  1.000], mean action: 0.444 [0.000, 1.000],  loss: 3.833320, mae: 20.328358, mean_q: 41.515902, mean_eps: 0.810415\n",
      "  4316/20000: episode: 158, duration: 0.361s, episode steps:  89, steps per second: 246, episode reward: 89.000, mean reward:  1.000 [ 1.000,  1.000], mean action: 0.573 [0.000, 1.000],  loss: 4.444235, mae: 19.894319, mean_q: 40.791497, mean_eps: 0.807805\n",
      "  4347/20000: episode: 159, duration: 0.127s, episode steps:  31, steps per second: 244, episode reward: 31.000, mean reward:  1.000 [ 1.000,  1.000], mean action: 0.548 [0.000, 1.000],  loss: 2.865117, mae: 20.449603, mean_q: 41.963196, mean_eps: 0.805105\n",
      "  4424/20000: episode: 160, duration: 0.306s, episode steps:  77, steps per second: 251, episode reward: 77.000, mean reward:  1.000 [ 1.000,  1.000], mean action: 0.506 [0.000, 1.000],  loss: 3.830962, mae: 20.501499, mean_q: 42.211424, mean_eps: 0.802675\n",
      "  4438/20000: episode: 161, duration: 0.058s, episode steps:  14, steps per second: 243, episode reward: 14.000, mean reward:  1.000 [ 1.000,  1.000], mean action: 0.643 [0.000, 1.000],  loss: 4.152652, mae: 21.531196, mean_q: 44.288758, mean_eps: 0.800628\n",
      "  4481/20000: episode: 162, duration: 0.172s, episode steps:  43, steps per second: 250, episode reward: 43.000, mean reward:  1.000 [ 1.000,  1.000], mean action: 0.465 [0.000, 1.000],  loss: 3.723913, mae: 21.258430, mean_q: 43.793442, mean_eps: 0.799345\n",
      "  4530/20000: episode: 163, duration: 0.193s, episode steps:  49, steps per second: 253, episode reward: 49.000, mean reward:  1.000 [ 1.000,  1.000], mean action: 0.653 [0.000, 1.000],  loss: 4.943316, mae: 21.833457, mean_q: 44.672787, mean_eps: 0.797275\n",
      "  4594/20000: episode: 164, duration: 0.259s, episode steps:  64, steps per second: 247, episode reward: 64.000, mean reward:  1.000 [ 1.000,  1.000], mean action: 0.500 [0.000, 1.000],  loss: 4.067316, mae: 22.013280, mean_q: 45.208253, mean_eps: 0.794732\n",
      "  4613/20000: episode: 165, duration: 0.079s, episode steps:  19, steps per second: 240, episode reward: 19.000, mean reward:  1.000 [ 1.000,  1.000], mean action: 0.526 [0.000, 1.000],  loss: 4.121362, mae: 22.609971, mean_q: 46.340387, mean_eps: 0.792865\n",
      "  4626/20000: episode: 166, duration: 0.054s, episode steps:  13, steps per second: 241, episode reward: 13.000, mean reward:  1.000 [ 1.000,  1.000], mean action: 0.308 [0.000, 1.000],  loss: 5.791660, mae: 23.101216, mean_q: 47.152465, mean_eps: 0.792145\n",
      "  4661/20000: episode: 167, duration: 0.144s, episode steps:  35, steps per second: 244, episode reward: 35.000, mean reward:  1.000 [ 1.000,  1.000], mean action: 0.514 [0.000, 1.000],  loss: 3.199454, mae: 22.804366, mean_q: 46.779446, mean_eps: 0.791065\n",
      "  4689/20000: episode: 168, duration: 0.112s, episode steps:  28, steps per second: 249, episode reward: 28.000, mean reward:  1.000 [ 1.000,  1.000], mean action: 0.536 [0.000, 1.000],  loss: 6.638527, mae: 22.573601, mean_q: 46.355093, mean_eps: 0.789648\n",
      "  4719/20000: episode: 169, duration: 0.126s, episode steps:  30, steps per second: 238, episode reward: 30.000, mean reward:  1.000 [ 1.000,  1.000], mean action: 0.400 [0.000, 1.000],  loss: 5.160192, mae: 23.358777, mean_q: 47.693427, mean_eps: 0.788343\n",
      "  4743/20000: episode: 170, duration: 0.098s, episode steps:  24, steps per second: 245, episode reward: 24.000, mean reward:  1.000 [ 1.000,  1.000], mean action: 0.500 [0.000, 1.000],  loss: 7.870489, mae: 22.928910, mean_q: 46.834556, mean_eps: 0.787127\n",
      "  4810/20000: episode: 171, duration: 0.268s, episode steps:  67, steps per second: 250, episode reward: 67.000, mean reward:  1.000 [ 1.000,  1.000], mean action: 0.448 [0.000, 1.000],  loss: 4.814842, mae: 23.238983, mean_q: 47.685241, mean_eps: 0.785080\n",
      "  4831/20000: episode: 172, duration: 0.086s, episode steps:  21, steps per second: 243, episode reward: 21.000, mean reward:  1.000 [ 1.000,  1.000], mean action: 0.429 [0.000, 1.000],  loss: 4.330935, mae: 24.036317, mean_q: 49.143702, mean_eps: 0.783100\n",
      "  4842/20000: episode: 173, duration: 0.046s, episode steps:  11, steps per second: 238, episode reward: 11.000, mean reward:  1.000 [ 1.000,  1.000], mean action: 0.727 [0.000, 1.000],  loss: 10.315277, mae: 23.345122, mean_q: 47.856026, mean_eps: 0.782380\n",
      "  4898/20000: episode: 174, duration: 0.227s, episode steps:  56, steps per second: 247, episode reward: 56.000, mean reward:  1.000 [ 1.000,  1.000], mean action: 0.571 [0.000, 1.000],  loss: 4.494242, mae: 23.745634, mean_q: 48.862614, mean_eps: 0.780872\n",
      "  4981/20000: episode: 175, duration: 0.329s, episode steps:  83, steps per second: 252, episode reward: 83.000, mean reward:  1.000 [ 1.000,  1.000], mean action: 0.434 [0.000, 1.000],  loss: 4.592465, mae: 24.225516, mean_q: 49.862732, mean_eps: 0.777745\n",
      "  4996/20000: episode: 176, duration: 0.062s, episode steps:  15, steps per second: 242, episode reward: 15.000, mean reward:  1.000 [ 1.000,  1.000], mean action: 0.333 [0.000, 1.000],  loss: 6.223026, mae: 24.127236, mean_q: 49.735424, mean_eps: 0.775540\n",
      "  5025/20000: episode: 177, duration: 0.119s, episode steps:  29, steps per second: 244, episode reward: 29.000, mean reward:  1.000 [ 1.000,  1.000], mean action: 0.621 [0.000, 1.000],  loss: 3.406218, mae: 24.966713, mean_q: 51.230509, mean_eps: 0.774550\n",
      "  5203/20000: episode: 178, duration: 0.708s, episode steps: 178, steps per second: 252, episode reward: 178.000, mean reward:  1.000 [ 1.000,  1.000], mean action: 0.489 [0.000, 1.000],  loss: 6.543592, mae: 25.284477, mean_q: 51.738862, mean_eps: 0.769892\n",
      "  5229/20000: episode: 179, duration: 0.106s, episode steps:  26, steps per second: 245, episode reward: 26.000, mean reward:  1.000 [ 1.000,  1.000], mean action: 0.500 [0.000, 1.000],  loss: 6.800708, mae: 26.103459, mean_q: 53.539653, mean_eps: 0.765302\n",
      "  5303/20000: episode: 180, duration: 0.334s, episode steps:  74, steps per second: 222, episode reward: 74.000, mean reward:  1.000 [ 1.000,  1.000], mean action: 0.500 [0.000, 1.000],  loss: 5.784150, mae: 26.220321, mean_q: 53.960084, mean_eps: 0.763053\n",
      "  5429/20000: episode: 181, duration: 0.502s, episode steps: 126, steps per second: 251, episode reward: 126.000, mean reward:  1.000 [ 1.000,  1.000], mean action: 0.500 [0.000, 1.000],  loss: 6.579826, mae: 27.236960, mean_q: 55.899533, mean_eps: 0.758553\n",
      "  5542/20000: episode: 182, duration: 0.455s, episode steps: 113, steps per second: 248, episode reward: 113.000, mean reward:  1.000 [ 1.000,  1.000], mean action: 0.504 [0.000, 1.000],  loss: 5.697398, mae: 27.923182, mean_q: 57.338683, mean_eps: 0.753175\n",
      "  5632/20000: episode: 183, duration: 0.365s, episode steps:  90, steps per second: 247, episode reward: 90.000, mean reward:  1.000 [ 1.000,  1.000], mean action: 0.478 [0.000, 1.000],  loss: 9.644449, mae: 28.197756, mean_q: 57.917605, mean_eps: 0.748607\n",
      "  5651/20000: episode: 184, duration: 0.077s, episode steps:  19, steps per second: 248, episode reward: 19.000, mean reward:  1.000 [ 1.000,  1.000], mean action: 0.421 [0.000, 1.000],  loss: 8.500443, mae: 29.045794, mean_q: 59.677895, mean_eps: 0.746155\n",
      "  5710/20000: episode: 185, duration: 0.242s, episode steps:  59, steps per second: 244, episode reward: 59.000, mean reward:  1.000 [ 1.000,  1.000], mean action: 0.525 [0.000, 1.000],  loss: 6.720501, mae: 28.993630, mean_q: 59.432962, mean_eps: 0.744400\n",
      "  5751/20000: episode: 186, duration: 0.164s, episode steps:  41, steps per second: 250, episode reward: 41.000, mean reward:  1.000 [ 1.000,  1.000], mean action: 0.610 [0.000, 1.000],  loss: 6.980228, mae: 29.863940, mean_q: 61.105407, mean_eps: 0.742150\n",
      "  5774/20000: episode: 187, duration: 0.101s, episode steps:  23, steps per second: 228, episode reward: 23.000, mean reward:  1.000 [ 1.000,  1.000], mean action: 0.391 [0.000, 1.000],  loss: 7.376016, mae: 29.274021, mean_q: 60.198578, mean_eps: 0.740710\n",
      "  5821/20000: episode: 188, duration: 0.192s, episode steps:  47, steps per second: 245, episode reward: 47.000, mean reward:  1.000 [ 1.000,  1.000], mean action: 0.489 [0.000, 1.000],  loss: 8.614419, mae: 29.724181, mean_q: 60.734646, mean_eps: 0.739135\n",
      "  5872/20000: episode: 189, duration: 0.205s, episode steps:  51, steps per second: 249, episode reward: 51.000, mean reward:  1.000 [ 1.000,  1.000], mean action: 0.529 [0.000, 1.000],  loss: 6.683894, mae: 29.373921, mean_q: 60.655948, mean_eps: 0.736930\n",
      "  5889/20000: episode: 190, duration: 0.072s, episode steps:  17, steps per second: 235, episode reward: 17.000, mean reward:  1.000 [ 1.000,  1.000], mean action: 0.529 [0.000, 1.000],  loss: 5.263815, mae: 29.316556, mean_q: 60.509877, mean_eps: 0.735400\n",
      "  5923/20000: episode: 191, duration: 0.142s, episode steps:  34, steps per second: 240, episode reward: 34.000, mean reward:  1.000 [ 1.000,  1.000], mean action: 0.529 [0.000, 1.000],  loss: 7.551509, mae: 30.079038, mean_q: 62.002639, mean_eps: 0.734252\n",
      "  6061/20000: episode: 192, duration: 0.559s, episode steps: 138, steps per second: 247, episode reward: 138.000, mean reward:  1.000 [ 1.000,  1.000], mean action: 0.493 [0.000, 1.000],  loss: 8.212278, mae: 30.559500, mean_q: 62.913038, mean_eps: 0.730382\n",
      "  6076/20000: episode: 193, duration: 0.062s, episode steps:  15, steps per second: 244, episode reward: 15.000, mean reward:  1.000 [ 1.000,  1.000], mean action: 0.400 [0.000, 1.000],  loss: 7.964630, mae: 31.229486, mean_q: 64.444248, mean_eps: 0.726940\n",
      "  6128/20000: episode: 194, duration: 0.212s, episode steps:  52, steps per second: 245, episode reward: 52.000, mean reward:  1.000 [ 1.000,  1.000], mean action: 0.538 [0.000, 1.000],  loss: 6.789449, mae: 30.692137, mean_q: 63.359359, mean_eps: 0.725433\n",
      "  6237/20000: episode: 195, duration: 0.444s, episode steps: 109, steps per second: 246, episode reward: 109.000, mean reward:  1.000 [ 1.000,  1.000], mean action: 0.532 [0.000, 1.000],  loss: 7.372595, mae: 31.829470, mean_q: 65.507885, mean_eps: 0.721810\n",
      "  6312/20000: episode: 196, duration: 0.386s, episode steps:  75, steps per second: 195, episode reward: 75.000, mean reward:  1.000 [ 1.000,  1.000], mean action: 0.493 [0.000, 1.000],  loss: 11.306342, mae: 32.213764, mean_q: 66.206828, mean_eps: 0.717670\n",
      "  6438/20000: episode: 197, duration: 0.515s, episode steps: 126, steps per second: 245, episode reward: 126.000, mean reward:  1.000 [ 1.000,  1.000], mean action: 0.508 [0.000, 1.000],  loss: 10.452035, mae: 33.097067, mean_q: 68.036816, mean_eps: 0.713147\n",
      "  6482/20000: episode: 198, duration: 0.181s, episode steps:  44, steps per second: 244, episode reward: 44.000, mean reward:  1.000 [ 1.000,  1.000], mean action: 0.477 [0.000, 1.000],  loss: 7.222406, mae: 33.716064, mean_q: 69.454234, mean_eps: 0.709323\n",
      "  6523/20000: episode: 199, duration: 0.171s, episode steps:  41, steps per second: 240, episode reward: 41.000, mean reward:  1.000 [ 1.000,  1.000], mean action: 0.585 [0.000, 1.000],  loss: 9.891652, mae: 34.342122, mean_q: 70.390877, mean_eps: 0.707410\n",
      "  6543/20000: episode: 200, duration: 0.082s, episode steps:  20, steps per second: 243, episode reward: 20.000, mean reward:  1.000 [ 1.000,  1.000], mean action: 0.450 [0.000, 1.000],  loss: 7.181353, mae: 34.695488, mean_q: 71.501496, mean_eps: 0.706038\n",
      "  6594/20000: episode: 201, duration: 0.208s, episode steps:  51, steps per second: 245, episode reward: 51.000, mean reward:  1.000 [ 1.000,  1.000], mean action: 0.529 [0.000, 1.000],  loss: 11.904069, mae: 34.840813, mean_q: 71.684187, mean_eps: 0.704440\n",
      "  6681/20000: episode: 202, duration: 0.356s, episode steps:  87, steps per second: 245, episode reward: 87.000, mean reward:  1.000 [ 1.000,  1.000], mean action: 0.540 [0.000, 1.000],  loss: 11.149508, mae: 34.753293, mean_q: 71.447063, mean_eps: 0.701335\n",
      "  6765/20000: episode: 203, duration: 0.409s, episode steps:  84, steps per second: 206, episode reward: 84.000, mean reward:  1.000 [ 1.000,  1.000], mean action: 0.464 [0.000, 1.000],  loss: 10.535305, mae: 35.928201, mean_q: 73.861452, mean_eps: 0.697487\n",
      "  6826/20000: episode: 204, duration: 0.254s, episode steps:  61, steps per second: 240, episode reward: 61.000, mean reward:  1.000 [ 1.000,  1.000], mean action: 0.557 [0.000, 1.000],  loss: 9.738018, mae: 36.097470, mean_q: 74.380164, mean_eps: 0.694225\n",
      "  6899/20000: episode: 205, duration: 0.292s, episode steps:  73, steps per second: 250, episode reward: 73.000, mean reward:  1.000 [ 1.000,  1.000], mean action: 0.548 [0.000, 1.000],  loss: 16.440341, mae: 36.747850, mean_q: 75.711166, mean_eps: 0.691210\n",
      "  6981/20000: episode: 206, duration: 0.330s, episode steps:  82, steps per second: 248, episode reward: 82.000, mean reward:  1.000 [ 1.000,  1.000], mean action: 0.537 [0.000, 1.000],  loss: 15.506545, mae: 37.636430, mean_q: 77.147706, mean_eps: 0.687722\n",
      "  6997/20000: episode: 207, duration: 0.068s, episode steps:  16, steps per second: 235, episode reward: 16.000, mean reward:  1.000 [ 1.000,  1.000], mean action: 0.688 [0.000, 1.000],  loss: 22.207116, mae: 37.332526, mean_q: 75.907701, mean_eps: 0.685518\n",
      "  7014/20000: episode: 208, duration: 0.072s, episode steps:  17, steps per second: 235, episode reward: 17.000, mean reward:  1.000 [ 1.000,  1.000], mean action: 0.471 [0.000, 1.000],  loss: 10.237184, mae: 37.604269, mean_q: 76.977598, mean_eps: 0.684775\n",
      "  7127/20000: episode: 209, duration: 0.451s, episode steps: 113, steps per second: 251, episode reward: 113.000, mean reward:  1.000 [ 1.000,  1.000], mean action: 0.504 [0.000, 1.000],  loss: 12.679516, mae: 38.469196, mean_q: 78.862356, mean_eps: 0.681850\n",
      "  7282/20000: episode: 210, duration: 0.618s, episode steps: 155, steps per second: 251, episode reward: 155.000, mean reward:  1.000 [ 1.000,  1.000], mean action: 0.497 [0.000, 1.000],  loss: 10.251032, mae: 39.300828, mean_q: 80.837735, mean_eps: 0.675820\n",
      "  7309/20000: episode: 211, duration: 0.113s, episode steps:  27, steps per second: 239, episode reward: 27.000, mean reward:  1.000 [ 1.000,  1.000], mean action: 0.444 [0.000, 1.000],  loss: 12.904544, mae: 39.546043, mean_q: 81.554259, mean_eps: 0.671725\n",
      "  7340/20000: episode: 212, duration: 0.127s, episode steps:  31, steps per second: 243, episode reward: 31.000, mean reward:  1.000 [ 1.000,  1.000], mean action: 0.387 [0.000, 1.000],  loss: 16.182950, mae: 40.279296, mean_q: 82.749498, mean_eps: 0.670420\n",
      "  7427/20000: episode: 213, duration: 0.351s, episode steps:  87, steps per second: 248, episode reward: 87.000, mean reward:  1.000 [ 1.000,  1.000], mean action: 0.471 [0.000, 1.000],  loss: 11.457594, mae: 40.265736, mean_q: 82.710888, mean_eps: 0.667765\n",
      "  7505/20000: episode: 214, duration: 0.323s, episode steps:  78, steps per second: 241, episode reward: 78.000, mean reward:  1.000 [ 1.000,  1.000], mean action: 0.474 [0.000, 1.000],  loss: 11.131730, mae: 41.056650, mean_q: 84.347798, mean_eps: 0.664053\n",
      "  7581/20000: episode: 215, duration: 0.308s, episode steps:  76, steps per second: 246, episode reward: 76.000, mean reward:  1.000 [ 1.000,  1.000], mean action: 0.539 [0.000, 1.000],  loss: 15.469516, mae: 41.346630, mean_q: 84.675629, mean_eps: 0.660588\n",
      "  7700/20000: episode: 216, duration: 0.476s, episode steps: 119, steps per second: 250, episode reward: 119.000, mean reward:  1.000 [ 1.000,  1.000], mean action: 0.504 [0.000, 1.000],  loss: 15.957594, mae: 42.383635, mean_q: 87.000810, mean_eps: 0.656200\n",
      "  7716/20000: episode: 217, duration: 0.069s, episode steps:  16, steps per second: 233, episode reward: 16.000, mean reward:  1.000 [ 1.000,  1.000], mean action: 0.562 [0.000, 1.000],  loss: 12.368669, mae: 44.332510, mean_q: 90.665678, mean_eps: 0.653162\n",
      "  7740/20000: episode: 218, duration: 0.101s, episode steps:  24, steps per second: 238, episode reward: 24.000, mean reward:  1.000 [ 1.000,  1.000], mean action: 0.458 [0.000, 1.000],  loss: 21.148367, mae: 43.240418, mean_q: 88.769016, mean_eps: 0.652262\n",
      "  7780/20000: episode: 219, duration: 0.166s, episode steps:  40, steps per second: 241, episode reward: 40.000, mean reward:  1.000 [ 1.000,  1.000], mean action: 0.500 [0.000, 1.000],  loss: 20.686605, mae: 42.932343, mean_q: 87.468646, mean_eps: 0.650822\n",
      "  7813/20000: episode: 220, duration: 0.134s, episode steps:  33, steps per second: 246, episode reward: 33.000, mean reward:  1.000 [ 1.000,  1.000], mean action: 0.606 [0.000, 1.000],  loss: 17.487131, mae: 43.691985, mean_q: 89.570704, mean_eps: 0.649180\n",
      "  7974/20000: episode: 221, duration: 0.652s, episode steps: 161, steps per second: 247, episode reward: 161.000, mean reward:  1.000 [ 1.000,  1.000], mean action: 0.509 [0.000, 1.000],  loss: 18.437031, mae: 44.295044, mean_q: 90.518613, mean_eps: 0.644815\n",
      "  8036/20000: episode: 222, duration: 0.253s, episode steps:  62, steps per second: 245, episode reward: 62.000, mean reward:  1.000 [ 1.000,  1.000], mean action: 0.500 [0.000, 1.000],  loss: 19.436303, mae: 44.573075, mean_q: 91.711843, mean_eps: 0.639797\n",
      "  8067/20000: episode: 223, duration: 0.126s, episode steps:  31, steps per second: 246, episode reward: 31.000, mean reward:  1.000 [ 1.000,  1.000], mean action: 0.484 [0.000, 1.000],  loss: 23.310666, mae: 44.604276, mean_q: 91.674765, mean_eps: 0.637705\n",
      "  8179/20000: episode: 224, duration: 0.456s, episode steps: 112, steps per second: 246, episode reward: 112.000, mean reward:  1.000 [ 1.000,  1.000], mean action: 0.509 [0.000, 1.000],  loss: 15.817576, mae: 45.733415, mean_q: 94.274326, mean_eps: 0.634487\n",
      "  8213/20000: episode: 225, duration: 0.142s, episode steps:  34, steps per second: 240, episode reward: 34.000, mean reward:  1.000 [ 1.000,  1.000], mean action: 0.529 [0.000, 1.000],  loss: 16.159252, mae: 45.952995, mean_q: 94.685010, mean_eps: 0.631202\n",
      "  8306/20000: episode: 226, duration: 0.377s, episode steps:  93, steps per second: 247, episode reward: 93.000, mean reward:  1.000 [ 1.000,  1.000], mean action: 0.538 [0.000, 1.000],  loss: 15.405882, mae: 46.839959, mean_q: 96.194334, mean_eps: 0.628345\n",
      "  8333/20000: episode: 227, duration: 0.110s, episode steps:  27, steps per second: 245, episode reward: 27.000, mean reward:  1.000 [ 1.000,  1.000], mean action: 0.519 [0.000, 1.000],  loss: 24.919431, mae: 47.451199, mean_q: 97.826146, mean_eps: 0.625645\n",
      "  8387/20000: episode: 228, duration: 0.219s, episode steps:  54, steps per second: 246, episode reward: 54.000, mean reward:  1.000 [ 1.000,  1.000], mean action: 0.444 [0.000, 1.000],  loss: 22.842371, mae: 47.026323, mean_q: 96.840016, mean_eps: 0.623823\n",
      "  8435/20000: episode: 229, duration: 0.199s, episode steps:  48, steps per second: 242, episode reward: 48.000, mean reward:  1.000 [ 1.000,  1.000], mean action: 0.458 [0.000, 1.000],  loss: 20.477328, mae: 47.681406, mean_q: 98.345884, mean_eps: 0.621528\n",
      "  8495/20000: episode: 230, duration: 0.253s, episode steps:  60, steps per second: 237, episode reward: 60.000, mean reward:  1.000 [ 1.000,  1.000], mean action: 0.517 [0.000, 1.000],  loss: 15.775112, mae: 47.832357, mean_q: 98.687189, mean_eps: 0.619098\n",
      "  8513/20000: episode: 231, duration: 0.077s, episode steps:  18, steps per second: 234, episode reward: 18.000, mean reward:  1.000 [ 1.000,  1.000], mean action: 0.389 [0.000, 1.000],  loss: 17.256919, mae: 48.961131, mean_q: 101.017890, mean_eps: 0.617343\n",
      "  8531/20000: episode: 232, duration: 0.075s, episode steps:  18, steps per second: 241, episode reward: 18.000, mean reward:  1.000 [ 1.000,  1.000], mean action: 0.444 [0.000, 1.000],  loss: 20.487427, mae: 48.276089, mean_q: 99.568378, mean_eps: 0.616532\n",
      "  8565/20000: episode: 233, duration: 0.143s, episode steps:  34, steps per second: 237, episode reward: 34.000, mean reward:  1.000 [ 1.000,  1.000], mean action: 0.676 [0.000, 1.000],  loss: 18.221188, mae: 48.868618, mean_q: 100.354341, mean_eps: 0.615362\n",
      "  8614/20000: episode: 234, duration: 0.201s, episode steps:  49, steps per second: 243, episode reward: 49.000, mean reward:  1.000 [ 1.000,  1.000], mean action: 0.469 [0.000, 1.000],  loss: 25.975994, mae: 49.188238, mean_q: 100.543799, mean_eps: 0.613495\n",
      "  8666/20000: episode: 235, duration: 0.211s, episode steps:  52, steps per second: 246, episode reward: 52.000, mean reward:  1.000 [ 1.000,  1.000], mean action: 0.519 [0.000, 1.000],  loss: 18.804539, mae: 49.089153, mean_q: 100.791222, mean_eps: 0.611222\n",
      "  8839/20000: episode: 236, duration: 0.699s, episode steps: 173, steps per second: 247, episode reward: 173.000, mean reward:  1.000 [ 1.000,  1.000], mean action: 0.491 [0.000, 1.000],  loss: 21.230336, mae: 49.558531, mean_q: 101.928869, mean_eps: 0.606160\n",
      "  9062/20000: episode: 237, duration: 0.916s, episode steps: 223, steps per second: 243, episode reward: 223.000, mean reward:  1.000 [ 1.000,  1.000], mean action: 0.525 [0.000, 1.000],  loss: 20.362397, mae: 51.114368, mean_q: 104.995660, mean_eps: 0.597250\n",
      "  9095/20000: episode: 238, duration: 0.137s, episode steps:  33, steps per second: 241, episode reward: 33.000, mean reward:  1.000 [ 1.000,  1.000], mean action: 0.364 [0.000, 1.000],  loss: 26.517666, mae: 51.910198, mean_q: 106.152061, mean_eps: 0.591490\n",
      "  9235/20000: episode: 239, duration: 0.574s, episode steps: 140, steps per second: 244, episode reward: 140.000, mean reward:  1.000 [ 1.000,  1.000], mean action: 0.543 [0.000, 1.000],  loss: 27.331965, mae: 52.179363, mean_q: 106.675081, mean_eps: 0.587598\n",
      "  9393/20000: episode: 240, duration: 0.642s, episode steps: 158, steps per second: 246, episode reward: 158.000, mean reward:  1.000 [ 1.000,  1.000], mean action: 0.506 [0.000, 1.000],  loss: 25.475653, mae: 53.968726, mean_q: 110.463767, mean_eps: 0.580892\n",
      "  9456/20000: episode: 241, duration: 0.263s, episode steps:  63, steps per second: 239, episode reward: 63.000, mean reward:  1.000 [ 1.000,  1.000], mean action: 0.444 [0.000, 1.000],  loss: 19.761566, mae: 54.675152, mean_q: 112.095862, mean_eps: 0.575920\n",
      "  9477/20000: episode: 242, duration: 0.086s, episode steps:  21, steps per second: 243, episode reward: 21.000, mean reward:  1.000 [ 1.000,  1.000], mean action: 0.476 [0.000, 1.000],  loss: 30.243468, mae: 55.367241, mean_q: 113.223093, mean_eps: 0.574030\n",
      "  9498/20000: episode: 243, duration: 0.089s, episode steps:  21, steps per second: 235, episode reward: 21.000, mean reward:  1.000 [ 1.000,  1.000], mean action: 0.381 [0.000, 1.000],  loss: 18.632025, mae: 53.992558, mean_q: 111.475836, mean_eps: 0.573085\n",
      "  9508/20000: episode: 244, duration: 0.047s, episode steps:  10, steps per second: 215, episode reward: 10.000, mean reward:  1.000 [ 1.000,  1.000], mean action: 0.700 [0.000, 1.000],  loss: 14.675144, mae: 55.129463, mean_q: 113.303675, mean_eps: 0.572387\n",
      "  9610/20000: episode: 245, duration: 0.411s, episode steps: 102, steps per second: 248, episode reward: 102.000, mean reward:  1.000 [ 1.000,  1.000], mean action: 0.510 [0.000, 1.000],  loss: 23.353047, mae: 55.938430, mean_q: 114.846706, mean_eps: 0.569867\n",
      "  9738/20000: episode: 246, duration: 0.520s, episode steps: 128, steps per second: 246, episode reward: 128.000, mean reward:  1.000 [ 1.000,  1.000], mean action: 0.492 [0.000, 1.000],  loss: 25.777830, mae: 56.502044, mean_q: 115.766190, mean_eps: 0.564692\n",
      "  9835/20000: episode: 247, duration: 0.401s, episode steps:  97, steps per second: 242, episode reward: 97.000, mean reward:  1.000 [ 1.000,  1.000], mean action: 0.515 [0.000, 1.000],  loss: 21.091731, mae: 56.497642, mean_q: 116.353640, mean_eps: 0.559630\n",
      "  9892/20000: episode: 248, duration: 0.236s, episode steps:  57, steps per second: 241, episode reward: 57.000, mean reward:  1.000 [ 1.000,  1.000], mean action: 0.526 [0.000, 1.000],  loss: 29.706154, mae: 57.189001, mean_q: 117.341289, mean_eps: 0.556165\n",
      "  9977/20000: episode: 249, duration: 0.347s, episode steps:  85, steps per second: 245, episode reward: 85.000, mean reward:  1.000 [ 1.000,  1.000], mean action: 0.518 [0.000, 1.000],  loss: 23.326644, mae: 57.894242, mean_q: 119.172623, mean_eps: 0.552970\n",
      " 10003/20000: episode: 250, duration: 0.109s, episode steps:  26, steps per second: 239, episode reward: 26.000, mean reward:  1.000 [ 1.000,  1.000], mean action: 0.423 [0.000, 1.000],  loss: 24.314061, mae: 58.475397, mean_q: 119.848204, mean_eps: 0.550473\n",
      " 10112/20000: episode: 251, duration: 0.444s, episode steps: 109, steps per second: 245, episode reward: 109.000, mean reward:  1.000 [ 1.000,  1.000], mean action: 0.514 [0.000, 1.000],  loss: 21.317811, mae: 58.738149, mean_q: 120.741284, mean_eps: 0.547435\n",
      " 10158/20000: episode: 252, duration: 0.189s, episode steps:  46, steps per second: 243, episode reward: 46.000, mean reward:  1.000 [ 1.000,  1.000], mean action: 0.478 [0.000, 1.000],  loss: 20.623427, mae: 59.767680, mean_q: 122.950038, mean_eps: 0.543947\n",
      " 10270/20000: episode: 253, duration: 0.450s, episode steps: 112, steps per second: 249, episode reward: 112.000, mean reward:  1.000 [ 1.000,  1.000], mean action: 0.500 [0.000, 1.000],  loss: 28.273080, mae: 59.900019, mean_q: 123.129693, mean_eps: 0.540393\n",
      " 10368/20000: episode: 254, duration: 0.398s, episode steps:  98, steps per second: 246, episode reward: 98.000, mean reward:  1.000 [ 1.000,  1.000], mean action: 0.500 [0.000, 1.000],  loss: 21.838956, mae: 60.935080, mean_q: 125.504563, mean_eps: 0.535667\n",
      " 10455/20000: episode: 255, duration: 0.389s, episode steps:  87, steps per second: 224, episode reward: 87.000, mean reward:  1.000 [ 1.000,  1.000], mean action: 0.540 [0.000, 1.000],  loss: 24.082673, mae: 61.983275, mean_q: 127.053234, mean_eps: 0.531505\n",
      " 10554/20000: episode: 256, duration: 0.404s, episode steps:  99, steps per second: 245, episode reward: 99.000, mean reward:  1.000 [ 1.000,  1.000], mean action: 0.525 [0.000, 1.000],  loss: 28.707072, mae: 62.473361, mean_q: 128.004306, mean_eps: 0.527320\n",
      " 10737/20000: episode: 257, duration: 0.748s, episode steps: 183, steps per second: 245, episode reward: 183.000, mean reward:  1.000 [ 1.000,  1.000], mean action: 0.525 [0.000, 1.000],  loss: 33.032346, mae: 63.459855, mean_q: 129.989208, mean_eps: 0.520975\n",
      " 10928/20000: episode: 258, duration: 0.780s, episode steps: 191, steps per second: 245, episode reward: 191.000, mean reward:  1.000 [ 1.000,  1.000], mean action: 0.529 [0.000, 1.000],  loss: 29.039859, mae: 64.570499, mean_q: 132.654027, mean_eps: 0.512560\n",
      " 11036/20000: episode: 259, duration: 0.439s, episode steps: 108, steps per second: 246, episode reward: 108.000, mean reward:  1.000 [ 1.000,  1.000], mean action: 0.519 [0.000, 1.000],  loss: 36.488277, mae: 64.884546, mean_q: 132.449969, mean_eps: 0.505832\n",
      " 11140/20000: episode: 260, duration: 0.427s, episode steps: 104, steps per second: 244, episode reward: 104.000, mean reward:  1.000 [ 1.000,  1.000], mean action: 0.471 [0.000, 1.000],  loss: 31.501895, mae: 65.443252, mean_q: 133.947853, mean_eps: 0.501062\n",
      " 11432/20000: episode: 261, duration: 1.180s, episode steps: 292, steps per second: 248, episode reward: 292.000, mean reward:  1.000 [ 1.000,  1.000], mean action: 0.479 [0.000, 1.000],  loss: 33.579446, mae: 66.862187, mean_q: 136.821541, mean_eps: 0.492152\n",
      " 11637/20000: episode: 262, duration: 0.838s, episode steps: 205, steps per second: 245, episode reward: 205.000, mean reward:  1.000 [ 1.000,  1.000], mean action: 0.493 [0.000, 1.000],  loss: 42.528451, mae: 68.273797, mean_q: 139.636610, mean_eps: 0.480970\n",
      " 11770/20000: episode: 263, duration: 0.547s, episode steps: 133, steps per second: 243, episode reward: 133.000, mean reward:  1.000 [ 1.000,  1.000], mean action: 0.504 [0.000, 1.000],  loss: 39.591768, mae: 68.878507, mean_q: 140.910928, mean_eps: 0.473365\n",
      " 11974/20000: episode: 264, duration: 0.831s, episode steps: 204, steps per second: 245, episode reward: 204.000, mean reward:  1.000 [ 1.000,  1.000], mean action: 0.510 [0.000, 1.000],  loss: 35.828359, mae: 69.342490, mean_q: 141.965623, mean_eps: 0.465782\n",
      " 12226/20000: episode: 265, duration: 1.025s, episode steps: 252, steps per second: 246, episode reward: 252.000, mean reward:  1.000 [ 1.000,  1.000], mean action: 0.512 [0.000, 1.000],  loss: 37.797350, mae: 69.356554, mean_q: 142.123293, mean_eps: 0.455522\n",
      " 12304/20000: episode: 266, duration: 0.351s, episode steps:  78, steps per second: 222, episode reward: 78.000, mean reward:  1.000 [ 1.000,  1.000], mean action: 0.474 [0.000, 1.000],  loss: 42.790293, mae: 67.989538, mean_q: 139.256577, mean_eps: 0.448097\n",
      " 12476/20000: episode: 267, duration: 0.728s, episode steps: 172, steps per second: 236, episode reward: 172.000, mean reward:  1.000 [ 1.000,  1.000], mean action: 0.512 [0.000, 1.000],  loss: 26.365506, mae: 68.393051, mean_q: 140.431540, mean_eps: 0.442473\n",
      " 12653/20000: episode: 268, duration: 0.734s, episode steps: 177, steps per second: 241, episode reward: 177.000, mean reward:  1.000 [ 1.000,  1.000], mean action: 0.508 [0.000, 1.000],  loss: 23.975796, mae: 68.510294, mean_q: 140.946578, mean_eps: 0.434620\n",
      " 12908/20000: episode: 269, duration: 1.036s, episode steps: 255, steps per second: 246, episode reward: 255.000, mean reward:  1.000 [ 1.000,  1.000], mean action: 0.498 [0.000, 1.000],  loss: 40.920950, mae: 70.277881, mean_q: 143.970011, mean_eps: 0.424900\n",
      " 13018/20000: episode: 270, duration: 0.455s, episode steps: 110, steps per second: 242, episode reward: 110.000, mean reward:  1.000 [ 1.000,  1.000], mean action: 0.491 [0.000, 1.000],  loss: 26.388756, mae: 71.707658, mean_q: 147.206184, mean_eps: 0.416687\n",
      " 13215/20000: episode: 271, duration: 0.835s, episode steps: 197, steps per second: 236, episode reward: 197.000, mean reward:  1.000 [ 1.000,  1.000], mean action: 0.523 [0.000, 1.000],  loss: 30.886145, mae: 72.372753, mean_q: 148.313641, mean_eps: 0.409780\n",
      " 13240/20000: episode: 272, duration: 0.104s, episode steps:  25, steps per second: 239, episode reward: 25.000, mean reward:  1.000 [ 1.000,  1.000], mean action: 0.560 [0.000, 1.000],  loss: 87.597851, mae: 72.908028, mean_q: 148.694559, mean_eps: 0.404785\n",
      " 13287/20000: episode: 273, duration: 0.197s, episode steps:  47, steps per second: 239, episode reward: 47.000, mean reward:  1.000 [ 1.000,  1.000], mean action: 0.489 [0.000, 1.000],  loss: 28.568123, mae: 72.870500, mean_q: 149.052626, mean_eps: 0.403165\n",
      " 13308/20000: episode: 274, duration: 0.092s, episode steps:  21, steps per second: 228, episode reward: 21.000, mean reward:  1.000 [ 1.000,  1.000], mean action: 0.524 [0.000, 1.000],  loss: 49.256586, mae: 71.155365, mean_q: 146.140039, mean_eps: 0.401635\n",
      " 13529/20000: episode: 275, duration: 0.920s, episode steps: 221, steps per second: 240, episode reward: 221.000, mean reward:  1.000 [ 1.000,  1.000], mean action: 0.520 [0.000, 1.000],  loss: 46.462351, mae: 73.259851, mean_q: 150.163028, mean_eps: 0.396190\n",
      " 13742/20000: episode: 276, duration: 0.869s, episode steps: 213, steps per second: 245, episode reward: 213.000, mean reward:  1.000 [ 1.000,  1.000], mean action: 0.531 [0.000, 1.000],  loss: 34.260574, mae: 73.103568, mean_q: 149.810544, mean_eps: 0.386425\n",
      " 13986/20000: episode: 277, duration: 1.007s, episode steps: 244, steps per second: 242, episode reward: 244.000, mean reward:  1.000 [ 1.000,  1.000], mean action: 0.520 [0.000, 1.000],  loss: 29.129570, mae: 73.989443, mean_q: 151.586640, mean_eps: 0.376142\n",
      " 14306/20000: episode: 278, duration: 1.309s, episode steps: 320, steps per second: 244, episode reward: 320.000, mean reward:  1.000 [ 1.000,  1.000], mean action: 0.516 [0.000, 1.000],  loss: 30.775677, mae: 75.259163, mean_q: 154.033301, mean_eps: 0.363452\n",
      " 14523/20000: episode: 279, duration: 0.896s, episode steps: 217, steps per second: 242, episode reward: 217.000, mean reward:  1.000 [ 1.000,  1.000], mean action: 0.521 [0.000, 1.000],  loss: 38.196173, mae: 76.644396, mean_q: 156.950448, mean_eps: 0.351370\n",
      " 14726/20000: episode: 280, duration: 0.830s, episode steps: 203, steps per second: 245, episode reward: 203.000, mean reward:  1.000 [ 1.000,  1.000], mean action: 0.493 [0.000, 1.000],  loss: 33.004862, mae: 76.420836, mean_q: 156.253847, mean_eps: 0.341920\n",
      " 15156/20000: episode: 281, duration: 1.755s, episode steps: 430, steps per second: 245, episode reward: 430.000, mean reward:  1.000 [ 1.000,  1.000], mean action: 0.509 [0.000, 1.000],  loss: 47.987005, mae: 76.880685, mean_q: 157.014553, mean_eps: 0.327677\n",
      " 15328/20000: episode: 282, duration: 0.708s, episode steps: 172, steps per second: 243, episode reward: 172.000, mean reward:  1.000 [ 1.000,  1.000], mean action: 0.529 [0.000, 1.000],  loss: 23.445349, mae: 77.299221, mean_q: 158.202860, mean_eps: 0.314132\n",
      " 15553/20000: episode: 283, duration: 0.922s, episode steps: 225, steps per second: 244, episode reward: 225.000, mean reward:  1.000 [ 1.000,  1.000], mean action: 0.516 [0.000, 1.000],  loss: 31.612017, mae: 78.818488, mean_q: 160.968477, mean_eps: 0.305200\n",
      " 15793/20000: episode: 284, duration: 1.008s, episode steps: 240, steps per second: 238, episode reward: 240.000, mean reward:  1.000 [ 1.000,  1.000], mean action: 0.512 [0.000, 1.000],  loss: 41.341868, mae: 78.611165, mean_q: 160.575310, mean_eps: 0.294737\n",
      " 16024/20000: episode: 285, duration: 0.983s, episode steps: 231, steps per second: 235, episode reward: 231.000, mean reward:  1.000 [ 1.000,  1.000], mean action: 0.511 [0.000, 1.000],  loss: 37.514789, mae: 79.789506, mean_q: 163.087241, mean_eps: 0.284140\n",
      " 16313/20000: episode: 286, duration: 1.201s, episode steps: 289, steps per second: 241, episode reward: 289.000, mean reward:  1.000 [ 1.000,  1.000], mean action: 0.512 [0.000, 1.000],  loss: 27.457182, mae: 80.030724, mean_q: 163.701257, mean_eps: 0.272440\n",
      " 16593/20000: episode: 287, duration: 1.151s, episode steps: 280, steps per second: 243, episode reward: 280.000, mean reward:  1.000 [ 1.000,  1.000], mean action: 0.482 [0.000, 1.000],  loss: 35.370787, mae: 80.107971, mean_q: 164.054467, mean_eps: 0.259637\n",
      " 16914/20000: episode: 288, duration: 1.328s, episode steps: 321, steps per second: 242, episode reward: 321.000, mean reward:  1.000 [ 1.000,  1.000], mean action: 0.511 [0.000, 1.000],  loss: 34.602989, mae: 80.836288, mean_q: 164.950640, mean_eps: 0.246115\n",
      " 17130/20000: episode: 289, duration: 0.892s, episode steps: 216, steps per second: 242, episode reward: 216.000, mean reward:  1.000 [ 1.000,  1.000], mean action: 0.519 [0.000, 1.000],  loss: 29.190268, mae: 82.301482, mean_q: 168.057614, mean_eps: 0.234032\n",
      " 17415/20000: episode: 290, duration: 1.180s, episode steps: 285, steps per second: 242, episode reward: 285.000, mean reward:  1.000 [ 1.000,  1.000], mean action: 0.512 [0.000, 1.000],  loss: 35.256280, mae: 82.526364, mean_q: 168.558331, mean_eps: 0.222760\n",
      " 17685/20000: episode: 291, duration: 1.138s, episode steps: 270, steps per second: 237, episode reward: 270.000, mean reward:  1.000 [ 1.000,  1.000], mean action: 0.515 [0.000, 1.000],  loss: 45.652911, mae: 83.252773, mean_q: 169.697965, mean_eps: 0.210272\n",
      " 17930/20000: episode: 292, duration: 1.007s, episode steps: 245, steps per second: 243, episode reward: 245.000, mean reward:  1.000 [ 1.000,  1.000], mean action: 0.514 [0.000, 1.000],  loss: 57.355364, mae: 84.247456, mean_q: 171.512654, mean_eps: 0.198685\n",
      " 18180/20000: episode: 293, duration: 1.025s, episode steps: 250, steps per second: 244, episode reward: 250.000, mean reward:  1.000 [ 1.000,  1.000], mean action: 0.516 [0.000, 1.000],  loss: 60.011164, mae: 85.548002, mean_q: 174.209785, mean_eps: 0.187547\n",
      " 18429/20000: episode: 294, duration: 1.123s, episode steps: 249, steps per second: 222, episode reward: 249.000, mean reward:  1.000 [ 1.000,  1.000], mean action: 0.514 [0.000, 1.000],  loss: 54.137346, mae: 85.097153, mean_q: 173.234225, mean_eps: 0.176320\n",
      " 18706/20000: episode: 295, duration: 1.174s, episode steps: 277, steps per second: 236, episode reward: 277.000, mean reward:  1.000 [ 1.000,  1.000], mean action: 0.516 [0.000, 1.000],  loss: 32.747347, mae: 86.422443, mean_q: 176.085385, mean_eps: 0.164485\n",
      " 18910/20000: episode: 296, duration: 0.841s, episode steps: 204, steps per second: 243, episode reward: 204.000, mean reward:  1.000 [ 1.000,  1.000], mean action: 0.515 [0.000, 1.000],  loss: 36.915873, mae: 86.517004, mean_q: 176.217740, mean_eps: 0.153662\n",
      " 19198/20000: episode: 297, duration: 1.195s, episode steps: 288, steps per second: 241, episode reward: 288.000, mean reward:  1.000 [ 1.000,  1.000], mean action: 0.514 [0.000, 1.000],  loss: 50.231006, mae: 86.568065, mean_q: 176.373093, mean_eps: 0.142592\n",
      " 19507/20000: episode: 298, duration: 1.328s, episode steps: 309, steps per second: 233, episode reward: 309.000, mean reward:  1.000 [ 1.000,  1.000], mean action: 0.515 [0.000, 1.000],  loss: 27.530726, mae: 86.659791, mean_q: 176.549079, mean_eps: 0.129160\n",
      " 19740/20000: episode: 299, duration: 1.032s, episode steps: 233, steps per second: 226, episode reward: 233.000, mean reward:  1.000 [ 1.000,  1.000], mean action: 0.519 [0.000, 1.000],  loss: 37.489925, mae: 86.778515, mean_q: 176.962074, mean_eps: 0.116965\n",
      "done, took 83.689 seconds\n"
     ]
    },
    {
     "data": {
      "text/plain": [
       "<keras.src.callbacks.History at 0x1575b38b0>"
      ]
     },
     "execution_count": 9,
     "metadata": {},
     "output_type": "execute_result"
    }
   ],
   "source": [
    "dqn.fit(env, nb_steps=20000, visualize=False, verbose=2)"
   ]
  },
  {
   "cell_type": "markdown",
   "metadata": {},
   "source": [
    "After just 1-2 minutes of training (for reference, it takes < 1min on a Macbook Air with M2), we achieve some great results already. It was taking at least 15 minutes of training to reach a similar level of performance with the custom DQN implemented from scratch in the previous lab.\n",
    "\n",
    "The reason for this is that keras-rl has implemented many optimization strategies (e.g., the optimized replay buffer) which lead to a significantly faster convergence than the DQN we implemented by hand."
   ]
  },
  {
   "cell_type": "code",
   "execution_count": null,
   "metadata": {},
   "outputs": [],
   "source": [
    "# After training is done, we can save the final weights.\n",
    "dqn.save_weights(f'dqn_{env_name}_weights.h5f', overwrite=True)"
   ]
  },
  {
   "cell_type": "markdown",
   "metadata": {},
   "source": [
    "## Exploit learned Q values in test simulations\n",
    "\n",
    "The Keras-RL agents also offer methods to perform tests in Gym, with some parameters e.g. to decide whether to render the simulation graphically."
   ]
  },
  {
   "cell_type": "code",
   "execution_count": 10,
   "metadata": {
    "collapsed": true
   },
   "outputs": [
    {
     "name": "stdout",
     "output_type": "stream",
     "text": [
      "Testing for 5 episodes ...\n",
      "Episode 1: reward: 306.000, steps: 306\n",
      "Episode 2: reward: 290.000, steps: 290\n",
      "Episode 3: reward: 413.000, steps: 413\n",
      "Episode 4: reward: 256.000, steps: 256\n",
      "Episode 5: reward: 282.000, steps: 282\n"
     ]
    }
   ],
   "source": [
    "# Finally, evaluate our algorithm for 5 episodes.\n",
    "dqn.test(env, nb_episodes=5, visualize=True)\n",
    "env.close()"
   ]
  },
  {
   "cell_type": "markdown",
   "metadata": {},
   "source": [
    "All in all, we accomplished a better agent (trained more efficiently) with much less code than in the previous lab, thanks to Keras-RL!"
   ]
  },
  {
   "cell_type": "markdown",
   "metadata": {},
   "source": [
    "---------\n",
    "\n",
    "# 1.2 Solve *Space Invaders*  with Convolutional DQN from Keras-rl"
   ]
  },
  {
   "cell_type": "markdown",
   "metadata": {},
   "source": [
    "## Imports"
   ]
  },
  {
   "cell_type": "code",
   "execution_count": null,
   "metadata": {},
   "outputs": [
    {
     "ename": "DependencyNotInstalled",
     "evalue": "No module named 'atari_py'. (HINT: you can install Atari dependencies by running 'pip install gym[atari]'.)",
     "output_type": "error",
     "traceback": [
      "\u001b[0;31m---------------------------------------------------------------------------\u001b[0m",
      "\u001b[0;31mModuleNotFoundError\u001b[0m                       Traceback (most recent call last)",
      "File \u001b[0;32m/opt/anaconda3/envs/py39_keras_rl/lib/python3.9/site-packages/gym/envs/atari/atari_env.py:9\u001b[0m\n\u001b[1;32m      8\u001b[0m \u001b[38;5;28;01mtry\u001b[39;00m:\n\u001b[0;32m----> 9\u001b[0m     \u001b[38;5;28;01mimport\u001b[39;00m\u001b[38;5;250m \u001b[39m\u001b[38;5;21;01matari_py\u001b[39;00m\n\u001b[1;32m     10\u001b[0m \u001b[38;5;28;01mexcept\u001b[39;00m \u001b[38;5;167;01mImportError\u001b[39;00m \u001b[38;5;28;01mas\u001b[39;00m e:\n",
      "\u001b[0;31mModuleNotFoundError\u001b[0m: No module named 'atari_py'",
      "\nDuring handling of the above exception, another exception occurred:\n",
      "\u001b[0;31mDependencyNotInstalled\u001b[0m                    Traceback (most recent call last)",
      "Cell \u001b[0;32mIn[11], line 16\u001b[0m\n\u001b[1;32m     13\u001b[0m \u001b[38;5;28;01mfrom\u001b[39;00m\u001b[38;5;250m \u001b[39m\u001b[38;5;21;01mrl\u001b[39;00m\u001b[38;5;21;01m.\u001b[39;00m\u001b[38;5;21;01mpolicy\u001b[39;00m\u001b[38;5;250m \u001b[39m\u001b[38;5;28;01mimport\u001b[39;00m LinearAnnealedPolicy, EpsGreedyQPolicy\n\u001b[1;32m     15\u001b[0m \u001b[38;5;28;01mimport\u001b[39;00m\u001b[38;5;250m \u001b[39m\u001b[38;5;21;01mgym\u001b[39;00m\n\u001b[0;32m---> 16\u001b[0m env \u001b[38;5;241m=\u001b[39m \u001b[43mgym\u001b[49m\u001b[38;5;241;43m.\u001b[39;49m\u001b[43mmake\u001b[49m\u001b[43m(\u001b[49m\u001b[38;5;124;43m'\u001b[39;49m\u001b[38;5;124;43mSpaceInvaders-v0\u001b[39;49m\u001b[38;5;124;43m'\u001b[39;49m\u001b[43m)\u001b[49m\n",
      "File \u001b[0;32m/opt/anaconda3/envs/py39_keras_rl/lib/python3.9/site-packages/gym/envs/registration.py:156\u001b[0m, in \u001b[0;36mmake\u001b[0;34m(id, **kwargs)\u001b[0m\n\u001b[1;32m    155\u001b[0m \u001b[38;5;28;01mdef\u001b[39;00m\u001b[38;5;250m \u001b[39m\u001b[38;5;21mmake\u001b[39m(\u001b[38;5;28mid\u001b[39m, \u001b[38;5;241m*\u001b[39m\u001b[38;5;241m*\u001b[39mkwargs):\n\u001b[0;32m--> 156\u001b[0m     \u001b[38;5;28;01mreturn\u001b[39;00m \u001b[43mregistry\u001b[49m\u001b[38;5;241;43m.\u001b[39;49m\u001b[43mmake\u001b[49m\u001b[43m(\u001b[49m\u001b[38;5;28;43mid\u001b[39;49m\u001b[43m,\u001b[49m\u001b[43m \u001b[49m\u001b[38;5;241;43m*\u001b[39;49m\u001b[38;5;241;43m*\u001b[39;49m\u001b[43mkwargs\u001b[49m\u001b[43m)\u001b[49m\n",
      "File \u001b[0;32m/opt/anaconda3/envs/py39_keras_rl/lib/python3.9/site-packages/gym/envs/registration.py:101\u001b[0m, in \u001b[0;36mEnvRegistry.make\u001b[0;34m(self, path, **kwargs)\u001b[0m\n\u001b[1;32m     99\u001b[0m     logger\u001b[38;5;241m.\u001b[39minfo(\u001b[38;5;124m'\u001b[39m\u001b[38;5;124mMaking new env: \u001b[39m\u001b[38;5;132;01m%s\u001b[39;00m\u001b[38;5;124m'\u001b[39m, path)\n\u001b[1;32m    100\u001b[0m spec \u001b[38;5;241m=\u001b[39m \u001b[38;5;28mself\u001b[39m\u001b[38;5;241m.\u001b[39mspec(path)\n\u001b[0;32m--> 101\u001b[0m env \u001b[38;5;241m=\u001b[39m \u001b[43mspec\u001b[49m\u001b[38;5;241;43m.\u001b[39;49m\u001b[43mmake\u001b[49m\u001b[43m(\u001b[49m\u001b[38;5;241;43m*\u001b[39;49m\u001b[38;5;241;43m*\u001b[39;49m\u001b[43mkwargs\u001b[49m\u001b[43m)\u001b[49m\n\u001b[1;32m    102\u001b[0m \u001b[38;5;66;03m# We used to have people override _reset/_step rather than\u001b[39;00m\n\u001b[1;32m    103\u001b[0m \u001b[38;5;66;03m# reset/step. Set _gym_disable_underscore_compat = True on\u001b[39;00m\n\u001b[1;32m    104\u001b[0m \u001b[38;5;66;03m# your environment if you use these methods and don't want\u001b[39;00m\n\u001b[1;32m    105\u001b[0m \u001b[38;5;66;03m# compatibility code to be invoked.\u001b[39;00m\n\u001b[1;32m    106\u001b[0m \u001b[38;5;28;01mif\u001b[39;00m \u001b[38;5;28mhasattr\u001b[39m(env, \u001b[38;5;124m\"\u001b[39m\u001b[38;5;124m_reset\u001b[39m\u001b[38;5;124m\"\u001b[39m) \u001b[38;5;129;01mand\u001b[39;00m \u001b[38;5;28mhasattr\u001b[39m(env, \u001b[38;5;124m\"\u001b[39m\u001b[38;5;124m_step\u001b[39m\u001b[38;5;124m\"\u001b[39m) \u001b[38;5;129;01mand\u001b[39;00m \u001b[38;5;129;01mnot\u001b[39;00m \u001b[38;5;28mgetattr\u001b[39m(env, \u001b[38;5;124m\"\u001b[39m\u001b[38;5;124m_gym_disable_underscore_compat\u001b[39m\u001b[38;5;124m\"\u001b[39m, \u001b[38;5;28;01mFalse\u001b[39;00m):\n",
      "File \u001b[0;32m/opt/anaconda3/envs/py39_keras_rl/lib/python3.9/site-packages/gym/envs/registration.py:72\u001b[0m, in \u001b[0;36mEnvSpec.make\u001b[0;34m(self, **kwargs)\u001b[0m\n\u001b[1;32m     70\u001b[0m     env \u001b[38;5;241m=\u001b[39m \u001b[38;5;28mself\u001b[39m\u001b[38;5;241m.\u001b[39mentry_point(\u001b[38;5;241m*\u001b[39m\u001b[38;5;241m*\u001b[39m_kwargs)\n\u001b[1;32m     71\u001b[0m \u001b[38;5;28;01melse\u001b[39;00m:\n\u001b[0;32m---> 72\u001b[0m     \u001b[38;5;28mcls\u001b[39m \u001b[38;5;241m=\u001b[39m \u001b[43mload\u001b[49m\u001b[43m(\u001b[49m\u001b[38;5;28;43mself\u001b[39;49m\u001b[38;5;241;43m.\u001b[39;49m\u001b[43mentry_point\u001b[49m\u001b[43m)\u001b[49m\n\u001b[1;32m     73\u001b[0m     env \u001b[38;5;241m=\u001b[39m \u001b[38;5;28mcls\u001b[39m(\u001b[38;5;241m*\u001b[39m\u001b[38;5;241m*\u001b[39m_kwargs)\n\u001b[1;32m     75\u001b[0m \u001b[38;5;66;03m# Make the enviroment aware of which spec it came from.\u001b[39;00m\n",
      "File \u001b[0;32m/opt/anaconda3/envs/py39_keras_rl/lib/python3.9/site-packages/gym/envs/registration.py:17\u001b[0m, in \u001b[0;36mload\u001b[0;34m(name)\u001b[0m\n\u001b[1;32m     15\u001b[0m \u001b[38;5;28;01mdef\u001b[39;00m\u001b[38;5;250m \u001b[39m\u001b[38;5;21mload\u001b[39m(name):\n\u001b[1;32m     16\u001b[0m     mod_name, attr_name \u001b[38;5;241m=\u001b[39m name\u001b[38;5;241m.\u001b[39msplit(\u001b[38;5;124m\"\u001b[39m\u001b[38;5;124m:\u001b[39m\u001b[38;5;124m\"\u001b[39m)\n\u001b[0;32m---> 17\u001b[0m     mod \u001b[38;5;241m=\u001b[39m \u001b[43mimportlib\u001b[49m\u001b[38;5;241;43m.\u001b[39;49m\u001b[43mimport_module\u001b[49m\u001b[43m(\u001b[49m\u001b[43mmod_name\u001b[49m\u001b[43m)\u001b[49m\n\u001b[1;32m     18\u001b[0m     fn \u001b[38;5;241m=\u001b[39m \u001b[38;5;28mgetattr\u001b[39m(mod, attr_name)\n\u001b[1;32m     19\u001b[0m     \u001b[38;5;28;01mreturn\u001b[39;00m fn\n",
      "File \u001b[0;32m/opt/anaconda3/envs/py39_keras_rl/lib/python3.9/importlib/__init__.py:127\u001b[0m, in \u001b[0;36mimport_module\u001b[0;34m(name, package)\u001b[0m\n\u001b[1;32m    125\u001b[0m             \u001b[38;5;28;01mbreak\u001b[39;00m\n\u001b[1;32m    126\u001b[0m         level \u001b[38;5;241m+\u001b[39m\u001b[38;5;241m=\u001b[39m \u001b[38;5;241m1\u001b[39m\n\u001b[0;32m--> 127\u001b[0m \u001b[38;5;28;01mreturn\u001b[39;00m \u001b[43m_bootstrap\u001b[49m\u001b[38;5;241;43m.\u001b[39;49m\u001b[43m_gcd_import\u001b[49m\u001b[43m(\u001b[49m\u001b[43mname\u001b[49m\u001b[43m[\u001b[49m\u001b[43mlevel\u001b[49m\u001b[43m:\u001b[49m\u001b[43m]\u001b[49m\u001b[43m,\u001b[49m\u001b[43m \u001b[49m\u001b[43mpackage\u001b[49m\u001b[43m,\u001b[49m\u001b[43m \u001b[49m\u001b[43mlevel\u001b[49m\u001b[43m)\u001b[49m\n",
      "File \u001b[0;32m<frozen importlib._bootstrap>:1030\u001b[0m, in \u001b[0;36m_gcd_import\u001b[0;34m(name, package, level)\u001b[0m\n",
      "File \u001b[0;32m<frozen importlib._bootstrap>:1007\u001b[0m, in \u001b[0;36m_find_and_load\u001b[0;34m(name, import_)\u001b[0m\n",
      "File \u001b[0;32m<frozen importlib._bootstrap>:986\u001b[0m, in \u001b[0;36m_find_and_load_unlocked\u001b[0;34m(name, import_)\u001b[0m\n",
      "File \u001b[0;32m<frozen importlib._bootstrap>:680\u001b[0m, in \u001b[0;36m_load_unlocked\u001b[0;34m(spec)\u001b[0m\n",
      "File \u001b[0;32m<frozen importlib._bootstrap_external>:850\u001b[0m, in \u001b[0;36mexec_module\u001b[0;34m(self, module)\u001b[0m\n",
      "File \u001b[0;32m<frozen importlib._bootstrap>:228\u001b[0m, in \u001b[0;36m_call_with_frames_removed\u001b[0;34m(f, *args, **kwds)\u001b[0m\n",
      "File \u001b[0;32m/opt/anaconda3/envs/py39_keras_rl/lib/python3.9/site-packages/gym/envs/atari/__init__.py:1\u001b[0m\n\u001b[0;32m----> 1\u001b[0m \u001b[38;5;28;01mfrom\u001b[39;00m\u001b[38;5;250m \u001b[39m\u001b[38;5;21;01mgym\u001b[39;00m\u001b[38;5;21;01m.\u001b[39;00m\u001b[38;5;21;01menvs\u001b[39;00m\u001b[38;5;21;01m.\u001b[39;00m\u001b[38;5;21;01matari\u001b[39;00m\u001b[38;5;21;01m.\u001b[39;00m\u001b[38;5;21;01matari_env\u001b[39;00m\u001b[38;5;250m \u001b[39m\u001b[38;5;28;01mimport\u001b[39;00m AtariEnv\n",
      "File \u001b[0;32m/opt/anaconda3/envs/py39_keras_rl/lib/python3.9/site-packages/gym/envs/atari/atari_env.py:11\u001b[0m\n\u001b[1;32m      9\u001b[0m     \u001b[38;5;28;01mimport\u001b[39;00m\u001b[38;5;250m \u001b[39m\u001b[38;5;21;01matari_py\u001b[39;00m\n\u001b[1;32m     10\u001b[0m \u001b[38;5;28;01mexcept\u001b[39;00m \u001b[38;5;167;01mImportError\u001b[39;00m \u001b[38;5;28;01mas\u001b[39;00m e:\n\u001b[0;32m---> 11\u001b[0m     \u001b[38;5;28;01mraise\u001b[39;00m error\u001b[38;5;241m.\u001b[39mDependencyNotInstalled(\n\u001b[1;32m     12\u001b[0m             \u001b[38;5;124m\"\u001b[39m\u001b[38;5;132;01m{}\u001b[39;00m\u001b[38;5;124m. (HINT: you can install Atari dependencies by running \u001b[39m\u001b[38;5;124m\"\u001b[39m\n\u001b[1;32m     13\u001b[0m             \u001b[38;5;124m\"\u001b[39m\u001b[38;5;124m'\u001b[39m\u001b[38;5;124mpip install gym[atari]\u001b[39m\u001b[38;5;124m'\u001b[39m\u001b[38;5;124m.)\u001b[39m\u001b[38;5;124m\"\u001b[39m\u001b[38;5;241m.\u001b[39mformat(e))\n\u001b[1;32m     16\u001b[0m \u001b[38;5;28;01mdef\u001b[39;00m\u001b[38;5;250m \u001b[39m\u001b[38;5;21mto_ram\u001b[39m(ale):\n\u001b[1;32m     17\u001b[0m     ram_size \u001b[38;5;241m=\u001b[39m ale\u001b[38;5;241m.\u001b[39mgetRAMSize()\n",
      "\u001b[0;31mDependencyNotInstalled\u001b[0m: No module named 'atari_py'. (HINT: you can install Atari dependencies by running 'pip install gym[atari]'.)"
     ]
    },
    {
     "ename": "",
     "evalue": "",
     "output_type": "error",
     "traceback": [
      "\u001b[1;31mThe Kernel crashed while executing code in the current cell or a previous cell. \n",
      "\u001b[1;31mPlease review the code in the cell(s) to identify a possible cause of the failure. \n",
      "\u001b[1;31mClick <a href='https://aka.ms/vscodeJupyterKernelCrash'>here</a> for more info. \n",
      "\u001b[1;31mView Jupyter <a href='command:jupyter.viewOutput'>log</a> for further details."
     ]
    }
   ],
   "source": [
    "import numpy as np\n",
    "from tensorflow.keras.models import Sequential\n",
    "from tensorflow.keras.layers import Dense, Flatten, Conv2D\n",
    "from tensorflow.keras.optimizers.legacy import Adam\n",
    "\n",
    "# Quick fix if python cannot import name '__version__' from 'tensorflow.keras'\n",
    "import tensorflow as tf\n",
    "from keras import __version__\n",
    "tf.keras.__version__ = __version__\n",
    "\n",
    "from rl.agents import DQNAgent\n",
    "from rl.memory import SequentialMemory\n",
    "from rl.policy import LinearAnnealedPolicy, EpsGreedyQPolicy\n",
    "\n",
    "import gym\n",
    "env = gym.make('SpaceInvaders-v0')\n"
   ]
  },
  {
   "cell_type": "markdown",
   "metadata": {},
   "source": [
    "## Execute random actions just to get familiar with the environment"
   ]
  },
  {
   "cell_type": "code",
   "execution_count": null,
   "metadata": {},
   "outputs": [],
   "source": [
    "# env = gym.make('SpaceInvaders-v0', render_mode='human')\n",
    "\n",
    "# episodes = 2\n",
    "\n",
    "# for episode in range(1, episodes):\n",
    "#     state = env.reset()\n",
    "#     done = False\n",
    "#     score = 0\n",
    "    \n",
    "#     while not done:\n",
    "#         #env.render()\n",
    "#         state, reward, done, trunc, info = env.step(env.action_space.sample())\n",
    "#         print(state.shape)\n",
    "#         score += reward\n",
    "#     print('Episode: {}\\nScore: {}'.format(episode, score))\n",
    "    \n",
    "# env.close()"
   ]
  },
  {
   "cell_type": "markdown",
   "metadata": {},
   "source": [
    "## Implement a Convolutional Neural Network"
   ]
  },
  {
   "cell_type": "code",
   "execution_count": null,
   "metadata": {},
   "outputs": [],
   "source": [
    "def build_model(height, width, channels, actions):\n",
    "    model = Sequential()\n",
    "    model.add(Conv2D(32, (8,8), strides=(4,4), activation='relu', input_shape=(3, height, width, channels)))\n",
    "    model.add(Conv2D(64, (4,4), strides=(2,2), activation='relu'))\n",
    "    model.add(Conv2D(64, (4,4), strides=(2,2), activation='relu'))\n",
    "    model.add(Flatten())\n",
    "    model.add(Dense(512, activation='relu'))\n",
    "    model.add(Dense(256, activation='relu'))\n",
    "    model.add(Dense(64, activation='relu'))\n",
    "    model.add(Dense(actions, activation='linear'))\n",
    "    return model"
   ]
  },
  {
   "cell_type": "code",
   "execution_count": null,
   "metadata": {},
   "outputs": [],
   "source": [
    "height, width, channels = env.observation_space.shape\n",
    "actions = env.action_space.n\n",
    "print(height, width, channels)"
   ]
  },
  {
   "cell_type": "code",
   "execution_count": null,
   "metadata": {},
   "outputs": [],
   "source": [
    "#del model # [Jeremy] why do we need this? TBD"
   ]
  },
  {
   "cell_type": "code",
   "execution_count": null,
   "metadata": {},
   "outputs": [],
   "source": [
    "model = build_model(height, width, channels, actions)"
   ]
  },
  {
   "cell_type": "markdown",
   "metadata": {},
   "source": [
    "## Implement the DQN framework "
   ]
  },
  {
   "cell_type": "code",
   "execution_count": null,
   "metadata": {},
   "outputs": [],
   "source": [
    "def build_agent(model, actions):\n",
    "    policy = LinearAnnealedPolicy(EpsGreedyQPolicy(), attr='eps', value_max=1., value_min=.1, value_test=.2, nb_steps=10000)\n",
    "    memory = SequentialMemory(limit=2000, window_length=3)\n",
    "    dqn = DQNAgent(model=model, memory=memory, policy=policy,\n",
    "                  enable_dueling_network=False, dueling_type='avg',\n",
    "                  nb_actions=actions, nb_steps_warmup=1000)\n",
    "    return dqn"
   ]
  },
  {
   "cell_type": "code",
   "execution_count": null,
   "metadata": {},
   "outputs": [],
   "source": [
    "dqn = build_agent(model, actions)"
   ]
  },
  {
   "cell_type": "code",
   "execution_count": null,
   "metadata": {},
   "outputs": [],
   "source": [
    "dqn.compile(Adam(learning_rate=0.001))"
   ]
  },
  {
   "cell_type": "code",
   "execution_count": null,
   "metadata": {},
   "outputs": [],
   "source": [
    "dqn.fit(env, nb_steps = 40000, visualize = False, verbose = 1) # Train for 1000 steps in class, try 40000 at home :)"
   ]
  },
  {
   "cell_type": "code",
   "execution_count": null,
   "metadata": {
    "collapsed": true
   },
   "outputs": [],
   "source": [
    "#dqn.save_weights('SpaceInvaderTrainedModel/dqn.h5f')"
   ]
  },
  {
   "cell_type": "markdown",
   "metadata": {},
   "source": [
    "## Exploit learned Q values in test simulations"
   ]
  },
  {
   "cell_type": "code",
   "execution_count": null,
   "metadata": {
    "collapsed": true
   },
   "outputs": [],
   "source": [
    "#dqn.load_weights('SpaceInvaderTrainedModel/dqn.h5f')"
   ]
  },
  {
   "cell_type": "code",
   "execution_count": null,
   "metadata": {
    "collapsed": true
   },
   "outputs": [],
   "source": [
    "env = gym.make('SpaceInvaders-v0', render_mode = 'human') # Added because with visualize = True it crashes with message that render-'human' is obsolete\n",
    "\n",
    "scores = dqn.test(env, nb_episodes = 10, visualize = False)  # Would need play with versioning to use the vizualize parameter (currently fixed with line above)\n",
    "print(np.mean(scores.history['episode_reward']))"
   ]
  },
  {
   "cell_type": "markdown",
   "metadata": {},
   "source": [
    "# 2. Implement DQN with Stable-baselines algorithms\n",
    "\n",
    "Instead of implementing DQN from scratch (previous lab), or its individual components from external packages as seen in the section above, yet other packages exist which offer a \"complete\" implementation of the most popular RL algorithms (DQN, A3C, PPO, DDPG, etc).\n",
    "\n",
    "Many such packages exist. The most popular ones include OpenAI `Stable-baselines`, DeepMind `Acme`, AWS `SageMaker RL`, Meta `AI ReAgent`, Ray `RLlib`, Intel `AI Coach`. \n",
    "\n",
    "Today we will focus exclusively on `Stable-baselines` because it was initially designed by OpenAI in tandem with `Gym` environments. In the final labs of the semester will introduce several other frameworks.\n",
    "\n",
    "\n",
    "These implementations of RL algorithms have been optimized for ease-of-use, robustness to different scenarios, and overall performance. Their drawback is you get less control on details of the implementation and hyperparameters, compared to using packages such as `Keras-RL` which only implement key *components* of RL algorithms.\n"
   ]
  },
  {
   "cell_type": "markdown",
   "metadata": {},
   "source": [
    "# 2.1 Play 'Car Racing' with Convolutional PPO from Stable-baselines"
   ]
  },
  {
   "cell_type": "markdown",
   "metadata": {},
   "source": [
    "## Imports"
   ]
  },
  {
   "cell_type": "code",
   "execution_count": 3,
   "metadata": {},
   "outputs": [
    {
     "name": "stdout",
     "output_type": "stream",
     "text": [
      "WARNING:tensorflow:From f:\\Study_Notes_Backup\\Data_Science\\DS-GA-3001-Reinforcement\\.venv\\lib\\site-packages\\keras\\src\\losses.py:2976: The name tf.losses.sparse_softmax_cross_entropy is deprecated. Please use tf.compat.v1.losses.sparse_softmax_cross_entropy instead.\n",
      "\n"
     ]
    }
   ],
   "source": [
    "import gymnasium as gym\n",
    "\n",
    "#Quick fix for M1 architecture (M2/M3 might also need this).\n",
    "# import os\n",
    "# os.environ['KMP_DUPLICATE_LIB_OK']='True'\n",
    "\n",
    "from stable_baselines3 import PPO \n",
    "from stable_baselines3.common.evaluation import evaluate_policy"
   ]
  },
  {
   "cell_type": "markdown",
   "metadata": {},
   "source": [
    "## Set up the `CarRacing` Gym environment"
   ]
  },
  {
   "cell_type": "code",
   "execution_count": 5,
   "metadata": {},
   "outputs": [],
   "source": [
    "env = gym.make('CarRacing-v3')\n",
    "env.observation_space.sample().shape\n",
    "env.action_space.sample()\n",
    "#env.reset()\n",
    "#env.render()\n",
    "env.close()"
   ]
  },
  {
   "cell_type": "markdown",
   "metadata": {},
   "source": [
    "## Execute random actions just to get familiar with the environment"
   ]
  },
  {
   "cell_type": "code",
   "execution_count": null,
   "metadata": {
    "collapsed": true
   },
   "outputs": [
    {
     "ename": "KeyboardInterrupt",
     "evalue": "",
     "output_type": "error",
     "traceback": [
      "\u001b[0;31m---------------------------------------------------------------------------\u001b[0m",
      "\u001b[0;31mKeyboardInterrupt\u001b[0m                         Traceback (most recent call last)",
      "Cell \u001b[0;32mIn[57], line 9\u001b[0m\n\u001b[1;32m      6\u001b[0m score \u001b[38;5;241m=\u001b[39m \u001b[38;5;241m0\u001b[39m\n\u001b[1;32m      8\u001b[0m \u001b[38;5;28;01mwhile\u001b[39;00m \u001b[38;5;129;01mnot\u001b[39;00m done:\n\u001b[0;32m----> 9\u001b[0m     \u001b[43menv_test\u001b[49m\u001b[38;5;241;43m.\u001b[39;49m\u001b[43mrender\u001b[49m\u001b[43m(\u001b[49m\u001b[43m)\u001b[49m\n\u001b[1;32m     10\u001b[0m     action \u001b[38;5;241m=\u001b[39m env_test\u001b[38;5;241m.\u001b[39maction_space\u001b[38;5;241m.\u001b[39msample()\n\u001b[1;32m     11\u001b[0m     n_state, reward, done, trunc, info \u001b[38;5;241m=\u001b[39m env_test\u001b[38;5;241m.\u001b[39mstep(action)\n",
      "File \u001b[0;32m/opt/anaconda3/envs/py39_final/lib/python3.9/site-packages/gymnasium/core.py:332\u001b[0m, in \u001b[0;36mWrapper.render\u001b[0;34m(self)\u001b[0m\n\u001b[1;32m    330\u001b[0m \u001b[38;5;28;01mdef\u001b[39;00m\u001b[38;5;250m \u001b[39m\u001b[38;5;21mrender\u001b[39m(\u001b[38;5;28mself\u001b[39m) \u001b[38;5;241m-\u001b[39m\u001b[38;5;241m>\u001b[39m RenderFrame \u001b[38;5;241m|\u001b[39m \u001b[38;5;28mlist\u001b[39m[RenderFrame] \u001b[38;5;241m|\u001b[39m \u001b[38;5;28;01mNone\u001b[39;00m:\n\u001b[1;32m    331\u001b[0m \u001b[38;5;250m    \u001b[39m\u001b[38;5;124;03m\"\"\"Uses the :meth:`render` of the :attr:`env` that can be overwritten to change the returned data.\"\"\"\u001b[39;00m\n\u001b[0;32m--> 332\u001b[0m     \u001b[38;5;28;01mreturn\u001b[39;00m \u001b[38;5;28;43mself\u001b[39;49m\u001b[38;5;241;43m.\u001b[39;49m\u001b[43menv\u001b[49m\u001b[38;5;241;43m.\u001b[39;49m\u001b[43mrender\u001b[49m\u001b[43m(\u001b[49m\u001b[43m)\u001b[49m\n",
      "File \u001b[0;32m/opt/anaconda3/envs/py39_final/lib/python3.9/site-packages/gymnasium/wrappers/common.py:409\u001b[0m, in \u001b[0;36mOrderEnforcing.render\u001b[0;34m(self)\u001b[0m\n\u001b[1;32m    404\u001b[0m \u001b[38;5;28;01mif\u001b[39;00m \u001b[38;5;129;01mnot\u001b[39;00m \u001b[38;5;28mself\u001b[39m\u001b[38;5;241m.\u001b[39m_disable_render_order_enforcing \u001b[38;5;129;01mand\u001b[39;00m \u001b[38;5;129;01mnot\u001b[39;00m \u001b[38;5;28mself\u001b[39m\u001b[38;5;241m.\u001b[39m_has_reset:\n\u001b[1;32m    405\u001b[0m     \u001b[38;5;28;01mraise\u001b[39;00m ResetNeeded(\n\u001b[1;32m    406\u001b[0m         \u001b[38;5;124m\"\u001b[39m\u001b[38;5;124mCannot call `env.render()` before calling `env.reset()`, if this is an intended action, \u001b[39m\u001b[38;5;124m\"\u001b[39m\n\u001b[1;32m    407\u001b[0m         \u001b[38;5;124m\"\u001b[39m\u001b[38;5;124mset `disable_render_order_enforcing=True` on the OrderEnforcer wrapper.\u001b[39m\u001b[38;5;124m\"\u001b[39m\n\u001b[1;32m    408\u001b[0m     )\n\u001b[0;32m--> 409\u001b[0m \u001b[38;5;28;01mreturn\u001b[39;00m \u001b[38;5;28;43msuper\u001b[39;49m\u001b[43m(\u001b[49m\u001b[43m)\u001b[49m\u001b[38;5;241;43m.\u001b[39;49m\u001b[43mrender\u001b[49m\u001b[43m(\u001b[49m\u001b[43m)\u001b[49m\n",
      "File \u001b[0;32m/opt/anaconda3/envs/py39_final/lib/python3.9/site-packages/gymnasium/core.py:332\u001b[0m, in \u001b[0;36mWrapper.render\u001b[0;34m(self)\u001b[0m\n\u001b[1;32m    330\u001b[0m \u001b[38;5;28;01mdef\u001b[39;00m\u001b[38;5;250m \u001b[39m\u001b[38;5;21mrender\u001b[39m(\u001b[38;5;28mself\u001b[39m) \u001b[38;5;241m-\u001b[39m\u001b[38;5;241m>\u001b[39m RenderFrame \u001b[38;5;241m|\u001b[39m \u001b[38;5;28mlist\u001b[39m[RenderFrame] \u001b[38;5;241m|\u001b[39m \u001b[38;5;28;01mNone\u001b[39;00m:\n\u001b[1;32m    331\u001b[0m \u001b[38;5;250m    \u001b[39m\u001b[38;5;124;03m\"\"\"Uses the :meth:`render` of the :attr:`env` that can be overwritten to change the returned data.\"\"\"\u001b[39;00m\n\u001b[0;32m--> 332\u001b[0m     \u001b[38;5;28;01mreturn\u001b[39;00m \u001b[38;5;28;43mself\u001b[39;49m\u001b[38;5;241;43m.\u001b[39;49m\u001b[43menv\u001b[49m\u001b[38;5;241;43m.\u001b[39;49m\u001b[43mrender\u001b[49m\u001b[43m(\u001b[49m\u001b[43m)\u001b[49m\n",
      "File \u001b[0;32m/opt/anaconda3/envs/py39_final/lib/python3.9/site-packages/gymnasium/wrappers/common.py:303\u001b[0m, in \u001b[0;36mPassiveEnvChecker.render\u001b[0;34m(self)\u001b[0m\n\u001b[1;32m    301\u001b[0m     \u001b[38;5;28;01mreturn\u001b[39;00m env_render_passive_checker(\u001b[38;5;28mself\u001b[39m\u001b[38;5;241m.\u001b[39menv)\n\u001b[1;32m    302\u001b[0m \u001b[38;5;28;01melse\u001b[39;00m:\n\u001b[0;32m--> 303\u001b[0m     \u001b[38;5;28;01mreturn\u001b[39;00m \u001b[38;5;28;43mself\u001b[39;49m\u001b[38;5;241;43m.\u001b[39;49m\u001b[43menv\u001b[49m\u001b[38;5;241;43m.\u001b[39;49m\u001b[43mrender\u001b[49m\u001b[43m(\u001b[49m\u001b[43m)\u001b[49m\n",
      "File \u001b[0;32m/opt/anaconda3/envs/py39_final/lib/python3.9/site-packages/gymnasium/envs/box2d/car_racing.py:600\u001b[0m, in \u001b[0;36mCarRacing.render\u001b[0;34m(self)\u001b[0m\n\u001b[1;32m    598\u001b[0m     \u001b[38;5;28;01mreturn\u001b[39;00m\n\u001b[1;32m    599\u001b[0m \u001b[38;5;28;01melse\u001b[39;00m:\n\u001b[0;32m--> 600\u001b[0m     \u001b[38;5;28;01mreturn\u001b[39;00m \u001b[38;5;28;43mself\u001b[39;49m\u001b[38;5;241;43m.\u001b[39;49m\u001b[43m_render\u001b[49m\u001b[43m(\u001b[49m\u001b[38;5;28;43mself\u001b[39;49m\u001b[38;5;241;43m.\u001b[39;49m\u001b[43mrender_mode\u001b[49m\u001b[43m)\u001b[49m\n",
      "File \u001b[0;32m/opt/anaconda3/envs/py39_final/lib/python3.9/site-packages/gymnasium/envs/box2d/car_racing.py:628\u001b[0m, in \u001b[0;36mCarRacing._render\u001b[0;34m(self, mode)\u001b[0m\n\u001b[1;32m    625\u001b[0m trans \u001b[38;5;241m=\u001b[39m pygame\u001b[38;5;241m.\u001b[39mmath\u001b[38;5;241m.\u001b[39mVector2((scroll_x, scroll_y))\u001b[38;5;241m.\u001b[39mrotate_rad(angle)\n\u001b[1;32m    626\u001b[0m trans \u001b[38;5;241m=\u001b[39m (WINDOW_W \u001b[38;5;241m/\u001b[39m \u001b[38;5;241m2\u001b[39m \u001b[38;5;241m+\u001b[39m trans[\u001b[38;5;241m0\u001b[39m], WINDOW_H \u001b[38;5;241m/\u001b[39m \u001b[38;5;241m4\u001b[39m \u001b[38;5;241m+\u001b[39m trans[\u001b[38;5;241m1\u001b[39m])\n\u001b[0;32m--> 628\u001b[0m \u001b[38;5;28;43mself\u001b[39;49m\u001b[38;5;241;43m.\u001b[39;49m\u001b[43m_render_road\u001b[49m\u001b[43m(\u001b[49m\u001b[43mzoom\u001b[49m\u001b[43m,\u001b[49m\u001b[43m \u001b[49m\u001b[43mtrans\u001b[49m\u001b[43m,\u001b[49m\u001b[43m \u001b[49m\u001b[43mangle\u001b[49m\u001b[43m)\u001b[49m\n\u001b[1;32m    629\u001b[0m \u001b[38;5;28mself\u001b[39m\u001b[38;5;241m.\u001b[39mcar\u001b[38;5;241m.\u001b[39mdraw(\n\u001b[1;32m    630\u001b[0m     \u001b[38;5;28mself\u001b[39m\u001b[38;5;241m.\u001b[39msurf,\n\u001b[1;32m    631\u001b[0m     zoom,\n\u001b[0;32m   (...)\u001b[0m\n\u001b[1;32m    634\u001b[0m     mode \u001b[38;5;129;01mnot\u001b[39;00m \u001b[38;5;129;01min\u001b[39;00m [\u001b[38;5;124m\"\u001b[39m\u001b[38;5;124mstate_pixels_list\u001b[39m\u001b[38;5;124m\"\u001b[39m, \u001b[38;5;124m\"\u001b[39m\u001b[38;5;124mstate_pixels\u001b[39m\u001b[38;5;124m\"\u001b[39m],\n\u001b[1;32m    635\u001b[0m )\n\u001b[1;32m    637\u001b[0m \u001b[38;5;28mself\u001b[39m\u001b[38;5;241m.\u001b[39msurf \u001b[38;5;241m=\u001b[39m pygame\u001b[38;5;241m.\u001b[39mtransform\u001b[38;5;241m.\u001b[39mflip(\u001b[38;5;28mself\u001b[39m\u001b[38;5;241m.\u001b[39msurf, \u001b[38;5;28;01mFalse\u001b[39;00m, \u001b[38;5;28;01mTrue\u001b[39;00m)\n",
      "File \u001b[0;32m/opt/anaconda3/envs/py39_final/lib/python3.9/site-packages/gymnasium/envs/box2d/car_racing.py:689\u001b[0m, in \u001b[0;36mCarRacing._render_road\u001b[0;34m(self, zoom, translation, angle)\u001b[0m\n\u001b[1;32m    680\u001b[0m         grass\u001b[38;5;241m.\u001b[39mappend(\n\u001b[1;32m    681\u001b[0m             [\n\u001b[1;32m    682\u001b[0m                 (GRASS_DIM \u001b[38;5;241m*\u001b[39m x \u001b[38;5;241m+\u001b[39m GRASS_DIM, GRASS_DIM \u001b[38;5;241m*\u001b[39m y \u001b[38;5;241m+\u001b[39m \u001b[38;5;241m0\u001b[39m),\n\u001b[0;32m   (...)\u001b[0m\n\u001b[1;32m    686\u001b[0m             ]\n\u001b[1;32m    687\u001b[0m         )\n\u001b[1;32m    688\u001b[0m \u001b[38;5;28;01mfor\u001b[39;00m poly \u001b[38;5;129;01min\u001b[39;00m grass:\n\u001b[0;32m--> 689\u001b[0m     \u001b[38;5;28;43mself\u001b[39;49m\u001b[38;5;241;43m.\u001b[39;49m\u001b[43m_draw_colored_polygon\u001b[49m\u001b[43m(\u001b[49m\n\u001b[1;32m    690\u001b[0m \u001b[43m        \u001b[49m\u001b[38;5;28;43mself\u001b[39;49m\u001b[38;5;241;43m.\u001b[39;49m\u001b[43msurf\u001b[49m\u001b[43m,\u001b[49m\u001b[43m \u001b[49m\u001b[43mpoly\u001b[49m\u001b[43m,\u001b[49m\u001b[43m \u001b[49m\u001b[38;5;28;43mself\u001b[39;49m\u001b[38;5;241;43m.\u001b[39;49m\u001b[43mgrass_color\u001b[49m\u001b[43m,\u001b[49m\u001b[43m \u001b[49m\u001b[43mzoom\u001b[49m\u001b[43m,\u001b[49m\u001b[43m \u001b[49m\u001b[43mtranslation\u001b[49m\u001b[43m,\u001b[49m\u001b[43m \u001b[49m\u001b[43mangle\u001b[49m\n\u001b[1;32m    691\u001b[0m \u001b[43m    \u001b[49m\u001b[43m)\u001b[49m\n\u001b[1;32m    693\u001b[0m \u001b[38;5;66;03m# draw road\u001b[39;00m\n\u001b[1;32m    694\u001b[0m \u001b[38;5;28;01mfor\u001b[39;00m poly, color \u001b[38;5;129;01min\u001b[39;00m \u001b[38;5;28mself\u001b[39m\u001b[38;5;241m.\u001b[39mroad_poly:\n\u001b[1;32m    695\u001b[0m     \u001b[38;5;66;03m# converting to pixel coordinates\u001b[39;00m\n",
      "File \u001b[0;32m/opt/anaconda3/envs/py39_final/lib/python3.9/site-packages/gymnasium/envs/box2d/car_racing.py:771\u001b[0m, in \u001b[0;36mCarRacing._draw_colored_polygon\u001b[0;34m(self, surface, poly, color, zoom, translation, angle, clip)\u001b[0m\n\u001b[1;32m    768\u001b[0m \u001b[38;5;28;01mdef\u001b[39;00m\u001b[38;5;250m \u001b[39m\u001b[38;5;21m_draw_colored_polygon\u001b[39m(\n\u001b[1;32m    769\u001b[0m     \u001b[38;5;28mself\u001b[39m, surface, poly, color, zoom, translation, angle, clip\u001b[38;5;241m=\u001b[39m\u001b[38;5;28;01mTrue\u001b[39;00m\n\u001b[1;32m    770\u001b[0m ):\n\u001b[0;32m--> 771\u001b[0m     poly \u001b[38;5;241m=\u001b[39m [pygame\u001b[38;5;241m.\u001b[39mmath\u001b[38;5;241m.\u001b[39mVector2(c)\u001b[38;5;241m.\u001b[39mrotate_rad(angle) \u001b[38;5;28;01mfor\u001b[39;00m c \u001b[38;5;129;01min\u001b[39;00m poly]\n\u001b[1;32m    772\u001b[0m     poly \u001b[38;5;241m=\u001b[39m [\n\u001b[1;32m    773\u001b[0m         (c[\u001b[38;5;241m0\u001b[39m] \u001b[38;5;241m*\u001b[39m zoom \u001b[38;5;241m+\u001b[39m translation[\u001b[38;5;241m0\u001b[39m], c[\u001b[38;5;241m1\u001b[39m] \u001b[38;5;241m*\u001b[39m zoom \u001b[38;5;241m+\u001b[39m translation[\u001b[38;5;241m1\u001b[39m]) \u001b[38;5;28;01mfor\u001b[39;00m c \u001b[38;5;129;01min\u001b[39;00m poly\n\u001b[1;32m    774\u001b[0m     ]\n\u001b[1;32m    775\u001b[0m     \u001b[38;5;66;03m# This checks if the polygon is out of bounds of the screen, and we skip drawing if so.\u001b[39;00m\n\u001b[1;32m    776\u001b[0m     \u001b[38;5;66;03m# Instead of calculating exactly if the polygon and screen overlap,\u001b[39;00m\n\u001b[1;32m    777\u001b[0m     \u001b[38;5;66;03m# we simply check if the polygon is in a larger bounding box whose dimension\u001b[39;00m\n\u001b[1;32m    778\u001b[0m     \u001b[38;5;66;03m# is greater than the screen by MAX_SHAPE_DIM, which is the maximum\u001b[39;00m\n\u001b[1;32m    779\u001b[0m     \u001b[38;5;66;03m# diagonal length of an environment object\u001b[39;00m\n",
      "File \u001b[0;32m/opt/anaconda3/envs/py39_final/lib/python3.9/site-packages/gymnasium/envs/box2d/car_racing.py:771\u001b[0m, in \u001b[0;36m<listcomp>\u001b[0;34m(.0)\u001b[0m\n\u001b[1;32m    768\u001b[0m \u001b[38;5;28;01mdef\u001b[39;00m\u001b[38;5;250m \u001b[39m\u001b[38;5;21m_draw_colored_polygon\u001b[39m(\n\u001b[1;32m    769\u001b[0m     \u001b[38;5;28mself\u001b[39m, surface, poly, color, zoom, translation, angle, clip\u001b[38;5;241m=\u001b[39m\u001b[38;5;28;01mTrue\u001b[39;00m\n\u001b[1;32m    770\u001b[0m ):\n\u001b[0;32m--> 771\u001b[0m     poly \u001b[38;5;241m=\u001b[39m [\u001b[43mpygame\u001b[49m\u001b[38;5;241;43m.\u001b[39;49m\u001b[43mmath\u001b[49m\u001b[38;5;241m.\u001b[39mVector2(c)\u001b[38;5;241m.\u001b[39mrotate_rad(angle) \u001b[38;5;28;01mfor\u001b[39;00m c \u001b[38;5;129;01min\u001b[39;00m poly]\n\u001b[1;32m    772\u001b[0m     poly \u001b[38;5;241m=\u001b[39m [\n\u001b[1;32m    773\u001b[0m         (c[\u001b[38;5;241m0\u001b[39m] \u001b[38;5;241m*\u001b[39m zoom \u001b[38;5;241m+\u001b[39m translation[\u001b[38;5;241m0\u001b[39m], c[\u001b[38;5;241m1\u001b[39m] \u001b[38;5;241m*\u001b[39m zoom \u001b[38;5;241m+\u001b[39m translation[\u001b[38;5;241m1\u001b[39m]) \u001b[38;5;28;01mfor\u001b[39;00m c \u001b[38;5;129;01min\u001b[39;00m poly\n\u001b[1;32m    774\u001b[0m     ]\n\u001b[1;32m    775\u001b[0m     \u001b[38;5;66;03m# This checks if the polygon is out of bounds of the screen, and we skip drawing if so.\u001b[39;00m\n\u001b[1;32m    776\u001b[0m     \u001b[38;5;66;03m# Instead of calculating exactly if the polygon and screen overlap,\u001b[39;00m\n\u001b[1;32m    777\u001b[0m     \u001b[38;5;66;03m# we simply check if the polygon is in a larger bounding box whose dimension\u001b[39;00m\n\u001b[1;32m    778\u001b[0m     \u001b[38;5;66;03m# is greater than the screen by MAX_SHAPE_DIM, which is the maximum\u001b[39;00m\n\u001b[1;32m    779\u001b[0m     \u001b[38;5;66;03m# diagonal length of an environment object\u001b[39;00m\n",
      "\u001b[0;31mKeyboardInterrupt\u001b[0m: "
     ]
    },
    {
     "ename": "",
     "evalue": "",
     "output_type": "error",
     "traceback": [
      "\u001b[1;31mThe Kernel crashed while executing code in the current cell or a previous cell. \n",
      "\u001b[1;31mPlease review the code in the cell(s) to identify a possible cause of the failure. \n",
      "\u001b[1;31mClick <a href='https://aka.ms/vscodeJupyterKernelCrash'>here</a> for more info. \n",
      "\u001b[1;31mView Jupyter <a href='command:jupyter.viewOutput'>log</a> for further details."
     ]
    }
   ],
   "source": [
    "env_test = gym.make('CarRacing-v3', render_mode = 'human')\n",
    "episodes = 5\n",
    "for episode in range(episodes):\n",
    "    state, info = env_test.reset()\n",
    "    done = False\n",
    "    score = 0\n",
    "    \n",
    "    while not done:\n",
    "        env_test.render()\n",
    "        action = env_test.action_space.sample()\n",
    "        n_state, reward, done, trunc, info = env_test.step(action)\n",
    "        score+=reward\n",
    "    print(\"Episode: {} Score: {}\".format(episode, score))\n",
    "    \n",
    "env.close()"
   ]
  },
  {
   "cell_type": "code",
   "execution_count": 50,
   "id": "b279691d",
   "metadata": {},
   "outputs": [],
   "source": [
    "# from stable_baselines3.common.env_util import make_vec_env\n",
    "# env = make_vec_env(lambda: gym.make('CarRacing-v3'), n_envs=1)"
   ]
  },
  {
   "cell_type": "markdown",
   "metadata": {},
   "source": [
    "## Train the `PPO` algorithm from `stable-baselines`"
   ]
  },
  {
   "cell_type": "code",
   "execution_count": 6,
   "metadata": {},
   "outputs": [
    {
     "name": "stdout",
     "output_type": "stream",
     "text": [
      "Using cpu device\n",
      "Wrapping the env with a `Monitor` wrapper\n",
      "Wrapping the env in a DummyVecEnv.\n",
      "Wrapping the env in a VecTransposeImage.\n"
     ]
    }
   ],
   "source": [
    "# model = # FILL\n",
    "model = PPO(\"CnnPolicy\", env, verbose=1)"
   ]
  },
  {
   "cell_type": "code",
   "execution_count": 1,
   "metadata": {},
   "outputs": [
    {
     "ename": "NameError",
     "evalue": "name 'model' is not defined",
     "output_type": "error",
     "traceback": [
      "\u001b[1;31m---------------------------------------------------------------------------\u001b[0m",
      "\u001b[1;31mNameError\u001b[0m                                 Traceback (most recent call last)",
      "Cell \u001b[1;32mIn[1], line 3\u001b[0m\n\u001b[0;32m      1\u001b[0m \u001b[38;5;66;03m# Train the model\u001b[39;00m\n\u001b[0;32m      2\u001b[0m \u001b[38;5;66;03m# TODO\u001b[39;00m\n\u001b[1;32m----> 3\u001b[0m \u001b[43mmodel\u001b[49m\u001b[38;5;241m.\u001b[39mlearn(total_timesteps\u001b[38;5;241m=\u001b[39m\u001b[38;5;241m1000\u001b[39m)\n",
      "\u001b[1;31mNameError\u001b[0m: name 'model' is not defined"
     ]
    }
   ],
   "source": [
    "# Train the model\n",
    "# TODO\n",
    "model.learn(total_timesteps=1000)\n"
   ]
  },
  {
   "cell_type": "markdown",
   "metadata": {},
   "source": [
    "## Exploit the trained agent in test simulations"
   ]
  },
  {
   "cell_type": "code",
   "execution_count": null,
   "metadata": {
    "scrolled": true
   },
   "outputs": [],
   "source": [
    "# Evaluate the policy\n",
    "# TODO\n",
    "mean_reward, std_reward = evaluate_policy(model, env, n_eval_episodes=5)\n",
    "print(f\"Mean reward: {mean_reward} +/- {std_reward}\")"
   ]
  },
  {
   "cell_type": "code",
   "execution_count": 7,
   "metadata": {},
   "outputs": [],
   "source": [
    "env.close()"
   ]
  },
  {
   "cell_type": "markdown",
   "metadata": {},
   "source": [
    "# 2.2 Trade a S&P 500 stock index with DQN from Stable-baselines\n"
   ]
  },
  {
   "cell_type": "code",
   "execution_count": 1,
   "metadata": {},
   "outputs": [
    {
     "name": "stderr",
     "output_type": "stream",
     "text": [
      "2025-03-13 18:34:12.073943: I tensorflow/core/platform/cpu_feature_guard.cc:182] This TensorFlow binary is optimized to use available CPU instructions in performance-critical operations.\n",
      "To enable the following instructions: AVX2 FMA, in other operations, rebuild TensorFlow with the appropriate compiler flags.\n"
     ]
    }
   ],
   "source": [
    "import gymnasium as gym\n",
    "\n",
    "#Quick fix for M1 architecture (M2/M3 might also need this).\n",
    "# import os\n",
    "# os.environ['KMP_DUPLICATE_LIB_OK']='True'\n",
    "\n",
    "from stable_baselines3.common.vec_env import DummyVecEnv \n",
    "from stable_baselines3 import A2C \n",
    "\n",
    "import numpy as np\n",
    "import pandas as pd\n",
    "import matplotlib.pyplot as plt\n",
    "\n",
    "# For this case study please install the following libraries: gym_anytrading, yfinance, pandas_datareader, TA\n",
    "import gym_anytrading\n",
    "from gym_anytrading.envs import StocksEnv\n",
    "import yfinance as yf\n",
    "from pandas_datareader import data as pdr\n",
    "# yf.pdr_override() # bug fix, for details see https://stackoverflow.com/questions/74862453/why-am-i-getting-a-typeerror-string-indices-must-be-integer-message-when-tryi\n",
    "from ta import add_all_ta_features # Method from TA (Technical Analysis) library to engineer financial indicators\n"
   ]
  },
  {
   "cell_type": "markdown",
   "metadata": {},
   "source": [
    "## Set up the S&P 500 stock index trading environment"
   ]
  },
  {
   "cell_type": "markdown",
   "metadata": {},
   "source": [
    "Read some daily time series stock data"
   ]
  },
  {
   "cell_type": "code",
   "execution_count": 2,
   "metadata": {
    "scrolled": true
   },
   "outputs": [
    {
     "name": "stdout",
     "output_type": "stream",
     "text": [
      "YF.download() has changed argument auto_adjust default to True\n"
     ]
    },
    {
     "name": "stderr",
     "output_type": "stream",
     "text": [
      "[*********************100%***********************]  1 of 1 completed\n"
     ]
    },
    {
     "data": {
      "text/html": [
       "<div>\n",
       "<style scoped>\n",
       "    .dataframe tbody tr th:only-of-type {\n",
       "        vertical-align: middle;\n",
       "    }\n",
       "\n",
       "    .dataframe tbody tr th {\n",
       "        vertical-align: top;\n",
       "    }\n",
       "\n",
       "    .dataframe thead th {\n",
       "        text-align: right;\n",
       "    }\n",
       "</style>\n",
       "<table border=\"1\" class=\"dataframe\">\n",
       "  <thead>\n",
       "    <tr style=\"text-align: right;\">\n",
       "      <th></th>\n",
       "      <th>Close</th>\n",
       "      <th>High</th>\n",
       "      <th>Low</th>\n",
       "      <th>Open</th>\n",
       "      <th>Volume</th>\n",
       "    </tr>\n",
       "    <tr>\n",
       "      <th>Date</th>\n",
       "      <th></th>\n",
       "      <th></th>\n",
       "      <th></th>\n",
       "      <th></th>\n",
       "      <th></th>\n",
       "    </tr>\n",
       "  </thead>\n",
       "  <tbody>\n",
       "    <tr>\n",
       "      <th>2021-01-04</th>\n",
       "      <td>348.299408</td>\n",
       "      <td>354.589370</td>\n",
       "      <td>344.549987</td>\n",
       "      <td>354.457135</td>\n",
       "      <td>110210800</td>\n",
       "    </tr>\n",
       "    <tr>\n",
       "      <th>2021-01-05</th>\n",
       "      <td>350.698273</td>\n",
       "      <td>351.803278</td>\n",
       "      <td>347.600516</td>\n",
       "      <td>347.647755</td>\n",
       "      <td>66426200</td>\n",
       "    </tr>\n",
       "    <tr>\n",
       "      <th>2021-01-06</th>\n",
       "      <td>352.794922</td>\n",
       "      <td>356.034367</td>\n",
       "      <td>348.611067</td>\n",
       "      <td>349.168282</td>\n",
       "      <td>107997700</td>\n",
       "    </tr>\n",
       "    <tr>\n",
       "      <th>2021-01-07</th>\n",
       "      <td>358.036499</td>\n",
       "      <td>358.792038</td>\n",
       "      <td>355.023739</td>\n",
       "      <td>355.203185</td>\n",
       "      <td>68766800</td>\n",
       "    </tr>\n",
       "    <tr>\n",
       "      <th>2021-01-08</th>\n",
       "      <td>360.076477</td>\n",
       "      <td>360.293679</td>\n",
       "      <td>356.147611</td>\n",
       "      <td>359.443691</td>\n",
       "      <td>71677200</td>\n",
       "    </tr>\n",
       "  </tbody>\n",
       "</table>\n",
       "</div>"
      ],
      "text/plain": [
       "                 Close        High         Low        Open     Volume\n",
       "Date                                                                 \n",
       "2021-01-04  348.299408  354.589370  344.549987  354.457135  110210800\n",
       "2021-01-05  350.698273  351.803278  347.600516  347.647755   66426200\n",
       "2021-01-06  352.794922  356.034367  348.611067  349.168282  107997700\n",
       "2021-01-07  358.036499  358.792038  355.023739  355.203185   68766800\n",
       "2021-01-08  360.076477  360.293679  356.147611  359.443691   71677200"
      ]
     },
     "execution_count": 2,
     "metadata": {},
     "output_type": "execute_result"
    }
   ],
   "source": [
    "df = yf.download('SPY', start='2021-01-01', end='2023-01-01', multi_level_index=False)\n",
    "df.head()"
   ]
  },
  {
   "cell_type": "code",
   "execution_count": 3,
   "id": "0a0e640a",
   "metadata": {},
   "outputs": [
    {
     "data": {
      "text/html": [
       "<div>\n",
       "<style scoped>\n",
       "    .dataframe tbody tr th:only-of-type {\n",
       "        vertical-align: middle;\n",
       "    }\n",
       "\n",
       "    .dataframe tbody tr th {\n",
       "        vertical-align: top;\n",
       "    }\n",
       "\n",
       "    .dataframe thead th {\n",
       "        text-align: right;\n",
       "    }\n",
       "</style>\n",
       "<table border=\"1\" class=\"dataframe\">\n",
       "  <thead>\n",
       "    <tr style=\"text-align: right;\">\n",
       "      <th></th>\n",
       "      <th>Date</th>\n",
       "      <th>Open</th>\n",
       "      <th>High</th>\n",
       "      <th>Low</th>\n",
       "      <th>Close</th>\n",
       "      <th>Volume</th>\n",
       "    </tr>\n",
       "  </thead>\n",
       "  <tbody>\n",
       "    <tr>\n",
       "      <th>0</th>\n",
       "      <td>2021-01-04</td>\n",
       "      <td>354.457135</td>\n",
       "      <td>354.589370</td>\n",
       "      <td>344.549987</td>\n",
       "      <td>348.299408</td>\n",
       "      <td>110210800</td>\n",
       "    </tr>\n",
       "    <tr>\n",
       "      <th>1</th>\n",
       "      <td>2021-01-05</td>\n",
       "      <td>347.647755</td>\n",
       "      <td>351.803278</td>\n",
       "      <td>347.600516</td>\n",
       "      <td>350.698273</td>\n",
       "      <td>66426200</td>\n",
       "    </tr>\n",
       "    <tr>\n",
       "      <th>2</th>\n",
       "      <td>2021-01-06</td>\n",
       "      <td>349.168282</td>\n",
       "      <td>356.034367</td>\n",
       "      <td>348.611067</td>\n",
       "      <td>352.794922</td>\n",
       "      <td>107997700</td>\n",
       "    </tr>\n",
       "    <tr>\n",
       "      <th>3</th>\n",
       "      <td>2021-01-07</td>\n",
       "      <td>355.203185</td>\n",
       "      <td>358.792038</td>\n",
       "      <td>355.023739</td>\n",
       "      <td>358.036499</td>\n",
       "      <td>68766800</td>\n",
       "    </tr>\n",
       "    <tr>\n",
       "      <th>4</th>\n",
       "      <td>2021-01-08</td>\n",
       "      <td>359.443691</td>\n",
       "      <td>360.293679</td>\n",
       "      <td>356.147611</td>\n",
       "      <td>360.076477</td>\n",
       "      <td>71677200</td>\n",
       "    </tr>\n",
       "  </tbody>\n",
       "</table>\n",
       "</div>"
      ],
      "text/plain": [
       "        Date        Open        High         Low       Close     Volume\n",
       "0 2021-01-04  354.457135  354.589370  344.549987  348.299408  110210800\n",
       "1 2021-01-05  347.647755  351.803278  347.600516  350.698273   66426200\n",
       "2 2021-01-06  349.168282  356.034367  348.611067  352.794922  107997700\n",
       "3 2021-01-07  355.203185  358.792038  355.023739  358.036499   68766800\n",
       "4 2021-01-08  359.443691  360.293679  356.147611  360.076477   71677200"
      ]
     },
     "execution_count": 3,
     "metadata": {},
     "output_type": "execute_result"
    }
   ],
   "source": [
    "df = df.reset_index()\n",
    "df['Date'] = pd.to_datetime(df['Date'])\n",
    "df.set_index(\"Date\", inplace = True)\n",
    "df = df.reset_index()\n",
    "df = df[['Date', 'Open', 'High', 'Low', 'Close', 'Volume']]\n",
    "df.head()"
   ]
  },
  {
   "cell_type": "markdown",
   "metadata": {},
   "source": [
    "Set up the Gym trading environment"
   ]
  },
  {
   "cell_type": "code",
   "execution_count": 4,
   "metadata": {},
   "outputs": [],
   "source": [
    "env = gym.make('stocks-v0', df=df, frame_bound=(5, 400), window_size=5)"
   ]
  },
  {
   "cell_type": "code",
   "execution_count": 5,
   "metadata": {},
   "outputs": [
    {
     "data": {
      "text/plain": [
       "Discrete(2)"
      ]
     },
     "execution_count": 5,
     "metadata": {},
     "output_type": "execute_result"
    }
   ],
   "source": [
    "env.action_space"
   ]
  },
  {
   "cell_type": "markdown",
   "id": "b96fd666",
   "metadata": {},
   "source": [
    "## Execute random actions just to get familiar with the environment"
   ]
  },
  {
   "cell_type": "code",
   "execution_count": 6,
   "metadata": {},
   "outputs": [
    {
     "name": "stdout",
     "output_type": "stream",
     "text": [
      "Step: 0, Action: 1, Reward: 0, Done: False\n",
      "Step: 1, Action: 1, Reward: 0, Done: False\n",
      "Step: 2, Action: 1, Reward: 0, Done: False\n",
      "Step: 3, Action: 0, Reward: -2.899444580078125, Done: False\n",
      "Step: 4, Action: 0, Reward: 0, Done: False\n",
      "Step: 5, Action: 0, Reward: 0, Done: False\n",
      "Step: 6, Action: 0, Reward: 0, Done: False\n",
      "Step: 7, Action: 0, Reward: 0, Done: False\n",
      "Step: 8, Action: 0, Reward: 0, Done: False\n",
      "Step: 9, Action: 1, Reward: 0, Done: False\n",
      "Step: 10, Action: 1, Reward: 0, Done: False\n",
      "Step: 11, Action: 1, Reward: 0, Done: False\n",
      "Step: 12, Action: 1, Reward: 0, Done: False\n",
      "Step: 13, Action: 1, Reward: 0, Done: False\n",
      "Step: 14, Action: 1, Reward: 0, Done: False\n",
      "Step: 15, Action: 1, Reward: 0, Done: False\n",
      "Step: 16, Action: 1, Reward: 0, Done: False\n",
      "Step: 17, Action: 1, Reward: 0, Done: False\n",
      "Step: 18, Action: 1, Reward: 0, Done: False\n",
      "Step: 19, Action: 1, Reward: 0, Done: False\n",
      "Step: 20, Action: 0, Reward: 5.94049072265625, Done: False\n",
      "Step: 21, Action: 1, Reward: 0, Done: False\n",
      "Step: 22, Action: 1, Reward: 0, Done: False\n",
      "Step: 23, Action: 0, Reward: 1.5015869140625, Done: False\n",
      "Step: 24, Action: 0, Reward: 0, Done: False\n",
      "Step: 25, Action: 1, Reward: 0, Done: False\n",
      "Step: 26, Action: 1, Reward: 0, Done: False\n",
      "Step: 27, Action: 0, Reward: -3.4849853515625, Done: False\n",
      "Step: 28, Action: 1, Reward: 0, Done: False\n",
      "Step: 29, Action: 1, Reward: 0, Done: False\n",
      "Step: 30, Action: 1, Reward: 0, Done: False\n",
      "Step: 31, Action: 0, Reward: -6.743316650390625, Done: False\n",
      "Step: 32, Action: 0, Reward: 0, Done: False\n",
      "Step: 33, Action: 1, Reward: 0, Done: False\n",
      "Step: 34, Action: 0, Reward: -4.83563232421875, Done: False\n",
      "Step: 35, Action: 1, Reward: 0, Done: False\n",
      "Step: 36, Action: 0, Reward: 6.544952392578125, Done: False\n",
      "Step: 37, Action: 0, Reward: 0, Done: False\n",
      "Step: 38, Action: 0, Reward: 0, Done: False\n",
      "Step: 39, Action: 0, Reward: 0, Done: False\n",
      "Step: 40, Action: 0, Reward: 0, Done: False\n",
      "Step: 41, Action: 0, Reward: 0, Done: False\n",
      "Step: 42, Action: 0, Reward: 0, Done: False\n",
      "Step: 43, Action: 0, Reward: 0, Done: False\n",
      "Step: 44, Action: 0, Reward: 0, Done: False\n",
      "Step: 45, Action: 1, Reward: 0, Done: False\n",
      "Step: 46, Action: 1, Reward: 0, Done: False\n",
      "Step: 47, Action: 1, Reward: 0, Done: False\n",
      "Step: 48, Action: 0, Reward: -0.66510009765625, Done: False\n",
      "Step: 49, Action: 1, Reward: 0, Done: False\n",
      "Step: 50, Action: 1, Reward: 0, Done: False\n",
      "Step: 51, Action: 0, Reward: 8.016143798828125, Done: False\n",
      "Step: 52, Action: 0, Reward: 0, Done: False\n",
      "Step: 53, Action: 1, Reward: 0, Done: False\n",
      "Step: 54, Action: 1, Reward: 0, Done: False\n",
      "Step: 55, Action: 1, Reward: 0, Done: False\n",
      "Step: 56, Action: 0, Reward: 11.01983642578125, Done: False\n",
      "Step: 57, Action: 1, Reward: 0, Done: False\n",
      "Step: 58, Action: 1, Reward: 0, Done: False\n",
      "Step: 59, Action: 1, Reward: 0, Done: False\n",
      "Step: 60, Action: 1, Reward: 0, Done: False\n",
      "Step: 61, Action: 1, Reward: 0, Done: False\n",
      "Step: 62, Action: 1, Reward: 0, Done: False\n",
      "Step: 63, Action: 0, Reward: 5.050323486328125, Done: False\n",
      "Step: 64, Action: 1, Reward: 0, Done: False\n",
      "Step: 65, Action: 0, Reward: 1.317138671875, Done: False\n",
      "Step: 66, Action: 1, Reward: 0, Done: False\n",
      "Step: 67, Action: 1, Reward: 0, Done: False\n",
      "Step: 68, Action: 1, Reward: 0, Done: False\n",
      "Step: 69, Action: 1, Reward: 0, Done: False\n",
      "Step: 70, Action: 0, Reward: 1.44976806640625, Done: False\n",
      "Step: 71, Action: 0, Reward: 0, Done: False\n",
      "Step: 72, Action: 0, Reward: 0, Done: False\n",
      "Step: 73, Action: 0, Reward: 0, Done: False\n",
      "Step: 74, Action: 1, Reward: 0, Done: False\n",
      "Step: 75, Action: 1, Reward: 0, Done: False\n",
      "Step: 76, Action: 0, Reward: -1.762359619140625, Done: False\n",
      "Step: 77, Action: 1, Reward: 0, Done: False\n",
      "Step: 78, Action: 1, Reward: 0, Done: False\n",
      "Step: 79, Action: 0, Reward: 3.26898193359375, Done: False\n",
      "Step: 80, Action: 1, Reward: 0, Done: False\n",
      "Step: 81, Action: 1, Reward: 0, Done: False\n",
      "Step: 82, Action: 0, Reward: -7.4949951171875, Done: False\n",
      "Step: 83, Action: 0, Reward: 0, Done: False\n",
      "Step: 84, Action: 1, Reward: 0, Done: False\n",
      "Step: 85, Action: 1, Reward: 0, Done: False\n",
      "Step: 86, Action: 1, Reward: 0, Done: False\n",
      "Step: 87, Action: 0, Reward: 1.57293701171875, Done: False\n",
      "Step: 88, Action: 1, Reward: 0, Done: False\n",
      "Step: 89, Action: 0, Reward: 4.188079833984375, Done: False\n",
      "Step: 90, Action: 0, Reward: 0, Done: False\n",
      "Step: 91, Action: 1, Reward: 0, Done: False\n",
      "Step: 92, Action: 0, Reward: -0.8812255859375, Done: False\n",
      "Step: 93, Action: 0, Reward: 0, Done: False\n",
      "Step: 94, Action: 1, Reward: 0, Done: False\n",
      "Step: 95, Action: 1, Reward: 0, Done: False\n",
      "Step: 96, Action: 0, Reward: 0.360076904296875, Done: False\n",
      "Step: 97, Action: 0, Reward: 0, Done: False\n",
      "Step: 98, Action: 0, Reward: 0, Done: False\n",
      "Step: 99, Action: 1, Reward: 0, Done: False\n"
     ]
    },
    {
     "data": {
      "image/png": "[encoded data removed]",
      "text/plain": [
       "<Figure size 1500x600 with 1 Axes>"
      ]
     },
     "metadata": {},
     "output_type": "display_data"
    }
   ],
   "source": [
    "\n",
    "state, info = env.reset()\n",
    "\n",
    "# Run the environment with random actions (Buy or Sell)\n",
    "for step in range(100):  # Example: run for 100 steps\n",
    "    action = env.action_space.sample()  # Sample random action (0 or 1)\n",
    "    next_state, reward, done, trunc, info = env.step(action)  # Take the action\n",
    "    \n",
    "    # Print the action and reward\n",
    "    print(f\"Step: {step}, Action: {action}, Reward: {reward}, Done: {done}\")\n",
    "    \n",
    "    if done:\n",
    "        print(\"Episode finished. Info:\", info)\n",
    "        break\n",
    "\n",
    "plt.figure(figsize=(15, 6))\n",
    "plt.cla()\n",
    "env.render()  # Render the environment\n",
    "plt.show()\n",
    "\n",
    "# Close the environment\n",
    "env.close()\n",
    "\n",
    "plt.show()\n"
   ]
  },
  {
   "cell_type": "markdown",
   "metadata": {},
   "source": [
    "The green dots represent buying while the red dots represent selling stocks."
   ]
  },
  {
   "cell_type": "markdown",
   "metadata": {},
   "source": [
    "## Train an `A2C` algorithm from `stable-baselines`"
   ]
  },
  {
   "cell_type": "code",
   "execution_count": 100,
   "metadata": {
    "collapsed": true
   },
   "outputs": [
    {
     "name": "stdout",
     "output_type": "stream",
     "text": [
      "Using cpu device\n",
      "Wrapping the env with a `Monitor` wrapper\n",
      "Wrapping the env in a DummyVecEnv.\n",
      "------------------------------------\n",
      "| rollout/              |          |\n",
      "|    ep_len_mean        | 394      |\n",
      "|    ep_rew_mean        | 12.5     |\n",
      "| time/                 |          |\n",
      "|    fps                | 918      |\n",
      "|    iterations         | 100      |\n",
      "|    time_elapsed       | 0        |\n",
      "|    total_timesteps    | 500      |\n",
      "| train/                |          |\n",
      "|    entropy_loss       | -0.69    |\n",
      "|    explained_variance | 0        |\n",
      "|    learning_rate      | 0.0007   |\n",
      "|    n_updates          | 99       |\n",
      "|    policy_loss        | -0.975   |\n",
      "|    value_loss         | 2.44     |\n",
      "------------------------------------\n",
      "------------------------------------\n",
      "| rollout/              |          |\n",
      "|    ep_len_mean        | 394      |\n",
      "|    ep_rew_mean        | 39.3     |\n",
      "| time/                 |          |\n",
      "|    fps                | 823      |\n",
      "|    iterations         | 200      |\n",
      "|    time_elapsed       | 1        |\n",
      "|    total_timesteps    | 1000     |\n",
      "| train/                |          |\n",
      "|    entropy_loss       | -0.683   |\n",
      "|    explained_variance | 0        |\n",
      "|    learning_rate      | 0.0007   |\n",
      "|    n_updates          | 199      |\n",
      "|    policy_loss        | 4.66     |\n",
      "|    value_loss         | 40.7     |\n",
      "------------------------------------\n"
     ]
    },
    {
     "data": {
      "text/plain": [
       "<stable_baselines3.a2c.a2c.A2C at 0x17dccf6a0>"
      ]
     },
     "execution_count": 100,
     "metadata": {},
     "output_type": "execute_result"
    }
   ],
   "source": [
    "env = gym.make('stocks-v0', df=df, frame_bound=(5, 400), window_size=5)\n",
    "model = A2C('MlpPolicy', env, verbose=1)\n",
    "model.learn(total_timesteps=1000)"
   ]
  },
  {
   "cell_type": "markdown",
   "metadata": {},
   "source": [
    "## Exploit the trained agent in test simulations"
   ]
  },
  {
   "cell_type": "code",
   "execution_count": 112,
   "metadata": {},
   "outputs": [],
   "source": [
    "env = gym.make('stocks-v0', df=df, frame_bound=(400, 502), window_size=5)\n",
    "obs, info = env.reset()\n",
    "for _ in range(100):\n",
    "    # obs = obs[np.newaxis, ...]\n",
    "    action, states = model.predict(obs)\n",
    "    obs, rewards, done,trunc,  info = env.step(action)\n",
    "    \n",
    "    if done:\n",
    "        print(info)\n",
    "        break"
   ]
  },
  {
   "cell_type": "code",
   "execution_count": null,
   "metadata": {
    "scrolled": false
   },
   "outputs": [
    {
     "data": {
      "image/png": "[encoded data removed]",
      "text/plain": [
       "<Figure size 1500x600 with 1 Axes>"
      ]
     },
     "metadata": {},
     "output_type": "display_data"
    }
   ],
   "source": [
    "plt.figure(figsize=(15, 6))\n",
    "plt.cla()\n",
    "env.render()\n",
    "plt.show()"
   ]
  },
  {
   "cell_type": "markdown",
   "metadata": {},
   "source": [
    "Again, the green dots represent buying while the red dots represent selling stocks. If the agent is capable of making intelligent trading decisions, it will tend to buy (green dots) when the price is relatively low, and to sell (red dots) when the price is relatively high. \n",
    "\n",
    "As you can see, the agent needs fine tuning to perform well. So to close the lab, let us fine tune the agent by engineering features (\"financial indicators\") and adding these additional indicators to the definition of the RL state, so the agent has additional information every day to make trading decisions."
   ]
  },
  {
   "cell_type": "markdown",
   "metadata": {},
   "source": [
    "## Engineer features (financial indicators) for the agent to make smarter decisions"
   ]
  },
  {
   "cell_type": "code",
   "execution_count": null,
   "metadata": {
    "collapsed": true
   },
   "outputs": [],
   "source": [
    "data = pdr.get_data_yahoo('SPY', start='2021-01-01', end='2023-01-01')\n",
    "# Engineer financial indicators using the method imported above from the \"TA\" library\n",
    "df2 = add_all_ta_features(data, open='Open', high='High', low='Low', close='Close', volume='Volume', fillna=True)"
   ]
  },
  {
   "cell_type": "code",
   "execution_count": null,
   "metadata": {},
   "outputs": [],
   "source": [
    "pd.set_option('display.max_columns', None)"
   ]
  },
  {
   "cell_type": "code",
   "execution_count": null,
   "metadata": {
    "collapsed": true
   },
   "outputs": [],
   "source": [
    "df2.head()"
   ]
  },
  {
   "cell_type": "code",
   "execution_count": null,
   "metadata": {},
   "outputs": [],
   "source": [
    "def my_processed_data(env):\n",
    "    start = env.frame_bound[0] - env.window_size\n",
    "    end = env.frame_bound[1]\n",
    "    prices = env.df.loc[:, 'Low'].to_numpy()[start:end]\n",
    "    signal_features = env.df.loc[:, ['Close', 'Volume', 'momentum_rsi', 'volume_obv', 'trend_macd_diff']].to_numpy()[start:end]\n",
    "    return prices, signal_features\n",
    "\n",
    "class MyCustomEnv(StocksEnv):\n",
    "    _process_data = my_processed_data\n",
    "    "
   ]
  },
  {
   "cell_type": "code",
   "execution_count": null,
   "metadata": {},
   "outputs": [],
   "source": [
    "env2 = MyCustomEnv(df=df2, window_size= 5, frame_bound=(5, 400))"
   ]
  },
  {
   "cell_type": "markdown",
   "metadata": {},
   "source": [
    "## Re-train the `A2C` algorithm from `stable-baselines` with the new engineered features"
   ]
  },
  {
   "cell_type": "code",
   "execution_count": null,
   "metadata": {
    "collapsed": true
   },
   "outputs": [],
   "source": [
    "model = A2C('MlpPolicy', env2, verbose=1)\n",
    "model.learn(total_timesteps=100000)"
   ]
  },
  {
   "cell_type": "markdown",
   "metadata": {},
   "source": [
    "## Exploit the trained agent in test simulations"
   ]
  },
  {
   "cell_type": "code",
   "execution_count": null,
   "metadata": {},
   "outputs": [],
   "source": [
    "env = MyCustomEnv(df=df2, window_size=5, frame_bound=(400, 502))\n",
    "obs = env.reset()\n",
    "\n",
    "while True:\n",
    "    obs = obs[np.newaxis, ...]\n",
    "    action, states = model.predict(obs)\n",
    "    obs, rewards, done, info = env.step(action)\n",
    "    \n",
    "    if done:\n",
    "        print(info)\n",
    "        break"
   ]
  },
  {
   "cell_type": "code",
   "execution_count": null,
   "metadata": {
    "collapsed": true
   },
   "outputs": [],
   "source": [
    "plt.figure(figsize=(15, 6))\n",
    "plt.cla()\n",
    "env.render_all()\n",
    "plt.show()"
   ]
  },
  {
   "cell_type": "markdown",
   "metadata": {},
   "source": [
    "Hopefully you now see more green dots (buy stocks) when the price is relatively low, and more red dots (sell stocks) when the price is relatively high!"
   ]
  },
  {
   "cell_type": "markdown",
   "metadata": {},
   "source": [
    "**Exercise 1**: What other fine tuning can you try to improve the agent's trading performance?"
   ]
  },
  {
   "cell_type": "markdown",
   "metadata": {},
   "source": [
    "**Exercise 2**: Implement the `CartPole` and `SpaceInvaders` agents of part 1 of this lab using the DQN algorithms from `stable-baselines`.  "
   ]
  },
  {
   "cell_type": "markdown",
   "metadata": {},
   "source": [
    "**Exercise 3**: Implement the `PPO` algorithm from `stable-baselines` to learn to play at the `FlappyBird` (lab 5) and `SpaceInvaders` games."
   ]
  },
  {
   "cell_type": "markdown",
   "metadata": {},
   "source": [
    "## Thank you everyone!"
   ]
  }
 ],
 "metadata": {
  "kernelspec": {
   "display_name": ".venv",
   "language": "python",
   "name": "python3"
  },
  "language_info": {
   "codemirror_mode": {
    "name": "ipython",
    "version": 3
   },
   "file_extension": ".py",
   "mimetype": "text/x-python",
   "name": "python",
   "nbconvert_exporter": "python",
   "pygments_lexer": "ipython3",
   "version": "3.9.0"
  }
 },
 "nbformat": 4,
 "nbformat_minor": 5
}
