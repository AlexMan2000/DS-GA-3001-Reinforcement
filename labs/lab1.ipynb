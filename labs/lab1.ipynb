{
 "cells": [
  {
   "cell_type": "markdown",
   "id": "KNAof5xC2uZC",
   "metadata": {
    "id": "KNAof5xC2uZC"
   },
   "source": [
    "### CDS NYU\n",
    "### DS-GA 3001 | Reinforcement Learning\n",
    "### Lab 01\n",
    "### January 30, 2025\n",
    "\n",
    "\n",
    "# Introduction to OpenAI Gym (Gymnasium)\n",
    "\n",
    "<br>\n",
    "\n",
    "---"
   ]
  },
  {
   "cell_type": "markdown",
   "id": "kdFUWnFK2uZK",
   "metadata": {
    "id": "kdFUWnFK2uZK"
   },
   "source": [
    "## Section Leader\n",
    "\n",
    "\n",
    "Akshitha Kumbam – ak11071@nyu.edu\n",
    "\n",
    "Kushagra Khatwani – kk5395@nyu.edu\n"
   ]
  },
  {
   "cell_type": "markdown",
   "id": "a3W8RcfT2uZM",
   "metadata": {
    "id": "a3W8RcfT2uZM"
   },
   "source": [
    "## Goal of Today's Lab\n",
    "\n",
    "In this Lab, we will build \"environments\" in Gym to understand the key components involved when working with Gym. We will not implement any RL \"agent\" today so we can first focus on building RL interfaces in Gym, and interacting with Gym environments.\n",
    "\n",
    "In the rest of the course and all future labs, we will explore the many different ways for an RL agent to explore an environment, learn, and exploit its learning to make decisions. For today, let's just get comfortable setting up Gym simulation environments.\n",
    "\n",
    "## Resources\n",
    "\n",
    "* Gym: https://www.gymlibrary.dev/ and its wiki https://github.com/openai/gym/wiki\n",
    "* The original paper from OpenAI when Gym was released in 2016: https://arxiv.org/pdf/1606.01540.pdf\n",
    "* In late 2022, Gym was moved to a new platform called Gymnasium, which is now **the only maintained version of Gym**: https://gymnasium.farama.org/\n",
    "\n",
    "<br>\n",
    "\n",
    "---"
   ]
  },
  {
   "cell_type": "markdown",
   "id": "up2R5gzC2uZN",
   "metadata": {
    "id": "up2R5gzC2uZN"
   },
   "source": [
    "# 1. Install libraries to set up RL environments in Gym"
   ]
  },
  {
   "cell_type": "markdown",
   "id": "rl5IDZWE2uZO",
   "metadata": {
    "id": "rl5IDZWE2uZO"
   },
   "source": [
    "#### At the minimum, you need to create a virtual environment with Python and OpenAI Gym installed:\n",
    "\n",
    "`conda create --name py39 python=3.9`\n",
    "\n",
    "`conda activate py39`\n",
    "\n",
    "`pip install gym`\n",
    "\n",
    "`pip install gymnasium`\n",
    "\n",
    "To add the virtual env as kernel in Jupyter Notebook:\n",
    "\n",
    "`pip install ipykernel`\n",
    "\n",
    "`python -m ipykernel install --user --name=py39`\n",
    "\n",
    "\n",
    "#### Other libraries will soon be needed as the course progresses:\n",
    "\n",
    "\n",
    "* Install **extended Gym packages** (e.g., Atari games, etc): `pip install gym-all` or `conda install -c conda-forge gym-all`\n",
    "\n",
    "If you face issues installing gym-all, no need to worry as you can still install the required packages separately using the steps below and that should suffice:\n",
    "\n",
    "* Install the **Arcade Learning Environment**: `pip install ale-py`\n",
    "\n",
    "* Install **swig**:\n",
    "`pip install swig`\n",
    "* Install **box2d**:\n",
    "`pip install gym-box2d` or `conda install -c conda-forge gym-box2d`\n",
    "\n",
    "* Install **pygame**: `pip install pygame`\n",
    "\n",
    "\n",
    "* Install **tensorflow**:\n",
    "`pip install tensorflow` or `conda install -c conda-forge tensorflow`\n",
    "\n",
    "\n",
    "* Install **keras-rl2**:\n",
    "`pip install keras-rl2`"
   ]
  },
  {
   "cell_type": "markdown",
   "id": "S9WLosJC2uZO",
   "metadata": {
    "id": "S9WLosJC2uZO"
   },
   "source": [
    "# 2. Build Reinforcement Learning environments in Gym\n",
    "\n",
    "In this section, we will build Reinforcement Learning environments in Gym to understand the key components involved when working with Gym. For today as RL \"agent\", we will use random action (random behavior), so we can focus just on the overall logic and Python commands when building RL interfaces in Gym and interacting with Gym environments.\n",
    "\n",
    "In the rest of the course and all future labs, we will explore the many different ways for an RL agent to explore an environment, learn, and exploit its learning to make decisions. For today, let's just get comfortable setting up Gym simulation environments."
   ]
  },
  {
   "cell_type": "markdown",
   "id": "UW1aS_WY2uZP",
   "metadata": {
    "id": "UW1aS_WY2uZP"
   },
   "source": [
    "## 2.1) Build an Atari RL simulation environment: *Breakout video game*"
   ]
  },
  {
   "cell_type": "markdown",
   "id": "K9VMDHje2uZP",
   "metadata": {
    "id": "K9VMDHje2uZP"
   },
   "source": [
    "Gym is a toolkit for developing and comparing reinforcement learning (RL) algorithms. It offers pre-built, baseline RL environments within which a developer can build and test RL algorithms.\n",
    "\n",
    "**At the most fundamental level, using the Gym library means 1) selecting an environment, and 2) interacting with it:**\n",
    "\n",
    "1. **Gym offers many different environments to select, from classic control use cases (Pendulum, Cart-Pole, Blackjack, etc) to video games (Atari) and simulated robotics (MuJoCo)**. These use cases were selected by OpenAI in 2016 to represent problems that are tractable using existing (21st century) AI technologies, yet complex enough to showcase the need for human-like intelligence.\n",
    "\n",
    "\n",
    "2. **Gym offers Python functions to interact with the created environment**. Most important ones are:\n",
    "    * `reset()`: Resets the state of the environment to the initial state (i.e., it restarts the game)\n",
    "    * `step(action)`:  Step forward by performing an action on the environment and returning the resulting state and reward after taking that action, a flag indicating if the game is over or not, and some metadata information\n",
    "    \n",
    "The `reset` function returns one value, which is a starting state/observation.\n",
    "\n",
    "The `step` function returns four values, which we will call the ``next_state``, ``reward``,  ``done`` and ``info`` variables.\n",
    "\n",
    "-  ``next_state``: This is the observation that the agent will receive\n",
    "   after taking the action.\n",
    "-  ``reward``: This is the reward that the agent will receive after\n",
    "   taking the action.\n",
    "-  ``done``: This is a boolean variable that indicates whether or\n",
    "   not the environment has terminated.\n",
    "-  ``info``: This is a dictionary that might contain additional\n",
    "   information about the environment.\n",
    "\n",
    "In the Atari environments the ``info`` dictionary has a ``ale.lives`` key that tells us how many lives the\n",
    "agent has left. If the agent has 0 lives, then the episode is over.\n",
    "\n",
    "\n",
    "### Here are the most basic Python commands to implement a Gym environments:\n",
    "\n",
    "A concise doc for the Atari Breakout video game available in Gym can be found here: https://gym.openai.com/envs/Breakout-v0/\n",
    "\n",
    "Note these basic commands are identical for all environments in Gym.\n",
    "\n",
    "\n",
    "**WARNING: Graphical rendering often crashes the Python kernel after completion => If this happens don't worry about it, just restart your kernel.** <br> (click on `Kernel`, then `Restart`)"
   ]
  },
  {
   "cell_type": "code",
   "execution_count": 1,
   "id": "Otidz8bP2uZQ",
   "metadata": {
    "id": "Otidz8bP2uZQ"
   },
   "outputs": [
    {
     "ename": "NameNotFound",
     "evalue": "Environment `Breakout` doesn't exist.",
     "output_type": "error",
     "traceback": [
      "\u001b[0;31m---------------------------------------------------------------------------\u001b[0m",
      "\u001b[0;31mNameNotFound\u001b[0m                              Traceback (most recent call last)",
      "Cell \u001b[0;32mIn[1], line 7\u001b[0m\n\u001b[1;32m      2\u001b[0m \u001b[38;5;28;01mimport\u001b[39;00m\u001b[38;5;250m \u001b[39m\u001b[38;5;21;01male_py\u001b[39;00m\n\u001b[1;32m      4\u001b[0m gym\u001b[38;5;241m.\u001b[39mregister_envs(ale_py) \u001b[38;5;66;03m#This will register atari environments  in gymnasium\u001b[39;00m\n\u001b[0;32m----> 7\u001b[0m env \u001b[38;5;241m=\u001b[39m \u001b[43mgym\u001b[49m\u001b[38;5;241;43m.\u001b[39;49m\u001b[43mmake\u001b[49m\u001b[43m(\u001b[49m\u001b[38;5;124;43m\"\u001b[39;49m\u001b[38;5;124;43mBreakout-v0\u001b[39;49m\u001b[38;5;124;43m\"\u001b[39;49m\u001b[43m,\u001b[49m\u001b[43m \u001b[49m\u001b[43mrender_mode\u001b[49m\u001b[38;5;241;43m=\u001b[39;49m\u001b[38;5;124;43m\"\u001b[39;49m\u001b[38;5;124;43mhuman\u001b[39;49m\u001b[38;5;124;43m\"\u001b[39;49m\u001b[43m)\u001b[49m \u001b[38;5;66;03m# Exact name/version of environments can be found in Gym's doc\u001b[39;00m\n\u001b[1;32m      8\u001b[0m observation \u001b[38;5;241m=\u001b[39m env\u001b[38;5;241m.\u001b[39mreset()\n\u001b[1;32m      9\u001b[0m \u001b[38;5;28;01mfor\u001b[39;00m _ \u001b[38;5;129;01min\u001b[39;00m \u001b[38;5;28mrange\u001b[39m(\u001b[38;5;241m500\u001b[39m):\n",
      "File \u001b[0;32m~/Desktop/NYU_Materials/DS-GA-3001-Reinforcement/.venv/lib/python3.9/site-packages/gymnasium/envs/registration.py:687\u001b[0m, in \u001b[0;36mmake\u001b[0;34m(id, max_episode_steps, disable_env_checker, **kwargs)\u001b[0m\n\u001b[1;32m    684\u001b[0m     \u001b[38;5;28;01massert\u001b[39;00m \u001b[38;5;28misinstance\u001b[39m(\u001b[38;5;28mid\u001b[39m, \u001b[38;5;28mstr\u001b[39m)\n\u001b[1;32m    686\u001b[0m     \u001b[38;5;66;03m# The environment name can include an unloaded module in \"module:env_name\" style\u001b[39;00m\n\u001b[0;32m--> 687\u001b[0m     env_spec \u001b[38;5;241m=\u001b[39m \u001b[43m_find_spec\u001b[49m\u001b[43m(\u001b[49m\u001b[38;5;28;43mid\u001b[39;49m\u001b[43m)\u001b[49m\n\u001b[1;32m    689\u001b[0m \u001b[38;5;28;01massert\u001b[39;00m \u001b[38;5;28misinstance\u001b[39m(env_spec, EnvSpec)\n\u001b[1;32m    691\u001b[0m \u001b[38;5;66;03m# Update the env spec kwargs with the `make` kwargs\u001b[39;00m\n",
      "File \u001b[0;32m~/Desktop/NYU_Materials/DS-GA-3001-Reinforcement/.venv/lib/python3.9/site-packages/gymnasium/envs/registration.py:531\u001b[0m, in \u001b[0;36m_find_spec\u001b[0;34m(env_id)\u001b[0m\n\u001b[1;32m    525\u001b[0m     logger\u001b[38;5;241m.\u001b[39mwarn(\n\u001b[1;32m    526\u001b[0m         \u001b[38;5;124mf\u001b[39m\u001b[38;5;124m\"\u001b[39m\u001b[38;5;124mUsing the latest versioned environment `\u001b[39m\u001b[38;5;132;01m{\u001b[39;00mnew_env_id\u001b[38;5;132;01m}\u001b[39;00m\u001b[38;5;124m` \u001b[39m\u001b[38;5;124m\"\u001b[39m\n\u001b[1;32m    527\u001b[0m         \u001b[38;5;124mf\u001b[39m\u001b[38;5;124m\"\u001b[39m\u001b[38;5;124minstead of the unversioned environment `\u001b[39m\u001b[38;5;132;01m{\u001b[39;00menv_name\u001b[38;5;132;01m}\u001b[39;00m\u001b[38;5;124m`.\u001b[39m\u001b[38;5;124m\"\u001b[39m\n\u001b[1;32m    528\u001b[0m     )\n\u001b[1;32m    530\u001b[0m \u001b[38;5;28;01mif\u001b[39;00m env_spec \u001b[38;5;129;01mis\u001b[39;00m \u001b[38;5;28;01mNone\u001b[39;00m:\n\u001b[0;32m--> 531\u001b[0m     \u001b[43m_check_version_exists\u001b[49m\u001b[43m(\u001b[49m\u001b[43mns\u001b[49m\u001b[43m,\u001b[49m\u001b[43m \u001b[49m\u001b[43mname\u001b[49m\u001b[43m,\u001b[49m\u001b[43m \u001b[49m\u001b[43mversion\u001b[49m\u001b[43m)\u001b[49m\n\u001b[1;32m    532\u001b[0m     \u001b[38;5;28;01mraise\u001b[39;00m error\u001b[38;5;241m.\u001b[39mError(\n\u001b[1;32m    533\u001b[0m         \u001b[38;5;124mf\u001b[39m\u001b[38;5;124m\"\u001b[39m\u001b[38;5;124mNo registered env with id: \u001b[39m\u001b[38;5;132;01m{\u001b[39;00menv_name\u001b[38;5;132;01m}\u001b[39;00m\u001b[38;5;124m. Did you register it, or import the package that registers it? Use `gymnasium.pprint_registry()` to see all of the registered environments.\u001b[39m\u001b[38;5;124m\"\u001b[39m\n\u001b[1;32m    534\u001b[0m     )\n\u001b[1;32m    536\u001b[0m \u001b[38;5;28;01mreturn\u001b[39;00m env_spec\n",
      "File \u001b[0;32m~/Desktop/NYU_Materials/DS-GA-3001-Reinforcement/.venv/lib/python3.9/site-packages/gymnasium/envs/registration.py:397\u001b[0m, in \u001b[0;36m_check_version_exists\u001b[0;34m(ns, name, version)\u001b[0m\n\u001b[1;32m    394\u001b[0m \u001b[38;5;28;01mif\u001b[39;00m get_env_id(ns, name, version) \u001b[38;5;129;01min\u001b[39;00m registry:\n\u001b[1;32m    395\u001b[0m     \u001b[38;5;28;01mreturn\u001b[39;00m\n\u001b[0;32m--> 397\u001b[0m \u001b[43m_check_name_exists\u001b[49m\u001b[43m(\u001b[49m\u001b[43mns\u001b[49m\u001b[43m,\u001b[49m\u001b[43m \u001b[49m\u001b[43mname\u001b[49m\u001b[43m)\u001b[49m\n\u001b[1;32m    398\u001b[0m \u001b[38;5;28;01mif\u001b[39;00m version \u001b[38;5;129;01mis\u001b[39;00m \u001b[38;5;28;01mNone\u001b[39;00m:\n\u001b[1;32m    399\u001b[0m     \u001b[38;5;28;01mreturn\u001b[39;00m\n",
      "File \u001b[0;32m~/Desktop/NYU_Materials/DS-GA-3001-Reinforcement/.venv/lib/python3.9/site-packages/gymnasium/envs/registration.py:374\u001b[0m, in \u001b[0;36m_check_name_exists\u001b[0;34m(ns, name)\u001b[0m\n\u001b[1;32m    371\u001b[0m namespace_msg \u001b[38;5;241m=\u001b[39m \u001b[38;5;124mf\u001b[39m\u001b[38;5;124m\"\u001b[39m\u001b[38;5;124m in namespace \u001b[39m\u001b[38;5;132;01m{\u001b[39;00mns\u001b[38;5;132;01m}\u001b[39;00m\u001b[38;5;124m\"\u001b[39m \u001b[38;5;28;01mif\u001b[39;00m ns \u001b[38;5;28;01melse\u001b[39;00m \u001b[38;5;124m\"\u001b[39m\u001b[38;5;124m\"\u001b[39m\n\u001b[1;32m    372\u001b[0m suggestion_msg \u001b[38;5;241m=\u001b[39m \u001b[38;5;124mf\u001b[39m\u001b[38;5;124m\"\u001b[39m\u001b[38;5;124m Did you mean: `\u001b[39m\u001b[38;5;132;01m{\u001b[39;00msuggestion[\u001b[38;5;241m0\u001b[39m]\u001b[38;5;132;01m}\u001b[39;00m\u001b[38;5;124m`?\u001b[39m\u001b[38;5;124m\"\u001b[39m \u001b[38;5;28;01mif\u001b[39;00m suggestion \u001b[38;5;28;01melse\u001b[39;00m \u001b[38;5;124m\"\u001b[39m\u001b[38;5;124m\"\u001b[39m\n\u001b[0;32m--> 374\u001b[0m \u001b[38;5;28;01mraise\u001b[39;00m error\u001b[38;5;241m.\u001b[39mNameNotFound(\n\u001b[1;32m    375\u001b[0m     \u001b[38;5;124mf\u001b[39m\u001b[38;5;124m\"\u001b[39m\u001b[38;5;124mEnvironment `\u001b[39m\u001b[38;5;132;01m{\u001b[39;00mname\u001b[38;5;132;01m}\u001b[39;00m\u001b[38;5;124m` doesn\u001b[39m\u001b[38;5;124m'\u001b[39m\u001b[38;5;124mt exist\u001b[39m\u001b[38;5;132;01m{\u001b[39;00mnamespace_msg\u001b[38;5;132;01m}\u001b[39;00m\u001b[38;5;124m.\u001b[39m\u001b[38;5;132;01m{\u001b[39;00msuggestion_msg\u001b[38;5;132;01m}\u001b[39;00m\u001b[38;5;124m\"\u001b[39m\n\u001b[1;32m    376\u001b[0m )\n",
      "\u001b[0;31mNameNotFound\u001b[0m: Environment `Breakout` doesn't exist."
     ]
    }
   ],
   "source": [
    "import gymnasium as gym\n",
    "import ale_py\n",
    "\n",
    "gym.register_envs(ale_py) #This will register atari environments  in gymnasium\n",
    "\n",
    "\n",
    "env = gym.make(\"Breakout-v0\", render_mode=\"human\") # Exact name/version of environments can be found in Gym's doc\n",
    "observation = env.reset()\n",
    "for _ in range(500):\n",
    "    action = env.action_space.sample()  # this is where an actor (RL agent) would be inserted\n",
    "    observation, reward, terminated, truncated, info = env.step(action)\n",
    "    if terminated or truncated:\n",
    "        observation = env.reset()\n",
    "env.close()"
   ]
  },
  {
   "cell_type": "markdown",
   "id": "H3J99rYd2uZS",
   "metadata": {
    "id": "H3J99rYd2uZS"
   },
   "source": [
    "**Warning:** The `render_mode=\"human\"` argument renders the environment graphically in a separate window. It is optional, and not always recommended. It is not a good idea to use it when *training* an agent because rendering slows down training a lot. But when looking at an environment for the first time, or when training is complete, it can of course be useful to graphically vizualize how the agent behaves in the environment. But here is the warning: in Jupyter Notebook the Gym's graphical rendering works well but is likely to crash your kernel (or freeze it) once the simulation is complete. So as a habit, be ready to click on `Interrupt` and `Restart` in the Kernel tab of Jupyter Notebook after you run a simulation rendered graphically."
   ]
  },
  {
   "cell_type": "markdown",
   "id": "UHCijs7p2uZT",
   "metadata": {
    "id": "UHCijs7p2uZT"
   },
   "source": [
    "### Play interactively with Atari video games in Gym\n",
    "\n",
    "Gym comes with a handy `utils` function called `play` for Atari games.\n",
    "\n",
    "Start the game by firing the ball with `space`, then move left and right with `a` and `d` on your keyboard.\n",
    "\n",
    "How many points can you score?"
   ]
  },
  {
   "cell_type": "code",
   "execution_count": 2,
   "id": "Ekcx6pJ22uZT",
   "metadata": {
    "id": "Ekcx6pJ22uZT"
   },
   "outputs": [
    {
     "ename": "NameNotFound",
     "evalue": "Environment `Breakout` doesn't exist.",
     "output_type": "error",
     "traceback": [
      "\u001b[0;31m---------------------------------------------------------------------------\u001b[0m",
      "\u001b[0;31mNameNotFound\u001b[0m                              Traceback (most recent call last)",
      "Cell \u001b[0;32mIn[2], line 8\u001b[0m\n\u001b[1;32m      5\u001b[0m gym\u001b[38;5;241m.\u001b[39mregister_envs(ale_py) \u001b[38;5;66;03m#This will register atari environments  in gymnasium\u001b[39;00m\n\u001b[1;32m      7\u001b[0m \u001b[38;5;66;03m#Read the docs to decide the appropriate render mode for the environment. Edit the line below.\u001b[39;00m\n\u001b[0;32m----> 8\u001b[0m env \u001b[38;5;241m=\u001b[39m \u001b[43mgym\u001b[49m\u001b[38;5;241;43m.\u001b[39;49m\u001b[43mmake\u001b[49m\u001b[43m(\u001b[49m\u001b[38;5;124;43m\"\u001b[39;49m\u001b[38;5;124;43mBreakout-v0\u001b[39;49m\u001b[38;5;124;43m\"\u001b[39;49m\u001b[43m,\u001b[49m\u001b[43m \u001b[49m\u001b[43mrender_mode\u001b[49m\u001b[43m \u001b[49m\u001b[38;5;241;43m=\u001b[39;49m\u001b[43m \u001b[49m\u001b[38;5;124;43m\"\u001b[39;49m\u001b[38;5;124;43mrgb_array\u001b[39;49m\u001b[38;5;124;43m\"\u001b[39;49m\u001b[43m)\u001b[49m    \u001b[38;5;66;03m# Don't use render_mode='human' because this will open 2 windows when invoking the\u001b[39;00m\n\u001b[1;32m      9\u001b[0m                                  \u001b[38;5;66;03m# method play below, and this redundancy can make your keyboard unresponsive\u001b[39;00m\n\u001b[1;32m     11\u001b[0m keys_to_action \u001b[38;5;241m=\u001b[39m {\n\u001b[1;32m     12\u001b[0m     \u001b[38;5;124m\"\u001b[39m\u001b[38;5;124ma\u001b[39m\u001b[38;5;124m\"\u001b[39m: \u001b[38;5;241m3\u001b[39m,  \u001b[38;5;66;03m# Move left\u001b[39;00m\n\u001b[1;32m     13\u001b[0m     \u001b[38;5;124m\"\u001b[39m\u001b[38;5;124md\u001b[39m\u001b[38;5;124m\"\u001b[39m: \u001b[38;5;241m2\u001b[39m,  \u001b[38;5;66;03m# Move right\u001b[39;00m\n\u001b[1;32m     14\u001b[0m     \u001b[38;5;124m\"\u001b[39m\u001b[38;5;124ms\u001b[39m\u001b[38;5;124m\"\u001b[39m: \u001b[38;5;241m1\u001b[39m,  \u001b[38;5;66;03m# Fire the ball\u001b[39;00m\n\u001b[1;32m     15\u001b[0m }\n",
      "File \u001b[0;32m~/Desktop/NYU_Materials/DS-GA-3001-Reinforcement/.venv/lib/python3.9/site-packages/gymnasium/envs/registration.py:687\u001b[0m, in \u001b[0;36mmake\u001b[0;34m(id, max_episode_steps, disable_env_checker, **kwargs)\u001b[0m\n\u001b[1;32m    684\u001b[0m     \u001b[38;5;28;01massert\u001b[39;00m \u001b[38;5;28misinstance\u001b[39m(\u001b[38;5;28mid\u001b[39m, \u001b[38;5;28mstr\u001b[39m)\n\u001b[1;32m    686\u001b[0m     \u001b[38;5;66;03m# The environment name can include an unloaded module in \"module:env_name\" style\u001b[39;00m\n\u001b[0;32m--> 687\u001b[0m     env_spec \u001b[38;5;241m=\u001b[39m \u001b[43m_find_spec\u001b[49m\u001b[43m(\u001b[49m\u001b[38;5;28;43mid\u001b[39;49m\u001b[43m)\u001b[49m\n\u001b[1;32m    689\u001b[0m \u001b[38;5;28;01massert\u001b[39;00m \u001b[38;5;28misinstance\u001b[39m(env_spec, EnvSpec)\n\u001b[1;32m    691\u001b[0m \u001b[38;5;66;03m# Update the env spec kwargs with the `make` kwargs\u001b[39;00m\n",
      "File \u001b[0;32m~/Desktop/NYU_Materials/DS-GA-3001-Reinforcement/.venv/lib/python3.9/site-packages/gymnasium/envs/registration.py:531\u001b[0m, in \u001b[0;36m_find_spec\u001b[0;34m(env_id)\u001b[0m\n\u001b[1;32m    525\u001b[0m     logger\u001b[38;5;241m.\u001b[39mwarn(\n\u001b[1;32m    526\u001b[0m         \u001b[38;5;124mf\u001b[39m\u001b[38;5;124m\"\u001b[39m\u001b[38;5;124mUsing the latest versioned environment `\u001b[39m\u001b[38;5;132;01m{\u001b[39;00mnew_env_id\u001b[38;5;132;01m}\u001b[39;00m\u001b[38;5;124m` \u001b[39m\u001b[38;5;124m\"\u001b[39m\n\u001b[1;32m    527\u001b[0m         \u001b[38;5;124mf\u001b[39m\u001b[38;5;124m\"\u001b[39m\u001b[38;5;124minstead of the unversioned environment `\u001b[39m\u001b[38;5;132;01m{\u001b[39;00menv_name\u001b[38;5;132;01m}\u001b[39;00m\u001b[38;5;124m`.\u001b[39m\u001b[38;5;124m\"\u001b[39m\n\u001b[1;32m    528\u001b[0m     )\n\u001b[1;32m    530\u001b[0m \u001b[38;5;28;01mif\u001b[39;00m env_spec \u001b[38;5;129;01mis\u001b[39;00m \u001b[38;5;28;01mNone\u001b[39;00m:\n\u001b[0;32m--> 531\u001b[0m     \u001b[43m_check_version_exists\u001b[49m\u001b[43m(\u001b[49m\u001b[43mns\u001b[49m\u001b[43m,\u001b[49m\u001b[43m \u001b[49m\u001b[43mname\u001b[49m\u001b[43m,\u001b[49m\u001b[43m \u001b[49m\u001b[43mversion\u001b[49m\u001b[43m)\u001b[49m\n\u001b[1;32m    532\u001b[0m     \u001b[38;5;28;01mraise\u001b[39;00m error\u001b[38;5;241m.\u001b[39mError(\n\u001b[1;32m    533\u001b[0m         \u001b[38;5;124mf\u001b[39m\u001b[38;5;124m\"\u001b[39m\u001b[38;5;124mNo registered env with id: \u001b[39m\u001b[38;5;132;01m{\u001b[39;00menv_name\u001b[38;5;132;01m}\u001b[39;00m\u001b[38;5;124m. Did you register it, or import the package that registers it? Use `gymnasium.pprint_registry()` to see all of the registered environments.\u001b[39m\u001b[38;5;124m\"\u001b[39m\n\u001b[1;32m    534\u001b[0m     )\n\u001b[1;32m    536\u001b[0m \u001b[38;5;28;01mreturn\u001b[39;00m env_spec\n",
      "File \u001b[0;32m~/Desktop/NYU_Materials/DS-GA-3001-Reinforcement/.venv/lib/python3.9/site-packages/gymnasium/envs/registration.py:397\u001b[0m, in \u001b[0;36m_check_version_exists\u001b[0;34m(ns, name, version)\u001b[0m\n\u001b[1;32m    394\u001b[0m \u001b[38;5;28;01mif\u001b[39;00m get_env_id(ns, name, version) \u001b[38;5;129;01min\u001b[39;00m registry:\n\u001b[1;32m    395\u001b[0m     \u001b[38;5;28;01mreturn\u001b[39;00m\n\u001b[0;32m--> 397\u001b[0m \u001b[43m_check_name_exists\u001b[49m\u001b[43m(\u001b[49m\u001b[43mns\u001b[49m\u001b[43m,\u001b[49m\u001b[43m \u001b[49m\u001b[43mname\u001b[49m\u001b[43m)\u001b[49m\n\u001b[1;32m    398\u001b[0m \u001b[38;5;28;01mif\u001b[39;00m version \u001b[38;5;129;01mis\u001b[39;00m \u001b[38;5;28;01mNone\u001b[39;00m:\n\u001b[1;32m    399\u001b[0m     \u001b[38;5;28;01mreturn\u001b[39;00m\n",
      "File \u001b[0;32m~/Desktop/NYU_Materials/DS-GA-3001-Reinforcement/.venv/lib/python3.9/site-packages/gymnasium/envs/registration.py:374\u001b[0m, in \u001b[0;36m_check_name_exists\u001b[0;34m(ns, name)\u001b[0m\n\u001b[1;32m    371\u001b[0m namespace_msg \u001b[38;5;241m=\u001b[39m \u001b[38;5;124mf\u001b[39m\u001b[38;5;124m\"\u001b[39m\u001b[38;5;124m in namespace \u001b[39m\u001b[38;5;132;01m{\u001b[39;00mns\u001b[38;5;132;01m}\u001b[39;00m\u001b[38;5;124m\"\u001b[39m \u001b[38;5;28;01mif\u001b[39;00m ns \u001b[38;5;28;01melse\u001b[39;00m \u001b[38;5;124m\"\u001b[39m\u001b[38;5;124m\"\u001b[39m\n\u001b[1;32m    372\u001b[0m suggestion_msg \u001b[38;5;241m=\u001b[39m \u001b[38;5;124mf\u001b[39m\u001b[38;5;124m\"\u001b[39m\u001b[38;5;124m Did you mean: `\u001b[39m\u001b[38;5;132;01m{\u001b[39;00msuggestion[\u001b[38;5;241m0\u001b[39m]\u001b[38;5;132;01m}\u001b[39;00m\u001b[38;5;124m`?\u001b[39m\u001b[38;5;124m\"\u001b[39m \u001b[38;5;28;01mif\u001b[39;00m suggestion \u001b[38;5;28;01melse\u001b[39;00m \u001b[38;5;124m\"\u001b[39m\u001b[38;5;124m\"\u001b[39m\n\u001b[0;32m--> 374\u001b[0m \u001b[38;5;28;01mraise\u001b[39;00m error\u001b[38;5;241m.\u001b[39mNameNotFound(\n\u001b[1;32m    375\u001b[0m     \u001b[38;5;124mf\u001b[39m\u001b[38;5;124m\"\u001b[39m\u001b[38;5;124mEnvironment `\u001b[39m\u001b[38;5;132;01m{\u001b[39;00mname\u001b[38;5;132;01m}\u001b[39;00m\u001b[38;5;124m` doesn\u001b[39m\u001b[38;5;124m'\u001b[39m\u001b[38;5;124mt exist\u001b[39m\u001b[38;5;132;01m{\u001b[39;00mnamespace_msg\u001b[38;5;132;01m}\u001b[39;00m\u001b[38;5;124m.\u001b[39m\u001b[38;5;132;01m{\u001b[39;00msuggestion_msg\u001b[38;5;132;01m}\u001b[39;00m\u001b[38;5;124m\"\u001b[39m\n\u001b[1;32m    376\u001b[0m )\n",
      "\u001b[0;31mNameNotFound\u001b[0m: Environment `Breakout` doesn't exist."
     ]
    }
   ],
   "source": [
    "import gymnasium as gym\n",
    "from gymnasium.utils.play import play  # Import the play module from gym.utils\n",
    "import ale_py\n",
    "\n",
    "gym.register_envs(ale_py) #This will register atari environments  in gymnasium\n",
    "\n",
    "#Read the docs to decide the appropriate render mode for the environment. Edit the line below.\n",
    "env = gym.make(\"Breakout-v0\", render_mode = \"rgb_array\")    # Don't use render_mode='human' because this will open 2 windows when invoking the\n",
    "                                 # method play below, and this redundancy can make your keyboard unresponsive\n",
    "\n",
    "keys_to_action = {\n",
    "    \"a\": 3,  # Move left\n",
    "    \"d\": 2,  # Move right\n",
    "    \"s\": 1,  # Fire the ball\n",
    "}\n",
    "\n",
    "play(env, zoom=2, keys_to_action=keys_to_action)                # Details of the 'play' function are here: https://gymnasium.farama.org/api/utils/"
   ]
  },
  {
   "cell_type": "markdown",
   "id": "LWgSITPs2uZU",
   "metadata": {
    "id": "LWgSITPs2uZU"
   },
   "source": [
    "### Useful command to interact with a Gym environment\n",
    "\n",
    "Let's look at some frequently used attributes and methods of a Gym environment, please checkout the concise doc here: https://gymnasium.farama.org/api/env/\n",
    "\n",
    "`render_mode` takes one argument which can take two possible values:\n",
    "* \"human\": Graphically render the state of the environment and display it on a laptop screen\n",
    "* \"rgb_array\": Returns an array of pixels containing the state (image) of the current environment\n",
    "\n",
    "`env.action_space` provides information on the action space, in particular `env.action_space.n` returns the number of possible actions\n",
    "\n",
    "`env.observation_space` provides information on the state space, in particular `env.observation_space.n` returns the number of states\n"
   ]
  },
  {
   "cell_type": "code",
   "execution_count": 1,
   "id": "KGrY26MK2uZU",
   "metadata": {
    "id": "KGrY26MK2uZU"
   },
   "outputs": [
    {
     "name": "stdout",
     "output_type": "stream",
     "text": [
      "Color of the pixel at (60,50): [200  72  72]\n"
     ]
    },
    {
     "name": "stderr",
     "output_type": "stream",
     "text": [
      "f:\\Study_Notes_Backup\\Data_Science\\DS-GA-3001-Reinforcement\\.venv\\lib\\site-packages\\gymnasium\\envs\\registration.py:517: DeprecationWarning: \u001b[33mWARN: The environment Breakout-v0 is out of date. You should consider upgrading to version `v4`.\u001b[0m\n",
      "  logger.deprecation(\n"
     ]
    },
    {
     "data": {
      "image/png": "[encoded data removed]",
      "text/plain": [
       "<Figure size 640x480 with 1 Axes>"
      ]
     },
     "metadata": {},
     "output_type": "display_data"
    }
   ],
   "source": [
    "import gymnasium as gym\n",
    "import matplotlib.pyplot as plt\n",
    "import ale_py\n",
    "\n",
    "gym.register_envs(ale_py) #This will register atari environments  in gymnasium\n",
    "\n",
    "env = gym.make(\"Breakout-v0\", render_mode=\"rgb_array\")\n",
    "\n",
    "obs, info = env.reset()\n",
    "\n",
    "array = env.render()  # Returns the image as a 2d numpy array\n",
    "\n",
    "print(\"Color of the pixel at (60,50):\", array[60][50])                  # Print one of the pixels - (row 60, column 50) corresponds to a red block\n",
    "\n",
    "plt.imshow(array);                    # Vizualize the entire array of pixels in Matplotlib"
   ]
  },
  {
   "cell_type": "markdown",
   "id": "RbfA6Ecs2uZU",
   "metadata": {
    "id": "RbfA6Ecs2uZU"
   },
   "source": [
    "In the case of the Atari video game Breakout, there are 4 possible actions: start the game (fire the ball), move left, move right, or stand still (do nothing)"
   ]
  },
  {
   "cell_type": "code",
   "execution_count": 2,
   "id": "kGUskAhW2uZU",
   "metadata": {
    "id": "kGUskAhW2uZU"
   },
   "outputs": [
    {
     "name": "stdout",
     "output_type": "stream",
     "text": [
      "There are 4 possible actions in Breakout\n"
     ]
    }
   ],
   "source": [
    "print(f\"There are {env.action_space.n} possible actions in Breakout\")"
   ]
  },
  {
   "cell_type": "code",
   "execution_count": 4,
   "id": "30f3f8af",
   "metadata": {},
   "outputs": [
    {
     "name": "stdout",
     "output_type": "stream",
     "text": [
      "A sample action in the action space: {'n': np.int64(4), 'start': np.int64(0), '_shape': (), 'dtype': dtype('int64'), '_np_random': None}\n"
     ]
    }
   ],
   "source": []
  },
  {
   "cell_type": "markdown",
   "id": "3Z7VmqpI2uZV",
   "metadata": {
    "id": "3Z7VmqpI2uZV"
   },
   "source": [
    "We can invoke the method `sample` on `env.action_space` to select a random action amongst the possible actions. Note the \"ale.lives\" info reduces for each live lost."
   ]
  },
  {
   "cell_type": "code",
   "execution_count": 5,
   "id": "0wU_QO3W2uZV",
   "metadata": {
    "id": "0wU_QO3W2uZV"
   },
   "outputs": [
    {
     "name": "stderr",
     "output_type": "stream",
     "text": [
      "f:\\Study_Notes_Backup\\Data_Science\\DS-GA-3001-Reinforcement\\.venv\\lib\\site-packages\\gymnasium\\envs\\registration.py:517: DeprecationWarning: \u001b[33mWARN: The environment Breakout-v0 is out of date. You should consider upgrading to version `v4`.\u001b[0m\n",
      "  logger.deprecation(\n"
     ]
    },
    {
     "name": "stdout",
     "output_type": "stream",
     "text": [
      "Reward: 0.0, Done: False, Info: {'lives': 5, 'episode_frame_number': 2, 'frame_number': 2}\n",
      "Reward: 0.0, Done: False, Info: {'lives': 5, 'episode_frame_number': 6, 'frame_number': 6}\n",
      "Reward: 0.0, Done: False, Info: {'lives': 5, 'episode_frame_number': 9, 'frame_number': 9}\n",
      "Reward: 0.0, Done: False, Info: {'lives': 5, 'episode_frame_number': 13, 'frame_number': 13}\n",
      "Reward: 0.0, Done: False, Info: {'lives': 5, 'episode_frame_number': 15, 'frame_number': 15}\n",
      "Reward: 0.0, Done: False, Info: {'lives': 5, 'episode_frame_number': 17, 'frame_number': 17}\n",
      "Reward: 0.0, Done: False, Info: {'lives': 5, 'episode_frame_number': 19, 'frame_number': 19}\n",
      "Reward: 0.0, Done: False, Info: {'lives': 5, 'episode_frame_number': 21, 'frame_number': 21}\n",
      "Reward: 0.0, Done: False, Info: {'lives': 5, 'episode_frame_number': 23, 'frame_number': 23}\n",
      "Reward: 0.0, Done: False, Info: {'lives': 5, 'episode_frame_number': 25, 'frame_number': 25}\n",
      "Reward: 0.0, Done: False, Info: {'lives': 5, 'episode_frame_number': 28, 'frame_number': 28}\n",
      "Reward: 0.0, Done: False, Info: {'lives': 5, 'episode_frame_number': 32, 'frame_number': 32}\n",
      "Reward: 0.0, Done: False, Info: {'lives': 5, 'episode_frame_number': 35, 'frame_number': 35}\n",
      "Reward: 0.0, Done: False, Info: {'lives': 5, 'episode_frame_number': 38, 'frame_number': 38}\n",
      "Reward: 0.0, Done: False, Info: {'lives': 5, 'episode_frame_number': 40, 'frame_number': 40}\n",
      "Reward: 0.0, Done: False, Info: {'lives': 5, 'episode_frame_number': 42, 'frame_number': 42}\n",
      "Reward: 0.0, Done: False, Info: {'lives': 5, 'episode_frame_number': 46, 'frame_number': 46}\n",
      "Reward: 0.0, Done: False, Info: {'lives': 5, 'episode_frame_number': 50, 'frame_number': 50}\n",
      "Reward: 0.0, Done: False, Info: {'lives': 5, 'episode_frame_number': 52, 'frame_number': 52}\n",
      "Reward: 0.0, Done: False, Info: {'lives': 5, 'episode_frame_number': 56, 'frame_number': 56}\n",
      "Reward: 0.0, Done: False, Info: {'lives': 5, 'episode_frame_number': 59, 'frame_number': 59}\n",
      "Reward: 0.0, Done: False, Info: {'lives': 5, 'episode_frame_number': 63, 'frame_number': 63}\n",
      "Reward: 0.0, Done: False, Info: {'lives': 5, 'episode_frame_number': 66, 'frame_number': 66}\n",
      "Reward: 0.0, Done: False, Info: {'lives': 5, 'episode_frame_number': 69, 'frame_number': 69}\n",
      "Reward: 0.0, Done: False, Info: {'lives': 5, 'episode_frame_number': 71, 'frame_number': 71}\n",
      "Reward: 0.0, Done: False, Info: {'lives': 5, 'episode_frame_number': 73, 'frame_number': 73}\n",
      "Reward: 0.0, Done: False, Info: {'lives': 5, 'episode_frame_number': 77, 'frame_number': 77}\n",
      "Reward: 0.0, Done: False, Info: {'lives': 5, 'episode_frame_number': 81, 'frame_number': 81}\n",
      "Reward: 0.0, Done: False, Info: {'lives': 5, 'episode_frame_number': 85, 'frame_number': 85}\n",
      "Reward: 0.0, Done: False, Info: {'lives': 5, 'episode_frame_number': 87, 'frame_number': 87}\n",
      "Reward: 0.0, Done: False, Info: {'lives': 5, 'episode_frame_number': 91, 'frame_number': 91}\n",
      "Reward: 0.0, Done: False, Info: {'lives': 5, 'episode_frame_number': 93, 'frame_number': 93}\n",
      "Reward: 0.0, Done: False, Info: {'lives': 5, 'episode_frame_number': 96, 'frame_number': 96}\n",
      "Reward: 0.0, Done: False, Info: {'lives': 5, 'episode_frame_number': 99, 'frame_number': 99}\n",
      "Reward: 0.0, Done: False, Info: {'lives': 5, 'episode_frame_number': 103, 'frame_number': 103}\n",
      "Reward: 0.0, Done: False, Info: {'lives': 5, 'episode_frame_number': 105, 'frame_number': 105}\n",
      "Reward: 0.0, Done: False, Info: {'lives': 5, 'episode_frame_number': 108, 'frame_number': 108}\n",
      "Reward: 0.0, Done: False, Info: {'lives': 5, 'episode_frame_number': 112, 'frame_number': 112}\n",
      "Reward: 0.0, Done: False, Info: {'lives': 5, 'episode_frame_number': 116, 'frame_number': 116}\n",
      "Reward: 0.0, Done: False, Info: {'lives': 5, 'episode_frame_number': 120, 'frame_number': 120}\n",
      "Reward: 0.0, Done: False, Info: {'lives': 5, 'episode_frame_number': 124, 'frame_number': 124}\n",
      "Reward: 0.0, Done: False, Info: {'lives': 5, 'episode_frame_number': 128, 'frame_number': 128}\n",
      "Reward: 0.0, Done: False, Info: {'lives': 5, 'episode_frame_number': 131, 'frame_number': 131}\n",
      "Reward: 0.0, Done: False, Info: {'lives': 5, 'episode_frame_number': 135, 'frame_number': 135}\n",
      "Reward: 0.0, Done: False, Info: {'lives': 5, 'episode_frame_number': 138, 'frame_number': 138}\n",
      "Reward: 0.0, Done: False, Info: {'lives': 5, 'episode_frame_number': 141, 'frame_number': 141}\n",
      "Reward: 0.0, Done: False, Info: {'lives': 5, 'episode_frame_number': 143, 'frame_number': 143}\n",
      "Reward: 0.0, Done: False, Info: {'lives': 5, 'episode_frame_number': 147, 'frame_number': 147}\n",
      "Reward: 0.0, Done: False, Info: {'lives': 5, 'episode_frame_number': 150, 'frame_number': 150}\n",
      "Reward: 0.0, Done: False, Info: {'lives': 5, 'episode_frame_number': 154, 'frame_number': 154}\n",
      "Reward: 0.0, Done: False, Info: {'lives': 5, 'episode_frame_number': 157, 'frame_number': 157}\n",
      "Reward: 0.0, Done: False, Info: {'lives': 5, 'episode_frame_number': 159, 'frame_number': 159}\n",
      "Reward: 0.0, Done: False, Info: {'lives': 5, 'episode_frame_number': 163, 'frame_number': 163}\n",
      "Reward: 0.0, Done: False, Info: {'lives': 5, 'episode_frame_number': 165, 'frame_number': 165}\n",
      "Reward: 0.0, Done: False, Info: {'lives': 5, 'episode_frame_number': 169, 'frame_number': 169}\n",
      "Reward: 0.0, Done: False, Info: {'lives': 5, 'episode_frame_number': 172, 'frame_number': 172}\n",
      "Reward: 1.0, Done: False, Info: {'lives': 5, 'episode_frame_number': 175, 'frame_number': 175}\n",
      "Reward: 0.0, Done: False, Info: {'lives': 5, 'episode_frame_number': 179, 'frame_number': 179}\n",
      "Reward: 0.0, Done: False, Info: {'lives': 5, 'episode_frame_number': 181, 'frame_number': 181}\n",
      "Reward: 0.0, Done: False, Info: {'lives': 5, 'episode_frame_number': 185, 'frame_number': 185}\n",
      "Reward: 0.0, Done: False, Info: {'lives': 5, 'episode_frame_number': 189, 'frame_number': 189}\n",
      "Reward: 0.0, Done: False, Info: {'lives': 5, 'episode_frame_number': 193, 'frame_number': 193}\n",
      "Reward: 0.0, Done: False, Info: {'lives': 5, 'episode_frame_number': 197, 'frame_number': 197}\n",
      "Reward: 0.0, Done: False, Info: {'lives': 5, 'episode_frame_number': 199, 'frame_number': 199}\n",
      "Reward: 0.0, Done: False, Info: {'lives': 5, 'episode_frame_number': 203, 'frame_number': 203}\n",
      "Reward: 0.0, Done: False, Info: {'lives': 5, 'episode_frame_number': 205, 'frame_number': 205}\n",
      "Reward: 0.0, Done: False, Info: {'lives': 5, 'episode_frame_number': 209, 'frame_number': 209}\n",
      "Reward: 0.0, Done: False, Info: {'lives': 5, 'episode_frame_number': 212, 'frame_number': 212}\n",
      "Reward: 0.0, Done: False, Info: {'lives': 5, 'episode_frame_number': 215, 'frame_number': 215}\n",
      "Reward: 0.0, Done: False, Info: {'lives': 5, 'episode_frame_number': 218, 'frame_number': 218}\n",
      "Reward: 0.0, Done: False, Info: {'lives': 5, 'episode_frame_number': 222, 'frame_number': 222}\n",
      "Reward: 0.0, Done: False, Info: {'lives': 5, 'episode_frame_number': 225, 'frame_number': 225}\n",
      "Reward: 0.0, Done: False, Info: {'lives': 5, 'episode_frame_number': 229, 'frame_number': 229}\n",
      "Reward: 0.0, Done: False, Info: {'lives': 5, 'episode_frame_number': 233, 'frame_number': 233}\n",
      "Reward: 0.0, Done: False, Info: {'lives': 5, 'episode_frame_number': 236, 'frame_number': 236}\n",
      "Reward: 0.0, Done: False, Info: {'lives': 5, 'episode_frame_number': 238, 'frame_number': 238}\n",
      "Reward: 0.0, Done: False, Info: {'lives': 5, 'episode_frame_number': 242, 'frame_number': 242}\n",
      "Reward: 0.0, Done: False, Info: {'lives': 5, 'episode_frame_number': 245, 'frame_number': 245}\n",
      "Reward: 0.0, Done: False, Info: {'lives': 5, 'episode_frame_number': 248, 'frame_number': 248}\n",
      "Reward: 0.0, Done: False, Info: {'lives': 5, 'episode_frame_number': 252, 'frame_number': 252}\n",
      "Reward: 0.0, Done: False, Info: {'lives': 5, 'episode_frame_number': 255, 'frame_number': 255}\n",
      "Reward: 0.0, Done: False, Info: {'lives': 5, 'episode_frame_number': 257, 'frame_number': 257}\n",
      "Reward: 0.0, Done: False, Info: {'lives': 5, 'episode_frame_number': 259, 'frame_number': 259}\n",
      "Reward: 0.0, Done: False, Info: {'lives': 5, 'episode_frame_number': 261, 'frame_number': 261}\n",
      "Reward: 0.0, Done: False, Info: {'lives': 5, 'episode_frame_number': 263, 'frame_number': 263}\n",
      "Reward: 0.0, Done: False, Info: {'lives': 5, 'episode_frame_number': 265, 'frame_number': 265}\n",
      "Reward: 0.0, Done: False, Info: {'lives': 5, 'episode_frame_number': 268, 'frame_number': 268}\n",
      "Reward: 0.0, Done: False, Info: {'lives': 5, 'episode_frame_number': 270, 'frame_number': 270}\n",
      "Reward: 0.0, Done: False, Info: {'lives': 5, 'episode_frame_number': 272, 'frame_number': 272}\n",
      "Reward: 0.0, Done: False, Info: {'lives': 5, 'episode_frame_number': 274, 'frame_number': 274}\n",
      "Reward: 0.0, Done: False, Info: {'lives': 5, 'episode_frame_number': 278, 'frame_number': 278}\n",
      "Reward: 0.0, Done: False, Info: {'lives': 5, 'episode_frame_number': 280, 'frame_number': 280}\n",
      "Reward: 0.0, Done: False, Info: {'lives': 5, 'episode_frame_number': 283, 'frame_number': 283}\n",
      "Reward: 0.0, Done: False, Info: {'lives': 5, 'episode_frame_number': 287, 'frame_number': 287}\n",
      "Reward: 0.0, Done: False, Info: {'lives': 5, 'episode_frame_number': 290, 'frame_number': 290}\n",
      "Reward: 0.0, Done: False, Info: {'lives': 5, 'episode_frame_number': 292, 'frame_number': 292}\n",
      "Reward: 0.0, Done: False, Info: {'lives': 5, 'episode_frame_number': 295, 'frame_number': 295}\n",
      "Reward: 0.0, Done: False, Info: {'lives': 4, 'episode_frame_number': 299, 'frame_number': 299}\n",
      "Reward: 0.0, Done: False, Info: {'lives': 4, 'episode_frame_number': 303, 'frame_number': 303}\n",
      "Reward: 0.0, Done: False, Info: {'lives': 4, 'episode_frame_number': 306, 'frame_number': 306}\n",
      "Reward: 0.0, Done: False, Info: {'lives': 4, 'episode_frame_number': 308, 'frame_number': 308}\n",
      "Reward: 0.0, Done: False, Info: {'lives': 4, 'episode_frame_number': 310, 'frame_number': 310}\n",
      "Reward: 0.0, Done: False, Info: {'lives': 4, 'episode_frame_number': 313, 'frame_number': 313}\n",
      "Reward: 0.0, Done: False, Info: {'lives': 4, 'episode_frame_number': 317, 'frame_number': 317}\n",
      "Reward: 0.0, Done: False, Info: {'lives': 4, 'episode_frame_number': 321, 'frame_number': 321}\n",
      "Reward: 0.0, Done: False, Info: {'lives': 4, 'episode_frame_number': 323, 'frame_number': 323}\n",
      "Reward: 0.0, Done: False, Info: {'lives': 4, 'episode_frame_number': 325, 'frame_number': 325}\n",
      "Reward: 0.0, Done: False, Info: {'lives': 4, 'episode_frame_number': 327, 'frame_number': 327}\n",
      "Reward: 0.0, Done: False, Info: {'lives': 4, 'episode_frame_number': 331, 'frame_number': 331}\n",
      "Reward: 0.0, Done: False, Info: {'lives': 4, 'episode_frame_number': 335, 'frame_number': 335}\n",
      "Reward: 0.0, Done: False, Info: {'lives': 4, 'episode_frame_number': 338, 'frame_number': 338}\n",
      "Reward: 0.0, Done: False, Info: {'lives': 4, 'episode_frame_number': 342, 'frame_number': 342}\n",
      "Reward: 0.0, Done: False, Info: {'lives': 4, 'episode_frame_number': 346, 'frame_number': 346}\n",
      "Reward: 0.0, Done: False, Info: {'lives': 4, 'episode_frame_number': 348, 'frame_number': 348}\n",
      "Reward: 0.0, Done: False, Info: {'lives': 4, 'episode_frame_number': 351, 'frame_number': 351}\n",
      "Reward: 0.0, Done: False, Info: {'lives': 4, 'episode_frame_number': 353, 'frame_number': 353}\n",
      "Reward: 0.0, Done: False, Info: {'lives': 4, 'episode_frame_number': 357, 'frame_number': 357}\n",
      "Reward: 0.0, Done: False, Info: {'lives': 4, 'episode_frame_number': 360, 'frame_number': 360}\n",
      "Reward: 0.0, Done: False, Info: {'lives': 4, 'episode_frame_number': 363, 'frame_number': 363}\n",
      "Reward: 0.0, Done: False, Info: {'lives': 4, 'episode_frame_number': 365, 'frame_number': 365}\n",
      "Reward: 0.0, Done: False, Info: {'lives': 4, 'episode_frame_number': 369, 'frame_number': 369}\n",
      "Reward: 0.0, Done: False, Info: {'lives': 4, 'episode_frame_number': 373, 'frame_number': 373}\n",
      "Reward: 0.0, Done: False, Info: {'lives': 4, 'episode_frame_number': 377, 'frame_number': 377}\n",
      "Reward: 0.0, Done: False, Info: {'lives': 4, 'episode_frame_number': 380, 'frame_number': 380}\n",
      "Reward: 0.0, Done: False, Info: {'lives': 4, 'episode_frame_number': 384, 'frame_number': 384}\n",
      "Reward: 0.0, Done: False, Info: {'lives': 4, 'episode_frame_number': 387, 'frame_number': 387}\n",
      "Reward: 0.0, Done: False, Info: {'lives': 4, 'episode_frame_number': 391, 'frame_number': 391}\n",
      "Reward: 0.0, Done: False, Info: {'lives': 4, 'episode_frame_number': 393, 'frame_number': 393}\n",
      "Reward: 0.0, Done: False, Info: {'lives': 4, 'episode_frame_number': 396, 'frame_number': 396}\n",
      "Reward: 0.0, Done: False, Info: {'lives': 4, 'episode_frame_number': 398, 'frame_number': 398}\n",
      "Reward: 0.0, Done: False, Info: {'lives': 4, 'episode_frame_number': 402, 'frame_number': 402}\n",
      "Reward: 0.0, Done: False, Info: {'lives': 4, 'episode_frame_number': 404, 'frame_number': 404}\n",
      "Reward: 0.0, Done: False, Info: {'lives': 4, 'episode_frame_number': 408, 'frame_number': 408}\n",
      "Reward: 0.0, Done: False, Info: {'lives': 4, 'episode_frame_number': 412, 'frame_number': 412}\n",
      "Reward: 0.0, Done: False, Info: {'lives': 4, 'episode_frame_number': 415, 'frame_number': 415}\n",
      "Reward: 0.0, Done: False, Info: {'lives': 4, 'episode_frame_number': 419, 'frame_number': 419}\n",
      "Reward: 0.0, Done: False, Info: {'lives': 4, 'episode_frame_number': 422, 'frame_number': 422}\n",
      "Reward: 0.0, Done: False, Info: {'lives': 4, 'episode_frame_number': 424, 'frame_number': 424}\n",
      "Reward: 0.0, Done: False, Info: {'lives': 4, 'episode_frame_number': 426, 'frame_number': 426}\n",
      "Reward: 0.0, Done: False, Info: {'lives': 4, 'episode_frame_number': 429, 'frame_number': 429}\n",
      "Reward: 0.0, Done: False, Info: {'lives': 4, 'episode_frame_number': 432, 'frame_number': 432}\n",
      "Reward: 0.0, Done: False, Info: {'lives': 4, 'episode_frame_number': 435, 'frame_number': 435}\n",
      "Reward: 0.0, Done: False, Info: {'lives': 4, 'episode_frame_number': 439, 'frame_number': 439}\n",
      "Reward: 0.0, Done: False, Info: {'lives': 4, 'episode_frame_number': 441, 'frame_number': 441}\n",
      "Reward: 0.0, Done: False, Info: {'lives': 4, 'episode_frame_number': 444, 'frame_number': 444}\n",
      "Reward: 0.0, Done: False, Info: {'lives': 4, 'episode_frame_number': 447, 'frame_number': 447}\n",
      "Reward: 0.0, Done: False, Info: {'lives': 4, 'episode_frame_number': 449, 'frame_number': 449}\n",
      "Reward: 0.0, Done: False, Info: {'lives': 4, 'episode_frame_number': 452, 'frame_number': 452}\n",
      "Reward: 0.0, Done: False, Info: {'lives': 4, 'episode_frame_number': 455, 'frame_number': 455}\n",
      "Reward: 1.0, Done: False, Info: {'lives': 4, 'episode_frame_number': 459, 'frame_number': 459}\n",
      "Reward: 0.0, Done: False, Info: {'lives': 4, 'episode_frame_number': 463, 'frame_number': 463}\n",
      "Reward: 0.0, Done: False, Info: {'lives': 4, 'episode_frame_number': 467, 'frame_number': 467}\n",
      "Reward: 0.0, Done: False, Info: {'lives': 4, 'episode_frame_number': 471, 'frame_number': 471}\n",
      "Reward: 0.0, Done: False, Info: {'lives': 4, 'episode_frame_number': 475, 'frame_number': 475}\n",
      "Reward: 0.0, Done: False, Info: {'lives': 4, 'episode_frame_number': 479, 'frame_number': 479}\n",
      "Reward: 0.0, Done: False, Info: {'lives': 4, 'episode_frame_number': 483, 'frame_number': 483}\n",
      "Reward: 0.0, Done: False, Info: {'lives': 4, 'episode_frame_number': 486, 'frame_number': 486}\n",
      "Reward: 0.0, Done: False, Info: {'lives': 4, 'episode_frame_number': 490, 'frame_number': 490}\n",
      "Reward: 0.0, Done: False, Info: {'lives': 4, 'episode_frame_number': 494, 'frame_number': 494}\n",
      "Reward: 0.0, Done: False, Info: {'lives': 4, 'episode_frame_number': 497, 'frame_number': 497}\n",
      "Reward: 0.0, Done: False, Info: {'lives': 4, 'episode_frame_number': 501, 'frame_number': 501}\n",
      "Reward: 0.0, Done: False, Info: {'lives': 4, 'episode_frame_number': 505, 'frame_number': 505}\n",
      "Reward: 0.0, Done: False, Info: {'lives': 4, 'episode_frame_number': 508, 'frame_number': 508}\n",
      "Reward: 0.0, Done: False, Info: {'lives': 4, 'episode_frame_number': 510, 'frame_number': 510}\n",
      "Reward: 0.0, Done: False, Info: {'lives': 4, 'episode_frame_number': 512, 'frame_number': 512}\n",
      "Reward: 0.0, Done: False, Info: {'lives': 4, 'episode_frame_number': 515, 'frame_number': 515}\n",
      "Reward: 0.0, Done: False, Info: {'lives': 4, 'episode_frame_number': 519, 'frame_number': 519}\n",
      "Reward: 0.0, Done: False, Info: {'lives': 4, 'episode_frame_number': 521, 'frame_number': 521}\n",
      "Reward: 0.0, Done: False, Info: {'lives': 4, 'episode_frame_number': 525, 'frame_number': 525}\n",
      "Reward: 0.0, Done: False, Info: {'lives': 4, 'episode_frame_number': 528, 'frame_number': 528}\n",
      "Reward: 0.0, Done: False, Info: {'lives': 4, 'episode_frame_number': 530, 'frame_number': 530}\n",
      "Reward: 0.0, Done: False, Info: {'lives': 4, 'episode_frame_number': 534, 'frame_number': 534}\n",
      "Reward: 0.0, Done: False, Info: {'lives': 4, 'episode_frame_number': 537, 'frame_number': 537}\n",
      "Reward: 0.0, Done: False, Info: {'lives': 4, 'episode_frame_number': 540, 'frame_number': 540}\n",
      "Reward: 0.0, Done: False, Info: {'lives': 4, 'episode_frame_number': 544, 'frame_number': 544}\n",
      "Reward: 0.0, Done: False, Info: {'lives': 4, 'episode_frame_number': 546, 'frame_number': 546}\n",
      "Reward: 0.0, Done: False, Info: {'lives': 4, 'episode_frame_number': 550, 'frame_number': 550}\n",
      "Reward: 0.0, Done: False, Info: {'lives': 4, 'episode_frame_number': 554, 'frame_number': 554}\n",
      "Reward: 0.0, Done: False, Info: {'lives': 4, 'episode_frame_number': 557, 'frame_number': 557}\n",
      "Reward: 0.0, Done: False, Info: {'lives': 4, 'episode_frame_number': 560, 'frame_number': 560}\n",
      "Reward: 0.0, Done: False, Info: {'lives': 4, 'episode_frame_number': 562, 'frame_number': 562}\n",
      "Reward: 0.0, Done: False, Info: {'lives': 4, 'episode_frame_number': 565, 'frame_number': 565}\n",
      "Reward: 0.0, Done: False, Info: {'lives': 4, 'episode_frame_number': 567, 'frame_number': 567}\n",
      "Reward: 0.0, Done: False, Info: {'lives': 4, 'episode_frame_number': 570, 'frame_number': 570}\n",
      "Reward: 0.0, Done: False, Info: {'lives': 4, 'episode_frame_number': 574, 'frame_number': 574}\n",
      "Reward: 0.0, Done: False, Info: {'lives': 4, 'episode_frame_number': 578, 'frame_number': 578}\n",
      "Reward: 0.0, Done: False, Info: {'lives': 4, 'episode_frame_number': 581, 'frame_number': 581}\n",
      "Reward: 0.0, Done: False, Info: {'lives': 3, 'episode_frame_number': 584, 'frame_number': 584}\n",
      "Reward: 0.0, Done: False, Info: {'lives': 3, 'episode_frame_number': 586, 'frame_number': 586}\n",
      "Reward: 0.0, Done: False, Info: {'lives': 3, 'episode_frame_number': 589, 'frame_number': 589}\n",
      "Reward: 0.0, Done: False, Info: {'lives': 3, 'episode_frame_number': 593, 'frame_number': 593}\n",
      "Reward: 0.0, Done: False, Info: {'lives': 3, 'episode_frame_number': 597, 'frame_number': 597}\n",
      "Reward: 0.0, Done: False, Info: {'lives': 3, 'episode_frame_number': 601, 'frame_number': 601}\n",
      "Reward: 0.0, Done: False, Info: {'lives': 3, 'episode_frame_number': 604, 'frame_number': 604}\n",
      "Reward: 0.0, Done: False, Info: {'lives': 3, 'episode_frame_number': 608, 'frame_number': 608}\n",
      "Reward: 0.0, Done: False, Info: {'lives': 3, 'episode_frame_number': 610, 'frame_number': 610}\n",
      "Reward: 0.0, Done: False, Info: {'lives': 3, 'episode_frame_number': 613, 'frame_number': 613}\n",
      "Reward: 0.0, Done: False, Info: {'lives': 3, 'episode_frame_number': 616, 'frame_number': 616}\n",
      "Reward: 0.0, Done: False, Info: {'lives': 3, 'episode_frame_number': 618, 'frame_number': 618}\n",
      "Reward: 0.0, Done: False, Info: {'lives': 3, 'episode_frame_number': 622, 'frame_number': 622}\n"
     ]
    }
   ],
   "source": [
    "import gymnasium as gym\n",
    "import time      \n",
    "import ale_py\n",
    "\n",
    "gym.register_envs(ale_py) #This will register atari environments  in gymnasium\n",
    "                                                   # Time package used to slown down vizual to human speed\n",
    "env = gym.make(\"Breakout-v0\", render_mode=\"human\")\n",
    "observation = env.reset()                                           # Initialize the environment to start state\n",
    "for _ in range(200):\n",
    "    random_action = env.action_space.sample()                       # Sample a random action\n",
    "    observation, reward, terminated, truncated, info = env.step(random_action) # Step forward by performing action in current state\n",
    "    print(f\"Reward: {reward}, Done: {terminated}, Info: {info}\")    # Print some of the metadata information\n",
    "    time.sleep(0.01)                                                # Slow down the game so it's easier to follow visually\n",
    "    if terminated or truncated:                                     # If game is over:\n",
    "        observation = env.reset()                                   #    reset the game = initialize the env to start state\n",
    "env.close()"
   ]
  },
  {
   "cell_type": "markdown",
   "id": "NU_nQtWe2uZV",
   "metadata": {
    "id": "NU_nQtWe2uZV"
   },
   "source": [
    "## 2.2) Build a Moon Lander RL simulation environment\n",
    "\n",
    "This environment is a simple rocket trajectory optimization problem.\n",
    "\n",
    "The goal is to land the rocket safely on the moon, using four possible actions: <br>\n",
    "`0`: Do nothing <br>\n",
    "`1`: Fire left orientation engine <br>\n",
    "`2`: Fire main engine <br>\n",
    "`3`: Fire right orientation engine\n",
    "\n",
    "Details can be found in the Gym/Gymnasium doc: https://gymnasium.farama.org/environments/box2d/lunar_lander/\n"
   ]
  },
  {
   "cell_type": "code",
   "execution_count": 2,
   "id": "hgDYDcUQ2uZV",
   "metadata": {
    "id": "hgDYDcUQ2uZV"
   },
   "outputs": [],
   "source": [
    "import gymnasium as gym   # Gymnasium is the new, maintained version of Gym, most Gym env are directly compatible\n",
    "\n",
    "env = gym.make(\"LunarLander-v3\", render_mode=\"human\")\n",
    "observation, info = env.reset(seed=42)\n",
    "for _ in range(1000):\n",
    "    action = env.action_space.sample()\n",
    "    observation, reward, terminated, truncated, info = env.step(action)\n",
    "\n",
    "    if terminated or truncated:\n",
    "        observation, info = env.reset()\n",
    "env.close()"
   ]
  },
  {
   "cell_type": "markdown",
   "id": "jpeVq5B82uZW",
   "metadata": {
    "id": "jpeVq5B82uZW"
   },
   "source": [
    "\n",
    "## 2.3) Build a Cart-Pole RL simulation environment\n",
    "\n",
    "This environment is a very popular, \"classic\" control use case: a pendulum (\"pole\") is attached by an un-actuated joint to a cart, placed upright on the cart, and the cart can move along a frictionless track.\n",
    "\n",
    "The pendulum is placed upright on the cart and The goal is to balance the pole (i.e., keep it upright within -12 to +12 degrees) by applying forces in the left and right direction on the cart, using two possible actions: <br>\n",
    "`0`: Push cart to the left <br>\n",
    "`1`: Push cart to the right\n",
    "\n",
    "**Challenges**: The episode terminates if the cart x-position gets outside the range [-2.4, 2.4] and/or the pole angle gets outside the range [-12°, 12°]. What makes this problem non-trivial is that the velocity which is reduced or increased by the applied force is not fixed and it depends on the angle the pole is pointing. The center of gravity of the pole varies the amount of energy needed to move the cart underneath it.\n",
    "\n",
    "\n",
    "Details can be found in the Gym/Gymnasium doc: https://gymnasium.farama.org/environments/classic_control/cart_pole/\n"
   ]
  },
  {
   "cell_type": "code",
   "execution_count": 3,
   "id": "KewLZLiw2uZW",
   "metadata": {
    "id": "KewLZLiw2uZW"
   },
   "outputs": [
    {
     "name": "stdout",
     "output_type": "stream",
     "text": [
      "Cartpole has 2 possible actions (either move left or right)\n"
     ]
    },
    {
     "name": "stderr",
     "output_type": "stream",
     "text": [
      "f:\\Study_Notes_Backup\\Data_Science\\DS-GA-3001-Reinforcement\\.venv\\lib\\site-packages\\gymnasium\\envs\\registration.py:517: DeprecationWarning: \u001b[33mWARN: The environment CartPole-v0 is out of date. You should consider upgrading to version `v1`.\u001b[0m\n",
      "  logger.deprecation(\n"
     ]
    },
    {
     "ename": "",
     "evalue": "",
     "output_type": "error",
     "traceback": [
      "\u001b[1;31mThe Kernel crashed while executing code in the current cell or a previous cell. \n",
      "\u001b[1;31mPlease review the code in the cell(s) to identify a possible cause of the failure. \n",
      "\u001b[1;31mClick <a href='https://aka.ms/vscodeJupyterKernelCrash'>here</a> for more info. \n",
      "\u001b[1;31mView Jupyter <a href='command:jupyter.viewOutput'>log</a> for further details."
     ]
    }
   ],
   "source": [
    "import gymnasium as gym\n",
    "\n",
    "env = gym.make('CartPole-v0', render_mode=\"human\")\n",
    "print('Cartpole has {} possible actions (either move left or right)'.format(env.action_space.n))\n",
    "\n",
    "# Let's have a look at the starting state:\n",
    "env.reset()\n",
    "env.render()\n"
   ]
  },
  {
   "cell_type": "markdown",
   "id": "ncUoLgLW2uZW",
   "metadata": {
    "id": "ncUoLgLW2uZW"
   },
   "source": [
    "# 3) Exercices\n",
    "\n",
    "## 3.1) Exercice: Define an action-selection rule (not RL-based) for the Moon Lander\n",
    "\n",
    "**Run a simulation of the lunar lander for 2000 steps, firing the left engine whenever the x coordinate of the lander is < -0.1, firing the right engine whenever the x coordinate of the lander is > 0.1, and resetting its state whenever it lands or crashes**\n",
    "\n",
    "**Hint:** The state is an 8-dimensional vector: the coordinates of the lander in x & y, its linear velocities in x & y, its angle, its angular velocity, and two booleans that represent whether each leg is in contact with the ground or not. Details can be found in the Gym/Gymnasium doc: https://gymnasium.farama.org/environments/box2d/lunar_lander/\n",
    "\n",
    "Again keep in mind today we do not build any \"RL agent\", none of the above or below material aims at 'learning' decisions, today we are just aim to better understand and interact with Gym environments"
   ]
  },
  {
   "cell_type": "code",
   "execution_count": 1,
   "id": "XaF2S0NA2uZX",
   "metadata": {
    "id": "XaF2S0NA2uZX"
   },
   "outputs": [],
   "source": [
    "# Answer to question 3.1:\n",
    "import gymnasium as gym\n",
    "\n",
    "env = gym.make(\"LunarLander-v3\", render_mode=\"human\")\n",
    "observation, info = env.reset(seed=42)\n",
    "for _ in range(2000):\n",
    "\n",
    "    x_coord = observation[0]\n",
    "    if x_coord < -0.1:\n",
    "        action = 1   # Fire the left engine\n",
    "    elif x_coord > 0.1:\n",
    "        action = 3   # Fire the right engine\n",
    "    else:\n",
    "        action = 0;\n",
    "\n",
    "    observation, reward, terminated, truncated, info = env.step(action)\n",
    "\n",
    "    if terminated or truncated:\n",
    "        observation, info = env.reset()\n",
    "env.close()"
   ]
  },
  {
   "cell_type": "markdown",
   "id": "UA2-gKfv2uZX",
   "metadata": {
    "id": "UA2-gKfv2uZX"
   },
   "source": [
    " ## 3.2) Exercice: Interactively control (non RL-based) the Cart-Pole"
   ]
  },
  {
   "cell_type": "markdown",
   "id": "ah6yjl2N2uZX",
   "metadata": {
    "id": "ah6yjl2N2uZX"
   },
   "source": [
    "\n",
    "**Run simulations of the cartpole (as many as you like), and manually push the left and right arrows on your keyboard to try and keep the pole balanced by applying forces in the left and right direction on the cart. While you do so, print the cart velocity and the pole angle in degrees.**\n",
    "\n",
    "**Hint:** The state is an 4-dimensional vector: the cart position, the cart velocity, the pole angle, teh pole angular velocity. Details can be found in the Gym/Gymnasium doc: https://gymnasium.farama.org/environments/classic_control/cart_pole/\n",
    "\n",
    "Can you identify approximate thresholds of angle and velocity at which to start pushing either left or right?\n",
    "\n",
    "Again keep in mind today we do not build any \"RL agent\", none of the above or below material aims at 'learning' decisions, today we are just aim to better understand and interact with Gym environments."
   ]
  },
  {
   "cell_type": "code",
   "execution_count": 1,
   "id": "vN8Xlxdv2uZX",
   "metadata": {
    "id": "vN8Xlxdv2uZX"
   },
   "outputs": [
    {
     "name": "stderr",
     "output_type": "stream",
     "text": [
      "f:\\Study_Notes_Backup\\Data_Science\\DS-GA-3001-Reinforcement\\.venv\\lib\\site-packages\\gymnasium\\envs\\registration.py:517: DeprecationWarning: \u001b[33mWARN: The environment CartPole-v0 is out of date. You should consider upgrading to version `v1`.\u001b[0m\n",
      "  logger.deprecation(\n"
     ]
    }
   ],
   "source": [
    "# Answer to question 3.2:\n",
    "import gymnasium as gym\n",
    "from gymnasium.utils.play import play  # Import the play module from gym.utils\n",
    "import ale_py\n",
    "\n",
    "gym.register_envs(ale_py) #This will register atari environments  in gymnasium\n",
    "env = gym.make('CartPole-v0', render_mode=\"rgb_array\")  \n",
    "keys_to_action = {\n",
    "    \"a\": 0,  # Move left\n",
    "    \"d\": 1,  # Move right\n",
    "}\n",
    "\n",
    "play(env, zoom=2, keys_to_action=keys_to_action)     "
   ]
  },
  {
   "cell_type": "markdown",
   "id": "NrgFbu-C2uZY",
   "metadata": {
    "id": "NrgFbu-C2uZY"
   },
   "source": [
    "**Spoiler alert**: When we develop RL agents in this environment, we will add the angular velocity of the pole in addition to pole angle and cart velocity, so the agent has more information to make smart decisions. An RL agent is able to take much more than one or two features into account, simultaneously. As we will see, RL agents can reach superhuman abilities very easily at the Cart-Pole game (and at many other games...)"
   ]
  },
  {
   "cell_type": "markdown",
   "id": "1Vy952LI2uZY",
   "metadata": {
    "id": "1Vy952LI2uZY"
   },
   "source": [
    "## 3.3) Exercice: Explore other Atari video games!\n",
    "\n",
    "Explore the Gym environment for other Atari 2600 video games by creating an instance with graphical rendering, looping 1000 steps, and sampling a random action at each step\n",
    "\n",
    "Pre-installed video games: https://gymnasium.farama.org/environments/atari/complete_list/"
   ]
  },
  {
   "cell_type": "markdown",
   "id": "aDf-JRWX2uZY",
   "metadata": {
    "id": "aDf-JRWX2uZY"
   },
   "source": [
    "## **Thank you everyone!**"
   ]
  }
 ],
 "metadata": {
  "colab": {
   "provenance": []
  },
  "kernelspec": {
   "display_name": ".venv",
   "language": "python",
   "name": "python3"
  },
  "language_info": {
   "codemirror_mode": {
    "name": "ipython",
    "version": 3
   },
   "file_extension": ".py",
   "mimetype": "text/x-python",
   "name": "python",
   "nbconvert_exporter": "python",
   "pygments_lexer": "ipython3",
   "version": "3.9.13"
  }
 },
 "nbformat": 4,
 "nbformat_minor": 5
}
